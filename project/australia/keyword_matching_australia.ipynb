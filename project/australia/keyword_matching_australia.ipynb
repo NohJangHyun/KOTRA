{
 "cells": [
  {
   "cell_type": "code",
   "execution_count": 7,
   "id": "763f874c",
   "metadata": {},
   "outputs": [
    {
     "name": "stdout",
     "output_type": "stream",
     "text": [
      "30\n",
      "102\n"
     ]
    }
   ],
   "source": [
    "import pandas as pd\n",
    "import re\n",
    "\n",
    "#df : 스크래핑한 호주 문서\n",
    "df = pd.read_csv(\"호주_세관_전체.csv\")\n",
    "df = df[::-1]\n",
    "df1 = list(df['title'])[:30]\n",
    "df2 = list(df['text'])[:30]\n",
    "df = []\n",
    "for i in range(len(df1)):\n",
    "    df.append(df1[i]+\"\"+df2[i])\n",
    "\n",
    "print(len(df))\n",
    "\n",
    "#df_keyword : 선정한 호주 키워드 101개\n",
    "df_keyword = pd.read_csv(\"호주_번역_100.csv\", index_col = False)\n",
    "print(len(df_keyword))"
   ]
  },
  {
   "cell_type": "code",
   "execution_count": 8,
   "id": "a5f6192f",
   "metadata": {},
   "outputs": [],
   "source": [
    "import numpy as np\n",
    "import itertools\n",
    "from sklearn.feature_extraction.text import CountVectorizer\n",
    "from sklearn.metrics.pairwise import cosine_similarity\n",
    "from sentence_transformers import SentenceTransformer\n",
    "\n",
    "# SentenceTransformer : 모델 훈련 위한 라이브러리\n",
    "# 'distiluse-base-multilingual-cased-v1' : 사용할 모델\n",
    "model = SentenceTransformer('distiluse-base-multilingual-cased-v1')"
   ]
  },
  {
   "cell_type": "code",
   "execution_count": 9,
   "id": "50a0bcf2",
   "metadata": {},
   "outputs": [
    {
     "name": "stdout",
     "output_type": "stream",
     "text": [
      "102\n"
     ]
    }
   ],
   "source": [
    "#keyword : 불러온 호주 키워드 중 번역 Column 추출\n",
    "keyword = list(df_keyword[\"번역\"])\n",
    "print(len(keyword))"
   ]
  },
  {
   "cell_type": "code",
   "execution_count": 10,
   "id": "ab653c41",
   "metadata": {},
   "outputs": [
    {
     "name": "stdout",
     "output_type": "stream",
     "text": [
      "102\n"
     ]
    }
   ],
   "source": [
    "#키워드 벡터화\n",
    "keyword_embedding = []\n",
    "\n",
    "for ele in keyword:\n",
    "    keyword_embedding.append(model.encode(ele))\n",
    "\n",
    "print(len(keyword_embedding))"
   ]
  },
  {
   "cell_type": "code",
   "execution_count": 11,
   "id": "bebb7acd",
   "metadata": {
    "scrolled": true
   },
   "outputs": [
    {
     "name": "stdout",
     "output_type": "stream",
     "text": [
      "1\n",
      "_______________________________\n",
      "2\n",
      "_______________________________\n",
      "3\n",
      "_______________________________\n",
      "4\n",
      "_______________________________\n",
      "5\n",
      "_______________________________\n",
      "6\n",
      "_______________________________\n",
      "7\n",
      "_______________________________\n",
      "8\n",
      "_______________________________\n",
      "9\n",
      "_______________________________\n",
      "10\n",
      "_______________________________\n",
      "11\n",
      "_______________________________\n",
      "12\n",
      "_______________________________\n",
      "13\n",
      "_______________________________\n",
      "14\n",
      "_______________________________\n",
      "15\n",
      "_______________________________\n",
      "16\n",
      "_______________________________\n",
      "17\n",
      "_______________________________\n",
      "18\n",
      "_______________________________\n",
      "19\n",
      "_______________________________\n",
      "20\n",
      "_______________________________\n",
      "21\n",
      "_______________________________\n",
      "22\n",
      "_______________________________\n",
      "23\n",
      "_______________________________\n",
      "24\n",
      "_______________________________\n",
      "25\n",
      "_______________________________\n",
      "26\n",
      "_______________________________\n",
      "27\n",
      "_______________________________\n",
      "28\n",
      "_______________________________\n",
      "29\n",
      "_______________________________\n",
      "30\n",
      "_______________________________\n"
     ]
    }
   ],
   "source": [
    "#호주 문서 10개 embedding\n",
    "import nltk\n",
    "import string\n",
    "from nltk.tag import pos_tag\n",
    "from nltk.tokenize import word_tokenize\n",
    "from nltk.corpus import stopwords \n",
    "\n",
    "doc_embedding = []\n",
    "doc_words = []\n",
    "cnt = 1\n",
    "for doc in df:\n",
    "    result = []\n",
    "    sentence = ''\n",
    "    \n",
    "    #1. 전처리 전 문자 길이\n",
    "#     print(f\"{cnt}번 문서 전처리 전 문자 길이 : {len(doc)}\")\n",
    "    \n",
    "    #2. 공백 제거 + strip()\n",
    "    doc = doc.replace(\"\\n\", \"\").strip()\n",
    "#     print(f\"{cnt}번 문서 공백 제거 후 문자 길이 : {len(doc)}\")\n",
    "    \n",
    "#     #3. 구두점 제거\n",
    "#     doc = \"\".join([i for i in doc if i not in string.punctuation]).strip()\n",
    "#     print(f\"{cnt}번 문서 구두점 제거 후 문자 길이 : {len(doc)}\")\n",
    "    \n",
    "    #4. 단어 토큰화 > 불용어 제거 > 합치기\n",
    "    words = word_tokenize(doc)\n",
    "    stop_words = set(stopwords.words('english'))\n",
    "    doc=''\n",
    "    for word in words:\n",
    "        if word not in stop_words:\n",
    "            result.append(word)\n",
    "    for i in range(len(result)):\n",
    "        doc = doc + \" \" + result[i]\n",
    "#     print(f\"{cnt}번 문서 불용어 제거 후 문자 길이 : {len(doc)}\")\n",
    "    \n",
    "    #5. 문서 토큰화\n",
    "    word_tokens = pos_tag(word_tokenize(doc))\n",
    "\n",
    "    word_tokens = [t[0] for t in word_tokens if t[1] == \"NN\" and len(t[0]) > 2]\n",
    "    for w in word_tokens: \n",
    "        if w not in stop_words: \n",
    "            result.append(w)\n",
    "    result = [word.lower() for word in result]\n",
    "    doc_words.append(result)\n",
    "    doc_embedding.append(model.encode(result))\n",
    "    \n",
    "    #카운트 추가\n",
    "    print(cnt)\n",
    "    cnt += 1 \n",
    "    print(\"_______________________________\")"
   ]
  },
  {
   "cell_type": "code",
   "execution_count": null,
   "id": "3b57adcc",
   "metadata": {},
   "outputs": [
    {
     "name": "stdout",
     "output_type": "stream",
     "text": [
      "set()\n",
      "{'car'}\n",
      "set()\n",
      "set()\n",
      "set()\n",
      "set()\n",
      "{'fisheries'}\n",
      "{'medical'}\n"
     ]
    }
   ],
   "source": [
    "#키워드와 문서 유사도 비교\n",
    "doc_keywords = []\n",
    "for index, doc in enumerate(doc_embedding):\n",
    "    final_result = []\n",
    "    for i in range(len(doc)):\n",
    "        for j in range(len(keyword_embedding)):\n",
    "            distances = cosine_similarity([doc[i]], [keyword_embedding[j]])\n",
    "            if distances[0][0]>0.9:\n",
    "                final_result.append(doc_words[index][i])\n",
    "# distances = cosine_similarity([doc_embedding[0]], candidate_embeddings)\n",
    "    print(set(final_result))\n",
    "    doc_keywords.append(set(final_result))"
   ]
  },
  {
   "cell_type": "code",
   "execution_count": null,
   "id": "9858a572",
   "metadata": {},
   "outputs": [],
   "source": []
  },
  {
   "cell_type": "code",
   "execution_count": null,
   "id": "d3052955",
   "metadata": {},
   "outputs": [],
   "source": []
  }
 ],
 "metadata": {
  "kernelspec": {
   "display_name": "Python 3 (ipykernel)",
   "language": "python",
   "name": "python3"
  },
  "language_info": {
   "codemirror_mode": {
    "name": "ipython",
    "version": 3
   },
   "file_extension": ".py",
   "mimetype": "text/x-python",
   "name": "python",
   "nbconvert_exporter": "python",
   "pygments_lexer": "ipython3",
   "version": "3.9.12"
  }
 },
 "nbformat": 4,
 "nbformat_minor": 5
}

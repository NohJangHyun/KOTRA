{
 "cells": [
  {
   "cell_type": "code",
   "execution_count": 1,
   "id": "6c6e2257",
   "metadata": {},
   "outputs": [],
   "source": [
    "import numpy as np\n",
    "import itertools\n",
    "\n",
    "from sklearn.feature_extraction.text import CountVectorizer\n",
    "from sklearn.metrics.pairwise import cosine_similarity\n",
    "from sentence_transformers import SentenceTransformer"
   ]
  },
  {
   "cell_type": "code",
   "execution_count": 2,
   "id": "efa37853",
   "metadata": {},
   "outputs": [],
   "source": [
    "import pandas as pd\n",
    "import re\n",
    "\n",
    "df = pd.read_csv(\"호주_세관_v2(new20).csv\")\n",
    "\n",
    "df_title = list(df['title'])\n",
    "df_text = list(df['text'])\n",
    "df_add = []\n",
    "\n",
    "for i in range(len(df)):\n",
    "    df_add.append(df_title[i]+\"\"+df_text[i])\n",
    "\n",
    "df_keyword = pd.read_csv(\"호주_번역_100.csv\", index_col = False)"
   ]
  },
  {
   "cell_type": "code",
   "execution_count": 6,
   "id": "57beb6dc",
   "metadata": {},
   "outputs": [],
   "source": [
    "import nltk\n",
    "import string\n",
    "from nltk.tag import pos_tag\n",
    "from nltk.tokenize import word_tokenize\n",
    "from nltk.corpus import stopwords \n",
    "\n",
    "for doc in df_add[0]:\n",
    "    result = []\n",
    "    \n",
    "    #공백 제거 + strip()\n",
    "    doc = doc.replace(\"\\n\", \"\").strip()\n",
    "    \n",
    "    #구두점 제거\n",
    "    doc = \"\".join([i for i in doc if i not in string.punctuation]).strip()\n",
    "    \n",
    "    #접속사 제거\n",
    "    \n",
    "    word_tokens = [t[0] for t in word_tokens if t[1] == \"NN\" and len(t[0]) > 2]\n",
    "    for w in word_tokens:  \n",
    "        if w not in stop_words:\n",
    "            result.append(w)\n",
    "    doc_words.append(result)\n",
    "    doc_embedding.append(model.encode(result))"
   ]
  },
  {
   "cell_type": "code",
   "execution_count": 7,
   "id": "9a17215d",
   "metadata": {},
   "outputs": [
    {
     "name": "stdout",
     "output_type": "stream",
     "text": [
      "[]\n"
     ]
    }
   ],
   "source": [
    "print(result)"
   ]
  },
  {
   "cell_type": "code",
   "execution_count": null,
   "id": "7c22011f",
   "metadata": {},
   "outputs": [],
   "source": [
    "n_gram_range = (2, 2)\n",
    "stop_words = \"english\"\n",
    "\n",
    "count = CountVectorizer(ngram_range=n_gram_range, stop_words=stop_words).fit(df_add)\n",
    "candidates = count.get_feature_names_out()\n"
   ]
  },
  {
   "cell_type": "code",
   "execution_count": null,
   "id": "9811c94e",
   "metadata": {},
   "outputs": [],
   "source": [
    "model = SentenceTransformer('distilbert-base-nli-mean-tokens')\n",
    "doc_embedding = model.encode(df_add)\n",
    "candidate_embeddings = model.encode(candidates)"
   ]
  },
  {
   "cell_type": "code",
   "execution_count": null,
   "id": "836d3382",
   "metadata": {},
   "outputs": [],
   "source": [
    "top_n = 5\n",
    "distances = cosine_similarity(doc_embedding, candidate_embeddings)\n",
    "keywords = [candidates[index] for index in distances.argsort()[0][-top_n:]]\n",
    "print(keywords)"
   ]
  },
  {
   "cell_type": "code",
   "execution_count": null,
   "id": "3bc27ef4",
   "metadata": {},
   "outputs": [],
   "source": [
    "final_keyword = []\n",
    "for index, doc in enumerate(doc_embedding):\n",
    "    final_result = []\n",
    "    for i in range(len(doc)):\n",
    "        for j in range(len(bigrams_embedding)):\n",
    "            distances = cosine_similarity([doc[i]], [bigrams_embedding[j]])\n",
    "            if distances[0][0]>0.8:\n",
    "                final_result.append(doc_words[index][i])\n",
    "# distances = cosine_similarity([doc_embedding[0]], candidate_embeddings)\n",
    "    print(set(final_result))\n",
    "    doc_keywords_9.append(set(final_result))"
   ]
  },
  {
   "cell_type": "code",
   "execution_count": null,
   "id": "7287e7db",
   "metadata": {},
   "outputs": [],
   "source": []
  },
  {
   "cell_type": "code",
   "execution_count": null,
   "id": "a05217f4",
   "metadata": {},
   "outputs": [],
   "source": [
    "import numpy as np\n",
    "import itertools\n",
    "from sklearn.feature_extraction.text import CountVectorizer\n",
    "from sklearn.metrics.pairwise import cosine_similarity\n",
    "from sentence_transformers import SentenceTransformer\n",
    "\n",
    "# SentenceTransformer : 모델 훈련 위한 라이브러리\n",
    "# 'distiluse-base-multilingual-cased-v1' : 사용할 모델\n",
    "model = SentenceTransformer('distiluse-base-multilingual-cased-v1')"
   ]
  },
  {
   "cell_type": "code",
   "execution_count": null,
   "id": "b11dc112",
   "metadata": {},
   "outputs": [],
   "source": [
    "#keyword : 불러온 호주 키워드 중 번역 Column 추출\n",
    "keyword = list(df_keyword[\"번역\"])\n",
    "print(len(keyword))"
   ]
  },
  {
   "cell_type": "code",
   "execution_count": null,
   "id": "e6dbb1b4",
   "metadata": {},
   "outputs": [],
   "source": [
    "#키워드 벡터화\n",
    "keyword_embedding = []\n",
    "\n",
    "for ele in keyword:\n",
    "    keyword_embedding.append(model.encode(ele))\n",
    "\n",
    "print(len(keyword_embedding))"
   ]
  },
  {
   "cell_type": "code",
   "execution_count": null,
   "id": "37a9b651",
   "metadata": {},
   "outputs": [],
   "source": [
    "#호주 문서 전체 임베딩\n",
    "import nltk\n",
    "import string\n",
    "from nltk.tag import pos_tag\n",
    "from nltk.tokenize import word_tokenize\n",
    "from nltk.corpus import stopwords \n",
    "\n",
    "doc_embedding = []\n",
    "doc_append = []\n",
    "cnt = 1\n",
    "\n",
    "\n",
    "for doc in df_add:\n",
    "    stop_words = set(stopwords.words('english'))\n",
    "    doc = doc.replace(\"\\n\", \"\").strip()\n",
    "    doc_append.append(doc)\n",
    "    doc_embedding.append(model.encode(doc))\n"
   ]
  },
  {
   "cell_type": "code",
   "execution_count": null,
   "id": "48164a5c",
   "metadata": {},
   "outputs": [],
   "source": [
    "from nltk import ngrams\n",
    "\n",
    "bigrams_embedding = []\n",
    "bigrams = []\n",
    "\n",
    "for d in doc_append:\n",
    "    bigrams.append(ngrams(d.split(), 2))\n",
    "\n",
    "  \n",
    "# for bigram in range(len(bigrams)):\n",
    "#     for gram in bigrams[bigram]:\n",
    "#         print(gram)\n",
    "#     break\n",
    "for bigram in range(len(bigrams)):\n",
    "    embedding = []\n",
    "    for gram in bigrams[bigram]:\n",
    "        embedding.append(model.encode(gram))\n",
    "    bigrams_embedding.append(embedding)\n",
    "    "
   ]
  },
  {
   "cell_type": "code",
   "execution_count": null,
   "id": "fd24a3e8",
   "metadata": {},
   "outputs": [],
   "source": [
    "doc_embedding = np.array(doc_embedding)\n",
    "print(doc_embedding.shape)\n",
    "bigrams_embedding = np.array(bigrams_embedding)\n",
    "print(bigrams_embedding.shape)"
   ]
  },
  {
   "cell_type": "code",
   "execution_count": null,
   "id": "898866cc",
   "metadata": {},
   "outputs": [],
   "source": [
    "doc_keywords_8 = []\n",
    "for index, doc in enumerate(doc_embedding):\n",
    "    final_result = []\n",
    "    for i in range(len(doc)):\n",
    "        for j in range(len(bigrams_embedding)):\n",
    "            distances = cosine_similarity([doc[i]], [bigrams_embedding[j]])\n",
    "            if distances[0][0]>0.8:\n",
    "                final_result.append(doc_words[index][i])\n",
    "# distances = cosine_similarity([doc_embedding[0]], candidate_embeddings)\n",
    "    print(set(final_result))\n",
    "    doc_keywords_9.append(set(final_result))"
   ]
  }
 ],
 "metadata": {
  "kernelspec": {
   "display_name": "Python 3 (ipykernel)",
   "language": "python",
   "name": "python3"
  },
  "language_info": {
   "codemirror_mode": {
    "name": "ipython",
    "version": 3
   },
   "file_extension": ".py",
   "mimetype": "text/x-python",
   "name": "python",
   "nbconvert_exporter": "python",
   "pygments_lexer": "ipython3",
   "version": "3.9.12"
  }
 },
 "nbformat": 4,
 "nbformat_minor": 5
}

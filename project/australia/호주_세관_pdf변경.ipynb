{
 "cells": [
  {
   "cell_type": "code",
   "execution_count": 31,
   "id": "1e44f906",
   "metadata": {},
   "outputs": [],
   "source": [
    "import requests\n",
    "from bs4 import BeautifulSoup\n",
    "from selenium import webdriver\n",
    "\n",
    "options = webdriver.ChromeOptions()\n",
    "options.add_argument('window-size=1920x1080')\n",
    "options.add_experimental_option(\"excludeSwitches\", [\"enable-logging\"])\n",
    "driver = webdriver.Chrome(options=options)"
   ]
  },
  {
   "cell_type": "code",
   "execution_count": 32,
   "id": "a5bdc76b",
   "metadata": {},
   "outputs": [],
   "source": [
    "import time\n",
    "\n",
    "driver.get('https://www.abf.gov.au/help-and-support/notices/australian-customs-notices')\n",
    "time.sleep(2)"
   ]
  },
  {
   "cell_type": "code",
   "execution_count": 33,
   "id": "cac487fa",
   "metadata": {},
   "outputs": [],
   "source": [
    "soup = BeautifulSoup(driver.page_source, 'lxml')"
   ]
  },
  {
   "cell_type": "code",
   "execution_count": 34,
   "id": "826a18ce",
   "metadata": {},
   "outputs": [],
   "source": [
    "temp = soup.find('ul', attrs={'class' : 'pagination'}).find_all(\"li\")\n",
    "# len(temp)"
   ]
  },
  {
   "cell_type": "code",
   "execution_count": 35,
   "id": "d36c08ff",
   "metadata": {},
   "outputs": [],
   "source": [
    "from selenium.webdriver.common.by import By\n",
    "import re"
   ]
  },
  {
   "cell_type": "code",
   "execution_count": 36,
   "id": "3bc9cc95",
   "metadata": {
    "scrolled": true
   },
   "outputs": [],
   "source": [
    "dates = []\n",
    "titles = []\n",
    "links = []\n",
    "last_page = len(temp)\n",
    "\n",
    "for i in range(2,last_page):\n",
    "    soup = BeautifulSoup(driver.page_source, 'lxml')\n",
    "    \n",
    "    date_rows = soup.select('div.col-sm-3 span')\n",
    "    title_rows = soup.find('tbody').find_all('tr', attrs = {'class' : re.compile('^accordion-header')})\n",
    "    link_rows = soup.find('tbody').find_all('tr', attrs = {'class' : re.compile('^accordion-content')})\n",
    "    \n",
    "    for row in date_rows:\n",
    "        date = row.text\n",
    "        dates.append(date)\n",
    "\n",
    "    for row in title_rows:\n",
    "        tds = row.find_all('td')\n",
    "        title = tds[1].get_text().replace('Press Enter to show more details.', '')  \n",
    "        titles.append(title)\n",
    "\n",
    "    for row in link_rows:\n",
    "        link = 'https://www.abf.gov.au' + row.a['href']\n",
    "        links.append(link)\n",
    "    \n",
    "    driver.execute_script('window.scrollTo(0, document.body.scrollHeight)')\n",
    "    time.sleep(2)\n",
    "    \n",
    "    elem = driver.find_element(By.LINK_TEXT,str(i))\n",
    "    elem.click()\n",
    "    time.sleep(1)"
   ]
  },
  {
   "cell_type": "code",
   "execution_count": 37,
   "id": "57408b44",
   "metadata": {},
   "outputs": [],
   "source": [
    "soup = BeautifulSoup(driver.page_source, 'lxml')\n",
    "    \n",
    "date_rows = soup.select('div.col-sm-3 span')\n",
    "title_rows = soup.find('tbody').find_all('tr', attrs = {'class' : re.compile('^accordion-header')})\n",
    "link_rows = soup.find('tbody').find_all('tr', attrs = {'class' : re.compile('^accordion-content')})\n",
    "    \n",
    "for row in date_rows:\n",
    "    date = row.text\n",
    "    dates.append(date)\n",
    "\n",
    "for row in title_rows:\n",
    "    tds = row.find_all('td')\n",
    "    title = tds[1].get_text().replace('Press Enter to show more details.', '')  \n",
    "    titles.append(title)\n",
    "\n",
    "for row in link_rows:\n",
    "    link = 'https://www.abf.gov.au' + row.a['href']\n",
    "    links.append(link)"
   ]
  },
  {
   "cell_type": "code",
   "execution_count": 38,
   "id": "60f8deac",
   "metadata": {},
   "outputs": [],
   "source": [
    "from pdfminer.pdfinterp import PDFResourceManager, PDFPageInterpreter\n",
    "from pdfminer.layout import LAParams\n",
    "from pdfminer.converter import TextConverter\n",
    "from pdfminer.pdfpage import PDFPage\n",
    "import io\n",
    "import urllib.request\n",
    "import requests\n",
    "\n",
    "\n",
    "def pdf_to_text(pdf_file):\n",
    "    text_memory_file = io.StringIO()\n",
    "\n",
    "    rsrcmgr = PDFResourceManager()\n",
    "    device = TextConverter(rsrcmgr, text_memory_file, laparams=LAParams())\n",
    "    interpreter = PDFPageInterpreter(rsrcmgr, device)\n",
    "    \n",
    "    # get first 3 pages of the pdf file\n",
    "    for page in PDFPage.get_pages(pdf_file, pagenos=(0,0)):\n",
    "        interpreter.process_page(page)\n",
    "    text = text_memory_file.getvalue()\n",
    "    text_memory_file.close()\n",
    "    return text\n",
    "\n"
   ]
  },
  {
   "cell_type": "code",
   "execution_count": null,
   "id": "6abb9447",
   "metadata": {},
   "outputs": [
    {
     "name": "stderr",
     "output_type": "stream",
     "text": [
      "The PDF <_io.BytesIO object at 0x000001F5B8F5C450> contains a metadata field indicating that it should not allow text extraction. Ignoring this field and proceeding. Use the check_extractable if you want to raise an error in this case\n"
     ]
    }
   ],
   "source": [
    "texts = []\n",
    "start = 0\n",
    "finish = len(dates)\n",
    "\n",
    "\n",
    "# online pdf to text by requests\n",
    "# response = requests.get(\"https://www.abf.gov.au/help-and-support-subsite/CustomsNotices/2022-10.pdf\")\n",
    "# pdf_memory_file = io.BytesIO()\n",
    "# pdf_memory_file.write(response.content)\n",
    "# print(pdf_to_text(pdf_memory_file))\n",
    "\n",
    "\n",
    "for i in range(start, finish): # 100개씩 끊어서 돌린 뒤 texts에 추가, 총 1683개의 링크, 17번 돌리기\n",
    "    url = links[i]\n",
    "    response = requests.get(url)\n",
    "    my_raw_data = response.content\n",
    "    \n",
    "    # online pdf to text by requests\n",
    "    response = requests.get(url)\n",
    "    pdf_memory_file = io.BytesIO()\n",
    "    pdf_memory_file.write(response.content)\n",
    "    texts.append(pdf_to_text(pdf_memory_file))\n"
   ]
  },
  {
   "cell_type": "code",
   "execution_count": null,
   "id": "57a4b5e7",
   "metadata": {
    "scrolled": true
   },
   "outputs": [],
   "source": [
    "import pandas as pd\n",
    "\n",
    "df = pd.DataFrame()\n",
    "df['date'] = pd.to_datetime(dates)\n",
    "df['link'] = links\n",
    "df['title'] = titles\n",
    "df['text'] = texts\n",
    "\n",
    "df"
   ]
  },
  {
   "cell_type": "code",
   "execution_count": null,
   "id": "9b946adc",
   "metadata": {},
   "outputs": [],
   "source": [
    "len(df)"
   ]
  },
  {
   "cell_type": "code",
   "execution_count": 25,
   "id": "0aa97820",
   "metadata": {},
   "outputs": [],
   "source": [
    "df.to_csv('호주_세관_전체.csv', mode='w', encoding='utf-8-sig', index = False)"
   ]
  }
 ],
 "metadata": {
  "kernelspec": {
   "display_name": "Python 3 (ipykernel)",
   "language": "python",
   "name": "python3"
  },
  "language_info": {
   "codemirror_mode": {
    "name": "ipython",
    "version": 3
   },
   "file_extension": ".py",
   "mimetype": "text/x-python",
   "name": "python",
   "nbconvert_exporter": "python",
   "pygments_lexer": "ipython3",
   "version": "3.9.12"
  }
 },
 "nbformat": 4,
 "nbformat_minor": 5
}

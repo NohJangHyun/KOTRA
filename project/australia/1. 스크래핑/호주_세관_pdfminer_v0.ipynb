{
 "cells": [
  {
   "cell_type": "code",
   "execution_count": 1,
   "id": "1e44f906",
   "metadata": {},
   "outputs": [],
   "source": [
    "import requests\n",
    "from bs4 import BeautifulSoup\n",
    "from selenium import webdriver\n",
    "\n",
    "options = webdriver.ChromeOptions()\n",
    "options.add_argument('window-size=1920x1080')\n",
    "options.add_experimental_option(\"excludeSwitches\", [\"enable-logging\"])\n",
    "driver = webdriver.Chrome(options=options)"
   ]
  },
  {
   "cell_type": "code",
   "execution_count": 2,
   "id": "a5bdc76b",
   "metadata": {},
   "outputs": [],
   "source": [
    "import time\n",
    "\n",
    "driver.get('https://www.abf.gov.au/help-and-support/notices/australian-customs-notices')\n",
    "time.sleep(2)"
   ]
  },
  {
   "cell_type": "code",
   "execution_count": 3,
   "id": "cac487fa",
   "metadata": {},
   "outputs": [],
   "source": [
    "soup = BeautifulSoup(driver.page_source, 'lxml')"
   ]
  },
  {
   "cell_type": "code",
   "execution_count": 4,
   "id": "826a18ce",
   "metadata": {},
   "outputs": [],
   "source": [
    "temp = soup.find('ul', attrs={'class' : 'pagination'}).find_all(\"li\")\n",
    "# len(temp)"
   ]
  },
  {
   "cell_type": "code",
   "execution_count": 5,
   "id": "d36c08ff",
   "metadata": {},
   "outputs": [],
   "source": [
    "from selenium.webdriver.common.by import By\n",
    "import re"
   ]
  },
  {
   "cell_type": "code",
   "execution_count": 6,
   "id": "3bc9cc95",
   "metadata": {
    "scrolled": true
   },
   "outputs": [],
   "source": [
    "dates = []\n",
    "titles = []\n",
    "links = []\n",
    "last_page = len(temp)\n",
    "\n",
    "for i in range(2,last_page):\n",
    "    soup = BeautifulSoup(driver.page_source, 'lxml')\n",
    "    \n",
    "    date_rows = soup.select('div.col-sm-3 span')\n",
    "    title_rows = soup.find('tbody').find_all('tr', attrs = {'class' : re.compile('^accordion-header')})\n",
    "    link_rows = soup.find('tbody').find_all('tr', attrs = {'class' : re.compile('^accordion-content')})\n",
    "    \n",
    "    for row in date_rows:\n",
    "        date = row.text\n",
    "        dates.append(date)\n",
    "\n",
    "    for row in title_rows:\n",
    "        tds = row.find_all('td')\n",
    "        title = tds[1].get_text().replace('Press Enter to show more details.', '')  \n",
    "        titles.append(title)\n",
    "\n",
    "    for row in link_rows:\n",
    "        link = 'https://www.abf.gov.au' + row.a['href']\n",
    "        links.append(link)\n",
    "    \n",
    "    driver.execute_script('window.scrollTo(0, document.body.scrollHeight)')\n",
    "    time.sleep(2)\n",
    "    \n",
    "    elem = driver.find_element(By.LINK_TEXT,str(i))\n",
    "    elem.click()\n",
    "    time.sleep(1)"
   ]
  },
  {
   "cell_type": "code",
   "execution_count": 7,
   "id": "0ab9d4d4",
   "metadata": {},
   "outputs": [
    {
     "name": "stdout",
     "output_type": "stream",
     "text": [
      "1680\n"
     ]
    }
   ],
   "source": [
    "print(len(links))"
   ]
  },
  {
   "cell_type": "code",
   "execution_count": 37,
   "id": "57408b44",
   "metadata": {},
   "outputs": [],
   "source": [
    "soup = BeautifulSoup(driver.page_source, 'lxml')\n",
    "    \n",
    "date_rows = soup.select('div.col-sm-3 span')\n",
    "title_rows = soup.find('tbody').find_all('tr', attrs = {'class' : re.compile('^accordion-header')})\n",
    "link_rows = soup.find('tbody').find_all('tr', attrs = {'class' : re.compile('^accordion-content')})\n",
    "    \n",
    "for row in date_rows:\n",
    "    date = row.text\n",
    "    dates.append(date)\n",
    "\n",
    "for row in title_rows:\n",
    "    tds = row.find_all('td')\n",
    "    title = tds[1].get_text().replace('Press Enter to show more details.', '')  \n",
    "    titles.append(title)\n",
    "\n",
    "for row in link_rows:\n",
    "    link = 'https://www.abf.gov.au' + row.a['href']\n",
    "    links.append(link)"
   ]
  },
  {
   "cell_type": "code",
   "execution_count": 38,
   "id": "60f8deac",
   "metadata": {},
   "outputs": [],
   "source": [
    "from pdfminer.pdfinterp import PDFResourceManager, PDFPageInterpreter\n",
    "from pdfminer.layout import LAParams\n",
    "from pdfminer.converter import TextConverter\n",
    "from pdfminer.pdfpage import PDFPage\n",
    "import io\n",
    "import urllib.request\n",
    "import requests\n",
    "\n",
    "\n",
    "def pdf_to_text(pdf_file):\n",
    "    text_memory_file = io.StringIO()\n",
    "\n",
    "    rsrcmgr = PDFResourceManager()\n",
    "    device = TextConverter(rsrcmgr, text_memory_file, laparams=LAParams())\n",
    "    interpreter = PDFPageInterpreter(rsrcmgr, device)\n",
    "    \n",
    "    # get first 3 pages of the pdf file\n",
    "    for page in PDFPage.get_pages(pdf_file, pagenos=(0,0)):\n",
    "        interpreter.process_page(page)\n",
    "    text = text_memory_file.getvalue()\n",
    "    text_memory_file.close()\n",
    "    return text\n",
    "\n"
   ]
  },
  {
   "cell_type": "code",
   "execution_count": 39,
   "id": "04c86937",
   "metadata": {},
   "outputs": [
    {
     "name": "stderr",
     "output_type": "stream",
     "text": [
      "The PDF <_io.BytesIO object at 0x000001F5B8F5C450> contains a metadata field indicating that it should not allow text extraction. Ignoring this field and proceeding. Use the check_extractable if you want to raise an error in this case\n"
     ]
    }
   ],
   "source": [
    "texts = []\n",
    "start = 0\n",
    "finish = len(dates)\n",
    "\n",
    "\n",
    "# online pdf to text by requests\n",
    "# response = requests.get(\"https://www.abf.gov.au/help-and-support-subsite/CustomsNotices/2022-10.pdf\")\n",
    "# pdf_memory_file = io.BytesIO()\n",
    "# pdf_memory_file.write(response.content)\n",
    "# print(pdf_to_text(pdf_memory_file))\n",
    "\n",
    "\n",
    "for i in range(start, finish): # 100개씩 끊어서 돌린 뒤 texts에 추가, 총 1683개의 링크, 17번 돌리기\n",
    "    url = links[i]\n",
    "    response = requests.get(url)\n",
    "    my_raw_data = response.content\n",
    "    \n",
    "    # online pdf to text by requests\n",
    "    response = requests.get(url)\n",
    "    pdf_memory_file = io.BytesIO()\n",
    "    pdf_memory_file.write(response.content)\n",
    "    texts.append(pdf_to_text(pdf_memory_file))\n"
   ]
  },
  {
   "cell_type": "code",
   "execution_count": 41,
   "id": "57a4b5e7",
   "metadata": {
    "scrolled": true
   },
   "outputs": [
    {
     "data": {
      "text/html": [
       "<div>\n",
       "<style scoped>\n",
       "    .dataframe tbody tr th:only-of-type {\n",
       "        vertical-align: middle;\n",
       "    }\n",
       "\n",
       "    .dataframe tbody tr th {\n",
       "        vertical-align: top;\n",
       "    }\n",
       "\n",
       "    .dataframe thead th {\n",
       "        text-align: right;\n",
       "    }\n",
       "</style>\n",
       "<table border=\"1\" class=\"dataframe\">\n",
       "  <thead>\n",
       "    <tr style=\"text-align: right;\">\n",
       "      <th></th>\n",
       "      <th>date</th>\n",
       "      <th>link</th>\n",
       "      <th>title</th>\n",
       "      <th>text</th>\n",
       "    </tr>\n",
       "  </thead>\n",
       "  <tbody>\n",
       "    <tr>\n",
       "      <th>0</th>\n",
       "      <td>2022-07-28</td>\n",
       "      <td>https://www.abf.gov.au/help-and-support-subsit...</td>\n",
       "      <td>Indexation of customs duty rates on excise-equ...</td>\n",
       "      <td>Australian Customs Notice  \\nNo. 2022/35 \\nInd...</td>\n",
       "    </tr>\n",
       "    <tr>\n",
       "      <th>1</th>\n",
       "      <td>2022-07-22</td>\n",
       "      <td>https://www.abf.gov.au/help-and-support-subsit...</td>\n",
       "      <td>Removal of customs duty on certain electric ve...</td>\n",
       "      <td>Australian Customs Notice  \\nNo. 2022/34 \\nRem...</td>\n",
       "    </tr>\n",
       "    <tr>\n",
       "      <th>2</th>\n",
       "      <td>2022-07-21</td>\n",
       "      <td>https://www.abf.gov.au/help-and-support-subsit...</td>\n",
       "      <td>Application for Customs Broker Licences</td>\n",
       "      <td>Australian Customs Notice No. 2022/33 \\n\\nAppl...</td>\n",
       "    </tr>\n",
       "    <tr>\n",
       "      <th>3</th>\n",
       "      <td>2022-07-12</td>\n",
       "      <td>https://www.abf.gov.au/help-and-support-subsit...</td>\n",
       "      <td>Temporary duty reduction for goods from Ukraine</td>\n",
       "      <td>Australian Customs Notice  \\nNo. 2022/32 \\nTem...</td>\n",
       "    </tr>\n",
       "    <tr>\n",
       "      <th>4</th>\n",
       "      <td>2022-07-11</td>\n",
       "      <td>https://www.abf.gov.au/help-and-support-subsit...</td>\n",
       "      <td>Application for Customs Broker Licences</td>\n",
       "      <td>Australian Customs Notice No. 2022/31 \\n\\nAppl...</td>\n",
       "    </tr>\n",
       "    <tr>\n",
       "      <th>...</th>\n",
       "      <td>...</td>\n",
       "      <td>...</td>\n",
       "      <td>...</td>\n",
       "      <td>...</td>\n",
       "    </tr>\n",
       "    <tr>\n",
       "      <th>1679</th>\n",
       "      <td>2018-12-10</td>\n",
       "      <td>https://www.abf.gov.au/help-and-support-subsit...</td>\n",
       "      <td>Customs Act 1901 - Part XVB Review of Anti-Dum...</td>\n",
       "      <td>Australian Customs Notice 1996 05 2\\n\\nCUSTOMS...</td>\n",
       "    </tr>\n",
       "    <tr>\n",
       "      <th>1680</th>\n",
       "      <td>2018-12-10</td>\n",
       "      <td>https://www.abf.gov.au/help-and-support-subsit...</td>\n",
       "      <td>Origin of goods packaged within the preference...</td>\n",
       "      <td>Australian Customs Notice 1996 04\\n\\nORIGIN OF...</td>\n",
       "    </tr>\n",
       "    <tr>\n",
       "      <th>1681</th>\n",
       "      <td>2018-12-13</td>\n",
       "      <td>https://www.abf.gov.au/help-and-support-subsit...</td>\n",
       "      <td>Customs Tariff Act 1995</td>\n",
       "      <td>Australian Customs Notice 1996 03\\n\\nCUSTOMS T...</td>\n",
       "    </tr>\n",
       "    <tr>\n",
       "      <th>1682</th>\n",
       "      <td>2018-12-13</td>\n",
       "      <td>https://www.abf.gov.au/help-and-support-subsit...</td>\n",
       "      <td>Amendments to the Customs (Prohibited Imports)...</td>\n",
       "      <td>Australian Customs Notice 1996 02\\n\\nAMENDMENT...</td>\n",
       "    </tr>\n",
       "    <tr>\n",
       "      <th>1683</th>\n",
       "      <td>2018-12-13</td>\n",
       "      <td>https://www.abf.gov.au/help-and-support-subsit...</td>\n",
       "      <td>Trademarks Act 1995</td>\n",
       "      <td>Australian Customs Notice 1996 01\\n\\nTRADE MAR...</td>\n",
       "    </tr>\n",
       "  </tbody>\n",
       "</table>\n",
       "<p>1684 rows × 4 columns</p>\n",
       "</div>"
      ],
      "text/plain": [
       "           date                                               link  \\\n",
       "0    2022-07-28  https://www.abf.gov.au/help-and-support-subsit...   \n",
       "1    2022-07-22  https://www.abf.gov.au/help-and-support-subsit...   \n",
       "2    2022-07-21  https://www.abf.gov.au/help-and-support-subsit...   \n",
       "3    2022-07-12  https://www.abf.gov.au/help-and-support-subsit...   \n",
       "4    2022-07-11  https://www.abf.gov.au/help-and-support-subsit...   \n",
       "...         ...                                                ...   \n",
       "1679 2018-12-10  https://www.abf.gov.au/help-and-support-subsit...   \n",
       "1680 2018-12-10  https://www.abf.gov.au/help-and-support-subsit...   \n",
       "1681 2018-12-13  https://www.abf.gov.au/help-and-support-subsit...   \n",
       "1682 2018-12-13  https://www.abf.gov.au/help-and-support-subsit...   \n",
       "1683 2018-12-13  https://www.abf.gov.au/help-and-support-subsit...   \n",
       "\n",
       "                                                  title  \\\n",
       "0     Indexation of customs duty rates on excise-equ...   \n",
       "1     Removal of customs duty on certain electric ve...   \n",
       "2               Application for Customs Broker Licences   \n",
       "3       Temporary duty reduction for goods from Ukraine   \n",
       "4               Application for Customs Broker Licences   \n",
       "...                                                 ...   \n",
       "1679  Customs Act 1901 - Part XVB Review of Anti-Dum...   \n",
       "1680  Origin of goods packaged within the preference...   \n",
       "1681                            Customs Tariff Act 1995   \n",
       "1682  Amendments to the Customs (Prohibited Imports)...   \n",
       "1683                                Trademarks Act 1995   \n",
       "\n",
       "                                                   text  \n",
       "0     Australian Customs Notice  \\nNo. 2022/35 \\nInd...  \n",
       "1     Australian Customs Notice  \\nNo. 2022/34 \\nRem...  \n",
       "2     Australian Customs Notice No. 2022/33 \\n\\nAppl...  \n",
       "3     Australian Customs Notice  \\nNo. 2022/32 \\nTem...  \n",
       "4     Australian Customs Notice No. 2022/31 \\n\\nAppl...  \n",
       "...                                                 ...  \n",
       "1679  Australian Customs Notice 1996 05 2\\n\\nCUSTOMS...  \n",
       "1680  Australian Customs Notice 1996 04\\n\\nORIGIN OF...  \n",
       "1681  Australian Customs Notice 1996 03\\n\\nCUSTOMS T...  \n",
       "1682  Australian Customs Notice 1996 02\\n\\nAMENDMENT...  \n",
       "1683  Australian Customs Notice 1996 01\\n\\nTRADE MAR...  \n",
       "\n",
       "[1684 rows x 4 columns]"
      ]
     },
     "execution_count": 41,
     "metadata": {},
     "output_type": "execute_result"
    }
   ],
   "source": [
    "import pandas as pd\n",
    "\n",
    "df = pd.DataFrame()\n",
    "df['date'] = pd.to_datetime(dates)\n",
    "df['link'] = links\n",
    "df['title'] = titles\n",
    "df['text'] = texts\n",
    "\n",
    "df"
   ]
  },
  {
   "cell_type": "code",
   "execution_count": 42,
   "id": "eed5b32a",
   "metadata": {},
   "outputs": [
    {
     "data": {
      "text/plain": [
       "1684"
      ]
     },
     "execution_count": 42,
     "metadata": {},
     "output_type": "execute_result"
    }
   ],
   "source": [
    "len(df)"
   ]
  },
  {
   "cell_type": "code",
   "execution_count": 44,
   "id": "f6a813b5",
   "metadata": {},
   "outputs": [
    {
     "data": {
      "text/html": [
       "<div>\n",
       "<style scoped>\n",
       "    .dataframe tbody tr th:only-of-type {\n",
       "        vertical-align: middle;\n",
       "    }\n",
       "\n",
       "    .dataframe tbody tr th {\n",
       "        vertical-align: top;\n",
       "    }\n",
       "\n",
       "    .dataframe thead th {\n",
       "        text-align: right;\n",
       "    }\n",
       "</style>\n",
       "<table border=\"1\" class=\"dataframe\">\n",
       "  <thead>\n",
       "    <tr style=\"text-align: right;\">\n",
       "      <th></th>\n",
       "      <th>date</th>\n",
       "      <th>link</th>\n",
       "      <th>title</th>\n",
       "      <th>text</th>\n",
       "    </tr>\n",
       "  </thead>\n",
       "  <tbody>\n",
       "    <tr>\n",
       "      <th>1683</th>\n",
       "      <td>2018-12-13</td>\n",
       "      <td>https://www.abf.gov.au/help-and-support-subsit...</td>\n",
       "      <td>Trademarks Act 1995</td>\n",
       "      <td>Australian Customs Notice 1996 01\\n\\nTRADE MAR...</td>\n",
       "    </tr>\n",
       "    <tr>\n",
       "      <th>1682</th>\n",
       "      <td>2018-12-13</td>\n",
       "      <td>https://www.abf.gov.au/help-and-support-subsit...</td>\n",
       "      <td>Amendments to the Customs (Prohibited Imports)...</td>\n",
       "      <td>Australian Customs Notice 1996 02\\n\\nAMENDMENT...</td>\n",
       "    </tr>\n",
       "    <tr>\n",
       "      <th>1681</th>\n",
       "      <td>2018-12-13</td>\n",
       "      <td>https://www.abf.gov.au/help-and-support-subsit...</td>\n",
       "      <td>Customs Tariff Act 1995</td>\n",
       "      <td>Australian Customs Notice 1996 03\\n\\nCUSTOMS T...</td>\n",
       "    </tr>\n",
       "    <tr>\n",
       "      <th>1680</th>\n",
       "      <td>2018-12-10</td>\n",
       "      <td>https://www.abf.gov.au/help-and-support-subsit...</td>\n",
       "      <td>Origin of goods packaged within the preference...</td>\n",
       "      <td>Australian Customs Notice 1996 04\\n\\nORIGIN OF...</td>\n",
       "    </tr>\n",
       "    <tr>\n",
       "      <th>1679</th>\n",
       "      <td>2018-12-10</td>\n",
       "      <td>https://www.abf.gov.au/help-and-support-subsit...</td>\n",
       "      <td>Customs Act 1901 - Part XVB Review of Anti-Dum...</td>\n",
       "      <td>Australian Customs Notice 1996 05 2\\n\\nCUSTOMS...</td>\n",
       "    </tr>\n",
       "  </tbody>\n",
       "</table>\n",
       "</div>"
      ],
      "text/plain": [
       "           date                                               link  \\\n",
       "1683 2018-12-13  https://www.abf.gov.au/help-and-support-subsit...   \n",
       "1682 2018-12-13  https://www.abf.gov.au/help-and-support-subsit...   \n",
       "1681 2018-12-13  https://www.abf.gov.au/help-and-support-subsit...   \n",
       "1680 2018-12-10  https://www.abf.gov.au/help-and-support-subsit...   \n",
       "1679 2018-12-10  https://www.abf.gov.au/help-and-support-subsit...   \n",
       "\n",
       "                                                  title  \\\n",
       "1683                                Trademarks Act 1995   \n",
       "1682  Amendments to the Customs (Prohibited Imports)...   \n",
       "1681                            Customs Tariff Act 1995   \n",
       "1680  Origin of goods packaged within the preference...   \n",
       "1679  Customs Act 1901 - Part XVB Review of Anti-Dum...   \n",
       "\n",
       "                                                   text  \n",
       "1683  Australian Customs Notice 1996 01\\n\\nTRADE MAR...  \n",
       "1682  Australian Customs Notice 1996 02\\n\\nAMENDMENT...  \n",
       "1681  Australian Customs Notice 1996 03\\n\\nCUSTOMS T...  \n",
       "1680  Australian Customs Notice 1996 04\\n\\nORIGIN OF...  \n",
       "1679  Australian Customs Notice 1996 05 2\\n\\nCUSTOMS...  "
      ]
     },
     "execution_count": 44,
     "metadata": {},
     "output_type": "execute_result"
    }
   ],
   "source": [
    "df=df[::-1]\n",
    "df.head()"
   ]
  },
  {
   "cell_type": "code",
   "execution_count": 45,
   "id": "0aa97820",
   "metadata": {},
   "outputs": [],
   "source": [
    "df.to_csv('호주_세관_전체.csv', mode='w', encoding='utf-8-sig', index = False)"
   ]
  }
 ],
 "metadata": {
  "kernelspec": {
   "display_name": "Python 3 (ipykernel)",
   "language": "python",
   "name": "python3"
  },
  "language_info": {
   "codemirror_mode": {
    "name": "ipython",
    "version": 3
   },
   "file_extension": ".py",
   "mimetype": "text/x-python",
   "name": "python",
   "nbconvert_exporter": "python",
   "pygments_lexer": "ipython3",
   "version": "3.9.12"
  }
 },
 "nbformat": 4,
 "nbformat_minor": 5
}

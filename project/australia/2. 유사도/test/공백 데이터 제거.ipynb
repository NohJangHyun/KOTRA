{
 "cells": [
  {
   "cell_type": "code",
   "execution_count": 64,
   "id": "59193ff8",
   "metadata": {},
   "outputs": [],
   "source": [
    "import pandas as pd\n",
    "import numpy as np\n",
    "\n",
    "df = pd.read_csv(\"호주_세관_전체.csv\")"
   ]
  },
  {
   "cell_type": "code",
   "execution_count": 66,
   "id": "75f98a4f",
   "metadata": {},
   "outputs": [
    {
     "name": "stdout",
     "output_type": "stream",
     "text": [
      "1680\n"
     ]
    },
    {
     "data": {
      "text/html": [
       "<div>\n",
       "<style scoped>\n",
       "    .dataframe tbody tr th:only-of-type {\n",
       "        vertical-align: middle;\n",
       "    }\n",
       "\n",
       "    .dataframe tbody tr th {\n",
       "        vertical-align: top;\n",
       "    }\n",
       "\n",
       "    .dataframe thead th {\n",
       "        text-align: right;\n",
       "    }\n",
       "</style>\n",
       "<table border=\"1\" class=\"dataframe\">\n",
       "  <thead>\n",
       "    <tr style=\"text-align: right;\">\n",
       "      <th></th>\n",
       "      <th>date</th>\n",
       "      <th>link</th>\n",
       "      <th>title</th>\n",
       "      <th>text</th>\n",
       "    </tr>\n",
       "  </thead>\n",
       "  <tbody>\n",
       "    <tr>\n",
       "      <th>380</th>\n",
       "      <td>2018-12-10</td>\n",
       "      <td>https://www.abf.gov.au/help-and-support-subsit...</td>\n",
       "      <td>Luxury Car Tax Threshold and Fuel Efficient Ve...</td>\n",
       "      <td>' australian government 't australian customs...</td>\n",
       "    </tr>\n",
       "    <tr>\n",
       "      <th>381</th>\n",
       "      <td>2018-12-10</td>\n",
       "      <td>https://www.abf.gov.au/help-and-support-subsit...</td>\n",
       "      <td>New sanctions against the Central African Repu...</td>\n",
       "      <td>NONE</td>\n",
       "    </tr>\n",
       "  </tbody>\n",
       "</table>\n",
       "</div>"
      ],
      "text/plain": [
       "           date                                               link  \\\n",
       "380  2018-12-10  https://www.abf.gov.au/help-and-support-subsit...   \n",
       "381  2018-12-10  https://www.abf.gov.au/help-and-support-subsit...   \n",
       "\n",
       "                                                 title  \\\n",
       "380  Luxury Car Tax Threshold and Fuel Efficient Ve...   \n",
       "381  New sanctions against the Central African Repu...   \n",
       "\n",
       "                                                  text  \n",
       "380   ' australian government 't australian customs...  \n",
       "381                                               NONE  "
      ]
     },
     "execution_count": 66,
     "metadata": {},
     "output_type": "execute_result"
    }
   ],
   "source": [
    "print(len(df))\n",
    "text = df['text']\n",
    "df[380:382]"
   ]
  },
  {
   "cell_type": "code",
   "execution_count": 67,
   "id": "31a9574c",
   "metadata": {},
   "outputs": [],
   "source": [
    "df['text'].replace(\"NONE\", np.nan, inplace=True)"
   ]
  },
  {
   "cell_type": "code",
   "execution_count": 73,
   "id": "a0758566",
   "metadata": {},
   "outputs": [],
   "source": [
    "df = df.dropna()"
   ]
  },
  {
   "cell_type": "code",
   "execution_count": 74,
   "id": "bb2d3e27",
   "metadata": {},
   "outputs": [
    {
     "name": "stdout",
     "output_type": "stream",
     "text": [
      "1663\n"
     ]
    },
    {
     "data": {
      "text/html": [
       "<div>\n",
       "<style scoped>\n",
       "    .dataframe tbody tr th:only-of-type {\n",
       "        vertical-align: middle;\n",
       "    }\n",
       "\n",
       "    .dataframe tbody tr th {\n",
       "        vertical-align: top;\n",
       "    }\n",
       "\n",
       "    .dataframe thead th {\n",
       "        text-align: right;\n",
       "    }\n",
       "</style>\n",
       "<table border=\"1\" class=\"dataframe\">\n",
       "  <thead>\n",
       "    <tr style=\"text-align: right;\">\n",
       "      <th></th>\n",
       "      <th>date</th>\n",
       "      <th>link</th>\n",
       "      <th>title</th>\n",
       "      <th>text</th>\n",
       "    </tr>\n",
       "  </thead>\n",
       "  <tbody>\n",
       "    <tr>\n",
       "      <th>384</th>\n",
       "      <td>2018-12-10</td>\n",
       "      <td>https://www.abf.gov.au/help-and-support-subsit...</td>\n",
       "      <td>Approved course of study for a customs broker’...</td>\n",
       "      <td>australian customs and border protection noti...</td>\n",
       "    </tr>\n",
       "    <tr>\n",
       "      <th>385</th>\n",
       "      <td>2018-12-10</td>\n",
       "      <td>https://www.abf.gov.au/help-and-support-subsit...</td>\n",
       "      <td>Application for Customs Broker licence</td>\n",
       "      <td>australian customs and border protection noti...</td>\n",
       "    </tr>\n",
       "  </tbody>\n",
       "</table>\n",
       "</div>"
      ],
      "text/plain": [
       "           date                                               link  \\\n",
       "384  2018-12-10  https://www.abf.gov.au/help-and-support-subsit...   \n",
       "385  2018-12-10  https://www.abf.gov.au/help-and-support-subsit...   \n",
       "\n",
       "                                                 title  \\\n",
       "384  Approved course of study for a customs broker’...   \n",
       "385             Application for Customs Broker licence   \n",
       "\n",
       "                                                  text  \n",
       "384   australian customs and border protection noti...  \n",
       "385   australian customs and border protection noti...  "
      ]
     },
     "execution_count": 74,
     "metadata": {},
     "output_type": "execute_result"
    }
   ],
   "source": [
    "print(len(df))\n",
    "text = df['text']\n",
    "df[380:382]"
   ]
  },
  {
   "cell_type": "code",
   "execution_count": 79,
   "id": "d10b2120",
   "metadata": {},
   "outputs": [],
   "source": [
    "df.to_csv('호주_세관_전체(결측치 제거).csv', mode='w', encoding='utf-8-sig', index = False)"
   ]
  }
 ],
 "metadata": {
  "kernelspec": {
   "display_name": "Python 3 (ipykernel)",
   "language": "python",
   "name": "python3"
  },
  "language_info": {
   "codemirror_mode": {
    "name": "ipython",
    "version": 3
   },
   "file_extension": ".py",
   "mimetype": "text/x-python",
   "name": "python",
   "nbconvert_exporter": "python",
   "pygments_lexer": "ipython3",
   "version": "3.9.12"
  }
 },
 "nbformat": 4,
 "nbformat_minor": 5
}

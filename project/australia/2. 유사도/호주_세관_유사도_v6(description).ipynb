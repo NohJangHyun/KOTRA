{
 "cells": [
  {
   "cell_type": "code",
   "execution_count": 44,
   "id": "006f3945",
   "metadata": {},
   "outputs": [],
   "source": [
    "import numpy as np\n",
    "import itertools\n",
    "\n",
    "from sklearn.feature_extraction.text import CountVectorizer\n",
    "from sklearn.metrics.pairwise import cosine_similarity\n",
    "from sentence_transformers import SentenceTransformer"
   ]
  },
  {
   "cell_type": "code",
   "execution_count": 45,
   "id": "50b2eee6",
   "metadata": {},
   "outputs": [],
   "source": [
    "import pandas as pd\n",
    "import re\n",
    "\n",
    "df = pd.read_csv(\"호주_세관_v2(new20).csv\")\n",
    "\n",
    "df_title = list(df['title'])\n",
    "df_text = list(df['text'])\n",
    "df_add = []\n",
    "\n",
    "for i in range(len(df)):\n",
    "    df_add.append(df_title[i]+\"\"+df_text[i])\n",
    "\n",
    "df_keyword = pd.read_csv(\"임시.csv\", index_col = False)"
   ]
  },
  {
   "cell_type": "code",
   "execution_count": 46,
   "id": "6833879a",
   "metadata": {},
   "outputs": [],
   "source": [
    "#고급 차량 관련 문서로 테스트 진행\n",
    "doc = df_add[1]"
   ]
  },
  {
   "cell_type": "code",
   "execution_count": 47,
   "id": "054cb3a0",
   "metadata": {},
   "outputs": [
    {
     "name": "stdout",
     "output_type": "stream",
     "text": [
      "1815\n",
      "1710\n",
      "1653\n",
      "Removal of customs duty on certain electric vehicles australian notice no removal of duty on certain electric vehicles from duty on electric vehicles plugin hybrid vehicles and hydrogen fuelcell vehicles with a value less than the fuel efficient luxury car tax threshold will have a ‘free’ rate of duty the ‘free’ rate of duty applies to all goods that meet this requirement except those from russia and belarus which currently have an additional duty of per cent applied implementation notice of intention to propose tariff alterations no the notice published on implements this measure the text of the notice including new additional note to chapter and the new tariff classifications and is available at attachment a the notice operates from and applies to goods entered for home consumption from lct threshold for consistent with australian notice no for the financial year the lct threshold for fuel efficient vehicles is integrated cargo system the new classifications will be entered into the integrated cargo system ics as soon as practical following the publication of the notice the new classifications will commence retrospectively on any goods entered for home consumption on or after until the time that the new classifications have been entered into the ics will need to apply for a refund refund circumstance ‘eb’ should be quoted revised tariff working pages for schedule are at attachment b the online tariff is available at current working tariff abfgovau amendments to the online tariff will be published as soon as practical after the publication of the notice any queries related to this issue can be directed to tradepolicyabfgovau\n"
     ]
    }
   ],
   "source": [
    "import string\n",
    "from nltk.tag import pos_tag\n",
    "from nltk.tokenize import word_tokenize\n",
    "\n",
    "#구두점 제거\n",
    "doc1 = \"\".join([i for i in doc if i not in string.punctuation]).strip()\n",
    "print(len(doc1))\n",
    "\n",
    "#숫자 제거\n",
    "doc2 = \"\".join([i for i in doc1 if not i.isdigit()])\n",
    "print(len(doc2))\n",
    "\n",
    "#월 제거\n",
    "month = ['january', 'february', 'march', 'april', 'may', 'june', 'july', 'august',\n",
    "        'september', 'october', 'november', 'december', 'jan', 'feb', 'mar', 'apr',\n",
    "         'may', 'jun','jul', 'aug', 'sep', 'oct', 'nov', 'dec']   \n",
    "    \n",
    "doc3 = \" \".join([i for i in doc2.split() if i not in month])\n",
    "print(len(doc3))\n",
    "print(doc3)\n",
    "# word_tokens = word_tokenize(doc2)\n",
    "\n",
    "#동사 명사\n",
    "# word_tokens = pos_tag(word_tokenize(doc))\n",
    "# word_tokens = [t[0] for t in word_tokens if t[1] == \"NN\"]"
   ]
  },
  {
   "cell_type": "code",
   "execution_count": 48,
   "id": "cad228de",
   "metadata": {},
   "outputs": [
    {
     "name": "stdout",
     "output_type": "stream",
     "text": [
      "bigram 개수 : 125\n",
      "bigram 출력 : ['abfgovau amendments' 'additional duty' 'additional note'\n",
      " 'alterations notice' 'amendments online' 'applied implementation'\n",
      " 'applies goods' 'apply refund' 'attachment notice' 'attachment online'\n",
      " 'australian notice' 'available attachment' 'available current'\n",
      " 'belarus currently' 'car tax' 'cargo ics' 'cargo new' 'cent applied'\n",
      " 'certain electric' 'chapter new' 'circumstance eb'\n",
      " 'classifications available' 'classifications commence'\n",
      " 'classifications entered' 'commence retrospectively'\n",
      " 'consistent australian' 'consumption lct' 'consumption time'\n",
      " 'current working' 'currently additional' 'customs duty'\n",
      " 'directed tradepolicyabfgovau' 'duty applies' 'duty cent' 'duty certain'\n",
      " 'duty electric' 'duty free' 'eb quoted' 'efficient luxury'\n",
      " 'efficient vehicles' 'electric vehicles' 'entered home' 'entered ics'\n",
      " 'entered integrated' 'financial year' 'following publication' 'free rate'\n",
      " 'fuel efficient' 'fuelcell vehicles' 'goods entered' 'goods meet'\n",
      " 'home consumption' 'hybrid vehicles' 'hydrogen fuelcell' 'ics need'\n",
      " 'ics soon' 'implementation notice' 'implements measure' 'including new'\n",
      " 'integrated cargo' 'intention propose' 'issue directed' 'lct threshold'\n",
      " 'luxury car' 'measure text' 'meet requirement' 'need apply'\n",
      " 'new additional' 'new classifications' 'new tariff' 'note chapter'\n",
      " 'notice financial' 'notice including' 'notice intention' 'notice new'\n",
      " 'notice operates' 'notice published' 'notice queries' 'notice removal'\n",
      " 'online tariff' 'operates applies' 'pages schedule' 'plugin hybrid'\n",
      " 'practical following' 'practical publication' 'propose tariff'\n",
      " 'publication notice' 'published implements' 'published soon'\n",
      " 'queries related' 'quoted revised' 'rate duty' 'refund circumstance'\n",
      " 'refund refund' 'related issue' 'removal customs' 'removal duty'\n",
      " 'requirement russia' 'retrospectively goods' 'revised tariff'\n",
      " 'russia belarus' 'schedule attachment' 'soon practical' 'tariff abfgovau'\n",
      " 'tariff alterations' 'tariff available' 'tariff classifications'\n",
      " 'tariff published' 'tariff working' 'tax threshold' 'text notice'\n",
      " 'threshold consistent' 'threshold free' 'threshold fuel' 'time new'\n",
      " 'value fuel' 'vehicles australian' 'vehicles duty' 'vehicles hydrogen'\n",
      " 'vehicles integrated' 'vehicles plugin' 'vehicles value' 'working pages'\n",
      " 'working tariff' 'year lct']\n"
     ]
    }
   ],
   "source": [
    "n_gram_range = (2,2)\n",
    "stop_words = \"english\"\n",
    "\n",
    "count = CountVectorizer(ngram_range=n_gram_range, stop_words=stop_words).fit([doc3])\n",
    "candidates = count.get_feature_names_out()\n",
    "\n",
    "print('bigram 개수 :',len(candidates))\n",
    "print('bigram 출력 :',candidates)"
   ]
  },
  {
   "cell_type": "code",
   "execution_count": 49,
   "id": "71a0bf9e",
   "metadata": {},
   "outputs": [],
   "source": [
    "#문서 전체와 문서에서 추출한 키워드 수치화\n",
    "model = SentenceTransformer('distilbert-base-nli-mean-tokens')\n",
    "doc_embedding = model.encode([doc3]) #전체 문서\n",
    "candidate_embeddings = model.encode(candidates)#추출한 bigram"
   ]
  },
  {
   "cell_type": "code",
   "execution_count": 87,
   "id": "3ccd450a",
   "metadata": {},
   "outputs": [
    {
     "name": "stdout",
     "output_type": "stream",
     "text": [
      "1\n",
      "[['vehicles australian', 'duty electric', 'belarus currently', 'duty free', 'certain electric', 'hydrogen fuelcell', 'requirement russia', 'revised tariff', 'propose tariff', 'threshold free', 'electric vehicles', 'hybrid vehicles', 'amendments online', 'vehicles hydrogen', 'tariff alterations', 'new tariff', 'car tax', 'russia belarus', 'online tariff', 'tax threshold']]\n"
     ]
    }
   ],
   "source": [
    "#문서와 가장 유사한 키워드 추출\n",
    "doc_bigram_keywords = []\n",
    "\n",
    "top_n = 20\n",
    "distances = cosine_similarity(doc_embedding, candidate_embeddings)\n",
    "doc_bigram_keyword = [candidates[index] for index in distances.argsort()[0][-top_n:]]\n",
    "doc_bigram_keywords.append(doc_bigram_keyword)\n",
    "\n",
    "\n",
    "print(len(doc_bigram_keywords))\n",
    "print(doc_bigram_keywords)"
   ]
  },
  {
   "cell_type": "code",
   "execution_count": 88,
   "id": "1780e294",
   "metadata": {},
   "outputs": [],
   "source": [
    "#문서와 가장 유사한 키워드 벡터화\n",
    "doc_bigram_embedding = []\n",
    "for keyword in doc_bigram_keywords:\n",
    "    doc_bigram_embedding.append(model.encode(keyword))"
   ]
  },
  {
   "cell_type": "code",
   "execution_count": 89,
   "id": "130cec5c",
   "metadata": {},
   "outputs": [
    {
     "name": "stdout",
     "output_type": "stream",
     "text": [
      "8\n"
     ]
    }
   ],
   "source": [
    "#keyword : 불러온 호주 키워드 중 번역 Column 추출\n",
    "keyword = list(df_keyword[\"description\"])\n",
    "keyword_embedding = []\n",
    "\n",
    "for ele in keyword:\n",
    "    keyword_embedding.append(model.encode(ele))\n",
    "\n",
    "print(len(keyword_embedding))"
   ]
  },
  {
   "cell_type": "code",
   "execution_count": 90,
   "id": "d8befef8",
   "metadata": {},
   "outputs": [],
   "source": [
    "#문서 키워드(doc_bigram_embedding)와 키워드 100(keyword_embedding) 유사도 비교 \n",
    "bigram_key_result = []\n",
    "keyword_key_result = []\n",
    "cosine_distances = []\n",
    "hscode_result = []\n",
    "for index, bigram in enumerate(doc_bigram_embedding):\n",
    "    bigram_result = []\n",
    "    key_result=[]\n",
    "    cosine_distance = []\n",
    "    hscode=[]\n",
    "    for i in range(len(bigram)):\n",
    "        for j in range(len(keyword_embedding)):\n",
    "            distances = cosine_similarity([bigram[i]],[keyword_embedding[j]])\n",
    "            if distances[0][0] > 0.54:\n",
    "                bigram_result.append(doc_bigram_keywords[index][i])\n",
    "                key_result.append(keyword[j])\n",
    "                cosine_distance.append(distances)\n",
    "                hscode.append(df_keyword[\"hscode\"][j])\n",
    "                \n",
    "    bigram_key_result.append(bigram_result)\n",
    "    keyword_key_result.append(key_result)\n",
    "    cosine_distances.append(cosine_distance)\n",
    "    hscode_result.append(hscode)"
   ]
  },
  {
   "cell_type": "code",
   "execution_count": 91,
   "id": "7da3098b",
   "metadata": {
    "scrolled": true
   },
   "outputs": [
    {
     "name": "stdout",
     "output_type": "stream",
     "text": [
      "[['certain electric', 'hydrogen fuelcell', 'revised tariff', 'electric vehicles', 'hybrid vehicles', 'vehicles hydrogen']]\n",
      "[['Petrtoleum gases and other gaseous hydrocarbons.', 'Petrtoleum gases and other gaseous hydrocarbons.', 'Petrtoleum gases and other gaseous hydrocarbons.', 'Petrtoleum gases and other gaseous hydrocarbons.', 'Motor cars and other motor\\xa0vehicles\\xa0principally designed for the transport of persons (other than those of heading 87.02), including station wagons and racing cars.', 'Petrtoleum gases and other gaseous hydrocarbons.']]\n"
     ]
    },
    {
     "data": {
      "text/html": [
       "<div>\n",
       "<style scoped>\n",
       "    .dataframe tbody tr th:only-of-type {\n",
       "        vertical-align: middle;\n",
       "    }\n",
       "\n",
       "    .dataframe tbody tr th {\n",
       "        vertical-align: top;\n",
       "    }\n",
       "\n",
       "    .dataframe thead th {\n",
       "        text-align: right;\n",
       "    }\n",
       "</style>\n",
       "<table border=\"1\" class=\"dataframe\">\n",
       "  <thead>\n",
       "    <tr style=\"text-align: right;\">\n",
       "      <th></th>\n",
       "      <th>bigram</th>\n",
       "      <th>keyword</th>\n",
       "      <th>distance</th>\n",
       "      <th>hscode</th>\n",
       "    </tr>\n",
       "  </thead>\n",
       "  <tbody>\n",
       "    <tr>\n",
       "      <th>1</th>\n",
       "      <td>hydrogen fuelcell</td>\n",
       "      <td>Petrtoleum gases and other gaseous hydrocarbons.</td>\n",
       "      <td>[[0.63398355]]</td>\n",
       "      <td>2711</td>\n",
       "    </tr>\n",
       "    <tr>\n",
       "      <th>0</th>\n",
       "      <td>certain electric</td>\n",
       "      <td>Petrtoleum gases and other gaseous hydrocarbons.</td>\n",
       "      <td>[[0.5770975]]</td>\n",
       "      <td>2711</td>\n",
       "    </tr>\n",
       "    <tr>\n",
       "      <th>5</th>\n",
       "      <td>vehicles hydrogen</td>\n",
       "      <td>Petrtoleum gases and other gaseous hydrocarbons.</td>\n",
       "      <td>[[0.57466245]]</td>\n",
       "      <td>2711</td>\n",
       "    </tr>\n",
       "    <tr>\n",
       "      <th>3</th>\n",
       "      <td>electric vehicles</td>\n",
       "      <td>Petrtoleum gases and other gaseous hydrocarbons.</td>\n",
       "      <td>[[0.5540178]]</td>\n",
       "      <td>2711</td>\n",
       "    </tr>\n",
       "    <tr>\n",
       "      <th>4</th>\n",
       "      <td>hybrid vehicles</td>\n",
       "      <td>Motor cars and other motor vehicles principall...</td>\n",
       "      <td>[[0.54718226]]</td>\n",
       "      <td>8703</td>\n",
       "    </tr>\n",
       "    <tr>\n",
       "      <th>2</th>\n",
       "      <td>revised tariff</td>\n",
       "      <td>Petrtoleum gases and other gaseous hydrocarbons.</td>\n",
       "      <td>[[0.5448923]]</td>\n",
       "      <td>2711</td>\n",
       "    </tr>\n",
       "  </tbody>\n",
       "</table>\n",
       "</div>"
      ],
      "text/plain": [
       "              bigram                                            keyword  \\\n",
       "1  hydrogen fuelcell   Petrtoleum gases and other gaseous hydrocarbons.   \n",
       "0   certain electric   Petrtoleum gases and other gaseous hydrocarbons.   \n",
       "5  vehicles hydrogen   Petrtoleum gases and other gaseous hydrocarbons.   \n",
       "3  electric vehicles   Petrtoleum gases and other gaseous hydrocarbons.   \n",
       "4    hybrid vehicles  Motor cars and other motor vehicles principall...   \n",
       "2     revised tariff   Petrtoleum gases and other gaseous hydrocarbons.   \n",
       "\n",
       "         distance  hscode  \n",
       "1  [[0.63398355]]    2711  \n",
       "0   [[0.5770975]]    2711  \n",
       "5  [[0.57466245]]    2711  \n",
       "3   [[0.5540178]]    2711  \n",
       "4  [[0.54718226]]    8703  \n",
       "2   [[0.5448923]]    2711  "
      ]
     },
     "execution_count": 91,
     "metadata": {},
     "output_type": "execute_result"
    }
   ],
   "source": [
    "df_check = pd.DataFrame()\n",
    "\n",
    "print(bigram_key_result)\n",
    "print(keyword_key_result)\n",
    "\n",
    "for i in range(len(bigram_key_result)):\n",
    "    bigram = pd.Series(bigram_key_result[i])\n",
    "    keyword = pd.Series(keyword_key_result[i])\n",
    "    distance = pd.Series(cosine_distances[i])\n",
    "    hscode = pd.Series(hscode_result[i])\n",
    "    \n",
    "    df_check['bigram'] = bigram\n",
    "    df_check['keyword'] = keyword\n",
    "    df_check['distance'] = distance\n",
    "    df_check['hscode'] = hscode\n",
    "    \n",
    "df_check.sort_values(by=\"distance\", ascending=False)"
   ]
  },
  {
   "cell_type": "code",
   "execution_count": null,
   "id": "75cab315",
   "metadata": {},
   "outputs": [],
   "source": []
  }
 ],
 "metadata": {
  "kernelspec": {
   "display_name": "Python 3 (ipykernel)",
   "language": "python",
   "name": "python3"
  },
  "language_info": {
   "codemirror_mode": {
    "name": "ipython",
    "version": 3
   },
   "file_extension": ".py",
   "mimetype": "text/x-python",
   "name": "python",
   "nbconvert_exporter": "python",
   "pygments_lexer": "ipython3",
   "version": "3.9.12"
  }
 },
 "nbformat": 4,
 "nbformat_minor": 5
}

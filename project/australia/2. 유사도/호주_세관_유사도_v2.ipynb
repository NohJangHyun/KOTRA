{
 "cells": [
  {
   "cell_type": "code",
   "execution_count": 2,
   "id": "ecefa4e5",
   "metadata": {},
   "outputs": [
    {
     "name": "stdout",
     "output_type": "stream",
     "text": [
      "10\n",
      "102\n"
     ]
    }
   ],
   "source": [
    "import pandas as pd\n",
    "import re\n",
    "\n",
    "#df : 스크래핑한 호주 문서\n",
    "df = pd.read_csv(\"호주_세관_최근10.csv\")\n",
    "\n",
    "df_title = list(df['title'])\n",
    "df_text = list(df['text'])\n",
    "df_add = []\n",
    "\n",
    "for i in range(len(df)):\n",
    "    df_add.append(df_title[i]+\"\"+df_text[i])\n",
    "\n",
    "print(len(df_add))\n",
    "\n",
    "#df_keyword : 선정한 호주 키워드 101개\n",
    "df_keyword = pd.read_csv(\"호주_번역_100.csv\", index_col = False)\n",
    "print(len(df_keyword))"
   ]
  },
  {
   "cell_type": "code",
   "execution_count": 3,
   "id": "0aad2638",
   "metadata": {},
   "outputs": [],
   "source": [
    "import numpy as np\n",
    "import itertools\n",
    "from sklearn.feature_extraction.text import CountVectorizer\n",
    "from sklearn.metrics.pairwise import cosine_similarity\n",
    "from sentence_transformers import SentenceTransformer\n",
    "\n",
    "# SentenceTransformer : 모델 훈련 위한 라이브러리\n",
    "# 'distiluse-base-multilingual-cased-v1' : 사용할 모델\n",
    "model = SentenceTransformer('distiluse-base-multilingual-cased-v1')"
   ]
  },
  {
   "cell_type": "code",
   "execution_count": 4,
   "id": "756f2e64",
   "metadata": {},
   "outputs": [
    {
     "name": "stdout",
     "output_type": "stream",
     "text": [
      "102\n"
     ]
    }
   ],
   "source": [
    "#keyword : 불러온 호주 키워드 중 번역 Column 추출\n",
    "keyword = list(df_keyword[\"번역\"])\n",
    "print(len(keyword))"
   ]
  },
  {
   "cell_type": "code",
   "execution_count": 5,
   "id": "636a6a01",
   "metadata": {},
   "outputs": [
    {
     "name": "stdout",
     "output_type": "stream",
     "text": [
      "102\n"
     ]
    }
   ],
   "source": [
    "#키워드 벡터화\n",
    "keyword_embedding = []\n",
    "\n",
    "for ele in keyword:\n",
    "    keyword_embedding.append(model.encode(ele))\n",
    "\n",
    "print(len(keyword_embedding))"
   ]
  },
  {
   "cell_type": "code",
   "execution_count": 6,
   "id": "f137eeeb",
   "metadata": {},
   "outputs": [
    {
     "name": "stdout",
     "output_type": "stream",
     "text": [
      "['indexation', 'duty', 'indexation', 'duty', 'notice', 'duty', 'fuel', 'section', 'duty', 'application', 'indexation', 'factor', 'indexation', 'factor', 'number', 'number', 'figure', 'indexation', 'factor', 'duty', 'rate', 'increase', 'figure', 'refer', 'figure', 'indexation', 'factor', 'table', 'number', 'indexation', 'factor', 'duty', 'application', 'factor', 'duty', 'indexation', 'schedule', 'service']\n"
     ]
    }
   ],
   "source": [
    "#호주 문서 10개 embedding\n",
    "import nltk\n",
    "import string\n",
    "from nltk.tag import pos_tag\n",
    "from nltk.tokenize import word_tokenize\n",
    "from nltk.corpus import stopwords \n",
    "\n",
    "doc_embedding = []\n",
    "doc_words = []\n",
    "cnt = 1\n",
    "\n",
    "for doc in df_add:\n",
    "    result = []\n",
    "    sentence = ''\n",
    "    stop_words = set(stopwords.words('english'))\n",
    "    \n",
    "    doc = doc.replace(\"\\n\", \"\").strip()\n",
    "\n",
    "    word_tokens = pos_tag(word_tokenize(doc))\n",
    "\n",
    "    word_tokens = [t[0] for t in word_tokens if t[1] == \"NN\" and len(t[0]) > 2]\n",
    "    for w in word_tokens:  \n",
    "        if w not in stop_words:\n",
    "            result.append(w)\n",
    "    result = [word.lower() for word in result]\n",
    "    doc_words.append(result)\n",
    "    print(result)\n",
    "    doc_embedding.append(model.encode(result))\n",
    "    break\n",
    "    #카운트 추가\n",
    "    print(cnt, \"번 문서 진행 중\")\n",
    "    cnt += 1 "
   ]
  },
  {
   "cell_type": "code",
   "execution_count": 17,
   "id": "3ff9afb6",
   "metadata": {},
   "outputs": [
    {
     "name": "stdout",
     "output_type": "stream",
     "text": [
      "set()\n",
      "{'car'}\n",
      "set()\n",
      "set()\n",
      "set()\n",
      "set()\n",
      "set()\n",
      "set()\n",
      "{'plastic'}\n",
      "set()\n"
     ]
    }
   ],
   "source": [
    "#키워드와 문서 유사도 비교 0.9\n",
    "doc_keywords_9 = []\n",
    "for index, doc in enumerate(doc_embedding):\n",
    "    final_result = []\n",
    "    for i in range(len(doc)):\n",
    "        for j in range(len(keyword_embedding)):\n",
    "            distances = cosine_similarity([doc[i]], [keyword_embedding[j]])\n",
    "            if distances[0][0]>0.9:\n",
    "                final_result.append(doc_words[index][i])\n",
    "# distances = cosine_similarity([doc_embedding[0]], candidate_embeddings)\n",
    "    print(set(final_result))\n",
    "    doc_keywords_9.append(set(final_result))"
   ]
  },
  {
   "cell_type": "code",
   "execution_count": 18,
   "id": "96f9b62b",
   "metadata": {},
   "outputs": [
    {
     "name": "stdout",
     "output_type": "stream",
     "text": [
      "set()\n",
      "{'car', 'measure'}\n",
      "set()\n",
      "set()\n",
      "set()\n",
      "set()\n",
      "set()\n",
      "set()\n",
      "{'plastic', 'measure'}\n",
      "set()\n"
     ]
    }
   ],
   "source": [
    "#키워드와 문서 유사도 비교 0.8\n",
    "doc_keywords_8 = []\n",
    "for index, doc in enumerate(doc_embedding):\n",
    "    final_result = []\n",
    "    for i in range(len(doc)):\n",
    "        for j in range(len(keyword_embedding)):\n",
    "            distances = cosine_similarity([doc[i]], [keyword_embedding[j]])\n",
    "            if distances[0][0]>0.8:\n",
    "                final_result.append(doc_words[index][i])\n",
    "# distances = cosine_similarity([doc_embedding[0]], candidate_embeddings)\n",
    "    print(set(final_result))\n",
    "    doc_keywords_8.append(set(final_result))"
   ]
  },
  {
   "cell_type": "code",
   "execution_count": 19,
   "id": "c61087c7",
   "metadata": {},
   "outputs": [
    {
     "name": "stdout",
     "output_type": "stream",
     "text": [
      "{'fuel'}\n",
      "{'car', 'measure', 'fuel'}\n",
      "set()\n",
      "set()\n",
      "set()\n",
      "set()\n",
      "set()\n",
      "set()\n",
      "{'plastic', 'measure', 'fuel'}\n",
      "set()\n"
     ]
    }
   ],
   "source": [
    "#키워드와 문서 유사도 비교 0.75\n",
    "doc_keywords_75 = []\n",
    "for index, doc in enumerate(doc_embedding):\n",
    "    final_result = []\n",
    "    for i in range(len(doc)):\n",
    "        for j in range(len(keyword_embedding)):\n",
    "            distances = cosine_similarity([doc[i]], [keyword_embedding[j]])\n",
    "            if distances[0][0]>0.75:\n",
    "                final_result.append(doc_words[index][i])\n",
    "# distances = cosine_similarity([doc_embedding[0]], candidate_embeddings)\n",
    "    print(set(final_result))\n",
    "    doc_keywords_75.append(set(final_result))"
   ]
  },
  {
   "cell_type": "code",
   "execution_count": 20,
   "id": "4ceb7431",
   "metadata": {},
   "outputs": [
    {
     "data": {
      "text/html": [
       "<div>\n",
       "<style scoped>\n",
       "    .dataframe tbody tr th:only-of-type {\n",
       "        vertical-align: middle;\n",
       "    }\n",
       "\n",
       "    .dataframe tbody tr th {\n",
       "        vertical-align: top;\n",
       "    }\n",
       "\n",
       "    .dataframe thead th {\n",
       "        text-align: right;\n",
       "    }\n",
       "</style>\n",
       "<table border=\"1\" class=\"dataframe\">\n",
       "  <thead>\n",
       "    <tr style=\"text-align: right;\">\n",
       "      <th></th>\n",
       "      <th>cosine 0.9</th>\n",
       "      <th>cosine 0.8</th>\n",
       "      <th>cosine 0.75</th>\n",
       "    </tr>\n",
       "  </thead>\n",
       "  <tbody>\n",
       "    <tr>\n",
       "      <th>0</th>\n",
       "      <td>{}</td>\n",
       "      <td>{}</td>\n",
       "      <td>{fuel}</td>\n",
       "    </tr>\n",
       "    <tr>\n",
       "      <th>1</th>\n",
       "      <td>{car}</td>\n",
       "      <td>{car, measure}</td>\n",
       "      <td>{car, measure, fuel}</td>\n",
       "    </tr>\n",
       "    <tr>\n",
       "      <th>2</th>\n",
       "      <td>{}</td>\n",
       "      <td>{}</td>\n",
       "      <td>{}</td>\n",
       "    </tr>\n",
       "    <tr>\n",
       "      <th>3</th>\n",
       "      <td>{}</td>\n",
       "      <td>{}</td>\n",
       "      <td>{}</td>\n",
       "    </tr>\n",
       "    <tr>\n",
       "      <th>4</th>\n",
       "      <td>{}</td>\n",
       "      <td>{}</td>\n",
       "      <td>{}</td>\n",
       "    </tr>\n",
       "    <tr>\n",
       "      <th>5</th>\n",
       "      <td>{}</td>\n",
       "      <td>{}</td>\n",
       "      <td>{}</td>\n",
       "    </tr>\n",
       "    <tr>\n",
       "      <th>6</th>\n",
       "      <td>{}</td>\n",
       "      <td>{}</td>\n",
       "      <td>{}</td>\n",
       "    </tr>\n",
       "    <tr>\n",
       "      <th>7</th>\n",
       "      <td>{}</td>\n",
       "      <td>{}</td>\n",
       "      <td>{}</td>\n",
       "    </tr>\n",
       "    <tr>\n",
       "      <th>8</th>\n",
       "      <td>{plastic}</td>\n",
       "      <td>{plastic, measure}</td>\n",
       "      <td>{plastic, measure, fuel}</td>\n",
       "    </tr>\n",
       "    <tr>\n",
       "      <th>9</th>\n",
       "      <td>{}</td>\n",
       "      <td>{}</td>\n",
       "      <td>{}</td>\n",
       "    </tr>\n",
       "  </tbody>\n",
       "</table>\n",
       "</div>"
      ],
      "text/plain": [
       "  cosine 0.9          cosine 0.8               cosine 0.75\n",
       "0         {}                  {}                    {fuel}\n",
       "1      {car}      {car, measure}      {car, measure, fuel}\n",
       "2         {}                  {}                        {}\n",
       "3         {}                  {}                        {}\n",
       "4         {}                  {}                        {}\n",
       "5         {}                  {}                        {}\n",
       "6         {}                  {}                        {}\n",
       "7         {}                  {}                        {}\n",
       "8  {plastic}  {plastic, measure}  {plastic, measure, fuel}\n",
       "9         {}                  {}                        {}"
      ]
     },
     "execution_count": 20,
     "metadata": {},
     "output_type": "execute_result"
    }
   ],
   "source": [
    "df_check = pd.DataFrame()\n",
    "df_check['cosine 0.9'] = doc_keywords_9\n",
    "df_check['cosine 0.8'] = doc_keywords_8\n",
    "df_check['cosine 0.75'] = doc_keywords_75\n",
    "\n",
    "df_check"
   ]
  },
  {
   "cell_type": "code",
   "execution_count": 10,
   "id": "317b27ca",
   "metadata": {},
   "outputs": [],
   "source": [
    "# df['cosine 0.9'] = doc_keywords_9\n",
    "# df['cosine 0.8'] = doc_keywords_8\n",
    "# df['cosine 0.75'] = doc_keywords_75\n",
    "\n",
    "# df"
   ]
  },
  {
   "cell_type": "code",
   "execution_count": 11,
   "id": "6d1fe517",
   "metadata": {},
   "outputs": [],
   "source": [
    "# df.to_csv(\"호주_세관_최근10_유사도, 번역 추가.csv\")"
   ]
  }
 ],
 "metadata": {
  "kernelspec": {
   "display_name": "Python 3 (ipykernel)",
   "language": "python",
   "name": "python3"
  },
  "language_info": {
   "codemirror_mode": {
    "name": "ipython",
    "version": 3
   },
   "file_extension": ".py",
   "mimetype": "text/x-python",
   "name": "python",
   "nbconvert_exporter": "python",
   "pygments_lexer": "ipython3",
   "version": "3.9.12"
  }
 },
 "nbformat": 4,
 "nbformat_minor": 5
}

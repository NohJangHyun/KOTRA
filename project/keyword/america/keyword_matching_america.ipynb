{
 "cells": [
  {
   "cell_type": "code",
   "execution_count": 1,
   "id": "a7143576",
   "metadata": {},
   "outputs": [],
   "source": [
    "import pandas as pd\n",
    "import re\n",
    "\n",
    "#df : 스크래핑한 미국 문서\n",
    "df = pd.read_csv(\"america_2.csv\")\n",
    "\n",
    "#df_keyword : 선정한 미국 키워드 101개\n",
    "df_keyword = pd.read_csv(\"미국_번역_100개.csv\", index_col = False)"
   ]
  },
  {
   "cell_type": "code",
   "execution_count": 2,
   "id": "72417145",
   "metadata": {},
   "outputs": [],
   "source": [
    "import numpy as np\n",
    "import itertools\n",
    "from sklearn.feature_extraction.text import CountVectorizer\n",
    "from sklearn.metrics.pairwise import cosine_similarity\n",
    "from sentence_transformers import SentenceTransformer\n",
    "\n",
    "# SentenceTransformer : 모델 훈련 위한 라이브러리\n",
    "# 'distiluse-base-multilingual-cased-v1' : 사용할 모델\n",
    "model = SentenceTransformer('distiluse-base-multilingual-cased-v1')"
   ]
  },
  {
   "cell_type": "code",
   "execution_count": 17,
   "id": "4af06f7a",
   "metadata": {
    "scrolled": true
   },
   "outputs": [
    {
     "name": "stdout",
     "output_type": "stream",
     "text": [
      "101\n"
     ]
    }
   ],
   "source": [
    "#keyword : 불러온 미국 키워드 중 번역 Column 추출\n",
    "keyword = list(df_keyword[\"번역\"])\n",
    "print(len(keyword))"
   ]
  },
  {
   "cell_type": "code",
   "execution_count": 20,
   "id": "4fb6c5e8",
   "metadata": {},
   "outputs": [
    {
     "name": "stdout",
     "output_type": "stream",
     "text": [
      "101\n"
     ]
    }
   ],
   "source": [
    "#키워드 벡터화\n",
    "keyword_embedding = []\n",
    "\n",
    "for ele in keyword:\n",
    "    keyword_embedding.append(model.encode(ele))\n",
    "\n",
    "print(len(keyword_embedding))"
   ]
  },
  {
   "cell_type": "code",
   "execution_count": 62,
   "id": "20a86fd0",
   "metadata": {},
   "outputs": [],
   "source": [
    "#text : 테스트를 위한 랜덤 문서 => df['first_page_text'][0]\n",
    "text = '''\n",
    "Bureau of Customs andBorder Protection\n",
    "General Notices\n",
    "[CBP Decision 03–01]C\n",
    "USTOMS ACCREDITATION OF BSI I NSPECTORATE AMERICA\n",
    "CORPORATION AS A COMMERCIAL LABORATORY\n",
    "AGENCY: Customs and Border Protection, Department of Home-land SecurityACTION: Notice of Accreditation of BSI Inspectorate America Cor-poration of Garden City, Georgia, as a Commercial Laboratory.SUMMARY: BSI Inspectorate America Corporation of Garden City,Georgia has applied to Customs and Border Protection under Part151.12 of the Customs Regulations for an extension of accreditationas a commercial laboratory to analyze petroleum products underChapter 27 and Chapter 29 of the Harmonized Tariff Schedule of theUnited States (HTSUS). Customs has determined that this companymeets all of the requirements for accreditation as a commercial labo-ratory. Specifically, BSI Inspectorate America Corporation has beengranted accreditation to perform the following test methods at theirGarden City, Georgia site: (1) Distillation of Petroleum Products,ASTM D86; (2) Water in Petroleum Products and Bituminous Mate-rials by Distillation, ASTM D95; (3) API Gravity by Hydrometer,ASTM D287; (4) Kinematic Viscosity of Transparent and OpaqueLiquids, ASTM D445; (5) Sediment in Crude Oils and Fuel Oils byExtraction, ASTM D473; (6) Density, Relative Density (SpecificGravity), or API Gravity of Crude Petroleum and Liquid PetroleumProducts by Hydrometer Method, ASTM D1298; (7) Water and Sedi-ment in Fuel Oils by the Centrifuge Method, ASTM D1796; (8) Waterand Sediment in Middle Distillate Fuels by Centrifuge, ASTMD2709; (9) Water in Crude Oil by Distillation, ASTM D4006; (10)Percent by Weight of Sulfur by Energy-Dispersive X-Ray Fluores-cence, ASTM D4294; (11) Water in Crude Oils by Coulometric KarlFischer Titration, ASTM D4928; and (12) Vapor Pressure of Petro-leum Products, ASTM D5191. Therefore, in accordance with Part151.12 of the Customs Regulations, BSI Inspectorate America Corpo-ration of Garden City, Georgia is hereby accredited to analyze theproducts named above. 1\n",
    "'''"
   ]
  },
  {
   "cell_type": "code",
   "execution_count": null,
   "id": "a72a8e19",
   "metadata": {},
   "outputs": [],
   "source": [
    "#text 전처리 과정"
   ]
  },
  {
   "cell_type": "code",
   "execution_count": 63,
   "id": "fa8aa1a9",
   "metadata": {},
   "outputs": [
    {
     "name": "stdout",
     "output_type": "stream",
     "text": [
      "1958\n",
      "Bureau of Customs andBorder Protection\n",
      "General Notices\n",
      "CBP Decision 03–01C\n",
      "USTOMS ACCREDITATION OF BSI I NSPECTORATE AMERICA\n",
      "CORPORATION AS A COMMERCIAL LABORATORY\n",
      "AGENCY Customs and Border Protection Department of Homeland SecurityACTION Notice of Accreditation of BSI Inspectorate America Corporation of Garden City Georgia as a Commercial LaboratorySUMMARY BSI Inspectorate America Corporation of Garden CityGeorgia has applied to Customs and Border Protection under Part15112 of the Customs Regulations for an extension of accreditationas a commercial laboratory to analyze petroleum products underChapter 27 and Chapter 29 of the Harmonized Tariff Schedule of theUnited States HTSUS Customs has determined that this companymeets all of the requirements for accreditation as a commercial laboratory Specifically BSI Inspectorate America Corporation has beengranted accreditation to perform the following test methods at theirGarden City Georgia site 1 Distillation of Petroleum ProductsASTM D86 2 Water in Petroleum Products and Bituminous Materials by Distillation ASTM D95 3 API Gravity by HydrometerASTM D287 4 Kinematic Viscosity of Transparent and OpaqueLiquids ASTM D445 5 Sediment in Crude Oils and Fuel Oils byExtraction ASTM D473 6 Density Relative Density SpecificGravity or API Gravity of Crude Petroleum and Liquid PetroleumProducts by Hydrometer Method ASTM D1298 7 Water and Sediment in Fuel Oils by the Centrifuge Method ASTM D1796 8 Waterand Sediment in Middle Distillate Fuels by Centrifuge ASTMD2709 9 Water in Crude Oil by Distillation ASTM D4006 10Percent by Weight of Sulfur by EnergyDispersive XRay Fluorescence ASTM D4294 11 Water in Crude Oils by Coulometric KarlFischer Titration ASTM D4928 and 12 Vapor Pressure of Petroleum Products ASTM D5191 Therefore in accordance with Part15112 of the Customs Regulations BSI Inspectorate America Corporation of Garden City Georgia is hereby accredited to analyze theproducts named above 1\n"
     ]
    }
   ],
   "source": [
    "#1. text 구두점 제거 + strip()\n",
    "import string\n",
    "\n",
    "text= \"\".join([i for i in text if i not in string.punctuation]).strip()\n",
    "\n",
    "print(len(text)) #전처리 후 길이 변화 확인 목적\n",
    "print(text)"
   ]
  },
  {
   "cell_type": "code",
   "execution_count": 64,
   "id": "4d2115b9",
   "metadata": {},
   "outputs": [
    {
     "name": "stdout",
     "output_type": "stream",
     "text": [
      "단어로 토큰화 후 :  280\n"
     ]
    }
   ],
   "source": [
    "#2. text를 단어로 토큰화\n",
    "from nltk import word_tokenize\n",
    "\n",
    "words = word_tokenize(text)\n",
    "\n",
    "print(\"단어로 토큰화 후 : \", len(words))"
   ]
  },
  {
   "cell_type": "code",
   "execution_count": 65,
   "id": "b29db335",
   "metadata": {},
   "outputs": [
    {
     "name": "stdout",
     "output_type": "stream",
     "text": [
      "불용어 제거 후 :  207\n"
     ]
    }
   ],
   "source": [
    "#3. stopword 제거\n",
    "import nltk\n",
    "from nltk.corpus import stopwords \n",
    "\n",
    "stop_words = set(stopwords.words('english'))\n",
    "result = []\n",
    "for word in words:\n",
    "    if word not in stop_words:\n",
    "        result.append(word)\n",
    "        \n",
    "print(\"불용어 제거 후 : \", len(result))"
   ]
  },
  {
   "cell_type": "code",
   "execution_count": 66,
   "id": "05cc4c2c",
   "metadata": {},
   "outputs": [
    {
     "name": "stdout",
     "output_type": "stream",
     "text": [
      "1710\n",
      " Bureau Customs andBorder Protection General Notices CBP Decision 03–01C USTOMS ACCREDITATION OF BSI I NSPECTORATE AMERICA CORPORATION AS A COMMERCIAL LABORATORY AGENCY Customs Border Protection Department Homeland SecurityACTION Notice Accreditation BSI Inspectorate America Corporation Garden City Georgia Commercial LaboratorySUMMARY BSI Inspectorate America Corporation Garden CityGeorgia applied Customs Border Protection Part15112 Customs Regulations extension accreditationas commercial laboratory analyze petroleum products underChapter 27 Chapter 29 Harmonized Tariff Schedule theUnited States HTSUS Customs determined companymeets requirements accreditation commercial laboratory Specifically BSI Inspectorate America Corporation beengranted accreditation perform following test methods theirGarden City Georgia site 1 Distillation Petroleum ProductsASTM D86 2 Water Petroleum Products Bituminous Materials Distillation ASTM D95 3 API Gravity HydrometerASTM D287 4 Kinematic Viscosity Transparent OpaqueLiquids ASTM D445 5 Sediment Crude Oils Fuel Oils byExtraction ASTM D473 6 Density Relative Density SpecificGravity API Gravity Crude Petroleum Liquid PetroleumProducts Hydrometer Method ASTM D1298 7 Water Sediment Fuel Oils Centrifuge Method ASTM D1796 8 Waterand Sediment Middle Distillate Fuels Centrifuge ASTMD2709 9 Water Crude Oil Distillation ASTM D4006 10Percent Weight Sulfur EnergyDispersive XRay Fluorescence ASTM D4294 11 Water Crude Oils Coulometric KarlFischer Titration ASTM D4928 12 Vapor Pressure Petroleum Products ASTM D5191 Therefore accordance Part15112 Customs Regulations BSI Inspectorate America Corporation Garden City Georgia hereby accredited analyze theproducts named 1\n"
     ]
    }
   ],
   "source": [
    "#4. 단어들 합치기\n",
    "sentence = ''\n",
    "for i in range(len(result)):\n",
    "    sentence = sentence + \" \" + result[i]\n",
    "\n",
    "print(len(sentence))#전처리 전 길이 변화 비교 목적 : 1135 -> 1018\n",
    "print(sentence)"
   ]
  },
  {
   "cell_type": "code",
   "execution_count": 67,
   "id": "8f04b548",
   "metadata": {
    "scrolled": true
   },
   "outputs": [
    {
     "name": "stdout",
     "output_type": "stream",
     "text": [
      "206\n",
      "[('Bureau', 'Customs'), ('Customs', 'andBorder'), ('andBorder', 'Protection'), ('Protection', 'General'), ('General', 'Notices'), ('Notices', 'CBP'), ('CBP', 'Decision'), ('Decision', '03–01C'), ('03–01C', 'USTOMS'), ('USTOMS', 'ACCREDITATION'), ('ACCREDITATION', 'OF'), ('OF', 'BSI'), ('BSI', 'I'), ('I', 'NSPECTORATE'), ('NSPECTORATE', 'AMERICA'), ('AMERICA', 'CORPORATION'), ('CORPORATION', 'AS'), ('AS', 'A'), ('A', 'COMMERCIAL'), ('COMMERCIAL', 'LABORATORY'), ('LABORATORY', 'AGENCY'), ('AGENCY', 'Customs'), ('Customs', 'Border'), ('Border', 'Protection'), ('Protection', 'Department'), ('Department', 'Homeland'), ('Homeland', 'SecurityACTION'), ('SecurityACTION', 'Notice'), ('Notice', 'Accreditation'), ('Accreditation', 'BSI'), ('BSI', 'Inspectorate'), ('Inspectorate', 'America'), ('America', 'Corporation'), ('Corporation', 'Garden'), ('Garden', 'City'), ('City', 'Georgia'), ('Georgia', 'Commercial'), ('Commercial', 'LaboratorySUMMARY'), ('LaboratorySUMMARY', 'BSI'), ('BSI', 'Inspectorate'), ('Inspectorate', 'America'), ('America', 'Corporation'), ('Corporation', 'Garden'), ('Garden', 'CityGeorgia'), ('CityGeorgia', 'applied'), ('applied', 'Customs'), ('Customs', 'Border'), ('Border', 'Protection'), ('Protection', 'Part15112'), ('Part15112', 'Customs'), ('Customs', 'Regulations'), ('Regulations', 'extension'), ('extension', 'accreditationas'), ('accreditationas', 'commercial'), ('commercial', 'laboratory'), ('laboratory', 'analyze'), ('analyze', 'petroleum'), ('petroleum', 'products'), ('products', 'underChapter'), ('underChapter', '27'), ('27', 'Chapter'), ('Chapter', '29'), ('29', 'Harmonized'), ('Harmonized', 'Tariff'), ('Tariff', 'Schedule'), ('Schedule', 'theUnited'), ('theUnited', 'States'), ('States', 'HTSUS'), ('HTSUS', 'Customs'), ('Customs', 'determined'), ('determined', 'companymeets'), ('companymeets', 'requirements'), ('requirements', 'accreditation'), ('accreditation', 'commercial'), ('commercial', 'laboratory'), ('laboratory', 'Specifically'), ('Specifically', 'BSI'), ('BSI', 'Inspectorate'), ('Inspectorate', 'America'), ('America', 'Corporation'), ('Corporation', 'beengranted'), ('beengranted', 'accreditation'), ('accreditation', 'perform'), ('perform', 'following'), ('following', 'test'), ('test', 'methods'), ('methods', 'theirGarden'), ('theirGarden', 'City'), ('City', 'Georgia'), ('Georgia', 'site'), ('site', '1'), ('1', 'Distillation'), ('Distillation', 'Petroleum'), ('Petroleum', 'ProductsASTM'), ('ProductsASTM', 'D86'), ('D86', '2'), ('2', 'Water'), ('Water', 'Petroleum'), ('Petroleum', 'Products'), ('Products', 'Bituminous'), ('Bituminous', 'Materials'), ('Materials', 'Distillation'), ('Distillation', 'ASTM'), ('ASTM', 'D95'), ('D95', '3'), ('3', 'API'), ('API', 'Gravity'), ('Gravity', 'HydrometerASTM'), ('HydrometerASTM', 'D287'), ('D287', '4'), ('4', 'Kinematic'), ('Kinematic', 'Viscosity'), ('Viscosity', 'Transparent'), ('Transparent', 'OpaqueLiquids'), ('OpaqueLiquids', 'ASTM'), ('ASTM', 'D445'), ('D445', '5'), ('5', 'Sediment'), ('Sediment', 'Crude'), ('Crude', 'Oils'), ('Oils', 'Fuel'), ('Fuel', 'Oils'), ('Oils', 'byExtraction'), ('byExtraction', 'ASTM'), ('ASTM', 'D473'), ('D473', '6'), ('6', 'Density'), ('Density', 'Relative'), ('Relative', 'Density'), ('Density', 'SpecificGravity'), ('SpecificGravity', 'API'), ('API', 'Gravity'), ('Gravity', 'Crude'), ('Crude', 'Petroleum'), ('Petroleum', 'Liquid'), ('Liquid', 'PetroleumProducts'), ('PetroleumProducts', 'Hydrometer'), ('Hydrometer', 'Method'), ('Method', 'ASTM'), ('ASTM', 'D1298'), ('D1298', '7'), ('7', 'Water'), ('Water', 'Sediment'), ('Sediment', 'Fuel'), ('Fuel', 'Oils'), ('Oils', 'Centrifuge'), ('Centrifuge', 'Method'), ('Method', 'ASTM'), ('ASTM', 'D1796'), ('D1796', '8'), ('8', 'Waterand'), ('Waterand', 'Sediment'), ('Sediment', 'Middle'), ('Middle', 'Distillate'), ('Distillate', 'Fuels'), ('Fuels', 'Centrifuge'), ('Centrifuge', 'ASTMD2709'), ('ASTMD2709', '9'), ('9', 'Water'), ('Water', 'Crude'), ('Crude', 'Oil'), ('Oil', 'Distillation'), ('Distillation', 'ASTM'), ('ASTM', 'D4006'), ('D4006', '10Percent'), ('10Percent', 'Weight'), ('Weight', 'Sulfur'), ('Sulfur', 'EnergyDispersive'), ('EnergyDispersive', 'XRay'), ('XRay', 'Fluorescence'), ('Fluorescence', 'ASTM'), ('ASTM', 'D4294'), ('D4294', '11'), ('11', 'Water'), ('Water', 'Crude'), ('Crude', 'Oils'), ('Oils', 'Coulometric'), ('Coulometric', 'KarlFischer'), ('KarlFischer', 'Titration'), ('Titration', 'ASTM'), ('ASTM', 'D4928'), ('D4928', '12'), ('12', 'Vapor'), ('Vapor', 'Pressure'), ('Pressure', 'Petroleum'), ('Petroleum', 'Products'), ('Products', 'ASTM'), ('ASTM', 'D5191'), ('D5191', 'Therefore'), ('Therefore', 'accordance'), ('accordance', 'Part15112'), ('Part15112', 'Customs'), ('Customs', 'Regulations'), ('Regulations', 'BSI'), ('BSI', 'Inspectorate'), ('Inspectorate', 'America'), ('America', 'Corporation'), ('Corporation', 'Garden'), ('Garden', 'City'), ('City', 'Georgia'), ('Georgia', 'hereby'), ('hereby', 'accredited'), ('accredited', 'analyze'), ('analyze', 'theproducts'), ('theproducts', 'named'), ('named', '1')]\n"
     ]
    }
   ],
   "source": [
    "#5. 전처리된 문장 bi-gram으로 추출\n",
    "from nltk import ngrams\n",
    "\n",
    "grams = []\n",
    "bigrams = ngrams(sentence.split(), 2)\n",
    "\n",
    "cnt = 0\n",
    "for gram in bigrams:\n",
    "    grams.append(gram)\n",
    "    cnt += 1\n",
    "    \n",
    "print(len(grams))\n",
    "print(grams)"
   ]
  },
  {
   "cell_type": "code",
   "execution_count": 68,
   "id": "335a43d3",
   "metadata": {},
   "outputs": [],
   "source": [
    "#6. bi-gram 단어 embedding하기\n",
    "text_embedding = model.encode([grams])"
   ]
  },
  {
   "cell_type": "code",
   "execution_count": null,
   "id": "e10ee7a2",
   "metadata": {},
   "outputs": [],
   "source": [
    "# keyword_embedding과 text_embedding의 유사도 검사"
   ]
  },
  {
   "cell_type": "code",
   "execution_count": 71,
   "id": "b453a654",
   "metadata": {},
   "outputs": [
    {
     "name": "stdout",
     "output_type": "stream",
     "text": [
      "{'Bureau'}\n"
     ]
    }
   ],
   "source": [
    "final_result = []\n",
    "for i in range(len(text_embedding)):\n",
    "    for j in range(len(keyword_embedding)):\n",
    "        distances = cosine_similarity([text_embedding[i]], [keyword_embedding[j]])\n",
    "        if distances[0][0]>0.1:\n",
    "            final_result.append(result[i])\n",
    "# distances = cosine_similarity([doc_embedding[0]], candidate_embeddings)\n",
    "print(set(final_result))"
   ]
  },
  {
   "cell_type": "code",
   "execution_count": 7,
   "id": "3cdde052",
   "metadata": {},
   "outputs": [],
   "source": [
    "# from tensorflow.keras.preprocessing.text import text_to_word_sequence\n",
    "\n",
    "# word_tokens = text_to_word_sequence(text)\n",
    "# word_tokens = [x for x in word_tokens if len(x)>2]"
   ]
  },
  {
   "cell_type": "code",
   "execution_count": 8,
   "id": "1d20d86c",
   "metadata": {
    "scrolled": false
   },
   "outputs": [
    {
     "name": "stderr",
     "output_type": "stream",
     "text": [
      "[nltk_data] Downloading package stopwords to\n",
      "[nltk_data]     C:\\Users\\water\\AppData\\Roaming\\nltk_data...\n",
      "[nltk_data]   Package stopwords is already up-to-date!\n"
     ]
    }
   ],
   "source": [
    "# from nltk.corpus import stopwords\n",
    "# import nltk\n",
    "# nltk.download('stopwords')\n",
    "# stop_words = stopwords.words('english')"
   ]
  },
  {
   "cell_type": "code",
   "execution_count": 9,
   "id": "245452e9",
   "metadata": {},
   "outputs": [],
   "source": [
    "# result = []\n",
    "# for w in word_tokens: \n",
    "#     if w not in stop_words: \n",
    "#         result.append(w)"
   ]
  },
  {
   "cell_type": "code",
   "execution_count": 11,
   "id": "fffd1489",
   "metadata": {},
   "outputs": [],
   "source": [
    "# doc_embedding = model.encode(result)"
   ]
  },
  {
   "cell_type": "code",
   "execution_count": 16,
   "id": "7816d6df",
   "metadata": {},
   "outputs": [
    {
     "name": "stdout",
     "output_type": "stream",
     "text": [
      "set()\n"
     ]
    }
   ],
   "source": [
    "final_result = []\n",
    "for i in range(len(doc_embedding)):\n",
    "    for j in range(len(keyword_embedding)):\n",
    "        distances = cosine_similarity([doc_embedding[i]], [keyword_embedding[j]])\n",
    "        if distances[0][0]>0.8:\n",
    "            final_result.append(result[i])\n",
    "# distances = cosine_similarity([doc_embedding[0]], candidate_embeddings)\n",
    "print(set(final_result))"
   ]
  },
  {
   "cell_type": "code",
   "execution_count": null,
   "id": "7467113a",
   "metadata": {},
   "outputs": [],
   "source": []
  }
 ],
 "metadata": {
  "kernelspec": {
   "display_name": "Python 3 (ipykernel)",
   "language": "python",
   "name": "python3"
  },
  "language_info": {
   "codemirror_mode": {
    "name": "ipython",
    "version": 3
   },
   "file_extension": ".py",
   "mimetype": "text/x-python",
   "name": "python",
   "nbconvert_exporter": "python",
   "pygments_lexer": "ipython3",
   "version": "3.9.12"
  },
  "toc": {
   "base_numbering": 1,
   "nav_menu": {},
   "number_sections": true,
   "sideBar": true,
   "skip_h1_title": false,
   "title_cell": "Table of Contents",
   "title_sidebar": "Contents",
   "toc_cell": false,
   "toc_position": {},
   "toc_section_display": true,
   "toc_window_display": false
  },
  "varInspector": {
   "cols": {
    "lenName": 16,
    "lenType": 16,
    "lenVar": 40
   },
   "kernels_config": {
    "python": {
     "delete_cmd_postfix": "",
     "delete_cmd_prefix": "del ",
     "library": "var_list.py",
     "varRefreshCmd": "print(var_dic_list())"
    },
    "r": {
     "delete_cmd_postfix": ") ",
     "delete_cmd_prefix": "rm(",
     "library": "var_list.r",
     "varRefreshCmd": "cat(var_dic_list()) "
    }
   },
   "types_to_exclude": [
    "module",
    "function",
    "builtin_function_or_method",
    "instance",
    "_Feature"
   ],
   "window_display": false
  }
 },
 "nbformat": 4,
 "nbformat_minor": 5
}

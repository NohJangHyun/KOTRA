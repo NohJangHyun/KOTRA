{
 "cells": [
  {
   "cell_type": "code",
   "execution_count": 1,
   "id": "a7143576",
   "metadata": {},
   "outputs": [],
   "source": [
    "import pandas as pd\n",
    "import re\n",
    "\n",
    "#df : 스크래핑한 미국 문서\n",
    "df = pd.read_csv(\"america_2.csv\")\n",
    "\n",
    "#df_keyword : 선정한 미국 키워드 101개\n",
    "df_keyword = pd.read_csv(\"미국_번역_100개.csv\", index_col = False)"
   ]
  },
  {
   "cell_type": "code",
   "execution_count": 2,
   "id": "72417145",
   "metadata": {},
   "outputs": [],
   "source": [
    "import numpy as np\n",
    "import itertools\n",
    "from sklearn.feature_extraction.text import CountVectorizer\n",
    "from sklearn.metrics.pairwise import cosine_similarity\n",
    "from sentence_transformers import SentenceTransformer\n",
    "\n",
    "# SentenceTransformer : 모델 훈련 위한 라이브러리\n",
    "# 'distiluse-base-multilingual-cased-v1' : 사용할 모델\n",
    "model = SentenceTransformer('distiluse-base-multilingual-cased-v1')"
   ]
  },
  {
   "cell_type": "code",
   "execution_count": 17,
   "id": "4af06f7a",
   "metadata": {
    "scrolled": true
   },
   "outputs": [
    {
     "name": "stdout",
     "output_type": "stream",
     "text": [
      "101\n"
     ]
    }
   ],
   "source": [
    "#keyword : 불러온 미국 키워드 중 번역 Column 추출\n",
    "keyword = list(df_keyword[\"번역\"])\n",
    "print(len(keyword))"
   ]
  },
  {
   "cell_type": "code",
   "execution_count": 20,
   "id": "4fb6c5e8",
   "metadata": {},
   "outputs": [
    {
     "name": "stdout",
     "output_type": "stream",
     "text": [
      "101\n"
     ]
    }
   ],
   "source": [
    "#키워드 벡터화\n",
    "keyword_embedding = []\n",
    "\n",
    "for ele in keyword:\n",
    "    keyword_embedding.append(model.encode(ele))\n",
    "\n",
    "print(len(keyword_embedding))"
   ]
  },
  {
   "cell_type": "code",
   "execution_count": 6,
   "id": "20a86fd0",
   "metadata": {},
   "outputs": [],
   "source": [
    "text = '''\n",
    "Bureau of Customs andBorder Protection\n",
    "General Notices\n",
    "(T.D. 03–25)FOREIGN CURRENCIES\n",
    "VARIANCES FROM QUARTERLY RATES FOR MAY, 2003\n",
    "The following rates of exchange are based upon rates certified to theSecretary of the Treasury by the Federal Reserve Bank of New York,pursuant to 31 U.S.C. 5151, and reflect variances of 5 per centumor more from the quarterly rates published in Treasury Decision03–19 for the following countries. Therefore, as to entries covering mer-chandise exported on the dates listed, whenever it is necessary for Cus-toms purposes to convert such currency into currency of the UnitedStates, conversion shall be at the following rates.\n",
    "Holiday(s): May 26, 2003\n",
    "Australia dollar:May 06, 2003................................................ $0.638300 May 07, 2003................................................ .636200 May 08, 2003................................................ .642400 May 09, 2003................................................ .644800 May 10, 2003................................................ .644800 May 11, 2003................................................ .644800 May 12, 2003................................................ .648200 May 13, 2003................................................ .645800 May 14, 2003................................................ .647400 May 15, 2003................................................ .642500 May 16, 2003................................................ .650200 May 17, 2003................................................ .650200 May 18, 2003................................................ .650200 May 19, 2003................................................ .656000 May 20, 2003................................................ .657200 May 21, 2003................................................ .656300 May 22, 2003................................................ .658500 May 23, 2003................................................ .657500 May 24, 2003................................................ .657500 May 25, 2003................................................ .657500 May 26, 2003................................................ .657500 May 27, 2003................................................ .658500 May 28, 2003................................................ .647900 May 29, 2003................................................ .647700\n",
    "1\n",
    "'''"
   ]
  },
  {
   "cell_type": "code",
   "execution_count": null,
   "id": "2ed7cdf7",
   "metadata": {},
   "outputs": [],
   "source": [
    "# 단어임베딩해서 키워드에 대한 벡터표현을 뽑아내서 유사도가 높은거뽑기 0.5이상"
   ]
  },
  {
   "cell_type": "code",
   "execution_count": 7,
   "id": "3cdde052",
   "metadata": {},
   "outputs": [],
   "source": [
    "from tensorflow.keras.preprocessing.text import text_to_word_sequence\n",
    "word_tokens = text_to_word_sequence(text)\n",
    "word_tokens = [x for x in word_tokens if len(x)>2]"
   ]
  },
  {
   "cell_type": "code",
   "execution_count": 8,
   "id": "1d20d86c",
   "metadata": {
    "scrolled": false
   },
   "outputs": [
    {
     "name": "stderr",
     "output_type": "stream",
     "text": [
      "[nltk_data] Downloading package stopwords to\n",
      "[nltk_data]     C:\\Users\\water\\AppData\\Roaming\\nltk_data...\n",
      "[nltk_data]   Package stopwords is already up-to-date!\n"
     ]
    }
   ],
   "source": [
    "from nltk.corpus import stopwords\n",
    "import nltk\n",
    "nltk.download('stopwords')\n",
    "stop_words = stopwords.words('english')"
   ]
  },
  {
   "cell_type": "code",
   "execution_count": 9,
   "id": "245452e9",
   "metadata": {},
   "outputs": [],
   "source": [
    "result = []\n",
    "for w in word_tokens: \n",
    "    if w not in stop_words: \n",
    "        result.append(w)"
   ]
  },
  {
   "cell_type": "code",
   "execution_count": 11,
   "id": "fffd1489",
   "metadata": {},
   "outputs": [],
   "source": [
    "doc_embedding = model.encode(result)"
   ]
  },
  {
   "cell_type": "code",
   "execution_count": 16,
   "id": "7816d6df",
   "metadata": {},
   "outputs": [
    {
     "name": "stdout",
     "output_type": "stream",
     "text": [
      "set()\n"
     ]
    }
   ],
   "source": [
    "final_result = []\n",
    "for i in range(len(\"doc_embedding\")):\n",
    "    for j in range(len(keyword_embedding)):\n",
    "        distances = cosine_similarity([doc_embedding[i]], [keyword_embedding[j]])\n",
    "        if distances[0][0]>0.8:\n",
    "            final_result.append(result[i])\n",
    "# distances = cosine_similarity([doc_embedding[0]], candidate_embeddings)\n",
    "print(set(final_result))"
   ]
  },
  {
   "cell_type": "code",
   "execution_count": null,
   "id": "7467113a",
   "metadata": {},
   "outputs": [],
   "source": []
  }
 ],
 "metadata": {
  "kernelspec": {
   "display_name": "Python 3 (ipykernel)",
   "language": "python",
   "name": "python3"
  },
  "language_info": {
   "codemirror_mode": {
    "name": "ipython",
    "version": 3
   },
   "file_extension": ".py",
   "mimetype": "text/x-python",
   "name": "python",
   "nbconvert_exporter": "python",
   "pygments_lexer": "ipython3",
   "version": "3.9.12"
  },
  "toc": {
   "base_numbering": 1,
   "nav_menu": {},
   "number_sections": true,
   "sideBar": true,
   "skip_h1_title": false,
   "title_cell": "Table of Contents",
   "title_sidebar": "Contents",
   "toc_cell": false,
   "toc_position": {},
   "toc_section_display": true,
   "toc_window_display": false
  },
  "varInspector": {
   "cols": {
    "lenName": 16,
    "lenType": 16,
    "lenVar": 40
   },
   "kernels_config": {
    "python": {
     "delete_cmd_postfix": "",
     "delete_cmd_prefix": "del ",
     "library": "var_list.py",
     "varRefreshCmd": "print(var_dic_list())"
    },
    "r": {
     "delete_cmd_postfix": ") ",
     "delete_cmd_prefix": "rm(",
     "library": "var_list.r",
     "varRefreshCmd": "cat(var_dic_list()) "
    }
   },
   "types_to_exclude": [
    "module",
    "function",
    "builtin_function_or_method",
    "instance",
    "_Feature"
   ],
   "window_display": false
  }
 },
 "nbformat": 4,
 "nbformat_minor": 5
}

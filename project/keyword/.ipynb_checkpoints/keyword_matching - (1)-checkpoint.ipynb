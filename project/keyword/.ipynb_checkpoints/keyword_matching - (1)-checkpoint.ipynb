{
 "cells": [
  {
   "cell_type": "code",
   "execution_count": 1,
   "id": "a7143576",
   "metadata": {},
   "outputs": [],
   "source": [
    "import pandas as pd\n",
    "import re\n",
    "\n",
    "df = pd.read_csv(\"일본_경제산업성_대외뉴스.csv\")\n",
    "df_keyword = pd.read_csv(\"일본_번역.csv\", index_col = False)"
   ]
  },
  {
   "cell_type": "code",
   "execution_count": 116,
   "id": "72417145",
   "metadata": {},
   "outputs": [],
   "source": [
    "import numpy as np\n",
    "import itertools\n",
    "from sklearn.feature_extraction.text import CountVectorizer\n",
    "from sklearn.metrics.pairwise import cosine_similarity\n",
    "from sentence_transformers import SentenceTransformer\n",
    "\n",
    "model = SentenceTransformer('distiluse-base-multilingual-cased-v1')"
   ]
  },
  {
   "cell_type": "code",
   "execution_count": 131,
   "id": "4af06f7a",
   "metadata": {
    "scrolled": true
   },
   "outputs": [
    {
     "name": "stdout",
     "output_type": "stream",
     "text": [
      "['crude oil', 'LNG (liquid natural gas)', 'Propane', 'Semiconductor', 'beef', 'airplane', 'Process and controller', 'medicine', 'Royal Jerry', 'naphtha', 'Firework', 'Other precision chemicals', 'butane', 'Other passenger cars', 'Aircraft engine', 'Big head', 'Other petrochemical products', 'Other Fine Chemicals', 'feed', 'wheat', 'Pork', 'Dong Scrap', 'Electric car', 'Medical container', 'Alternator', 'Other chemical industry products', 'Other optical equipment parts', 'Scrap metal', 'Pak', 'Other plastic products', 'Bitum', 'Physics', 'dyes', 'Other summary', 'Precious metal food', 'valve', 'Other colostrum', 'Other collection circuit semiconductors', 'Personal computer', 'Orange', 'Chisis', 'Other liquor', 'Other metal light', 'Other machinery', 'Other phrases', 'Other electronic application devices', 'Instrument', 'Other industrial machinery', \"Exceeding the compression point 2,500 o'clock\", 'Other optics', 'Automotive Parts', 'Other medical electronics', 'Makeup, basic cosmetics', 'Others', 'Precious metal food', 'Memory semiconductor', 'Polyamide resin', 'almond', 'Soybean oil', 'Other cast iron', 'Silicon wafer', 'Radar', 'notice', 'Protein', 'potato', 'Other species this product', 'Other mechanical elements', 'platinum', 'Connecting parts', 'Automatic controller', 'Other farming products', 'Cowhide', 'noodle', 'Golf', 'Hodo', 'Turbo jet', 'Pump part', 'Liquid pump', 'coffee', 'Other petroleum products', 'pulp', 'Other tiles and pottery products', 'Gas pump', 'Other aluminum products', 'Truck', 'rice', 'wine', 'Acrylonite Neil', 'Other aircraft parts', 'Bolt and nut', 'Bunker-C Yu', 'Analytical tester parts', 'Container', 'Other industrial machinery parts', 'Aluminum', 'Other business products', 'Steel', 'Other non -iron metal products', 'Optical lens', 'Other glass products', 'Wondering parts', 'Flow pressure system', 'Semiconductor equipment parts', 'weaponry', 'Other stop type converter', 'Pigment', 'Silicone resin', 'Insulation code set', 'X -ray and radiation device parts', 'Other motivation', 'Fishery', 'silver', 'River', 'Medical electromagnetic parts', 'Other mooring parts', 'Other negligence', 'Other medical hygiene supplies', 'varnish', 'Haircut', 'Plastic tube', 'Electronic instrument', 'Cocoa', 'Chemical', 'X -rays and radiation devices', 'Contact lens', 'Other rubber products', 'lubricant', 'Zinc', 'bearing', 'Electric axis and gear', 'Passenger tire', 'Spacecraft', 'Glass mirror', 'LCD', 'books', 'pesticide', 'Other folk batteries', 'Low pressure switch and breaker', 'lemon', 'Firework', 'Air conditioner', 'Other Chae Yangjongsil', 'Fruit juice', 'Oral and dentist hygiene products', 'Other computer peripherals', 'Polycarbonate', 'Other synthesis', 'Air regulator', 'Other non -metal light water', 'Other steel metal products', 'Low density ethylene', 'Chocolate', 'Transport and unloading machine parts', 'Automatic controller', 'Other meat', 'Glossy', 'Other household goods', 'Other exercise tools', 'Polymethane acrylic acid methyl', 'china clay', 'Computer', 'Glass processing machine', \"Compression point of 2,500 o'clock\", 'Acetate company', 'Other sauce', 'Epoxy', 'sausage', 'sensor', 'Other textile', 'slush', 'Other circuit protection containers', 'bread', 'Other computer parts', 'Motor', 'Other insulation parts', 'Medical container parts', 'Surface active agent', 'Other shoes', 'Other photo films', 'Seed', 'Other electronics', 'Other petrochemical intermediate raw materials', 'DC generator', 'Cleansing supplies', 'Sanctions', 'Steel dining table supplies and kitchen utensils', 'Cardboard', 'Perfume, toilet water', 'Vegetable juice', 'Nickelpan and', 'Pesticide', 'Electron microscope', 'Other construction equipment', 'Other prints', 'Other sugars', 'rectifier', 'Other cars', 'Other sportswear', 'butter', 'Other fish', 'Acetate fiber', 'Land surveyor', 'Automotive', 'Yeast', 'Plating steel', 'Bakery', 'glue', 'Other maintenance products', 'Etc', 'transistor', 'Other jobs', 'Kitanikel product', 'Wireless', 'antenna', 'Glass dining table supplies and kitchen utensils', 'Low pressure cable', 'biscuit', 'thermometer', 'Metal machine tool part', 'Maintaining other plant sex', 'HDD', 'White plate', 'Printed circuit', 'Heating and heating equipment parts', 'Stainless steel', 'Other vegetables', 'bulb', 'Dynamic', 'Office Supplies', 'Other dogs', 'Material tester', 'Motorcycle', 'Leafy', 'inverter', 'Compression point', 'corn', 'Ethylene polymer', 'Other alarms', 'Construction heavy equipment parts', 'Bowling', 'Printing machine', 'Other songs', 'Transportation machine', 'Powdered milk', 'Friction', 'mixer', 'Ice', 'Aluminum', 'beer', 'Non-woven', 'Chemical', 'Electronic prefecture microscopic parts', 'adhesive plaster', 'Polishing product', 'Ultrasound', 'Other fisheries products', 'Other dairy products', 'High -voltage cable', 'Weapon parts', 'Grain', 'Metal', 'Coffee preparation', 'Acet', 'Solid wood', 'Polypropylene', 'Other electronic parts', 'Special car', 'whiskey', 'Toilet paper', 'tomato', 'DC motor', 'Nickel tube', 'Fixed meal', 'Wax', 'peanut', 'Entertainment', 'Other lighting equipment', 'Other components', 'Others', 'chicken', 'Other steel products', 'Endoscope', 'Engine combined power set', 'Bedding', 'Other toy', 'Traffic', 'Welding', 'glasses', 'diode', 'Other TVs', 'Small motor', 'Exchange and DC motors', 'candy', 'Rubber', 'Chloride', 'Stainless and alloy steel bonggang', 'Other drinks', 'Coaxial cable', 'Aluminum scrap', 'Portable computer', 'Instrument', 'Other plant materials', 'speaker', 'Writing instrument', 'Opening and closing', 'Nickel', 'Air control part', 'Other', 'turbulence', 'OLED', 'Other chairs', 'Railway vehicle', 'Other high speed rivers and ultra -light tools', 'Other bags', 'Other furniture', 'Cutting tool', 'Other cosmetics', 'gold', 'sweater', 'grape', 'Heating', 'Other electric parts', 'Electrical fold', 'Other pregnant acid byproducts', 'lighter', 'Nylon', 'copper', 'Alarm signal', 'Kita', 'Optical cable', 'Other auxiliary devices', 'plum', 'Copper', 'benzene', 'Aluminum structure', 'Other', 'Mu -Gye Mokgang', 'chicken', 'Polyethylene Terephthalate film', 'seaplane', 'spring', 'Agricultural machinery', 'honey', 'Other fiber fiber', 'mustard', 'Other synthetic fibers', 'Other agricultural machinery', 'Refrigerator (more than 400 liters)', 'Conversion device', 'Helicopter', 'Other rooms and heating machines', 'Air conditioner', 'black smoke', 'Hot water', 'Motorboat', 'Sea lacquer', 'Fixed food', 'Other water tools', 'Drink base', 'Other instruments', 'word', 'Air pressure tool', 'Unprecedented film', 'Electromagnet', 'Nickelbong and wire rods', 'Fiber', 'Guitar', 'Other tires', 'Wire harness', 'Bath product', 'Metamorphosis', 'Aluminum', 'speedometer', 'Harvesting machine', 'Other individual device semiconductors', 'Guitar', 'Complex fertilizer', 'Steel', 'Mejo cigarette', 'Rubber plastic processing machine parts', 'Radiator', 'Synthetic resin bag', 'Dry transformer', 'Other string instruments', 'Paper printing machine parts', 'worker bee', 'hat', 'Mineral process', 'Dae-gu', 'salt', 'microscope', 'kidney bean', 'relay', 'Aluminum container', 'Undershirt', 'Alloy river cold rolling steel plate', 'Self -dining table and kitchenware', 'Other devices', 'Nickel', 'Brown', 'Rolling machine', 'Broadcasting communication device', 'amplifier', 'Two -wheeled car parts', 'Food machinery', 'Stainless steel pipe', 'Shaving', 'Casting equipment', 'Others', 'Bicycle', 'battery', 'Ship', 'Wired communication', 'Generator', 'Spanning battery', 'Other seafood', 'pliers', 'Kraft magazine', 'Fishery', 'Shaving', 'Other use folds', 'Acrylonite Neil Butadi', 'Other livestock products', 'green gram', 'Agricultural', 'Polyamid Film', 'Aloninum tube connection', 'Distribution board', 'Nitrogen fertilization', 'Imitation', 'Aluminum tube', 'Fat', 'Food processing machine parts', 'Other songs', 'spanner', 'polystyrene', 'Other wood', 'party', 'Festival', 'Other Door', 'Unlimited transfer device', 'Electroplania', 'fan', 'Ship -spanging engine engine', 'Metamorphosis', 'High -pressure circuit connection', 'Sunflower', 'Copper wire', 'Sodium hydroxide', 'Fishing ball', 'Napkin', 'Mining machine', 'Skiing', 'Shrine', 'Individual device semiconductor parts', 'coinage', 'Food packaging machine', 'soap', 'bicycle', 'Casting equipment', 'microphone', 'Winding', 'Battery', 'Milling tool', 'Amount - say', 'Tent and camp supplies', 'Safety glass', 'watch', 'Glass container', 'rope', 'Other power tools', 'Motherboard', 'water', 'Rubber plastic processing machine', 'Female pants skirt', 'Other mollusk', 'Stainless steel', 'Male pants', 'Drilling tool', 'Shipment', 'Measurement tool', 'Fabric', 'Vehicle suspect', 'Nickel', 'Food packaging machine parts', 'Nickel tube connection', 'Fire helper', 'squid', 'Electronic game console', 'Land surveyor', 'Data Display device', 'Tomato Keak', 'dress', 'Cherry', 'plate glass', 'Aircraft chair', 'Polyester resin', 'Propylene polymer', 'Other tools', 'Communication line', 'Etc', 'Steel and non -combined gold steel tobility (small and medium)', 'adapter', 'Danggang', 'Seed', 'Pearl', 'Aluminum', 'Cod roof', 'Mayones', 'Carbon parts', 'Butyl rubber', 'Pulmonary battery', 'Human body deodorant', 'Shoe', 'black tea', 'Art', 'flour', 'Aluminum', 'Foamed', 'Other tungsten products', 'Pollock', 'Rubber belt', 'Other electricity', 'Wooden', 'Rubber clothing', 'Integrated circuit semiconductor parts', 'Breaker', 'Potassium', 'Cast iron consolidation', 'Pants skirt', 'Strawberry', 'Other wind instruments', 'Newspaper climbing period', 'fork lift', 'Aluminum', 'Other grains', 'Plastic pallets and walls', 'noodles', 'Propylene', 'tile', 'Revolutionary clothing', 'Optical glass', 'Agreement', 'Iron and Non -Gold River cold rolling steel plate', 'Boring tool', 'Heating equipment', 'onion', 'doll', 'Male shirt', 'pea', 'Other products', 'Stainless steel plate', 'Inflow transformer', 'Other watches', 'Copper mine', 'shrimp', 'percussion instrument', 'Weightometer', 'Power supply', 'Sound equipment parts', 'milk', 'Variable resistance', 'Other flowers', 'SBR', 'Indoor', 'cucumber', 'VCR', 'Other knights', 'Cosmetics', 'Experimental practical electricity', 'Nickel scrap', 'Dairy', 'Celestial instrument', 'Vegetable', 'Electric steel sheet', 'Bus and cargo tires', 'Alloy', 'Handkerchief', 'knife', 'Marine structure', 'Variable', 'Reactor and parts', 'Dongguan connection detention', 'Puzuz', 'paper towel', 'Maintaining other animals', 'Glass and intestinal food', 'Ginseng', 'High -voltage switchgear and breaker', 'Blood pressure meter', 'Other electronic application equipment parts', 'curtain', 'Firework', 'Vacuum cleaner', 'Knitting', 'Magnetic resonance shooter', 'camera', 'Electrocardiography', 'ballast', 'Female']\n"
     ]
    }
   ],
   "source": [
    "keyword = list(df_keyword[\"번역\"])\n",
    "print(keyword)"
   ]
  },
  {
   "cell_type": "code",
   "execution_count": 130,
   "id": "4fb6c5e8",
   "metadata": {},
   "outputs": [],
   "source": [
    "keyword_embedding = []\n",
    "\n",
    "for ele in keyword:\n",
    "    keyword_embedding.append(model.encode(ele))"
   ]
  },
  {
   "cell_type": "code",
   "execution_count": 118,
   "id": "6cdd7ae3",
   "metadata": {
    "scrolled": true
   },
   "outputs": [],
   "source": [
    "# not_necessary = [\"dress\", \"notice\", \"Others\", \"Other\", \"hat\", \"rice\", \"feed\", \"Agreement\"]\n",
    "# for index, row in df.iterrows():\n",
    "#     voca_list = []\n",
    "#     for voca_index, voca_row in df_keyword.iterrows():\n",
    "#         if str(row[\"text\"]).find(' '+voca_row[\"번역\"])>0 and voca_row[\"번역\"] not in not_necessary:\n",
    "#             voca_list.append(voca_row[\"번역\"])\n",
    "# #             p = re.compile(voca_row[\"번역\"])\n",
    "# #             result = p.findall(str(row[\"text\"]))\n",
    "# #         if result != []:\n",
    "# #             voca_list.append(result)\n",
    "# #     voca_list = sum(voca_list, [])\n",
    "#     if voca_list != []:\n",
    "#         print(index, set(voca_list))"
   ]
  },
  {
   "cell_type": "code",
   "execution_count": 119,
   "id": "a2181155",
   "metadata": {
    "scrolled": true
   },
   "outputs": [],
   "source": [
    "text = df.loc[24][\"text\"].replace('\\n', ' ')"
   ]
  },
  {
   "cell_type": "code",
   "execution_count": 120,
   "id": "20a86fd0",
   "metadata": {},
   "outputs": [],
   "source": [
    "text = \"This ﬁnal rule amends the Department of HomelandSecurity (DHS) regulations relating to the temporary entry of Cana-dian and Mexican citizen business persons into the United States byreplacing references to the North American Free Trade Agreement(NAFTA) with references to the Agreement Between the UnitedStates of America, the United Mexican States, and Canada (USMCA).The USMCA superseded NAFTA and its related provisions on July 1,2020. Chapter 16 of the USMCA generally maintains the same treat-ment as provided under NAFTA with respect to the temporary entryof Canadian and Mexican citizen business persons, so substantivechanges to the regulations are not needed. This document simplyupdates the relevant regulations to replace all references to NAFTA,including references to its appendices and annexes, with the corre-sponding USMCA references. This document also makes other minor,non-substantive conforming amendments and stylistic changes andcorrects typographical errors.\""
   ]
  },
  {
   "cell_type": "code",
   "execution_count": 121,
   "id": "2ed7cdf7",
   "metadata": {},
   "outputs": [],
   "source": [
    "# 단어임베딩해서 키워드에 대한 벡터표현을 뽑아내서 유사도가 높은거뽑기 0.5이상"
   ]
  },
  {
   "cell_type": "code",
   "execution_count": 122,
   "id": "3cdde052",
   "metadata": {},
   "outputs": [],
   "source": [
    "from tensorflow.keras.preprocessing.text import text_to_word_sequence\n",
    "word_tokens = text_to_word_sequence(text)\n",
    "word_tokens = [x for x in word_tokens if len(x)>2]"
   ]
  },
  {
   "cell_type": "code",
   "execution_count": 123,
   "id": "1d20d86c",
   "metadata": {
    "scrolled": false
   },
   "outputs": [
    {
     "name": "stderr",
     "output_type": "stream",
     "text": [
      "[nltk_data] Downloading package stopwords to\n",
      "[nltk_data]     C:\\Users\\yoona\\AppData\\Roaming\\nltk_data...\n",
      "[nltk_data]   Package stopwords is already up-to-date!\n"
     ]
    }
   ],
   "source": [
    "from nltk.corpus import stopwords\n",
    "import nltk\n",
    "nltk.download('stopwords')\n",
    "stop_words = stopwords.words('english')"
   ]
  },
  {
   "cell_type": "code",
   "execution_count": 124,
   "id": "245452e9",
   "metadata": {},
   "outputs": [],
   "source": [
    "result = []\n",
    "for w in word_tokens: \n",
    "    if w not in stop_words: \n",
    "        result.append(w)"
   ]
  },
  {
   "cell_type": "code",
   "execution_count": 125,
   "id": "4102771d",
   "metadata": {},
   "outputs": [
    {
     "data": {
      "text/plain": [
       "['ﬁnal',\n",
       " 'rule',\n",
       " 'amends',\n",
       " 'department',\n",
       " 'homelandsecurity',\n",
       " 'dhs',\n",
       " 'regulations',\n",
       " 'relating',\n",
       " 'temporary',\n",
       " 'entry',\n",
       " 'cana',\n",
       " 'dian',\n",
       " 'mexican',\n",
       " 'citizen',\n",
       " 'business',\n",
       " 'persons',\n",
       " 'united',\n",
       " 'states',\n",
       " 'byreplacing',\n",
       " 'references',\n",
       " 'north',\n",
       " 'american',\n",
       " 'free',\n",
       " 'trade',\n",
       " 'agreement',\n",
       " 'nafta',\n",
       " 'references',\n",
       " 'agreement',\n",
       " 'unitedstates',\n",
       " 'america',\n",
       " 'united',\n",
       " 'mexican',\n",
       " 'states',\n",
       " 'canada',\n",
       " 'usmca',\n",
       " 'usmca',\n",
       " 'superseded',\n",
       " 'nafta',\n",
       " 'related',\n",
       " 'provisions',\n",
       " 'july',\n",
       " '2020',\n",
       " 'chapter',\n",
       " 'usmca',\n",
       " 'generally',\n",
       " 'maintains',\n",
       " 'treat',\n",
       " 'ment',\n",
       " 'provided',\n",
       " 'nafta',\n",
       " 'respect',\n",
       " 'temporary',\n",
       " 'entryof',\n",
       " 'canadian',\n",
       " 'mexican',\n",
       " 'citizen',\n",
       " 'business',\n",
       " 'persons',\n",
       " 'substantivechanges',\n",
       " 'regulations',\n",
       " 'needed',\n",
       " 'document',\n",
       " 'simplyupdates',\n",
       " 'relevant',\n",
       " 'regulations',\n",
       " 'replace',\n",
       " 'references',\n",
       " 'nafta',\n",
       " 'including',\n",
       " 'references',\n",
       " 'appendices',\n",
       " 'annexes',\n",
       " 'corre',\n",
       " 'sponding',\n",
       " 'usmca',\n",
       " 'references',\n",
       " 'document',\n",
       " 'also',\n",
       " 'makes',\n",
       " 'minor',\n",
       " 'non',\n",
       " 'substantive',\n",
       " 'conforming',\n",
       " 'amendments',\n",
       " 'stylistic',\n",
       " 'changes',\n",
       " 'andcorrects',\n",
       " 'typographical',\n",
       " 'errors']"
      ]
     },
     "execution_count": 125,
     "metadata": {},
     "output_type": "execute_result"
    }
   ],
   "source": [
    "result"
   ]
  },
  {
   "cell_type": "code",
   "execution_count": 126,
   "id": "fffd1489",
   "metadata": {},
   "outputs": [],
   "source": [
    "doc_embedding = model.encode(result)"
   ]
  },
  {
   "cell_type": "code",
   "execution_count": 128,
   "id": "7816d6df",
   "metadata": {},
   "outputs": [
    {
     "name": "stdout",
     "output_type": "stream",
     "text": [
      "{'united', 'nafta', 'agreement', 'sponding'}\n"
     ]
    }
   ],
   "source": [
    "final_result = []\n",
    "for i in range(len(doc_embedding)):\n",
    "    for j in range(len(keyword_embedding)):\n",
    "        distances = cosine_similarity([doc_embedding[i]], [keyword_embedding[j]])\n",
    "        if distances[0][0]>0.8:\n",
    "            final_result.append(result[i])\n",
    "# distances = cosine_similarity([doc_embedding[0]], candidate_embeddings)\n",
    "print(set(final_result))"
   ]
  },
  {
   "cell_type": "code",
   "execution_count": null,
   "id": "7467113a",
   "metadata": {},
   "outputs": [],
   "source": []
  }
 ],
 "metadata": {
  "kernelspec": {
   "display_name": "Python 3 (ipykernel)",
   "language": "python",
   "name": "python3"
  },
  "language_info": {
   "codemirror_mode": {
    "name": "ipython",
    "version": 3
   },
   "file_extension": ".py",
   "mimetype": "text/x-python",
   "name": "python",
   "nbconvert_exporter": "python",
   "pygments_lexer": "ipython3",
   "version": "3.9.12"
  },
  "toc": {
   "base_numbering": 1,
   "nav_menu": {},
   "number_sections": true,
   "sideBar": true,
   "skip_h1_title": false,
   "title_cell": "Table of Contents",
   "title_sidebar": "Contents",
   "toc_cell": false,
   "toc_position": {},
   "toc_section_display": true,
   "toc_window_display": false
  },
  "varInspector": {
   "cols": {
    "lenName": 16,
    "lenType": 16,
    "lenVar": 40
   },
   "kernels_config": {
    "python": {
     "delete_cmd_postfix": "",
     "delete_cmd_prefix": "del ",
     "library": "var_list.py",
     "varRefreshCmd": "print(var_dic_list())"
    },
    "r": {
     "delete_cmd_postfix": ") ",
     "delete_cmd_prefix": "rm(",
     "library": "var_list.r",
     "varRefreshCmd": "cat(var_dic_list()) "
    }
   },
   "types_to_exclude": [
    "module",
    "function",
    "builtin_function_or_method",
    "instance",
    "_Feature"
   ],
   "window_display": false
  }
 },
 "nbformat": 4,
 "nbformat_minor": 5
}

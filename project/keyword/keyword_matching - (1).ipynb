{
 "cells": [
  {
   "cell_type": "code",
   "execution_count": 5,
   "id": "a7143576",
   "metadata": {},
   "outputs": [],
   "source": [
    "import pandas as pd\n",
    "import re\n",
    "\n",
    "df = pd.read_csv(\"일본_경제산업성_대외뉴스.csv\")\n",
    "df_keyword = pd.read_csv(\"일본_번역.csv\", index_col = False)"
   ]
  },
  {
   "cell_type": "code",
   "execution_count": 12,
   "id": "72417145",
   "metadata": {},
   "outputs": [
    {
     "data": {
      "application/vnd.jupyter.widget-view+json": {
       "model_id": "9457f6b49753476cb816d69452e58fd1",
       "version_major": 2,
       "version_minor": 0
      },
      "text/plain": [
       "Downloading:   0%|          | 0.00/690 [00:00<?, ?B/s]"
      ]
     },
     "metadata": {},
     "output_type": "display_data"
    },
    {
     "data": {
      "application/vnd.jupyter.widget-view+json": {
       "model_id": "aeca045ae4004f4ca9162f99b61b1ddd",
       "version_major": 2,
       "version_minor": 0
      },
      "text/plain": [
       "Downloading:   0%|          | 0.00/190 [00:00<?, ?B/s]"
      ]
     },
     "metadata": {},
     "output_type": "display_data"
    },
    {
     "data": {
      "application/vnd.jupyter.widget-view+json": {
       "model_id": "e049c126bd4a407c9bbf73bb059fe054",
       "version_major": 2,
       "version_minor": 0
      },
      "text/plain": [
       "Downloading:   0%|          | 0.00/114 [00:00<?, ?B/s]"
      ]
     },
     "metadata": {},
     "output_type": "display_data"
    },
    {
     "data": {
      "application/vnd.jupyter.widget-view+json": {
       "model_id": "c202984b35294cafb3eed401cea72b1d",
       "version_major": 2,
       "version_minor": 0
      },
      "text/plain": [
       "Downloading:   0%|          | 0.00/1.58M [00:00<?, ?B/s]"
      ]
     },
     "metadata": {},
     "output_type": "display_data"
    },
    {
     "data": {
      "application/vnd.jupyter.widget-view+json": {
       "model_id": "bf852f63283d48fbb6a467db9623df49",
       "version_major": 2,
       "version_minor": 0
      },
      "text/plain": [
       "Downloading:   0%|          | 0.00/2.38k [00:00<?, ?B/s]"
      ]
     },
     "metadata": {},
     "output_type": "display_data"
    },
    {
     "data": {
      "application/vnd.jupyter.widget-view+json": {
       "model_id": "eab0660876014c33af7acd285b302539",
       "version_major": 2,
       "version_minor": 0
      },
      "text/plain": [
       "Downloading:   0%|          | 0.00/556 [00:00<?, ?B/s]"
      ]
     },
     "metadata": {},
     "output_type": "display_data"
    },
    {
     "data": {
      "application/vnd.jupyter.widget-view+json": {
       "model_id": "13ef8047cd224edd8723507e9132db6b",
       "version_major": 2,
       "version_minor": 0
      },
      "text/plain": [
       "Downloading:   0%|          | 0.00/122 [00:00<?, ?B/s]"
      ]
     },
     "metadata": {},
     "output_type": "display_data"
    },
    {
     "data": {
      "application/vnd.jupyter.widget-view+json": {
       "model_id": "3591464271eb4a41a6c9a74a85d84ec1",
       "version_major": 2,
       "version_minor": 0
      },
      "text/plain": [
       "Downloading:   0%|          | 0.00/539M [00:00<?, ?B/s]"
      ]
     },
     "metadata": {},
     "output_type": "display_data"
    },
    {
     "data": {
      "application/vnd.jupyter.widget-view+json": {
       "model_id": "ad891bcd6ad8462984b60d194b7a2e72",
       "version_major": 2,
       "version_minor": 0
      },
      "text/plain": [
       "Downloading:   0%|          | 0.00/53.0 [00:00<?, ?B/s]"
      ]
     },
     "metadata": {},
     "output_type": "display_data"
    },
    {
     "data": {
      "application/vnd.jupyter.widget-view+json": {
       "model_id": "0f8aab3240a74a1f865f865205ddd32c",
       "version_major": 2,
       "version_minor": 0
      },
      "text/plain": [
       "Downloading:   0%|          | 0.00/112 [00:00<?, ?B/s]"
      ]
     },
     "metadata": {},
     "output_type": "display_data"
    },
    {
     "data": {
      "application/vnd.jupyter.widget-view+json": {
       "model_id": "7f6920e39353487ebb7378efe4a8e4fe",
       "version_major": 2,
       "version_minor": 0
      },
      "text/plain": [
       "Downloading:   0%|          | 0.00/1.96M [00:00<?, ?B/s]"
      ]
     },
     "metadata": {},
     "output_type": "display_data"
    },
    {
     "data": {
      "application/vnd.jupyter.widget-view+json": {
       "model_id": "69f434cca9de48a7b6026ac74bcc7904",
       "version_major": 2,
       "version_minor": 0
      },
      "text/plain": [
       "Downloading:   0%|          | 0.00/452 [00:00<?, ?B/s]"
      ]
     },
     "metadata": {},
     "output_type": "display_data"
    },
    {
     "data": {
      "application/vnd.jupyter.widget-view+json": {
       "model_id": "c3e06ded4bc349749271edb73ddd9b0d",
       "version_major": 2,
       "version_minor": 0
      },
      "text/plain": [
       "Downloading:   0%|          | 0.00/996k [00:00<?, ?B/s]"
      ]
     },
     "metadata": {},
     "output_type": "display_data"
    },
    {
     "data": {
      "application/vnd.jupyter.widget-view+json": {
       "model_id": "0630b78b8ab242e1925c148b2f9cd09b",
       "version_major": 2,
       "version_minor": 0
      },
      "text/plain": [
       "Downloading:   0%|          | 0.00/341 [00:00<?, ?B/s]"
      ]
     },
     "metadata": {},
     "output_type": "display_data"
    }
   ],
   "source": [
    "import numpy as np\n",
    "import itertools\n",
    "from sklearn.feature_extraction.text import CountVectorizer\n",
    "from sklearn.metrics.pairwise import cosine_similarity\n",
    "from sentence_transformers import SentenceTransformer\n",
    "\n",
    "model = SentenceTransformer('distiluse-base-multilingual-cased-v1')"
   ]
  },
  {
   "cell_type": "code",
   "execution_count": 13,
   "id": "4af06f7a",
   "metadata": {
    "scrolled": true
   },
   "outputs": [
    {
     "name": "stdout",
     "output_type": "stream",
     "text": [
      "['半導体', 'プロセスとコントローラー', '金属くず', '他のプラスチック製品', '鉄と非合金', '鉄と非比較可能な川', 'その他の精密化学物質', 'シリコンウェーハ', '白金', 'その他の化学産業製品', '貨物船', '混合キシレン', '食事を修正しました', '他の石油化学製品', '自動車部品', '印刷回路', 'その他の光学機器部品', 'カーフイオイル', 'Steelene', 'バルブ', 'ワニス', 'ゴルフ', '銅', 'その他の細かい化学物質', 'スラブ', '他の写真映画', '他の鋳鉄', '薬', 'その他の概要', 'その他の機械', '潤滑剤', 'ポリエチレンテレフタレートフィルム', '金', '花火', '他のガラス製品', '鉄筋', '原油', 'Mu -Gye Mokgang', '光レンズ', '輸送機', '電子顕微鏡', '他の乗用車', '顔料', '合意', '金属', 'ビレット', 'トルエン', 'その他のコレクション回路半導体', '他の機械的要素', 'その他', 'ベアリング', '他の種この製品', 'パーツを接続します', '他のコンピューター部品', 'その他の電子アプリケーションデバイス', 'その他の建設装置', '他のタイルや陶器製品', '半導体機器部品', '他のフレーズ', '液体ポンプ', '他の金属光', '鉄と非補償', '光沢', 'エチレンポリマー', '変態', 'トランジスタ', 'ステンレスおよび合金鋼線', '不思議な部分', 'ExchangeおよびDCモーター', '他の係留部品', '合金リバーコールドローリングスチールプレート', 'ステンレスおよび合金鋼のボンガン', '前例のない映画', '他のアルミニウム製品', '鋼', 'プロピレンポリマー', 'パンプパーツ', '分析テスター部品', '楽器', 'シリコン樹脂', '電気軸とギア', 'ガスポンプ', '動的', '鉄と非ハプガム川H字型の鋼', 'X -Rayおよび放射デバイスの部品', '他の光学系', '板ガラス', '鉄と非ガンガンL字型の講義', 'ニッケル', '自動コントローラー', 'エンターテイメント', 'その他の動機', '書き込み楽器', 'メイク、基本的な化粧品', 'その他のビジネス製品', '写真現象', 'その他の非アイアン金属製品', '染料', 'その他の産業機械', '圧縮点', '他の個々のデバイス半導体', '他の石油製品', '低圧スイッチとブレーカー', '鉄と非コンパクト川', 'その他の産業機械部品', '収穫機', '自動車', '物理', '溶融', 'リレー', 'ポリメタンアクリル酸メチル', 'LCD', 'インバーター', '炭素部品', 'プロピレン', '他の初乳', 'のり', '他のゴム製品', 'ベンゼン', 'フォークリフト', '印刷機', 'ゴム製のプラスチック加工機', '銅', '他の非金属光水', 'メモリ半導体', '他の繊維繊維', '流れ圧力システム', '事務用品', '知らせ', '不織布', 'ステンレス鋼', '食品機械', 'その他のスチール製品', 'その他の高速川と超光ツール', '暖房および暖房機器部品', 'ドンスクラップ', '鉄と非ゴールドリバーコールドローリングスチールプレート', '食品包装機', '金属製の工作機械部品', 'センサー', 'メッキ鋼', '他の魚', 'メタアクリル酸メチル', '銀', '医療容器', 'X線と放射デバイス', 'スラッシュ', 'ステンレス鋼プレート', '農薬', 'アルミニウム', 'ダイオード', '他の繊維', '鉄と非ハプガム川U字型の鋼', '他の合金鉄', 'DCモーター', '塩化ビニロノム', '釣り玉', '花火', 'ステンレス鋼', '電気鋼板', 'プラスチックチューブ', '内視鏡', '化学', 'アルミニウム', 'プズーズ', '圧延機', '化学', 'ヘアカット', 'ポリアミド樹脂', 'パルプ', '乗客のタイヤ', 'バルブ', '石灰岩', '低密度エチレン', '他のコンピューター周辺機器', '合金ギャングガンライン', '出荷', 'その他のメンテナンス製品', '驚異的な映画映画', '自動コントローラー', 'パソコン', 'その他の医療エレクトロニクス', '他のソース', 'エチレン', '農薬', 'その他の回路保護コンテナ', 'エポキシ', '印刷用紙', 'オートバイ', '餌', 'その他のスチールメタル製品', 'ロイヤルジェリー', '切削工具', '合金', 'フェリー', '船 - エンジンエンジンを吸う', '電子機器', '鉄道車両', '他の家庭用品', 'その他の断熱部分', '他の民俗バッテリー', '他の電気部品', 'オルタネーター', 'エアコントロール部品', 'ダイヤモンドツール', 'ボルトとナット', 'アルミニウム', '機械部品の輸送およびアンロード', '発生器', 'その他の農業製品', 'その他の合成', '断熱コードセット', '顕微鏡', 'クラフトマガジン', 'アルミニウム容器', '川', '空気圧ツール', 'ポルトランドセメント', 'エアレギュレーター', '合金', 'クロロプレン', '赤面', '他のモリベン製品', '他の酒', '輸送する', '表面アクティブエージェント', 'ニッケルパンと', 'その他の農業機械', 'セーター', '段ボール', 'ポリエステル樹脂', 'その他の停止タイプコンバーター', '鋼', '建設重機部品', '温度計', 'ゴム製プラスチック加工機の部品', 'プレハブ', '他のスポーツウェア', '変換デバイス', 'ニッケルボンとワイヤーロッド', '整流器', 'エンジン結合電源セット', 'その他', 'モーター', 'ビニール', '酢酸繊維', 'SBR', 'ステンレス鋼', 'ポリカーボネート', 'スペクタクルフレーム', '医療電磁部品', '電磁石', 'ドライトランス', '固体木材', '絆創膏', '固定食品', '他のタングステン製品', 'ラバーベルト', '他の医療衛生用品', '小さなモーター', '土地価格', '暖房', 'レーダー', 'ポリエステル生地', '人工腎臓', '測定ツール', '低圧ケーブル', '医療コンテナ部品', '韻', '工業用耳金属製品', 'ガラス容器', '掘削ツール', 'その他の水道具', '個々のデバイス半導体部品', '無制限の転送デバイス', '木工師', 'スパナ', 'キャスティング機器', 'プロピレン酸化物', 'ナイロン', 'ニッケル', 'ファイバ', 'ガラス工芸', 'トラック', 'ブタジエン', '他の船', 'ロボットアドベント', '編み物', '紙印刷機の部品', '他のデバイス', 'パン', 'カレー', 'マテリアルテスター', '高電圧スイッチギアとブレーカー', '他の靴', '鉱物プロセス', 'クレンジング用品', 'ギター', '眼鏡', 'その他の漁業製品', 'バッテリーにまたがる', '自己ダイニングテーブルとキッチン用品', 'ビール', '麺', '不当', 'キャンディー', 'ニッケル', 'アルミニウム', 'その他の電子部品', 'フェスティバル', 'ステンレスとゴールドリバーリバー', '同軸ケーブル', 'その他', '本', '研磨製品', 'ターボジェット', '合成樹脂バッグ', '見る', '自転車', '変数', 'ニッケルチューブ', 'アルミニウム構造', 'レーザープリンター', '貴重な金属食品', 'バス製品', 'ウェイトメーター', 'ペンチ', 'ABS樹脂', '他の車', 'カラーガルバニティスチールシート', 'データ表示デバイス', '白いプレート', '電子ゲームコンソール', 'シリコーン', 'カトラス', '暖房装置', '労働者の蜂', '鋳造', 'ワックス', '錫', '他のおもちゃ', 'バッテリー', '他の', 'ビスケット', '食品包装機の部品', '等', 'エアコン', '農業機械', 'ポロック', 'アンダーシャツ', 'その他の電動工具', 'ピアノ', '人形', '溶接', '容器', 'インクジェットプリンター', '帽子', 'ギター', '卓球', 'スチールダイニングテーブル用品とキッチン用品', 'はさみ', 'コーヒーの準備', 'オートキシレン', '光ケーブル', '制裁', 'その他のアラーム', '交通信号', '女性のズボンスカート', 'キャスティング機器', 'タッピングツール', '鉄と非ゴールドのガンボンガン', '醤油', '口腔および歯科医衛生製品', '他のタイヤ', 'レザー', '他のバッグ', 'ニッケルスクラップ', '他のプリント', 'ファブリック', '他の合成繊維', 'ミリングツール', 'バスと貨物のタイヤ', '他の仕事', 'Bunker-C Yu', 'テキスタイルおよび革加工機の部品', 'その他の照明機器', 'アルミニウム', 'SNR-L', 'seokdo鋼板', 'バネ', 'キタニケル製品', '他のコンポーネント', '変態', 'オスのズボン', '電子県顕微鏡部品', 'バインディングマシン', '土地測量士', '他の金型', 'ブレーカ', '血圧計', 'ウィスキー', '茶色', 'アンテナ', '窒素受精', 'ゴム', '鍵', 'パイプカッター', 'その他の航空機部品', 'スチールおよび非結合ゴールドスチール毒性（小および中程度）', 'カウハイド', '眼鏡レンズ', 'ブリキとワイヤーロッド', '私の', 'ポリ・ブタディエン', '塩化', 'スピーカー', '複雑な肥料', '鉄と非ゴールドギャングガンライン', '女性', 'トイレットペーパー', '酢酸会社', '消防ヘルパー', '再生', '電気折りたたみ', 'チョコレート', '電気亜鉛', '貴重な金属食品', 'ポリプロピレン', '開閉', '他の風楽器', 'ナイロン', '健全な機器部品', '野菜ジュース', '契約', 'スキャナー', 'キタ', '等', '他の錫製品', 'その他の補助デバイス', '他のオフィス武器', '退屈なツール', 'ブタン', '染色', 'リレー', 'タンパク質', '染色', '他の家具', '陶器のダイニングテーブル用品とキッチン用品', '酵母', '神社', '他の木材', 'ギター', '他の貝', '水上飛行機', 'ドレス', 'メトロポリタン', '他の植物のセックスを維持します', 'ポリエステル', 'ポリスチレン', 'タングステンゲーとスクラップ', 'コンピューター', 'パック', '超音波', 'テニスとバドミントンの物資', '金属成形機', '2輪車の部品', 'ファン', '他の楽器', 'ズボンスカート', '他の軟体動物', '茶色', 'ミシン', '食品加工機の部品', 'ミネラル加工機', '鋳造カビ', 'ココア', '他の飲み物', 'オスのアウターシャツ', 'スポーツ', 'チェリー', 'プラスチック型', '化粧品', 'シード', '他のポリエステルファブリック', 'ポリアミドフィルム', 'ドライバー', '他の花', '模倣', '自転車', 'アセット', 'テントとキャンプ用品', '他の革', '銅線', '味噌', '安全ガラス', 'ツナ', '他のシーフード', 'Dongguan Connection Ditention', '他のプリンター', 'ビリヤード', '海藻', '圧延', 'ポータブルコンピューター', 'ミジュン・ジェニー・ケルト', 'ワイン', '金額 - 言う', 'ガラスと腸の食べ物', '航空機エンジン', 'その他のエクササイズツール', '他の島の生地', '男性のシャツ', 'フェスティバル', 'エレクトロップラニア', 'エアコン', '巻き取り', 'コーヒー', 'HDD', 'ナプキン', 'ライブライン', '他の風楽器', '他の植物材料', '美術', '中国粘土', 'ビスコース繊維', 'アクリロナイトニールブタディ', 'ナプキン', '他の工芸品', 'ヨンスクラップ', 'アラーム信号', '新聞の登山期間', 'マイニングマシン', 'ガラス加工機', '他の椅子', 'ペーパータオル', 'コンタクトレンズ', '特別な車', '他の糖', 'ブロードキャスト通信デバイス', 'ダイヤモンド', 'ナイフ', 'ガラスダイニングテーブル用品とキッチン用品', '蒸気タービン', '摩擦', 'エクササイズグローブ', '漁業', '他の化粧品', 'シェービング', '寝具', 'ラジエーター', 'カメラ', '農業', '消費', '他の騎士', 'エアコン', 'ドレス', '高電圧ケーブル', '粉ミルク', 'レザーバッグ', '亜鉛とほこり', '他の時計', 'ガスアラーム', '他のツール', 'マザーボード', 'パール', '通路', '自転車', 'その他の電気', '水', '他の電子機器', '漂白', 'アルミニウム', '速度計', '漁業', '配布板', 'エチレングリコール', '高圧回路接続', 'コートとジャケット', 'Yuri Springb', 'ステンレス鋼管', 'Sukamツール', 'プラスチックパレットと壁', 'その他の使用フォールド', '可変抵抗', '衛生容器', '洗濯機', 'ロープ', 'ソジュ', 'ハンカチ', '有線通信', 'マイクロフォン', '他の野菜', 'スキー', '他の曲', 'マスタード', '不正', '屋内', 'ウンモエ', '香水、トイレの水', '黒い煙', '他の風楽器']\n"
     ]
    }
   ],
   "source": [
    "keyword = list(df_keyword[\"번역\"])\n",
    "print(keyword)"
   ]
  },
  {
   "cell_type": "code",
   "execution_count": 14,
   "id": "4fb6c5e8",
   "metadata": {},
   "outputs": [],
   "source": [
    "keyword_embedding = []\n",
    "\n",
    "for ele in keyword:\n",
    "    keyword_embedding.append(model.encode(ele))"
   ]
  },
  {
   "cell_type": "code",
   "execution_count": 118,
   "id": "6cdd7ae3",
   "metadata": {
    "scrolled": true
   },
   "outputs": [],
   "source": [
    "# not_necessary = [\"dress\", \"notice\", \"Others\", \"Other\", \"hat\", \"rice\", \"feed\", \"Agreement\"]\n",
    "# for index, row in df.iterrows():\n",
    "#     voca_list = []\n",
    "#     for voca_index, voca_row in df_keyword.iterrows():\n",
    "#         if str(row[\"text\"]).find(' '+voca_row[\"번역\"])>0 and voca_row[\"번역\"] not in not_necessary:\n",
    "#             voca_list.append(voca_row[\"번역\"])\n",
    "#             p = re.compile(voca_row[\"번역\"])\n",
    "#             result = p.findall(str(row[\"text\"]))\n",
    "#         if result != []:\n",
    "#             voca_list.append(result)\n",
    "#     voca_list = sum(voca_list, [])\n",
    "#     if voca_list != []:\n",
    "#         print(index, set(voca_list))"
   ]
  },
  {
   "cell_type": "code",
   "execution_count": 119,
   "id": "a2181155",
   "metadata": {
    "scrolled": true
   },
   "outputs": [],
   "source": [
    "# text = df.loc[24][\"text\"].replace('\\n', ' ')"
   ]
  },
  {
   "cell_type": "code",
   "execution_count": 15,
   "id": "20a86fd0",
   "metadata": {},
   "outputs": [],
   "source": [
    "text = \"[' 2022年8月1日  対外経済 萩生田経済産業大臣は、7月27日（水曜日）から7月31日（日曜日）にかけて、米国（サンフランシスコ、ワシントンDC）を訪問しました。サンフランシスコでは、シリコンバレーを訪問し、日米のスタートアップ関係者と意見交換を行いました。また、ワシントンDCでは、日米経済協議委員会（経済版２＋２）閣僚会合に出席したほか、関係閣僚との個別会談を実施しました。 1．サンフランシスコ  世界有数のスタートアップ集積地であるサンフランシスコ・シリコンバレーを訪問し、スタートアップ関係者等と意見交換を行いました。  （1）スタンフォード大学訪問  同大学構内にて、医療現場のニーズを出発点とし問題解決策の開発等を行うByers Center for Biodesignと、アカデミアと産業の橋渡しを行うSPARKプログラムについて、それぞれ関係者と意見交換しました。  \\xa0 \\xa0   （2）Google 本社訪問  Google本社にて、同社シニアバイスプレジテントのプラバッカ－・ラガバン氏と面会し、スタートアップの育成やイノベーションを起こす環境づくり等について意見交換を行いました。  \\xa0 \\xa0   （3）スタートアップ関係者との意見交換  シリコンバレーで活躍する投資家や起業家とスタートアップの現状と課題、日本のスタートアップ・エコシステム強化の方策などについて意見交換を行いました。   2．ワシントンDC （1）日米経済政策協議委員会（経済版2＋2）閣僚会合  林外務大臣、レモンド商務長官、ブリンケン国務長官とともに、日米経済政策協議委員会（経済版２＋２）閣僚会合に出席しました。   詳細は こちら をご参照ください。   共同声明・行動計画（原文） 共同声明・行動計画（仮訳） （2）レモンド商務長官との会談  レモンド商務長官と会談を行い、経済版２＋２の成果を確認するとともに、半導体協力、インド太平洋経済枠組み（IPEF）などについて議論しました。   （3）タイ通商代表との会談  タイ通商代表と会談を行い、市場歪曲的措置に連携して対処していくことを確認しました。 また、インド太平洋経済枠組み（IPEF）やビジネスと人権などについて議論しました。  ']\""
   ]
  },
  {
   "cell_type": "code",
   "execution_count": 121,
   "id": "2ed7cdf7",
   "metadata": {},
   "outputs": [],
   "source": [
    "# 단어임베딩해서 키워드에 대한 벡터표현을 뽑아내서 유사도가 높은거뽑기 0.5이상"
   ]
  },
  {
   "cell_type": "code",
   "execution_count": 122,
   "id": "3cdde052",
   "metadata": {},
   "outputs": [],
   "source": [
    "from tensorflow.keras.preprocessing.text import text_to_word_sequence\n",
    "word_tokens = text_to_word_sequence(text)\n",
    "word_tokens = [x for x in word_tokens if len(x)>2]"
   ]
  },
  {
   "cell_type": "code",
   "execution_count": 123,
   "id": "1d20d86c",
   "metadata": {
    "scrolled": false
   },
   "outputs": [
    {
     "name": "stderr",
     "output_type": "stream",
     "text": [
      "[nltk_data] Downloading package stopwords to\n",
      "[nltk_data]     C:\\Users\\yoona\\AppData\\Roaming\\nltk_data...\n",
      "[nltk_data]   Package stopwords is already up-to-date!\n"
     ]
    }
   ],
   "source": [
    "from nltk.corpus import stopwords\n",
    "import nltk\n",
    "nltk.download('stopwords')\n",
    "stop_words = stopwords.words('english')"
   ]
  },
  {
   "cell_type": "code",
   "execution_count": 124,
   "id": "245452e9",
   "metadata": {},
   "outputs": [],
   "source": [
    "result = []\n",
    "for w in word_tokens: \n",
    "    if w not in stop_words: \n",
    "        result.append(w)"
   ]
  },
  {
   "cell_type": "code",
   "execution_count": 125,
   "id": "4102771d",
   "metadata": {},
   "outputs": [
    {
     "data": {
      "text/plain": [
       "['ﬁnal',\n",
       " 'rule',\n",
       " 'amends',\n",
       " 'department',\n",
       " 'homelandsecurity',\n",
       " 'dhs',\n",
       " 'regulations',\n",
       " 'relating',\n",
       " 'temporary',\n",
       " 'entry',\n",
       " 'cana',\n",
       " 'dian',\n",
       " 'mexican',\n",
       " 'citizen',\n",
       " 'business',\n",
       " 'persons',\n",
       " 'united',\n",
       " 'states',\n",
       " 'byreplacing',\n",
       " 'references',\n",
       " 'north',\n",
       " 'american',\n",
       " 'free',\n",
       " 'trade',\n",
       " 'agreement',\n",
       " 'nafta',\n",
       " 'references',\n",
       " 'agreement',\n",
       " 'unitedstates',\n",
       " 'america',\n",
       " 'united',\n",
       " 'mexican',\n",
       " 'states',\n",
       " 'canada',\n",
       " 'usmca',\n",
       " 'usmca',\n",
       " 'superseded',\n",
       " 'nafta',\n",
       " 'related',\n",
       " 'provisions',\n",
       " 'july',\n",
       " '2020',\n",
       " 'chapter',\n",
       " 'usmca',\n",
       " 'generally',\n",
       " 'maintains',\n",
       " 'treat',\n",
       " 'ment',\n",
       " 'provided',\n",
       " 'nafta',\n",
       " 'respect',\n",
       " 'temporary',\n",
       " 'entryof',\n",
       " 'canadian',\n",
       " 'mexican',\n",
       " 'citizen',\n",
       " 'business',\n",
       " 'persons',\n",
       " 'substantivechanges',\n",
       " 'regulations',\n",
       " 'needed',\n",
       " 'document',\n",
       " 'simplyupdates',\n",
       " 'relevant',\n",
       " 'regulations',\n",
       " 'replace',\n",
       " 'references',\n",
       " 'nafta',\n",
       " 'including',\n",
       " 'references',\n",
       " 'appendices',\n",
       " 'annexes',\n",
       " 'corre',\n",
       " 'sponding',\n",
       " 'usmca',\n",
       " 'references',\n",
       " 'document',\n",
       " 'also',\n",
       " 'makes',\n",
       " 'minor',\n",
       " 'non',\n",
       " 'substantive',\n",
       " 'conforming',\n",
       " 'amendments',\n",
       " 'stylistic',\n",
       " 'changes',\n",
       " 'andcorrects',\n",
       " 'typographical',\n",
       " 'errors']"
      ]
     },
     "execution_count": 125,
     "metadata": {},
     "output_type": "execute_result"
    }
   ],
   "source": [
    "result"
   ]
  },
  {
   "cell_type": "code",
   "execution_count": 126,
   "id": "fffd1489",
   "metadata": {},
   "outputs": [],
   "source": [
    "doc_embedding = model.encode(result)"
   ]
  },
  {
   "cell_type": "code",
   "execution_count": 128,
   "id": "7816d6df",
   "metadata": {},
   "outputs": [
    {
     "name": "stdout",
     "output_type": "stream",
     "text": [
      "{'united', 'nafta', 'agreement', 'sponding'}\n"
     ]
    }
   ],
   "source": [
    "final_result = []\n",
    "for i in range(len(doc_embedding)):\n",
    "    for j in range(len(keyword_embedding)):\n",
    "        distances = cosine_similarity([doc_embedding[i]], [keyword_embedding[j]])\n",
    "        if distances[0][0]>0.8:\n",
    "            final_result.append(result[i])\n",
    "# distances = cosine_similarity([doc_embedding[0]], candidate_embeddings)\n",
    "print(set(final_result))"
   ]
  },
  {
   "cell_type": "code",
   "execution_count": null,
   "id": "7467113a",
   "metadata": {},
   "outputs": [],
   "source": []
  }
 ],
 "metadata": {
  "kernelspec": {
   "display_name": "Python 3 (ipykernel)",
   "language": "python",
   "name": "python3"
  },
  "language_info": {
   "codemirror_mode": {
    "name": "ipython",
    "version": 3
   },
   "file_extension": ".py",
   "mimetype": "text/x-python",
   "name": "python",
   "nbconvert_exporter": "python",
   "pygments_lexer": "ipython3",
   "version": "3.9.12"
  },
  "toc": {
   "base_numbering": 1,
   "nav_menu": {},
   "number_sections": true,
   "sideBar": true,
   "skip_h1_title": false,
   "title_cell": "Table of Contents",
   "title_sidebar": "Contents",
   "toc_cell": false,
   "toc_position": {},
   "toc_section_display": true,
   "toc_window_display": false
  },
  "varInspector": {
   "cols": {
    "lenName": 16,
    "lenType": 16,
    "lenVar": 40
   },
   "kernels_config": {
    "python": {
     "delete_cmd_postfix": "",
     "delete_cmd_prefix": "del ",
     "library": "var_list.py",
     "varRefreshCmd": "print(var_dic_list())"
    },
    "r": {
     "delete_cmd_postfix": ") ",
     "delete_cmd_prefix": "rm(",
     "library": "var_list.r",
     "varRefreshCmd": "cat(var_dic_list()) "
    }
   },
   "types_to_exclude": [
    "module",
    "function",
    "builtin_function_or_method",
    "instance",
    "_Feature"
   ],
   "window_display": false
  }
 },
 "nbformat": 4,
 "nbformat_minor": 5
}

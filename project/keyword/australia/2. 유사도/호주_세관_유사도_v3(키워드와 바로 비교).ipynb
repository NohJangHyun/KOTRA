{
 "cells": [
  {
   "cell_type": "code",
   "execution_count": 95,
   "id": "f83a96cf",
   "metadata": {},
   "outputs": [],
   "source": [
    "import numpy as np\n",
    "import itertools\n",
    "\n",
    "from sklearn.feature_extraction.text import CountVectorizer\n",
    "from sklearn.metrics.pairwise import cosine_similarity\n",
    "from sentence_transformers import SentenceTransformer"
   ]
  },
  {
   "cell_type": "code",
   "execution_count": 96,
   "id": "d1a4594b",
   "metadata": {},
   "outputs": [],
   "source": [
    "import pandas as pd\n",
    "import re\n",
    "\n",
    "df = pd.read_csv(\"호주_세관_v2(new20).csv\")\n",
    "\n",
    "df_title = list(df['title'])\n",
    "df_text = list(df['text'])\n",
    "df_add = []\n",
    "\n",
    "for i in range(len(df)):\n",
    "    df_add.append(df_title[i]+\"\"+df_text[i])\n",
    "\n",
    "df_keyword = pd.read_csv(\"호주_번역_100.csv\", index_col = False)"
   ]
  },
  {
   "cell_type": "code",
   "execution_count": 364,
   "id": "390c356e",
   "metadata": {},
   "outputs": [],
   "source": [
    "doc = df_add[0]"
   ]
  },
  {
   "cell_type": "code",
   "execution_count": 365,
   "id": "9545e553",
   "metadata": {},
   "outputs": [
    {
     "name": "stdout",
     "output_type": "stream",
     "text": [
      "3882\n",
      "3689\n",
      "3429\n",
      "Indexation of customs duty rates on exciseequivalent goods on August australian notice no indexation of duty rates on exciseequivalent goods on this notice sets out the new duty rates for certain exciseequivalent goods including spirits beers and fuel products operative from section of the tariff act customs tariff act provides for duty rates for certain exciseequivalent goods to be indexed biannually in and to the consumer price index cpi the new rates are determined by the application of an indexation factor this indexation factor is calculated by dividing the most recent or quarter cpi number by the previous highest or quarter cpi number occurring after the quarter the quarter cpi figure will be used to determine the indexation factor for the duty rate increase applied on as it is higher than the previously used quarter cpi figure refer to acn on the australian bureau of statistics released the quarter cpi figure the figures used to calculate the indexation factor for are set out in the table below most recent cpi number highest previous or quarter quarter quarter indexation factor as the indexation factor for is greater than one duty rates for certain exciseequivalent goods in schedule of the tariff will increase by the application of this factor the rates of duty for exciseequivalent goods operative from are set out in table below and supersede the rates outlined in australian notice the rates referenced above also apply to goods subject to indexation in  schedule a singaporean originating goods  schedule us originating goods  schedule thai originating goods  schedule a peruvian originating goods  schedule chilean originating goods australia’s service  schedule aseanaustralianew zealand originating goods  schedule a pacific island originating goods  schedule b transpacific partnership originating goods  schedule malaysian originating goods  schedule a indonesian originating goods  schedule korean originating goods  schedule japanese originating goods  schedule chinese originating goods  schedule hong kong originating goods and  schedule regional comprehensive economic partnership originating goods in the tariff act the australian border force abf will arrange for the publication of a notice of substituted rates of duty for exciseequivalent goods no in the gazette the australian taxation office ato will make equivalent changes to the rates of duty on goods subject to excise further information can be found on the ato website via the following links atogovaualcoholexciserates and atogovaufuelexciserates fuel duty rates – to the indexation arrangements outlined above apply to all tariff subheadings listed in section aac including those that have been temporarily reduced consistent with the provisions of the tariff amendment cost of living support act the exciseequivalent duty rates outlined in the last four rows of table apply for the period to an australian notice will be published in outlining the rates that will commence on please direct any inquiries concerning these matters to the following contacts for duty rates for excise duty rates director trade and tariff policy australian border force ph director indirect tax revenue performance australian taxation office ph changes to the online tariff available on wwwabfgovau to reflect the new rates will be available on commencement of the rates relevant revised tariff working pages are at attachment a\n"
     ]
    }
   ],
   "source": [
    "import string\n",
    "from nltk.tag import pos_tag\n",
    "from nltk.tokenize import word_tokenize\n",
    "\n",
    "#구두점 제거\n",
    "doc1 = \"\".join([i for i in doc if i not in string.punctuation]).strip()\n",
    "print(len(doc1))\n",
    "\n",
    "#숫자 제거\n",
    "doc2 = \"\".join([i for i in doc1 if not i.isdigit()])\n",
    "print(len(doc2))\n",
    "\n",
    "#월 제거\n",
    "month = ['january', 'february', 'march', 'april', 'may', 'june', 'july', 'august',\n",
    "        'september', 'october', 'november', 'december', 'jan', 'feb', 'mar', 'apr',\n",
    "         'may', 'jun','jul', 'aug', 'sep', 'oct', 'nov', 'dec']   \n",
    "    \n",
    "doc3 = \" \".join([i for i in doc2.split() if i not in month])\n",
    "print(len(doc3))\n",
    "print(doc3)"
   ]
  },
  {
   "cell_type": "code",
   "execution_count": 366,
   "id": "e03c1691",
   "metadata": {},
   "outputs": [
    {
     "name": "stdout",
     "output_type": "stream",
     "text": [
      "bigram 개수 : 246\n",
      "bigram 출력 : ['aac including' 'abf arrange' 'acn australian' 'act australian'\n",
      " 'act customs']\n"
     ]
    }
   ],
   "source": [
    "n_gram_range = (2,2)\n",
    "stop_words = \"english\"\n",
    "\n",
    "count = CountVectorizer(ngram_range=n_gram_range, stop_words=stop_words).fit([doc3])\n",
    "candidates = count.get_feature_names_out()\n",
    "\n",
    "print('bigram 개수 :',len(candidates))\n",
    "print('bigram 출력 :',candidates[:5])"
   ]
  },
  {
   "cell_type": "code",
   "execution_count": 367,
   "id": "9541c8ba",
   "metadata": {},
   "outputs": [],
   "source": [
    "model = SentenceTransformer('distilbert-base-nli-mean-tokens')\n",
    "doc_embedding = model.encode([doc3]) #전체 문서\n",
    "candidate_embeddings = model.encode(candidates)#추출한 bigram"
   ]
  },
  {
   "cell_type": "code",
   "execution_count": 368,
   "id": "8280a42e",
   "metadata": {},
   "outputs": [
    {
     "name": "stdout",
     "output_type": "stream",
     "text": [
      "1\n",
      "[['australian notice', 'indexed biannually', 'schedule indonesian', 'acn australian', 'atogovaualcoholexciserates atogovaufuelexciserates', 'performance australian', 'spirits beers', 'policy australian', 'aseanaustralianew zealand', 'gazette australian', 'quarter indexation', 'goods australia', 'atogovaufuelexciserates fuel', 'outlined australian', 'tariff subheadings', 'tariff amendment', 'august australian', 'australian taxation', 'schedule aseanaustralianew', 'revised tariff']]\n"
     ]
    }
   ],
   "source": [
    "#문서와 가장 유사한 키워드 추출\n",
    "doc_bigram_keywords = []\n",
    "\n",
    "top_n = 20\n",
    "distances = cosine_similarity(doc_embedding, candidate_embeddings)\n",
    "doc_bigram_keyword = [candidates[index] for index in distances.argsort()[0][-top_n:]]\n",
    "doc_bigram_keywords.append(doc_bigram_keyword)\n",
    "\n",
    "\n",
    "print(len(doc_bigram_keywords))\n",
    "print(doc_bigram_keywords)"
   ]
  },
  {
   "cell_type": "code",
   "execution_count": 369,
   "id": "26ba1e84",
   "metadata": {},
   "outputs": [],
   "source": [
    "#문서와 가장 유사한 키워드 벡터화\n",
    "doc_bigram_embedding = []\n",
    "for keyword in doc_bigram_keywords:\n",
    "    doc_bigram_embedding.append(model.encode(keyword))"
   ]
  },
  {
   "cell_type": "code",
   "execution_count": 370,
   "id": "fb625a42",
   "metadata": {},
   "outputs": [
    {
     "name": "stdout",
     "output_type": "stream",
     "text": [
      "102\n"
     ]
    }
   ],
   "source": [
    "#keyword : 불러온 호주 키워드 중 번역 Column 추출\n",
    "keyword = list(df_keyword[\"번역\"])\n",
    "keyword_embedding = []\n",
    "\n",
    "for ele in keyword:\n",
    "    keyword_embedding.append(model.encode(ele))\n",
    "\n",
    "print(len(keyword_embedding))"
   ]
  },
  {
   "cell_type": "code",
   "execution_count": 371,
   "id": "dddb42ab",
   "metadata": {},
   "outputs": [],
   "source": [
    "#문서 키워드(doc_bigram_embedding)와 키워드 100(keyword_embedding) 유사도 비교 \n",
    "bigram_key_result = []\n",
    "keyword_key_result = []\n",
    "cosine_distances = []\n",
    "\n",
    "for index, bigram in enumerate(doc_bigram_embedding):\n",
    "    bigram_result = []\n",
    "    key_result=[]\n",
    "    cosine_distance = []\n",
    "    for i in range(len(bigram)):\n",
    "        for j in range(len(keyword_embedding)):\n",
    "            distances = cosine_similarity([bigram[i]],[keyword_embedding[j]])\n",
    "            if distances[0][0] > 0.75:\n",
    "                bigram_result.append(doc_bigram_keywords[index][i])\n",
    "                key_result.append(keyword[j])\n",
    "                cosine_distance.append(distances)\n",
    "\n",
    "    bigram_key_result.append(bigram_result)\n",
    "    keyword_key_result.append(key_result)\n",
    "    cosine_distances.append(cosine_distance)"
   ]
  },
  {
   "cell_type": "code",
   "execution_count": 372,
   "id": "1af01003",
   "metadata": {},
   "outputs": [
    {
     "name": "stdout",
     "output_type": "stream",
     "text": [
      "[['spirits beers']]\n",
      "[['alcohol']]\n"
     ]
    },
    {
     "data": {
      "text/html": [
       "<div>\n",
       "<style scoped>\n",
       "    .dataframe tbody tr th:only-of-type {\n",
       "        vertical-align: middle;\n",
       "    }\n",
       "\n",
       "    .dataframe tbody tr th {\n",
       "        vertical-align: top;\n",
       "    }\n",
       "\n",
       "    .dataframe thead th {\n",
       "        text-align: right;\n",
       "    }\n",
       "</style>\n",
       "<table border=\"1\" class=\"dataframe\">\n",
       "  <thead>\n",
       "    <tr style=\"text-align: right;\">\n",
       "      <th></th>\n",
       "      <th>bigram</th>\n",
       "      <th>keyword</th>\n",
       "      <th>distance</th>\n",
       "    </tr>\n",
       "  </thead>\n",
       "  <tbody>\n",
       "    <tr>\n",
       "      <th>0</th>\n",
       "      <td>spirits beers</td>\n",
       "      <td>alcohol</td>\n",
       "      <td>[[0.7743218]]</td>\n",
       "    </tr>\n",
       "  </tbody>\n",
       "</table>\n",
       "</div>"
      ],
      "text/plain": [
       "          bigram  keyword       distance\n",
       "0  spirits beers  alcohol  [[0.7743218]]"
      ]
     },
     "execution_count": 372,
     "metadata": {},
     "output_type": "execute_result"
    }
   ],
   "source": [
    "df_check = pd.DataFrame()\n",
    "\n",
    "print(bigram_key_result)\n",
    "print(keyword_key_result)\n",
    "\n",
    "for i in range(len(bigram_key_result)):\n",
    "    bigram = pd.Series(bigram_key_result[i])\n",
    "    keyword = pd.Series(keyword_key_result[i])\n",
    "    distance = pd.Series(cosine_distances[i])\n",
    "    \n",
    "    df_check['bigram'] = bigram\n",
    "    df_check['keyword'] = keyword\n",
    "    df_check['distance'] = distance\n",
    "\n",
    "df_check = df_check.sort_values(by=\"distance\", ascending=False)\n",
    "df_check"
   ]
  },
  {
   "cell_type": "code",
   "execution_count": null,
   "id": "74c073c1",
   "metadata": {},
   "outputs": [],
   "source": []
  }
 ],
 "metadata": {
  "kernelspec": {
   "display_name": "Python 3 (ipykernel)",
   "language": "python",
   "name": "python3"
  },
  "language_info": {
   "codemirror_mode": {
    "name": "ipython",
    "version": 3
   },
   "file_extension": ".py",
   "mimetype": "text/x-python",
   "name": "python",
   "nbconvert_exporter": "python",
   "pygments_lexer": "ipython3",
   "version": "3.9.12"
  }
 },
 "nbformat": 4,
 "nbformat_minor": 5
}

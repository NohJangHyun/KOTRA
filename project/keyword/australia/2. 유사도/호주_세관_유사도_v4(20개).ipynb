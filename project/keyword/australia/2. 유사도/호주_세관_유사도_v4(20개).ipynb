{
 "cells": [
  {
   "cell_type": "code",
   "execution_count": 1,
   "id": "a208d8cd",
   "metadata": {},
   "outputs": [],
   "source": [
    "import numpy as np\n",
    "import itertools\n",
    "\n",
    "from sklearn.feature_extraction.text import CountVectorizer\n",
    "from sklearn.metrics.pairwise import cosine_similarity\n",
    "from sentence_transformers import SentenceTransformer"
   ]
  },
  {
   "cell_type": "code",
   "execution_count": 65,
   "id": "f37a06ad",
   "metadata": {},
   "outputs": [],
   "source": [
    "import pandas as pd\n",
    "import re\n",
    "\n",
    "df = pd.read_csv(\"호주_세관_v2(new20).csv\")\n",
    "\n",
    "df_title = list(df['title'])\n",
    "df_text = list(df['text'])\n",
    "df_add = []\n",
    "\n",
    "for i in range(len(df)):\n",
    "    df_add.append(df_title[i]+\"\"+df_text[i])\n",
    "\n",
    "df_keyword = pd.read_csv(\"호주_번역_100.csv\", index_col = False)"
   ]
  },
  {
   "cell_type": "code",
   "execution_count": 67,
   "id": "6fe96106",
   "metadata": {},
   "outputs": [],
   "source": [
    "df_add = df_add[:2]\n"
   ]
  },
  {
   "cell_type": "code",
   "execution_count": 72,
   "id": "3f50a05a",
   "metadata": {},
   "outputs": [],
   "source": [
    "import string\n",
    "from nltk.tag import pos_tag\n",
    "from nltk.tokenize import word_tokenize\n",
    "\n",
    "doc_list = []\n",
    "for doc in df_add:\n",
    "\n",
    "    #구두점 제거\n",
    "    doc1 = \"\".join([i for i in doc if i not in string.punctuation]).strip()\n",
    "\n",
    "    #숫자 제거\n",
    "    doc2 = \"\".join([i for i in doc1 if not i.isdigit()])\n",
    "    \n",
    "    #월 제거\n",
    "    month = ['january', 'february', 'march', 'april', 'may', 'june', 'july', 'august',\n",
    "            'september', 'october', 'november', 'december', 'jan', 'feb', 'mar', 'apr',\n",
    "             'may', 'jun','jul', 'aug', 'sep', 'oct', 'nov', 'dec']   \n",
    "\n",
    "    doc3 = \" \".join([i for i in doc2.split() if i not in month])\n",
    "    doc_list.append(doc3)"
   ]
  },
  {
   "cell_type": "code",
   "execution_count": 81,
   "id": "7a13a3d6",
   "metadata": {},
   "outputs": [],
   "source": [
    "n_gram_range = (2, 2)\n",
    "stop_words = \"english\"\n",
    "\n",
    "candidates_list = []\n",
    "for doc in doc_list:\n",
    "    count = CountVectorizer(ngram_range=n_gram_range, stop_words=stop_words).fit([doc3])\n",
    "    candidates = count.get_feature_names_out()\n",
    "    candidates_list.append(candidates)"
   ]
  },
  {
   "cell_type": "code",
   "execution_count": 102,
   "id": "501d944a",
   "metadata": {},
   "outputs": [],
   "source": [
    "#문서 전체와 문서에서 추출한 키워드 수치화\n",
    "model = SentenceTransformer('distilbert-base-nli-mean-tokens')\n",
    "doc_bigram_keywords = []\n",
    "top_n = 20\n",
    "\n",
    "for i in range(len(doc_list)):\n",
    "    doc_embedding = model.encode([doc_list[i]])\n",
    "    candidates_embedding = model.encode(candidates_list[i])\n",
    "    distances = cosine_similarity(doc_embedding, candidates_embedding)\n",
    "    doc_bigram_keywords.append([candidates_list[i][index] for index in distances.argsort()[0][-top_n:]])\n"
   ]
  },
  {
   "cell_type": "code",
   "execution_count": 103,
   "id": "a3a0f3ef",
   "metadata": {},
   "outputs": [
    {
     "data": {
      "text/plain": [
       "['vehicles australian',\n",
       " 'duty electric',\n",
       " 'belarus currently',\n",
       " 'duty free',\n",
       " 'certain electric',\n",
       " 'hydrogen fuelcell',\n",
       " 'requirement russia',\n",
       " 'revised tariff',\n",
       " 'propose tariff',\n",
       " 'threshold free',\n",
       " 'electric vehicles',\n",
       " 'hybrid vehicles',\n",
       " 'amendments online',\n",
       " 'vehicles hydrogen',\n",
       " 'tariff alterations',\n",
       " 'new tariff',\n",
       " 'car tax',\n",
       " 'russia belarus',\n",
       " 'online tariff',\n",
       " 'tax threshold']"
      ]
     },
     "execution_count": 103,
     "metadata": {},
     "output_type": "execute_result"
    }
   ],
   "source": [
    "doc_bigram_keywords[1]"
   ]
  },
  {
   "cell_type": "code",
   "execution_count": 104,
   "id": "d8c179b3",
   "metadata": {},
   "outputs": [],
   "source": [
    "#문서와 가장 유사한 키워드 벡터화\n",
    "doc_bigram_embeddings = []\n",
    "for i in range(len(doc_list)):\n",
    "    doc_bigram_embedding = []\n",
    "    for keyword in doc_bigram_keywords[i]:\n",
    "        doc_bigram_embedding.append(model.encode(keyword))\n",
    "    doc_bigram_embeddings.append(doc_bigram_embedding)"
   ]
  },
  {
   "cell_type": "code",
   "execution_count": 105,
   "id": "c297f70a",
   "metadata": {},
   "outputs": [],
   "source": [
    "#keyword : 불러온 호주 키워드 중 번역 Column 추출\n",
    "keyword = list(df_keyword[\"번역\"])\n",
    "keyword_embeddings = []\n",
    "\n",
    "for ele in keyword:\n",
    "    keyword_embeddings.append(model.encode(ele))"
   ]
  },
  {
   "cell_type": "code",
   "execution_count": 108,
   "id": "b9e23927",
   "metadata": {},
   "outputs": [],
   "source": [
    "#문서 키워드(doc_bigram_embedding)와 키워드 100(keyword_embedding) 유사도 비교 \n",
    "bigram_key_result = []\n",
    "keyword_key_result = []\n",
    "\n",
    "\n",
    "for index, bigram in enumerate(doc_bigram_embeddings):\n",
    "    bigram_result = []\n",
    "    key_result=[]\n",
    "    \n",
    "    for i in range(len(bigram)):\n",
    "        for j in range(len(keyword_embeddings)):\n",
    "            distances = cosine_similarity([bigram[i]],[keyword_embeddings[j]])\n",
    "            if distances[0][0] > 0.75:\n",
    "                bigram_result.append(doc_bigram_keywords[index][i])\n",
    "                key_result.append(keyword[j])\n",
    "    bigram_key_result.append(bigram_result)\n",
    "    keyword_key_result.append(key_result)"
   ]
  },
  {
   "cell_type": "code",
   "execution_count": 109,
   "id": "750fc430",
   "metadata": {},
   "outputs": [
    {
     "name": "stdout",
     "output_type": "stream",
     "text": [
      "[['car tax'], ['duty electric', 'car tax']]\n",
      "[['car'], ['propane', 'car']]\n"
     ]
    }
   ],
   "source": [
    "print(bigram_key_result)\n",
    "print(keyword_key_result)"
   ]
  },
  {
   "cell_type": "code",
   "execution_count": 110,
   "id": "59568679",
   "metadata": {},
   "outputs": [
    {
     "name": "stdout",
     "output_type": "stream",
     "text": [
      "[['car tax'], ['duty electric', 'car tax']]\n",
      "[['car'], ['propane', 'car']]\n"
     ]
    },
    {
     "data": {
      "text/html": [
       "<div>\n",
       "<style scoped>\n",
       "    .dataframe tbody tr th:only-of-type {\n",
       "        vertical-align: middle;\n",
       "    }\n",
       "\n",
       "    .dataframe tbody tr th {\n",
       "        vertical-align: top;\n",
       "    }\n",
       "\n",
       "    .dataframe thead th {\n",
       "        text-align: right;\n",
       "    }\n",
       "</style>\n",
       "<table border=\"1\" class=\"dataframe\">\n",
       "  <thead>\n",
       "    <tr style=\"text-align: right;\">\n",
       "      <th></th>\n",
       "      <th>bigram</th>\n",
       "      <th>keyword</th>\n",
       "    </tr>\n",
       "  </thead>\n",
       "  <tbody>\n",
       "    <tr>\n",
       "      <th>0</th>\n",
       "      <td>duty electric</td>\n",
       "      <td>propane</td>\n",
       "    </tr>\n",
       "    <tr>\n",
       "      <th>1</th>\n",
       "      <td>car tax</td>\n",
       "      <td>car</td>\n",
       "    </tr>\n",
       "  </tbody>\n",
       "</table>\n",
       "</div>"
      ],
      "text/plain": [
       "          bigram  keyword\n",
       "0  duty electric  propane\n",
       "1        car tax      car"
      ]
     },
     "execution_count": 110,
     "metadata": {},
     "output_type": "execute_result"
    }
   ],
   "source": [
    "df_check = pd.DataFrame()\n",
    "\n",
    "print(bigram_key_result)\n",
    "print(keyword_key_result)\n",
    "\n",
    "# for i in range(len(bigram_key_result)):\n",
    "for i in range(1):\n",
    "    bigram = pd.Series(bigram_key_result[i+1])\n",
    "    keyword = pd.Series(keyword_key_result[i+1])\n",
    "    \n",
    "    df_check['bigram'] = bigram\n",
    "    df_check['keyword'] = keyword\n",
    "\n",
    "df_check"
   ]
  },
  {
   "cell_type": "code",
   "execution_count": null,
   "id": "b3d27c2e",
   "metadata": {},
   "outputs": [],
   "source": []
  }
 ],
 "metadata": {
  "kernelspec": {
   "display_name": "Python 3 (ipykernel)",
   "language": "python",
   "name": "python3"
  },
  "language_info": {
   "codemirror_mode": {
    "name": "ipython",
    "version": 3
   },
   "file_extension": ".py",
   "mimetype": "text/x-python",
   "name": "python",
   "nbconvert_exporter": "python",
   "pygments_lexer": "ipython3",
   "version": "3.9.12"
  }
 },
 "nbformat": 4,
 "nbformat_minor": 5
}

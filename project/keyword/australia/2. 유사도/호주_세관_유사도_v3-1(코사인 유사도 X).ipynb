{
 "cells": [
  {
   "cell_type": "code",
   "execution_count": 1,
   "id": "17c19222",
   "metadata": {},
   "outputs": [],
   "source": [
    "import numpy as np\n",
    "import itertools\n",
    "\n",
    "from sklearn.feature_extraction.text import CountVectorizer\n",
    "from sklearn.metrics.pairwise import cosine_similarity\n",
    "from sentence_transformers import SentenceTransformer"
   ]
  },
  {
   "cell_type": "code",
   "execution_count": 2,
   "id": "38fdd310",
   "metadata": {},
   "outputs": [],
   "source": [
    "import pandas as pd\n",
    "import re\n",
    "\n",
    "df = pd.read_csv(\"호주_세관_v2(new20).csv\")\n",
    "\n",
    "df_title = list(df['title'])\n",
    "df_text = list(df['text'])\n",
    "df_add = []\n",
    "\n",
    "for i in range(len(df)):\n",
    "    df_add.append(df_title[i]+\"\"+df_text[i])\n",
    "\n",
    "df_keyword = pd.read_csv(\"호주_번역_100.csv\", index_col = False)"
   ]
  },
  {
   "cell_type": "code",
   "execution_count": 3,
   "id": "cfeea92e",
   "metadata": {},
   "outputs": [],
   "source": [
    "#고급 차량 관련 문서로 테스트 진행\n",
    "doc = df_add[1]\n"
   ]
  },
  {
   "cell_type": "code",
   "execution_count": 4,
   "id": "22bad349",
   "metadata": {},
   "outputs": [
    {
     "name": "stdout",
     "output_type": "stream",
     "text": [
      "1815\n",
      "1710\n",
      "1653\n"
     ]
    }
   ],
   "source": [
    "import string\n",
    "from nltk.tag import pos_tag\n",
    "from nltk.tokenize import word_tokenize\n",
    "\n",
    "#구두점 제거\n",
    "doc1 = \"\".join([i for i in doc if i not in string.punctuation]).strip()\n",
    "print(len(doc1))\n",
    "\n",
    "#숫자 제거\n",
    "doc2 = \"\".join([i for i in doc1 if not i.isdigit()])\n",
    "print(len(doc2))\n",
    "\n",
    "#월 제거\n",
    "month = ['january', 'february', 'march', 'april', 'may', 'june', 'july', 'august',\n",
    "        'september', 'october', 'november', 'december', 'jan', 'feb', 'mar', 'apr',\n",
    "         'may', 'jun','jul', 'aug', 'sep', 'oct', 'nov', 'dec']   \n",
    "    \n",
    "doc3 = \" \".join([i for i in doc2.split() if i not in month])\n",
    "print(len(doc3))\n",
    "\n",
    "# word_tokens = word_tokenize(doc2)\n",
    "\n",
    "#동사 명사\n",
    "# word_tokens = pos_tag(word_tokenize(doc))\n",
    "# word_tokens = [t[0] for t in word_tokens if t[1] == \"NN\"]"
   ]
  },
  {
   "cell_type": "code",
   "execution_count": 5,
   "id": "62508bd5",
   "metadata": {},
   "outputs": [
    {
     "name": "stdout",
     "output_type": "stream",
     "text": [
      "bigram 개수 : 125\n",
      "bigram 출력 : ['abfgovau amendments' 'additional duty' 'additional note'\n",
      " 'alterations notice' 'amendments online' 'applied implementation'\n",
      " 'applies goods' 'apply refund' 'attachment notice' 'attachment online'\n",
      " 'australian notice' 'available attachment' 'available current'\n",
      " 'belarus currently' 'car tax' 'cargo ics' 'cargo new' 'cent applied'\n",
      " 'certain electric' 'chapter new' 'circumstance eb'\n",
      " 'classifications available' 'classifications commence'\n",
      " 'classifications entered' 'commence retrospectively'\n",
      " 'consistent australian' 'consumption lct' 'consumption time'\n",
      " 'current working' 'currently additional' 'customs duty'\n",
      " 'directed tradepolicyabfgovau' 'duty applies' 'duty cent' 'duty certain'\n",
      " 'duty electric' 'duty free' 'eb quoted' 'efficient luxury'\n",
      " 'efficient vehicles' 'electric vehicles' 'entered home' 'entered ics'\n",
      " 'entered integrated' 'financial year' 'following publication' 'free rate'\n",
      " 'fuel efficient' 'fuelcell vehicles' 'goods entered' 'goods meet'\n",
      " 'home consumption' 'hybrid vehicles' 'hydrogen fuelcell' 'ics need'\n",
      " 'ics soon' 'implementation notice' 'implements measure' 'including new'\n",
      " 'integrated cargo' 'intention propose' 'issue directed' 'lct threshold'\n",
      " 'luxury car' 'measure text' 'meet requirement' 'need apply'\n",
      " 'new additional' 'new classifications' 'new tariff' 'note chapter'\n",
      " 'notice financial' 'notice including' 'notice intention' 'notice new'\n",
      " 'notice operates' 'notice published' 'notice queries' 'notice removal'\n",
      " 'online tariff' 'operates applies' 'pages schedule' 'plugin hybrid'\n",
      " 'practical following' 'practical publication' 'propose tariff'\n",
      " 'publication notice' 'published implements' 'published soon'\n",
      " 'queries related' 'quoted revised' 'rate duty' 'refund circumstance'\n",
      " 'refund refund' 'related issue' 'removal customs' 'removal duty'\n",
      " 'requirement russia' 'retrospectively goods' 'revised tariff'\n",
      " 'russia belarus' 'schedule attachment' 'soon practical' 'tariff abfgovau'\n",
      " 'tariff alterations' 'tariff available' 'tariff classifications'\n",
      " 'tariff published' 'tariff working' 'tax threshold' 'text notice'\n",
      " 'threshold consistent' 'threshold free' 'threshold fuel' 'time new'\n",
      " 'value fuel' 'vehicles australian' 'vehicles duty' 'vehicles hydrogen'\n",
      " 'vehicles integrated' 'vehicles plugin' 'vehicles value' 'working pages'\n",
      " 'working tariff' 'year lct']\n"
     ]
    }
   ],
   "source": [
    "n_gram_range = (2,2)\n",
    "stop_words = \"english\"\n",
    "\n",
    "count = CountVectorizer(ngram_range=n_gram_range, stop_words=stop_words).fit([doc3])\n",
    "candidates = count.get_feature_names_out()\n",
    "\n",
    "print('bigram 개수 :',len(candidates))\n",
    "print('bigram 출력 :',candidates)"
   ]
  },
  {
   "cell_type": "code",
   "execution_count": 7,
   "id": "9c701bd1",
   "metadata": {},
   "outputs": [],
   "source": [
    "#문서 전체와 문서에서 추출한 키워드 수치화\n",
    "model = SentenceTransformer('distilbert-base-nli-mean-tokens')\n",
    "doc_embedding = model.encode([doc]) #전체 문서\n",
    "candidate_embeddings = model.encode(candidates)#추출한 bigram"
   ]
  },
  {
   "cell_type": "markdown",
   "id": "30067b4c",
   "metadata": {},
   "source": [
    "Max Sum Similarity"
   ]
  },
  {
   "cell_type": "code",
   "execution_count": 8,
   "id": "7794395b",
   "metadata": {},
   "outputs": [],
   "source": [
    "def max_sum_sim(doc_embedding, candidate_embeddings, words, top_n, nr_candidates):\n",
    "    # 문서와 각 키워드들 간의 유사도\n",
    "    distances = cosine_similarity(doc_embedding, candidate_embeddings)\n",
    "\n",
    "    # 각 키워드들 간의 유사도\n",
    "    distances_candidates = cosine_similarity(candidate_embeddings, \n",
    "                                            candidate_embeddings)\n",
    "\n",
    "    # 코사인 유사도에 기반하여 키워드들 중 상위 top_n개의 단어를 pick.\n",
    "    words_idx = list(distances.argsort()[0][-nr_candidates:])\n",
    "    words_vals = [candidates[index] for index in words_idx]\n",
    "    distances_candidates = distances_candidates[np.ix_(words_idx, words_idx)]\n",
    "\n",
    "    # 각 키워드들 중에서 가장 덜 유사한 키워드들간의 조합을 계산\n",
    "    min_sim = np.inf\n",
    "    candidate = None\n",
    "    for combination in itertools.combinations(range(len(words_idx)), top_n):\n",
    "        sim = sum([distances_candidates[i][j] for i in combination for j in combination if i != j])\n",
    "        if sim < min_sim:\n",
    "            candidate = combination\n",
    "            min_sim = sim\n",
    "\n",
    "    return [words_vals[idx] for idx in candidate]"
   ]
  },
  {
   "cell_type": "code",
   "execution_count": 9,
   "id": "0f6f2c80",
   "metadata": {},
   "outputs": [
    {
     "data": {
      "text/plain": [
       "['hydrogen fuelcell',\n",
       " 'hybrid vehicles',\n",
       " 'tariff alterations',\n",
       " 'new tariff',\n",
       " 'car tax']"
      ]
     },
     "execution_count": 9,
     "metadata": {},
     "output_type": "execute_result"
    }
   ],
   "source": [
    "max_sum_sim(doc_embedding, candidate_embeddings, candidates, top_n=5, nr_candidates=10)"
   ]
  },
  {
   "cell_type": "markdown",
   "id": "eaa47c8d",
   "metadata": {},
   "source": [
    "Maximal Marginal Relevance"
   ]
  },
  {
   "cell_type": "code",
   "execution_count": 10,
   "id": "ad30805c",
   "metadata": {},
   "outputs": [],
   "source": [
    "def mmr(doc_embedding, candidate_embeddings, words, top_n, diversity):\n",
    "\n",
    "    # 문서와 각 키워드들 간의 유사도가 적혀있는 리스트\n",
    "    word_doc_similarity = cosine_similarity(candidate_embeddings, doc_embedding)\n",
    "\n",
    "    # 각 키워드들 간의 유사도\n",
    "    word_similarity = cosine_similarity(candidate_embeddings)\n",
    "\n",
    "    # 문서와 가장 높은 유사도를 가진 키워드의 인덱스를 추출.\n",
    "    # 만약, 2번 문서가 가장 유사도가 높았다면\n",
    "    # keywords_idx = [2]\n",
    "    keywords_idx = [np.argmax(word_doc_similarity)]\n",
    "\n",
    "    # 가장 높은 유사도를 가진 키워드의 인덱스를 제외한 문서의 인덱스들\n",
    "    # 만약, 2번 문서가 가장 유사도가 높았다면\n",
    "    # ==> candidates_idx = [0, 1, 3, 4, 5, 6, 7, 8, 9, 10 ... 중략 ...]\n",
    "    candidates_idx = [i for i in range(len(words)) if i != keywords_idx[0]]\n",
    "\n",
    "    # 최고의 키워드는 이미 추출했으므로 top_n-1번만큼 아래를 반복.\n",
    "    # ex) top_n = 5라면, 아래의 loop는 4번 반복됨.\n",
    "    for _ in range(top_n - 1):\n",
    "        candidate_similarities = word_doc_similarity[candidates_idx, :]\n",
    "        target_similarities = np.max(word_similarity[candidates_idx][:, keywords_idx], axis=1)\n",
    "\n",
    "        # MMR을 계산\n",
    "        mmr = (1-diversity) * candidate_similarities - diversity * target_similarities.reshape(-1, 1)\n",
    "        mmr_idx = candidates_idx[np.argmax(mmr)]\n",
    "\n",
    "        # keywords & candidates를 업데이트\n",
    "        keywords_idx.append(mmr_idx)\n",
    "        candidates_idx.remove(mmr_idx)\n",
    "\n",
    "    return [words[idx] for idx in keywords_idx]"
   ]
  },
  {
   "cell_type": "code",
   "execution_count": 11,
   "id": "38fcbda0",
   "metadata": {},
   "outputs": [
    {
     "data": {
      "text/plain": [
       "['tax threshold',\n",
       " 'hybrid vehicles',\n",
       " 'online tariff',\n",
       " 'new tariff',\n",
       " 'russia belarus']"
      ]
     },
     "execution_count": 11,
     "metadata": {},
     "output_type": "execute_result"
    }
   ],
   "source": [
    "#diversity 낮게 설정하면, 기존의 코사인 유사도만 사용한 것과 매우 유사함\n",
    "mmr(doc_embedding, candidate_embeddings, candidates, top_n=5, diversity=0.2)"
   ]
  },
  {
   "cell_type": "code",
   "execution_count": 12,
   "id": "19e3fc88",
   "metadata": {},
   "outputs": [
    {
     "data": {
      "text/plain": [
       "['tax threshold',\n",
       " 'russia belarus',\n",
       " 'fuel efficient',\n",
       " 'hydrogen fuelcell',\n",
       " 'following publication']"
      ]
     },
     "execution_count": 12,
     "metadata": {},
     "output_type": "execute_result"
    }
   ],
   "source": [
    "#but 높은 diversity는 다양한 키워드 추출\n",
    "mmr(doc_embedding, candidate_embeddings, candidates, top_n=5, diversity=0.7)"
   ]
  },
  {
   "cell_type": "code",
   "execution_count": null,
   "id": "941692d5",
   "metadata": {},
   "outputs": [],
   "source": []
  }
 ],
 "metadata": {
  "kernelspec": {
   "display_name": "Python 3 (ipykernel)",
   "language": "python",
   "name": "python3"
  },
  "language_info": {
   "codemirror_mode": {
    "name": "ipython",
    "version": 3
   },
   "file_extension": ".py",
   "mimetype": "text/x-python",
   "name": "python",
   "nbconvert_exporter": "python",
   "pygments_lexer": "ipython3",
   "version": "3.9.12"
  }
 },
 "nbformat": 4,
 "nbformat_minor": 5
}

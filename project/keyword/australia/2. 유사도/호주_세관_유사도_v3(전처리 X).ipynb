{
 "cells": [
  {
   "cell_type": "code",
   "execution_count": 1,
   "id": "b8ed2c83",
   "metadata": {},
   "outputs": [],
   "source": [
    "import numpy as np\n",
    "import itertools\n",
    "\n",
    "from sklearn.feature_extraction.text import CountVectorizer\n",
    "from sklearn.metrics.pairwise import cosine_similarity\n",
    "from sentence_transformers import SentenceTransformer"
   ]
  },
  {
   "cell_type": "code",
   "execution_count": 2,
   "id": "58452534",
   "metadata": {},
   "outputs": [],
   "source": [
    "import pandas as pd\n",
    "import re\n",
    "\n",
    "df = pd.read_csv(\"호주_세관_v2(new20).csv\")\n",
    "\n",
    "df_title = list(df['title'])\n",
    "df_text = list(df['text'])\n",
    "df_add = []\n",
    "\n",
    "for i in range(len(df)):\n",
    "    df_add.append(df_title[i]+\"\"+df_text[i])\n",
    "\n",
    "df_keyword = pd.read_csv(\"호주_번역_100.csv\", index_col = False)"
   ]
  },
  {
   "cell_type": "code",
   "execution_count": 3,
   "id": "081b39a7",
   "metadata": {},
   "outputs": [],
   "source": [
    "#고급 차량 관련 문서로 테스트 진행\n",
    "doc = df_add[1]\n"
   ]
  },
  {
   "cell_type": "code",
   "execution_count": 4,
   "id": "50d912cd",
   "metadata": {},
   "outputs": [
    {
     "name": "stdout",
     "output_type": "stream",
     "text": [
      "1815\n",
      "1710\n",
      "1653\n"
     ]
    }
   ],
   "source": [
    "import string\n",
    "from nltk.tag import pos_tag\n",
    "from nltk.tokenize import word_tokenize\n",
    "\n",
    "#구두점 제거\n",
    "doc1 = \"\".join([i for i in doc if i not in string.punctuation]).strip()\n",
    "print(len(doc1))\n",
    "\n",
    "#숫자 제거\n",
    "doc2 = \"\".join([i for i in doc1 if not i.isdigit()])\n",
    "print(len(doc2))\n",
    "\n",
    "#월 제거\n",
    "month = ['january', 'february', 'march', 'april', 'may', 'june', 'july', 'august',\n",
    "        'september', 'october', 'november', 'december', 'jan', 'feb', 'mar', 'apr',\n",
    "         'may', 'jun','jul', 'aug', 'sep', 'oct', 'nov', 'dec']   \n",
    "    \n",
    "doc3 = \" \".join([i for i in doc2.split() if i not in month])\n",
    "print(len(doc3))\n",
    "\n",
    "# word_tokens = word_tokenize(doc2)\n",
    "\n",
    "#동사 명사\n",
    "# word_tokens = pos_tag(word_tokenize(doc))\n",
    "# word_tokens = [t[0] for t in word_tokens if t[1] == \"NN\"]"
   ]
  },
  {
   "cell_type": "code",
   "execution_count": 5,
   "id": "1d417698",
   "metadata": {},
   "outputs": [
    {
     "name": "stdout",
     "output_type": "stream",
     "text": [
      "bigram 개수 : 125\n",
      "bigram 출력 : ['abfgovau amendments' 'additional duty' 'additional note'\n",
      " 'alterations notice' 'amendments online' 'applied implementation'\n",
      " 'applies goods' 'apply refund' 'attachment notice' 'attachment online'\n",
      " 'australian notice' 'available attachment' 'available current'\n",
      " 'belarus currently' 'car tax' 'cargo ics' 'cargo new' 'cent applied'\n",
      " 'certain electric' 'chapter new' 'circumstance eb'\n",
      " 'classifications available' 'classifications commence'\n",
      " 'classifications entered' 'commence retrospectively'\n",
      " 'consistent australian' 'consumption lct' 'consumption time'\n",
      " 'current working' 'currently additional' 'customs duty'\n",
      " 'directed tradepolicyabfgovau' 'duty applies' 'duty cent' 'duty certain'\n",
      " 'duty electric' 'duty free' 'eb quoted' 'efficient luxury'\n",
      " 'efficient vehicles' 'electric vehicles' 'entered home' 'entered ics'\n",
      " 'entered integrated' 'financial year' 'following publication' 'free rate'\n",
      " 'fuel efficient' 'fuelcell vehicles' 'goods entered' 'goods meet'\n",
      " 'home consumption' 'hybrid vehicles' 'hydrogen fuelcell' 'ics need'\n",
      " 'ics soon' 'implementation notice' 'implements measure' 'including new'\n",
      " 'integrated cargo' 'intention propose' 'issue directed' 'lct threshold'\n",
      " 'luxury car' 'measure text' 'meet requirement' 'need apply'\n",
      " 'new additional' 'new classifications' 'new tariff' 'note chapter'\n",
      " 'notice financial' 'notice including' 'notice intention' 'notice new'\n",
      " 'notice operates' 'notice published' 'notice queries' 'notice removal'\n",
      " 'online tariff' 'operates applies' 'pages schedule' 'plugin hybrid'\n",
      " 'practical following' 'practical publication' 'propose tariff'\n",
      " 'publication notice' 'published implements' 'published soon'\n",
      " 'queries related' 'quoted revised' 'rate duty' 'refund circumstance'\n",
      " 'refund refund' 'related issue' 'removal customs' 'removal duty'\n",
      " 'requirement russia' 'retrospectively goods' 'revised tariff'\n",
      " 'russia belarus' 'schedule attachment' 'soon practical' 'tariff abfgovau'\n",
      " 'tariff alterations' 'tariff available' 'tariff classifications'\n",
      " 'tariff published' 'tariff working' 'tax threshold' 'text notice'\n",
      " 'threshold consistent' 'threshold free' 'threshold fuel' 'time new'\n",
      " 'value fuel' 'vehicles australian' 'vehicles duty' 'vehicles hydrogen'\n",
      " 'vehicles integrated' 'vehicles plugin' 'vehicles value' 'working pages'\n",
      " 'working tariff' 'year lct']\n"
     ]
    }
   ],
   "source": [
    "n_gram_range = (2,2)\n",
    "stop_words = \"english\"\n",
    "\n",
    "count = CountVectorizer(ngram_range=n_gram_range, stop_words=stop_words).fit([doc3])\n",
    "candidates = count.get_feature_names_out()\n",
    "\n",
    "print('bigram 개수 :',len(candidates))\n",
    "print('bigram 출력 :',candidates)"
   ]
  },
  {
   "cell_type": "code",
   "execution_count": 6,
   "id": "8686f115",
   "metadata": {},
   "outputs": [],
   "source": [
    "#문서 전체와 문서에서 추출한 키워드 수치화\n",
    "model = SentenceTransformer('distilbert-base-nli-mean-tokens')\n",
    "doc_embedding = model.encode([doc]) #전체 문서\n",
    "candidate_embeddings = model.encode(candidates)#추출한 bigram"
   ]
  },
  {
   "cell_type": "code",
   "execution_count": 7,
   "id": "1ccf7bf9",
   "metadata": {},
   "outputs": [
    {
     "name": "stdout",
     "output_type": "stream",
     "text": [
      "1\n",
      "[['tariff available', 'removal customs', 'fuelcell vehicles', 'vehicles australian', 'cargo new', 'duty electric', 'russia belarus', 'vehicles hydrogen', 'certain electric', 'amendments online', 'propose tariff', 'hydrogen fuelcell', 'electric vehicles', 'hybrid vehicles', 'revised tariff', 'tariff alterations', 'new tariff', 'car tax', 'online tariff', 'tax threshold']]\n"
     ]
    }
   ],
   "source": [
    "#문서와 가장 유사한 키워드 추출\n",
    "doc_bigram_keywords = []\n",
    "\n",
    "top_n = 20\n",
    "distances = cosine_similarity(doc_embedding, candidate_embeddings)\n",
    "doc_bigram_keyword = [candidates[index] for index in distances.argsort()[0][-top_n:]]\n",
    "doc_bigram_keywords.append(doc_bigram_keyword)\n",
    "\n",
    "print(len(doc_bigram_keywords))\n",
    "print(doc_bigram_keywords)"
   ]
  },
  {
   "cell_type": "code",
   "execution_count": 14,
   "id": "9e410efd",
   "metadata": {},
   "outputs": [],
   "source": [
    "#문서와 가장 유사한 키워드 벡터화\n",
    "doc_bigram_embedding = []\n",
    "for keyword in doc_bigram_keywords:\n",
    "    doc_bigram_embedding.append(model.encode(keyword))"
   ]
  },
  {
   "cell_type": "code",
   "execution_count": 15,
   "id": "e016f7b5",
   "metadata": {},
   "outputs": [
    {
     "name": "stdout",
     "output_type": "stream",
     "text": [
      "102\n"
     ]
    }
   ],
   "source": [
    "#keyword : 불러온 호주 키워드 중 번역 Column 추출\n",
    "keyword = list(df_keyword[\"번역\"])\n",
    "keyword_embedding = []\n",
    "\n",
    "for ele in keyword:\n",
    "    keyword_embedding.append(model.encode(ele))\n",
    "\n",
    "print(len(keyword_embedding))"
   ]
  },
  {
   "cell_type": "code",
   "execution_count": 16,
   "id": "5d1dc6be",
   "metadata": {},
   "outputs": [],
   "source": [
    "#doc_bigram_keywords -> doc_bigram_embedding\n",
    "#keyword -> keyword_embedding"
   ]
  },
  {
   "cell_type": "code",
   "execution_count": 17,
   "id": "1febfd9a",
   "metadata": {},
   "outputs": [],
   "source": [
    "#문서 키워드(doc_bigram_embedding)와 키워드 100(keyword_embedding) 유사도 비교 \n",
    "bigram_key_result = []\n",
    "keyword_key_result = []\n",
    "cosine_distances = []\n",
    "\n",
    "for index, bigram in enumerate(doc_bigram_embedding):\n",
    "    bigram_result = []\n",
    "    key_result=[]\n",
    "    cosine_distance = []\n",
    "    for i in range(len(bigram)):\n",
    "        for j in range(len(keyword_embedding)):\n",
    "            distances = cosine_similarity([bigram[i]],[keyword_embedding[j]])\n",
    "            if distances[0][0] > 0.75:\n",
    "                bigram_result.append(doc_bigram_keywords[index][i])\n",
    "                key_result.append(keyword[j])\n",
    "                cosine_distance.append(distances)\n",
    "\n",
    "    bigram_key_result.append(bigram_result)\n",
    "    keyword_key_result.append(key_result)\n",
    "    cosine_distances.append(cosine_distance)"
   ]
  },
  {
   "cell_type": "code",
   "execution_count": 18,
   "id": "dbedcb0c",
   "metadata": {},
   "outputs": [
    {
     "name": "stdout",
     "output_type": "stream",
     "text": [
      "[['fuelcell vehicles', 'fuelcell vehicles', 'duty electric', 'car tax']]\n",
      "[['LNG (liquid natural gas)', 'propane', 'propane', 'car']]\n"
     ]
    },
    {
     "data": {
      "text/html": [
       "<div>\n",
       "<style scoped>\n",
       "    .dataframe tbody tr th:only-of-type {\n",
       "        vertical-align: middle;\n",
       "    }\n",
       "\n",
       "    .dataframe tbody tr th {\n",
       "        vertical-align: top;\n",
       "    }\n",
       "\n",
       "    .dataframe thead th {\n",
       "        text-align: right;\n",
       "    }\n",
       "</style>\n",
       "<table border=\"1\" class=\"dataframe\">\n",
       "  <thead>\n",
       "    <tr style=\"text-align: right;\">\n",
       "      <th></th>\n",
       "      <th>bigram</th>\n",
       "      <th>keyword</th>\n",
       "      <th>distance</th>\n",
       "    </tr>\n",
       "  </thead>\n",
       "  <tbody>\n",
       "    <tr>\n",
       "      <th>0</th>\n",
       "      <td>fuelcell vehicles</td>\n",
       "      <td>LNG (liquid natural gas)</td>\n",
       "      <td>[[0.7554338]]</td>\n",
       "    </tr>\n",
       "    <tr>\n",
       "      <th>1</th>\n",
       "      <td>fuelcell vehicles</td>\n",
       "      <td>propane</td>\n",
       "      <td>[[0.7691965]]</td>\n",
       "    </tr>\n",
       "    <tr>\n",
       "      <th>2</th>\n",
       "      <td>duty electric</td>\n",
       "      <td>propane</td>\n",
       "      <td>[[0.76044923]]</td>\n",
       "    </tr>\n",
       "    <tr>\n",
       "      <th>3</th>\n",
       "      <td>car tax</td>\n",
       "      <td>car</td>\n",
       "      <td>[[0.75818545]]</td>\n",
       "    </tr>\n",
       "  </tbody>\n",
       "</table>\n",
       "</div>"
      ],
      "text/plain": [
       "              bigram                   keyword        distance\n",
       "0  fuelcell vehicles  LNG (liquid natural gas)   [[0.7554338]]\n",
       "1  fuelcell vehicles                   propane   [[0.7691965]]\n",
       "2      duty electric                   propane  [[0.76044923]]\n",
       "3            car tax                       car  [[0.75818545]]"
      ]
     },
     "execution_count": 18,
     "metadata": {},
     "output_type": "execute_result"
    }
   ],
   "source": [
    "df_check = pd.DataFrame()\n",
    "\n",
    "print(bigram_key_result)\n",
    "print(keyword_key_result)\n",
    "\n",
    "for i in range(len(bigram_key_result)):\n",
    "    bigram = pd.Series(bigram_key_result[i])\n",
    "    keyword = pd.Series(keyword_key_result[i])\n",
    "    distance = pd.Series(cosine_distances[i])\n",
    "    \n",
    "    df_check['bigram'] = bigram\n",
    "    df_check['keyword'] = keyword\n",
    "    df_check['distance'] = distance\n",
    "\n",
    "df_check"
   ]
  },
  {
   "cell_type": "code",
   "execution_count": null,
   "id": "84b4b898",
   "metadata": {},
   "outputs": [],
   "source": []
  },
  {
   "cell_type": "code",
   "execution_count": null,
   "id": "4c136bf4",
   "metadata": {},
   "outputs": [],
   "source": []
  }
 ],
 "metadata": {
  "kernelspec": {
   "display_name": "Python 3 (ipykernel)",
   "language": "python",
   "name": "python3"
  },
  "language_info": {
   "codemirror_mode": {
    "name": "ipython",
    "version": 3
   },
   "file_extension": ".py",
   "mimetype": "text/x-python",
   "name": "python",
   "nbconvert_exporter": "python",
   "pygments_lexer": "ipython3",
   "version": "3.9.12"
  }
 },
 "nbformat": 4,
 "nbformat_minor": 5
}

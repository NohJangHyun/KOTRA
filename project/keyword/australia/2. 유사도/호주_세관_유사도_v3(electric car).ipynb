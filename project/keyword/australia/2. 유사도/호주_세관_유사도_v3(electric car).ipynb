{
 "cells": [
  {
   "cell_type": "code",
   "execution_count": 1,
   "id": "b8ed2c83",
   "metadata": {},
   "outputs": [],
   "source": [
    "import numpy as np\n",
    "import itertools\n",
    "\n",
    "from sklearn.feature_extraction.text import CountVectorizer\n",
    "from sklearn.metrics.pairwise import cosine_similarity\n",
    "from sentence_transformers import SentenceTransformer"
   ]
  },
  {
   "cell_type": "code",
   "execution_count": 2,
   "id": "58452534",
   "metadata": {},
   "outputs": [],
   "source": [
    "import pandas as pd\n",
    "import re\n",
    "\n",
    "df = pd.read_csv(\"호주_세관_v2(new20).csv\")\n",
    "\n",
    "df_title = list(df['title'])\n",
    "df_text = list(df['text'])\n",
    "df_add = []\n",
    "\n",
    "for i in range(len(df)):\n",
    "    df_add.append(df_title[i]+\"\"+df_text[i])\n",
    "\n",
    "df_keyword = pd.read_csv(\"호주_번역_100.csv\", index_col = False)"
   ]
  },
  {
   "cell_type": "code",
   "execution_count": 152,
   "id": "081b39a7",
   "metadata": {},
   "outputs": [
    {
     "data": {
      "text/plain": [
       "['Indexation of customs duty rates on excise-equivalent goods on 1 August 2022 australian notice no. 2022/35 indexation of duty rates on excise-equivalent goods on 1 august 2022 this notice sets out the new duty rates for certain excise-equivalent goods, including spirits, beers and fuel products, operative from 1 august 2022. section 19 of the tariff act 1995 (customs tariff act) provides for duty rates for certain excise-equivalent goods to be indexed biannually, in february and august, to the consumer price index (cpi). the new rates are determined by the application of an indexation factor. this indexation factor is calculated by dividing the most recent june or december quarter cpi number by the previous highest june or december quarter cpi number occurring after the june 1983 quarter. the december 2021 quarter cpi figure (121.3) will be used to determine the indexation factor for the duty rate increase applied on 1 august 2022, as it is higher than the previously used june 2021 quarter cpi figure (refer to acn 2022/05). on 27 july 2022, the australian bureau of statistics released the june 2022 quarter cpi figure (126.1). the figures used to calculate the indexation factor for august 2022 are set out in the table below: most recent cpi number highest previous june or december quarter june quarter 2022 december quarter 2021 indexation factor 126.1 121.3 1.040 as the indexation factor for august 2022 (1.040) is greater than one, duty rates for certain excise-equivalent goods, in schedule 3 of the tariff, will increase by the application of this factor. the rates of duty for excise-equivalent goods, operative from 1 august 2022, are set out in table 1 below and supersede the rates outlined in australian notice 2022/05. the rates referenced above also apply to goods subject to indexation in: \\uf0b7 schedule 4a (singaporean originating goods) \\uf0b7 schedule 5 (us originating goods) \\uf0b7 schedule 6 (thai originating goods) \\uf0b7 schedule 6a (peruvian originating goods) \\uf0b7 schedule 7 (chilean originating goods) australia’s service \\uf0b7 schedule 8 (asean-australia-new zealand originating goods) \\uf0b7 schedule 8a (pacific island originating goods) \\uf0b7 schedule 8b (trans-pacific partnership originating goods) \\uf0b7 schedule 9 (malaysian originating goods) \\uf0b7 schedule 9a (indonesian originating goods) \\uf0b7 schedule 10 (korean originating goods) \\uf0b7 schedule 11 (japanese originating goods) \\uf0b7 schedule 12 (chinese originating goods) \\uf0b7 schedule 13 (hong kong originating goods), and \\uf0b7 schedule 14 (regional comprehensive economic partnership originating goods) in the tariff act. the australian border force (abf) will arrange for the publication of a notice of substituted rates of duty for excise-equivalent goods (no. 3) 2022 in the gazette. the australian taxation office (ato) will make equivalent changes to the rates of duty on goods subject to excise. further information can be found on the ato website via the following links: ato.gov.au/alcoholexciserates and ato.gov.au/fuelexciserates. fuel duty rates – 1 august 2022 to 28 september 2022 the indexation arrangements outlined above apply to all tariff subheadings listed in section 19aac, including those that have been temporarily reduced consistent with the provisions of the tariff amendment (cost of living support) act 2022. the excise-equivalent duty rates outlined in the last four rows of table 1 apply for the period 1 august 2022 to 28 september 2022. an australian notice will be published in september outlining the rates that will commence on 29 september 2022. please direct any inquiries concerning these matters to the following contacts: for duty rates for excise duty rates director trade and tariff policy australian border force ph: (02) 6264 2143 director indirect tax, revenue performance australian taxation office ph: (02) 6216 1397 changes to the online tariff available on www.abf.gov.au, to reflect the new rates, will be available on commencement of the rates. relevant revised tariff working pages are at attachment a.',\n",
       " 'Removal of customs duty on certain electric vehicles australian notice no. 2022/34 removal of duty on certain electric vehicles from 1 july 2022, duty on electric vehicles, plug-in hybrid vehicles and hydrogen fuel-cell vehicles with a value less than the fuel efficient luxury car tax threshold will have a ‘free’ rate of duty. the ‘free’ rate of duty applies to all goods that meet this requirement, except those from russia and belarus which currently have an additional duty of 35 per cent applied. implementation notice of intention to propose tariff alterations (no. 6) 2022 (the notice) published on 21 july 2022 implements this measure. the text of the notice, including new additional note 6 to chapter 87 and the new tariff classifications 8703.60.12, 8703.70.12, 8703.80.12 and 8703.90.12, is available at attachment a. the notice operates from 22 july 2022 and applies to goods entered for home consumption from 1 july 2022. lct threshold for 2022-23 consistent with australian notice no. 2022/25 for the 2022-23 financial year the lct threshold for fuel efficient vehicles is $84,916. integrated cargo system the new classifications will be entered into the integrated cargo system (ics) as soon as practical following the publication of the notice. the new classifications will commence retrospectively on 1 july 2022. any goods entered for home consumption on or after 1 july 2022 until the time that the new classifications have been entered into the ics will need to apply for a refund. refund circumstance ‘eb’ should be quoted. revised tariff working pages for schedule 3 are at attachment b. the online tariff is available at: current working tariff (abf.gov.au). amendments to the online tariff will be published as soon as practical after the publication of the notice. any queries related to this issue can be directed to tradepolicy1@abf.gov.au.']"
      ]
     },
     "execution_count": 152,
     "metadata": {},
     "output_type": "execute_result"
    }
   ],
   "source": [
    "#고급 차량 관련 문서로 테스트 진행\n",
    "doc = df_add[:2]\n",
    "doc"
   ]
  },
  {
   "cell_type": "code",
   "execution_count": 153,
   "id": "50d912cd",
   "metadata": {},
   "outputs": [
    {
     "name": "stdout",
     "output_type": "stream",
     "text": [
      "5876\n",
      "5578\n",
      "Indexation of customs duty rates on excise-equivalent goods on August australian notice no. / indexation of duty rates on excise-equivalent goods on this notice sets out the new duty rates for certain excise-equivalent goods, including spirits, beers and fuel products, operative from . section of the tariff act (customs tariff act) provides for duty rates for certain excise-equivalent goods to be indexed biannually, in and august, to the consumer price index (cpi). the new rates are determined by the application of an indexation factor. this indexation factor is calculated by dividing the most recent or quarter cpi number by the previous highest or quarter cpi number occurring after the quarter. the quarter cpi figure (.) will be used to determine the indexation factor for the duty rate increase applied on , as it is higher than the previously used quarter cpi figure (refer to acn /). on , the australian bureau of statistics released the quarter cpi figure (.). the figures used to calculate the indexation factor for are set out in the table below: most recent cpi number highest previous or quarter quarter quarter indexation factor . . . as the indexation factor for (.) is greater than one, duty rates for certain excise-equivalent goods, in schedule of the tariff, will increase by the application of this factor. the rates of duty for excise-equivalent goods, operative from , are set out in table below and supersede the rates outlined in australian notice /. the rates referenced above also apply to goods subject to indexation in:  schedule a (singaporean originating goods)  schedule (us originating goods)  schedule (thai originating goods)  schedule a (peruvian originating goods)  schedule (chilean originating goods) australia’s service  schedule (asean-australia-new zealand originating goods)  schedule a (pacific island originating goods)  schedule b (trans-pacific partnership originating goods)  schedule (malaysian originating goods)  schedule a (indonesian originating goods)  schedule (korean originating goods)  schedule (japanese originating goods)  schedule (chinese originating goods)  schedule (hong kong originating goods), and  schedule (regional comprehensive economic partnership originating goods) in the tariff act. the australian border force (abf) will arrange for the publication of a notice of substituted rates of duty for excise-equivalent goods (no. ) in the gazette. the australian taxation office (ato) will make equivalent changes to the rates of duty on goods subject to excise. further information can be found on the ato website via the following links: ato.gov.au/alcoholexciserates and ato.gov.au/fuelexciserates. fuel duty rates – to the indexation arrangements outlined above apply to all tariff subheadings listed in section aac, including those that have been temporarily reduced consistent with the provisions of the tariff amendment (cost of living support) act . the excise-equivalent duty rates outlined in the last four rows of table apply for the period to . an australian notice will be published in outlining the rates that will commence on . please direct any inquiries concerning these matters to the following contacts: for duty rates for excise duty rates director trade and tariff policy australian border force ph: () director indirect tax, revenue performance australian taxation office ph: () changes to the online tariff available on www.abf.gov.au, to reflect the new rates, will be available on commencement of the rates. relevant revised tariff working pages are at attachment a.Removal of customs duty on certain electric vehicles australian notice no. / removal of duty on certain electric vehicles from , duty on electric vehicles, plug-in hybrid vehicles and hydrogen fuel-cell vehicles with a value less than the fuel efficient luxury car tax threshold will have a ‘free’ rate of duty. the ‘free’ rate of duty applies to all goods that meet this requirement, except those from russia and belarus which currently have an additional duty of per cent applied. implementation notice of intention to propose tariff alterations (no. ) (the notice) published on implements this measure. the text of the notice, including new additional note to chapter and the new tariff classifications .., .., .. and .., is available at attachment a. the notice operates from and applies to goods entered for home consumption from . lct threshold for - consistent with australian notice no. / for the - financial year the lct threshold for fuel efficient vehicles is $,. integrated cargo system the new classifications will be entered into the integrated cargo system (ics) as soon as practical following the publication of the notice. the new classifications will commence retrospectively on . any goods entered for home consumption on or after until the time that the new classifications have been entered into the ics will need to apply for a refund. refund circumstance ‘eb’ should be quoted. revised tariff working pages for schedule are at attachment b. the online tariff is available at: current working tariff (abf.gov.au). amendments to the online tariff will be published as soon as practical after the publication of the notice. any queries related to this issue can be directed to tradepolicy@abf.gov.au.\n"
     ]
    }
   ],
   "source": [
    "import string\n",
    "from nltk.tag import pos_tag\n",
    "from nltk.tokenize import word_tokenize\n",
    "\n",
    "#구두점 제거\n",
    "doc1 = \"\".join([i for i in doc if i not in string.punctuation]).strip()\n",
    "print(len(doc1))\n",
    "\n",
    "#숫자 제거\n",
    "doc2 = \"\".join([i for i in doc1 if not i.isdigit()])\n",
    "print(len(doc2))\n",
    "\n",
    "#월 제거\n",
    "month = ['january', 'february', 'march', 'april', 'may', 'june', 'july', 'august',\n",
    "        'september', 'october', 'november', 'december', 'jan', 'feb', 'mar', 'apr',\n",
    "         'may', 'jun','jul', 'aug', 'sep', 'oct', 'nov', 'dec']   \n",
    "    \n",
    "doc3 = \" \".join([i for i in doc2.split() if i not in month])\n",
    "print(doc3)\n",
    "\n",
    "# word_tokens = word_tokenize(doc2)\n",
    "\n",
    "#동사 명사\n",
    "# word_tokens = pos_tag(word_tokenize(doc))\n",
    "# word_tokens = [t[0] for t in word_tokens if t[1] == \"NN\"]"
   ]
  },
  {
   "cell_type": "code",
   "execution_count": 154,
   "id": "1d417698",
   "metadata": {},
   "outputs": [
    {
     "name": "stdout",
     "output_type": "stream",
     "text": [
      "bigram 개수 : 375\n",
      "bigram 출력 : ['aac including' 'abf arrange' 'abf gov' 'acn australian' 'act australian'\n",
      " 'act customs' 'act excise' 'act provides' 'additional duty'\n",
      " 'additional note' 'alcoholexciserates ato' 'alterations notice'\n",
      " 'amendment cost' 'amendments online' 'application factor'\n",
      " 'application indexation' 'applied higher' 'applied implementation'\n",
      " 'applies goods' 'apply goods' 'apply period' 'apply refund'\n",
      " 'apply tariff' 'arrange publication' 'arrangements outlined'\n",
      " 'asean australia' 'ato gov' 'ato make' 'ato website' 'attachment notice'\n",
      " 'attachment online' 'attachment removal' 'au alcoholexciserates'\n",
      " 'au amendments' 'au fuelexciserates' 'au reflect' 'august australian'\n",
      " 'august consumer' 'australia new' 'australia service' 'australian border'\n",
      " 'australian bureau' 'australian notice' 'australian taxation'\n",
      " 'available attachment' 'available commencement' 'available current'\n",
      " 'available www' 'beers fuel' 'belarus currently' 'biannually august'\n",
      " 'border force' 'bureau statistics' 'calculate indexation'\n",
      " 'calculated dividing' 'car tax' 'cargo ics' 'cargo new' 'cell vehicles'\n",
      " 'cent applied' 'certain electric' 'certain excise' 'changes online'\n",
      " 'changes rates' 'chapter new' 'chilean originating' 'chinese originating'\n",
      " 'circumstance eb' 'classifications available' 'classifications commence'\n",
      " 'classifications entered' 'commence direct' 'commence retrospectively'\n",
      " 'commencement rates' 'comprehensive economic' 'concerning matters'\n",
      " 'consistent australian' 'consistent provisions' 'consumer price'\n",
      " 'consumption lct' 'consumption time' 'contacts duty' 'cost living'\n",
      " 'cpi figure' 'cpi new' 'cpi number' 'current working'\n",
      " 'currently additional' 'customs duty' 'customs tariff'\n",
      " 'determine indexation' 'determined application' 'direct inquiries'\n",
      " 'directed tradepolicy' 'director indirect' 'director trade'\n",
      " 'dividing recent' 'duty applies' 'duty cent' 'duty certain'\n",
      " 'duty electric' 'duty excise' 'duty free' 'duty goods' 'duty rate'\n",
      " 'duty rates' 'eb quoted' 'economic partnership' 'efficient luxury'\n",
      " 'efficient vehicles' 'electric vehicles' 'entered home' 'entered ics'\n",
      " 'entered integrated' 'equivalent changes' 'equivalent duty'\n",
      " 'equivalent goods' 'excise duty' 'excise equivalent' 'excise information'\n",
      " 'factor calculated' 'factor duty' 'factor greater' 'factor indexation'\n",
      " 'factor rates' 'factor set' 'figure figures' 'figure refer' 'figure used'\n",
      " 'figures used' 'financial year' 'following contacts' 'following links'\n",
      " 'following publication' 'force abf' 'force ph' 'free rate' 'fuel cell'\n",
      " 'fuel duty' 'fuel efficient' 'fuel products' 'fuelexciserates fuel'\n",
      " 'gazette australian' 'goods august' 'goods australia' 'goods entered'\n",
      " 'goods gazette' 'goods including' 'goods indexed' 'goods meet'\n",
      " 'goods notice' 'goods operative' 'goods schedule' 'goods subject'\n",
      " 'goods tariff' 'gov au' 'greater duty' 'higher previously'\n",
      " 'highest previous' 'highest quarter' 'home consumption' 'hong kong'\n",
      " 'hybrid vehicles' 'hydrogen fuel' 'ics need' 'ics soon'\n",
      " 'implementation notice' 'implements measure' 'including new'\n",
      " 'including spirits' 'including temporarily' 'increase application'\n",
      " 'increase applied' 'index cpi' 'indexation arrangements'\n",
      " 'indexation customs' 'indexation duty' 'indexation factor'\n",
      " 'indexation schedule' 'indexed biannually' 'indirect tax'\n",
      " 'indonesian originating' 'information ato' 'inquiries concerning'\n",
      " 'integrated cargo' 'intention propose' 'island originating'\n",
      " 'issue directed' 'japanese originating' 'kong originating'\n",
      " 'korean originating' 'lct threshold' 'links ato' 'listed section'\n",
      " 'living support' 'luxury car' 'make equivalent' 'malaysian originating'\n",
      " 'matters following' 'measure text' 'meet requirement' 'need apply'\n",
      " 'new additional' 'new classifications' 'new duty' 'new rates'\n",
      " 'new tariff' 'new zealand' 'note chapter' 'notice financial'\n",
      " 'notice including' 'notice indexation' 'notice intention' 'notice new'\n",
      " 'notice operates' 'notice published' 'notice queries' 'notice rates'\n",
      " 'notice removal' 'notice sets' 'notice substituted' 'number highest'\n",
      " 'number occurring' 'number previous' 'occurring quarter' 'office ato'\n",
      " 'office ph' 'online tariff' 'operates applies' 'operative section'\n",
      " 'operative set' 'originating goods' 'outlined apply'\n",
      " 'outlined australian' 'outlined rows' 'outlining rates' 'pacific island'\n",
      " 'pacific partnership' 'pages attachment' 'pages schedule'\n",
      " 'partnership originating' 'performance australian' 'period australian'\n",
      " 'peruvian originating' 'ph changes' 'ph director' 'plug hybrid'\n",
      " 'policy australian' 'practical following' 'practical publication'\n",
      " 'previous highest' 'previous quarter' 'previously used' 'price index'\n",
      " 'products operative' 'propose tariff' 'provides duty' 'provisions tariff'\n",
      " 'publication notice' 'published implements' 'published outlining'\n",
      " 'published soon' 'quarter cpi' 'quarter indexation' 'quarter quarter'\n",
      " 'queries related' 'quoted revised' 'rate duty' 'rate increase'\n",
      " 'rates available' 'rates certain' 'rates commence' 'rates determined'\n",
      " 'rates director' 'rates duty' 'rates excise' 'rates indexation'\n",
      " 'rates outlined' 'rates referenced' 'rates relevant' 'recent cpi'\n",
      " 'recent quarter' 'reduced consistent' 'refer acn' 'referenced apply'\n",
      " 'reflect new' 'refund circumstance' 'refund refund'\n",
      " 'regional comprehensive' 'related issue' 'released quarter'\n",
      " 'relevant revised' 'removal customs' 'removal duty' 'requirement russia'\n",
      " 'retrospectively goods' 'revenue performance' 'revised tariff'\n",
      " 'rows table' 'russia belarus' 'schedule asean' 'schedule attachment'\n",
      " 'schedule chilean' 'schedule chinese' 'schedule hong'\n",
      " 'schedule indonesian' 'schedule japanese' 'schedule korean'\n",
      " 'schedule malaysian' 'schedule originating' 'schedule pacific'\n",
      " 'schedule peruvian' 'schedule regional' 'schedule singaporean'\n",
      " 'schedule tariff' 'schedule thai' 'schedule trans' 'section aac'\n",
      " 'section tariff' 'service schedule' 'set table' 'sets new'\n",
      " 'singaporean originating' 'soon practical' 'spirits beers'\n",
      " 'statistics released' 'subheadings listed' 'subject excise'\n",
      " 'subject indexation' 'substituted rates' 'supersede rates' 'support act'\n",
      " 'table apply' 'table recent' 'table supersede' 'tariff abf' 'tariff act'\n",
      " 'tariff alterations' 'tariff amendment' 'tariff available'\n",
      " 'tariff classifications' 'tariff increase' 'tariff policy'\n",
      " 'tariff published' 'tariff subheadings' 'tariff working' 'tax revenue'\n",
      " 'tax threshold' 'taxation office' 'temporarily reduced' 'text notice'\n",
      " 'thai originating' 'threshold consistent' 'threshold free'\n",
      " 'threshold fuel' 'time new' 'trade tariff' 'tradepolicy abf'\n",
      " 'trans pacific' 'used calculate' 'used determine' 'used quarter'\n",
      " 'value fuel' 'vehicles australian' 'vehicles duty' 'vehicles hydrogen'\n",
      " 'vehicles integrated' 'vehicles plug' 'vehicles value'\n",
      " 'website following' 'working pages' 'working tariff' 'www abf' 'year lct'\n",
      " 'zealand originating']\n"
     ]
    }
   ],
   "source": [
    "n_gram_range = (2, 2)\n",
    "stop_words = \"english\"\n",
    "\n",
    "count = CountVectorizer(ngram_range=n_gram_range, stop_words=stop_words).fit([doc3])\n",
    "candidates = count.get_feature_names_out()\n",
    "\n",
    "print('bigram 개수 :',len(candidates))\n",
    "print('bigram 출력 :',candidates)"
   ]
  },
  {
   "cell_type": "code",
   "execution_count": 155,
   "id": "8686f115",
   "metadata": {},
   "outputs": [],
   "source": [
    "#문서 전체와 문서에서 추출한 키워드 수치화\n",
    "model = SentenceTransformer('distilbert-base-nli-mean-tokens')\n",
    "doc_embedding = model.encode([doc]) #전체 문서\n",
    "candidate_embeddings = model.encode(candidates)#추출한 bigram"
   ]
  },
  {
   "cell_type": "code",
   "execution_count": 156,
   "id": "1ccf7bf9",
   "metadata": {},
   "outputs": [
    {
     "name": "stdout",
     "output_type": "stream",
     "text": [
      "1\n",
      "[['tax revenue', 'au fuelexciserates', 'tariff increase', 'new tariff', 'vehicles australian', 'tariff amendment', 'online tariff', 'goods australia', 'tariff subheadings', 'spirits beers', 'rates excise', 'revised tariff', 'august australian', 'tariff alterations', 'indirect tax', 'fuelexciserates fuel', 'car tax', 'asean australia', 'tax threshold', 'australian taxation']]\n"
     ]
    }
   ],
   "source": [
    "#문서와 가장 유사한 키워드 추출\n",
    "doc_bigram_keywords = []\n",
    "\n",
    "top_n = 20\n",
    "distances = cosine_similarity(doc_embedding, candidate_embeddings)\n",
    "doc_bigram_keyword = [candidates[index] for index in distances.argsort()[0][-top_n:]]\n",
    "doc_bigram_keywords.append(doc_bigram_keyword)\n",
    "\n",
    "print(len(doc_bigram_keywords))\n",
    "print(doc_bigram_keywords)"
   ]
  },
  {
   "cell_type": "code",
   "execution_count": 157,
   "id": "9e410efd",
   "metadata": {},
   "outputs": [
    {
     "name": "stdout",
     "output_type": "stream",
     "text": [
      "1\n"
     ]
    }
   ],
   "source": [
    "#문서와 가장 유사한 키워드 벡터화\n",
    "doc_bigram_embedding = []\n",
    "for keyword in doc_bigram_keywords:\n",
    "    doc_bigram_embedding.append(model.encode(keyword))\n",
    "print(len(doc_bigram_embedding))\n",
    "\n",
    "# ['신규 변경', '신규 관세', '자동차세', '온라인 관세', '세금 임계값']"
   ]
  },
  {
   "cell_type": "code",
   "execution_count": 158,
   "id": "e016f7b5",
   "metadata": {},
   "outputs": [
    {
     "name": "stdout",
     "output_type": "stream",
     "text": [
      "102\n"
     ]
    }
   ],
   "source": [
    "#keyword : 불러온 호주 키워드 중 번역 Column 추출\n",
    "keyword = list(df_keyword[\"번역\"])\n",
    "keyword_embedding = []\n",
    "\n",
    "for ele in keyword:\n",
    "    keyword_embedding.append(model.encode(ele))\n",
    "\n",
    "print(len(keyword_embedding))"
   ]
  },
  {
   "cell_type": "code",
   "execution_count": 147,
   "id": "5d1dc6be",
   "metadata": {},
   "outputs": [],
   "source": [
    "#doc_bigram_keywords -> doc_bigram_embedding\n",
    "#keyword -> keyword_embedding"
   ]
  },
  {
   "cell_type": "code",
   "execution_count": 150,
   "id": "1febfd9a",
   "metadata": {},
   "outputs": [],
   "source": [
    "#문서 키워드(doc_bigram_embedding)와 키워드 100(keyword_embedding) 유사도 비교 \n",
    "bigram_key_result = []\n",
    "keyword_key_result = []\n",
    "\n",
    "\n",
    "for index, bigram in enumerate(doc_bigram_embedding):\n",
    "    bigram_result = []\n",
    "    key_result=[]\n",
    "    \n",
    "    for i in range(len(bigram)):\n",
    "        for j in range(len(keyword_embedding)):\n",
    "            distances = cosine_similarity([bigram[i]],[keyword_embedding[j]])\n",
    "            if distances[0][0] > 0.70:\n",
    "                bigram_result.append(doc_bigram_keywords[index][i])\n",
    "                key_result.append(keyword[j])\n",
    "#         print(bigram_result)\n",
    "#         print(key_result)\n",
    "    bigram_key_result.append(set(bigram_result))\n",
    "    keyword_key_result.append(set(key_result))"
   ]
  },
  {
   "cell_type": "code",
   "execution_count": 151,
   "id": "dbedcb0c",
   "metadata": {},
   "outputs": [
    {
     "name": "stdout",
     "output_type": "stream",
     "text": [
      "[{'fuelcell vehicles', 'hybrid vehicles', 'tariff available', 'car tax', 'hydrogen fuelcell', 'vehicles hydrogen', 'removal customs', 'duty electric'}]\n",
      "[{'gourd', 'machinery', 'copper', 'car', 'lubricating oil', 'LNG (liquid natural gas)', 'propane', 'feed', 'molasses', 'Automotive Parts', 'beverage', 'Liquid pump'}]\n"
     ]
    }
   ],
   "source": [
    "df_check = pd.DataFrame()\n",
    "\n",
    "print(bigram_key_result)\n",
    "print(keyword_key_result)\n",
    "# bigram = pd.Series(bigram_key_result)\n",
    "# key = pd.Series(keyword_key_result)\n",
    "\n",
    "# bigram = bigram.to_frame()\n",
    "# bigram\n"
   ]
  },
  {
   "cell_type": "code",
   "execution_count": null,
   "id": "84b4b898",
   "metadata": {},
   "outputs": [],
   "source": []
  },
  {
   "cell_type": "code",
   "execution_count": null,
   "id": "4c136bf4",
   "metadata": {},
   "outputs": [],
   "source": []
  }
 ],
 "metadata": {
  "kernelspec": {
   "display_name": "Python 3 (ipykernel)",
   "language": "python",
   "name": "python3"
  },
  "language_info": {
   "codemirror_mode": {
    "name": "ipython",
    "version": 3
   },
   "file_extension": ".py",
   "mimetype": "text/x-python",
   "name": "python",
   "nbconvert_exporter": "python",
   "pygments_lexer": "ipython3",
   "version": "3.9.12"
  }
 },
 "nbformat": 4,
 "nbformat_minor": 5
}

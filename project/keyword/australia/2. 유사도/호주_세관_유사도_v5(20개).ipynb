{
 "cells": [
  {
   "cell_type": "code",
   "execution_count": 1,
   "id": "bc8022f4",
   "metadata": {},
   "outputs": [],
   "source": [
    "import numpy as np\n",
    "import itertools\n",
    "\n",
    "from sklearn.feature_extraction.text import CountVectorizer\n",
    "from sklearn.metrics.pairwise import cosine_similarity\n",
    "from sentence_transformers import SentenceTransformer"
   ]
  },
  {
   "cell_type": "code",
   "execution_count": 2,
   "id": "38479faa",
   "metadata": {},
   "outputs": [],
   "source": [
    "import pandas as pd\n",
    "import re\n",
    "\n",
    "df = pd.read_csv(\"호주_세관_v2(new20).csv\")\n",
    "\n",
    "df_title = list(df['title'])\n",
    "df_text = list(df['text'])\n",
    "df_add = []\n",
    "\n",
    "for i in range(len(df)):\n",
    "    df_add.append(df_title[i].lower()+\"\"+df_text[i])\n",
    "\n",
    "df_keyword = pd.read_csv(\"호주_번역_100.csv\", index_col = False)"
   ]
  },
  {
   "cell_type": "code",
   "execution_count": 3,
   "id": "14b0477c",
   "metadata": {},
   "outputs": [],
   "source": [
    "df_add = df_add[:2]\n"
   ]
  },
  {
   "cell_type": "code",
   "execution_count": 4,
   "id": "378baae6",
   "metadata": {},
   "outputs": [],
   "source": [
    "#전처리\n",
    "import string\n",
    "from nltk.tag import pos_tag\n",
    "from nltk.tokenize import word_tokenize\n",
    "\n",
    "doc_list = []\n",
    "for doc in df_add:\n",
    "\n",
    "    #구두점 제거\n",
    "    doc1 = \"\".join([i for i in doc if i not in string.punctuation]).strip()\n",
    "\n",
    "    #숫자 제거\n",
    "    doc2 = \"\".join([i for i in doc1 if not i.isdigit()])\n",
    "    \n",
    "    #월 제거\n",
    "    month = ['january', 'february', 'march', 'april', 'may', 'june', 'july', 'august',\n",
    "            'september', 'october', 'november', 'december', 'jan', 'feb', 'mar', 'apr',\n",
    "             'may', 'jun','jul', 'aug', 'sep', 'oct', 'nov', 'dec']   \n",
    "\n",
    "    doc3 = \" \".join([i for i in doc2.split() if i not in month])\n",
    "    doc_list.append(doc3)"
   ]
  },
  {
   "cell_type": "code",
   "execution_count": 5,
   "id": "a27deaff",
   "metadata": {},
   "outputs": [],
   "source": [
    "#전처리한 문서에서 바이그램 추출\n",
    "n_gram_range = (2, 2)\n",
    "stop_words = \"english\"\n",
    "\n",
    "candidate_list = []\n",
    "for doc in doc_list:\n",
    "    count = CountVectorizer(ngram_range=n_gram_range, stop_words=stop_words).fit([doc])\n",
    "    candidate = count.get_feature_names_out()\n",
    "    candidate_list.append(candidate)\n"
   ]
  },
  {
   "cell_type": "code",
   "execution_count": 6,
   "id": "ff234f67",
   "metadata": {},
   "outputs": [],
   "source": [
    "#문서 전체와 문서에서 추출한 키워드 수치화\n",
    "# model = SentenceTransformer('distilbert-base-nli-mean-tokens')\n",
    "model = SentenceTransformer('all-mpnet-base-v2')\n",
    "bigram_keywords = []\n",
    "top_n = 10\n",
    "\n",
    "for i in range(len(doc_list)):\n",
    "    doc_embeddings = model.encode([doc_list[i]])\n",
    "    candidate_embeddings = model.encode(candidate_list[i])\n",
    "    distances = cosine_similarity(doc_embeddings, candidate_embeddings)\n",
    "    bigram_keywords.append([candidate_list[i][index] for index in distances.argsort()[0][-top_n:]])"
   ]
  },
  {
   "cell_type": "code",
   "execution_count": 7,
   "id": "58c686ed",
   "metadata": {},
   "outputs": [
    {
     "data": {
      "text/plain": [
       "['vehicles australian',\n",
       " 'tariff working',\n",
       " 'electric vehicles',\n",
       " 'vehicles duty',\n",
       " 'tariff classifications',\n",
       " 'propose tariff',\n",
       " 'car tax',\n",
       " 'new tariff',\n",
       " 'tariff alterations',\n",
       " 'revised tariff']"
      ]
     },
     "execution_count": 7,
     "metadata": {},
     "output_type": "execute_result"
    }
   ],
   "source": [
    "bigram_keywords[1]"
   ]
  },
  {
   "cell_type": "code",
   "execution_count": 8,
   "id": "eb2047ac",
   "metadata": {},
   "outputs": [],
   "source": [
    "#문서와 가장 유사한 키워드 벡터화\n",
    "bigram_embeddings = []\n",
    "for i in range(len(doc_list)):\n",
    "    bigram_embedding = []\n",
    "    for keyword in bigram_keywords[i]:\n",
    "        bigram_embedding.append(model.encode(keyword))\n",
    "    bigram_embeddings.append(bigram_embedding)"
   ]
  },
  {
   "cell_type": "code",
   "execution_count": 9,
   "id": "7d4f2bfe",
   "metadata": {},
   "outputs": [],
   "source": [
    "#keyword : 불러온 호주 키워드 중 번역 Column 추출\n",
    "keyword = list(df_keyword[\"번역\"])\n",
    "keyword_embeddings = []\n",
    "\n",
    "for ele in keyword:\n",
    "    keyword_embeddings.append(model.encode(ele))"
   ]
  },
  {
   "cell_type": "code",
   "execution_count": 10,
   "id": "4719d343",
   "metadata": {},
   "outputs": [],
   "source": [
    "# keyword와 바이그램 유사도 비교\n",
    "\n",
    "bigram_result = []\n",
    "keyword_result = []\n",
    "cosine_result = []\n",
    "for index, bigram in enumerate(bigram_embeddings): #2번 반복(총 2개 문서)\n",
    "    \n",
    "    b_result = []\n",
    "    k_result = []\n",
    "    c_result = []\n",
    "    \n",
    "    for i in range(len(bigram)): # 20번 반복(top 20)\n",
    "        \n",
    "        for j in range(len(keyword_embeddings)): #102번 반복(keyword 개수)\n",
    "            \n",
    "            distances = cosine_similarity([bigram[i]],[keyword_embeddings[j]]) #유사도 비교\n",
    "            \n",
    "            if distances[0][0] > 0.4:\n",
    "                \n",
    "                b_result.append(bigram_keywords[index][i])\n",
    "                k_result.append(keyword[j])\n",
    "                c_result.append(str(round(float(distances),3)))\n",
    "                \n",
    "    bigram_result.append(b_result)\n",
    "    keyword_result.append(k_result)\n",
    "    cosine_result.append(c_result)"
   ]
  },
  {
   "cell_type": "code",
   "execution_count": 11,
   "id": "f80d3c62",
   "metadata": {},
   "outputs": [
    {
     "data": {
      "text/html": [
       "<div>\n",
       "<style scoped>\n",
       "    .dataframe tbody tr th:only-of-type {\n",
       "        vertical-align: middle;\n",
       "    }\n",
       "\n",
       "    .dataframe tbody tr th {\n",
       "        vertical-align: top;\n",
       "    }\n",
       "\n",
       "    .dataframe thead th {\n",
       "        text-align: right;\n",
       "    }\n",
       "</style>\n",
       "<table border=\"1\" class=\"dataframe\">\n",
       "  <thead>\n",
       "    <tr style=\"text-align: right;\">\n",
       "      <th></th>\n",
       "      <th>bigram</th>\n",
       "      <th>keyword</th>\n",
       "      <th>distance</th>\n",
       "    </tr>\n",
       "  </thead>\n",
       "  <tbody>\n",
       "    <tr>\n",
       "      <th>0</th>\n",
       "      <td>duty goods/duty goods/duty goods</td>\n",
       "      <td>agricultural products/dairy products/cosmetics</td>\n",
       "      <td>0.447/0.41/0.403</td>\n",
       "    </tr>\n",
       "    <tr>\n",
       "      <th>1</th>\n",
       "      <td>vehicles australian/car tax/vehicles duty/vehi...</td>\n",
       "      <td>car/car/car/Automotive Parts/car/machinery/Aut...</td>\n",
       "      <td>0.592/0.495/0.493/0.488/0.483/0.435/0.428/0.42</td>\n",
       "    </tr>\n",
       "  </tbody>\n",
       "</table>\n",
       "</div>"
      ],
      "text/plain": [
       "                                              bigram  \\\n",
       "0                   duty goods/duty goods/duty goods   \n",
       "1  vehicles australian/car tax/vehicles duty/vehi...   \n",
       "\n",
       "                                             keyword  \\\n",
       "0     agricultural products/dairy products/cosmetics   \n",
       "1  car/car/car/Automotive Parts/car/machinery/Aut...   \n",
       "\n",
       "                                         distance  \n",
       "0                                0.447/0.41/0.403  \n",
       "1  0.592/0.495/0.493/0.488/0.483/0.435/0.428/0.42  "
      ]
     },
     "execution_count": 11,
     "metadata": {},
     "output_type": "execute_result"
    }
   ],
   "source": [
    "#df 생성\n",
    "df_final = pd.DataFrame()\n",
    "\n",
    "bigram_list = []\n",
    "keyword_list = []\n",
    "distance = []\n",
    "\n",
    "for i in range(len(df_add)):\n",
    "    B, K, D = [], [], []\n",
    "    b_result,k_result, d_result = \"\", \"\", \"\"\n",
    "    df_check = pd.DataFrame()\n",
    "    df_check['bigram'] = pd.Series(bigram_result[i])\n",
    "    df_check['keyword'] = pd.Series(keyword_result[i])\n",
    "    df_check['distance'] = pd.Series(cosine_result[i])\n",
    "    \n",
    "    df_check = df_check.sort_values(by=\"distance\", ascending=False)\n",
    "    \n",
    "    B = df_check['bigram'].tolist()\n",
    "    K = df_check['keyword'].tolist()\n",
    "    D = df_check['distance'].tolist()\n",
    "    \n",
    "    for b in B:\n",
    "        b_result = b_result + \"/\" + b\n",
    "    for k in K:\n",
    "        k_result = k_result + \"/\" + k\n",
    "    for d in D:\n",
    "        d_result = d_result + \"/\" + d\n",
    "        \n",
    "        \n",
    "    bigram_list.append(b_result[1:])\n",
    "    keyword_list.append(k_result[1:])\n",
    "    distance.append(d_result[1:])\n",
    "\n",
    "    del df_check\n",
    "    \n",
    "df_final['bigram'] = bigram_list\n",
    "df_final['keyword'] = keyword_list\n",
    "df_final['distance'] = distance\n",
    "    \n",
    "df_final\n"
   ]
  },
  {
   "cell_type": "code",
   "execution_count": 12,
   "id": "394fb1bb",
   "metadata": {},
   "outputs": [],
   "source": [
    "# keyword와 바이그램 유사도 비교\n",
    "\n",
    "# bigram_result = []\n",
    "# keyword_result = []\n",
    "# cosine_result = []\n",
    "# for index, bigram in enumerate(bigram_embeddings): #2번 반복(총 2개 문서)\n",
    "    \n",
    "#     b_result = \"\"\n",
    "#     k_result = \"\"\n",
    "#     c_result = \"\"\n",
    "    \n",
    "#     for i in range(len(bigram)): # 20번 반복(top 20)\n",
    "        \n",
    "#         for j in range(len(keyword_embeddings)): #102번 반복(keyword 개수)\n",
    "            \n",
    "#             distances = cosine_similarity([bigram[i]],[keyword_embeddings[j]]) #유사도 비교\n",
    "            \n",
    "#             if distances[0][0] > 0.7:\n",
    "                \n",
    "#                 b_result = b_result + \"/\" + bigram_keywords[index][i]\n",
    "#                 k_result = k_result + \"/\" + keyword[j]\n",
    "#                 c_result = c_result + \"/\" + str(round(float(distances),3))\n",
    "                \n",
    "#     bigram_result.append(b_result[1:])\n",
    "#     keyword_result.append(k_result[1:])\n",
    "#     cosine_result.append(c_result[1:])"
   ]
  },
  {
   "cell_type": "code",
   "execution_count": 13,
   "id": "77f0835d",
   "metadata": {},
   "outputs": [],
   "source": [
    "# df_final = pd.DataFrame()\n",
    "\n",
    "# bigram_list = []\n",
    "# keyword_list = []\n",
    "# distance = []\n",
    "\n",
    "# for i in range(len(df_add)):\n",
    "#     df_check = pd.DataFrame()\n",
    "#     df_check['bigram'] = pd.Series(bigram_result[i])\n",
    "#     df_check['keyword'] = pd.Series(keyword_result[i])\n",
    "#     df_check['distance'] = pd.Series(cosine_result[i])\n",
    "    \n",
    "#     df_check = df_check.sort_values(by=\"distance\", ascending=False)\n",
    "    \n",
    "    \n",
    "#     bigram_list.append(np.array(df_check['bigram'].tolist()))\n",
    "#     keyword_list.append(np.array(df_check['keyword'].tolist()))\n",
    "#     distance.append(np.array(df_check['distance'].tolist()))\n",
    "    \n",
    "    \n",
    "#     del df_check\n",
    "    \n",
    "# df_final['bigram'] = bigram_list\n",
    "# df_final['keyword'] = keyword_list\n",
    "# df_final['distance'] = distance\n",
    "    \n",
    "# df_final\n"
   ]
  },
  {
   "cell_type": "code",
   "execution_count": null,
   "id": "5983445a",
   "metadata": {},
   "outputs": [],
   "source": []
  }
 ],
 "metadata": {
  "kernelspec": {
   "display_name": "Python 3 (ipykernel)",
   "language": "python",
   "name": "python3"
  },
  "language_info": {
   "codemirror_mode": {
    "name": "ipython",
    "version": 3
   },
   "file_extension": ".py",
   "mimetype": "text/x-python",
   "name": "python",
   "nbconvert_exporter": "python",
   "pygments_lexer": "ipython3",
   "version": "3.9.12"
  }
 },
 "nbformat": 4,
 "nbformat_minor": 5
}

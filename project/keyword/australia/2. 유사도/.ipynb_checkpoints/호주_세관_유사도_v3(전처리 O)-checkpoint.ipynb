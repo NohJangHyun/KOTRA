{
 "cells": [
  {
   "cell_type": "code",
   "execution_count": 1,
   "id": "b8ed2c83",
   "metadata": {},
   "outputs": [],
   "source": [
    "import numpy as np\n",
    "import itertools\n",
    "\n",
    "from sklearn.feature_extraction.text import CountVectorizer\n",
    "from sklearn.metrics.pairwise import cosine_similarity\n",
    "from sentence_transformers import SentenceTransformer"
   ]
  },
  {
   "cell_type": "code",
   "execution_count": 2,
   "id": "58452534",
   "metadata": {},
   "outputs": [],
   "source": [
    "import pandas as pd\n",
    "import re\n",
    "\n",
    "df = pd.read_csv(\"호주_세관_v2(new20).csv\")\n",
    "\n",
    "df_title = list(df['title'])\n",
    "df_text = list(df['text'])\n",
    "df_add = []\n",
    "\n",
    "for i in range(len(df)):\n",
    "    df_add.append(df_title[i]+\"\"+df_text[i])\n",
    "\n",
    "df_keyword = pd.read_csv(\"호주_번역_100.csv\", index_col = False)"
   ]
  },
  {
   "cell_type": "code",
   "execution_count": 3,
   "id": "081b39a7",
   "metadata": {},
   "outputs": [],
   "source": [
    "#고급 차량 관련 문서로 테스트 진행\n",
    "doc = df_add[1]"
   ]
  },
  {
   "cell_type": "code",
   "execution_count": 4,
   "id": "50d912cd",
   "metadata": {},
   "outputs": [
    {
     "name": "stdout",
     "output_type": "stream",
     "text": [
      "1815\n"
     ]
    }
   ],
   "source": [
    "import string\n",
    "from nltk.tag import pos_tag\n",
    "from nltk.tokenize import word_tokenize\n",
    "\n",
    "#구두점 제거\n",
    "doc1 = \"\".join([i for i in doc if i not in string.punctuation]).strip()\n",
    "print(len(doc1))\n",
    "\n",
    "#숫자 제거\n",
    "doc3 = \"\".join([i for i in doc1 if not i.isdigit()])\n",
    "# print(len(doc2))\n",
    "\n",
    "#월 제거\n",
    "# month = ['january', 'february', 'march', 'april', 'may', 'june', 'july', 'august',\n",
    "#         'september', 'october', 'november', 'december', 'jan', 'feb', 'mar', 'apr',\n",
    "#          'may', 'jun','jul', 'aug', 'sep', 'oct', 'nov', 'dec']   \n",
    "    \n",
    "# doc3 = \" \".join([i for i in doc2.split() if i not in month])\n",
    "# print(len(doc3))\n",
    "# print(doc3)\n",
    "# word_tokens = word_tokenize(doc2)\n",
    "\n",
    "#동사 명사\n",
    "# word_tokens = pos_tag(word_tokenize(doc))\n",
    "# word_tokens = [t[0] for t in word_tokens if t[1] == \"NN\"]"
   ]
  },
  {
   "cell_type": "code",
   "execution_count": 5,
   "id": "1d417698",
   "metadata": {
    "scrolled": true
   },
   "outputs": [
    {
     "name": "stdout",
     "output_type": "stream",
     "text": [
      "bigram 개수 : 130\n",
      "bigram 출력 : ['abfgovau amendments' 'additional duty' 'additional note'\n",
      " 'alterations notice' 'amendments online' 'applied implementation'\n",
      " 'applies goods' 'apply refund' 'attachment notice' 'attachment online'\n",
      " 'australian notice' 'available attachment' 'available current'\n",
      " 'belarus currently' 'car tax' 'cargo ics' 'cargo new' 'cent applied'\n",
      " 'certain electric' 'chapter new' 'circumstance eb'\n",
      " 'classifications available' 'classifications commence'\n",
      " 'classifications entered' 'commence retrospectively'\n",
      " 'consistent australian' 'consumption july' 'current working'\n",
      " 'currently additional' 'customs duty' 'directed tradepolicyabfgovau'\n",
      " 'duty applies' 'duty cent' 'duty certain' 'duty electric' 'duty free'\n",
      " 'eb quoted' 'efficient luxury' 'efficient vehicles' 'electric vehicles'\n",
      " 'entered home' 'entered ics' 'entered integrated' 'financial year'\n",
      " 'following publication' 'free rate' 'fuel efficient' 'fuelcell vehicles'\n",
      " 'goods entered' 'goods meet' 'home consumption' 'hybrid vehicles'\n",
      " 'hydrogen fuelcell' 'ics need' 'ics soon' 'implementation notice'\n",
      " 'implements measure' 'including new' 'integrated cargo'\n",
      " 'intention propose' 'issue directed' 'july applies' 'july duty'\n",
      " 'july goods' 'july implements' 'july lct' 'july time' 'lct threshold'\n",
      " 'luxury car' 'measure text' 'meet requirement' 'need apply'\n",
      " 'new additional' 'new classifications' 'new tariff' 'note chapter'\n",
      " 'notice financial' 'notice including' 'notice intention' 'notice new'\n",
      " 'notice operates' 'notice published' 'notice queries' 'notice removal'\n",
      " 'online tariff' 'operates july' 'pages schedule' 'plugin hybrid'\n",
      " 'practical following' 'practical publication' 'propose tariff'\n",
      " 'publication notice' 'published july' 'published soon' 'queries related'\n",
      " 'quoted revised' 'rate duty' 'refund circumstance' 'refund refund'\n",
      " 'related issue' 'removal customs' 'removal duty' 'requirement russia'\n",
      " 'retrospectively july' 'revised tariff' 'russia belarus'\n",
      " 'schedule attachment' 'soon practical' 'tariff abfgovau'\n",
      " 'tariff alterations' 'tariff available' 'tariff classifications'\n",
      " 'tariff published' 'tariff working' 'tax threshold' 'text notice'\n",
      " 'threshold consistent' 'threshold free' 'threshold fuel' 'time new'\n",
      " 'value fuel' 'vehicles australian' 'vehicles hydrogen'\n",
      " 'vehicles integrated' 'vehicles july' 'vehicles plugin' 'vehicles value'\n",
      " 'working pages' 'working tariff' 'year lct']\n"
     ]
    }
   ],
   "source": [
    "n_gram_range = (2,2)\n",
    "stop_words = \"english\"\n",
    "\n",
    "count = CountVectorizer(ngram_range=n_gram_range, stop_words=stop_words).fit([doc3])\n",
    "candidates = count.get_feature_names_out()\n",
    "\n",
    "print('bigram 개수 :',len(candidates))\n",
    "print('bigram 출력 :',candidates)"
   ]
  },
  {
   "cell_type": "code",
   "execution_count": 6,
   "id": "8686f115",
   "metadata": {},
   "outputs": [],
   "source": [
    "#문서 전체와 문서에서 추출한 키워드 수치화\n",
    "model = SentenceTransformer('distilbert-base-nli-mean-tokens')\n",
    "doc_embedding = model.encode([doc3]) #전체 문서\n",
    "candidate_embeddings = model.encode(candidates)#추출한 bigram"
   ]
  },
  {
   "cell_type": "code",
   "execution_count": 7,
   "id": "1ccf7bf9",
   "metadata": {},
   "outputs": [
    {
     "name": "stdout",
     "output_type": "stream",
     "text": [
      "1\n",
      "[['threshold free', 'hybrid vehicles', 'amendments online', 'july lct', 'july duty', 'revised tariff', 'published july', 'consumption july', 'vehicles hydrogen', 'hydrogen fuelcell', 'tariff alterations', 'operates july', 'retrospectively july', 'vehicles july', 'russia belarus', 'car tax', 'july goods', 'new tariff', 'online tariff', 'tax threshold']]\n"
     ]
    }
   ],
   "source": [
    "#문서와 가장 유사한 키워드 추출\n",
    "doc_bigram_keywords = []\n",
    "\n",
    "top_n = 20\n",
    "distances = cosine_similarity(doc_embedding, candidate_embeddings)\n",
    "doc_bigram_keyword = [candidates[index] for index in distances.argsort()[0][-top_n:]]\n",
    "doc_bigram_keywords.append(doc_bigram_keyword)\n",
    "\n",
    "\n",
    "print(len(doc_bigram_keywords))\n",
    "print(doc_bigram_keywords)"
   ]
  },
  {
   "cell_type": "code",
   "execution_count": 8,
   "id": "9e410efd",
   "metadata": {},
   "outputs": [],
   "source": [
    "#문서와 가장 유사한 키워드 벡터화\n",
    "doc_bigram_embedding = []\n",
    "for keyword in doc_bigram_keywords:\n",
    "    doc_bigram_embedding.append(model.encode(keyword))"
   ]
  },
  {
   "cell_type": "code",
   "execution_count": 9,
   "id": "e016f7b5",
   "metadata": {},
   "outputs": [
    {
     "name": "stdout",
     "output_type": "stream",
     "text": [
      "102\n"
     ]
    }
   ],
   "source": [
    "#keyword : 불러온 호주 키워드 중 번역 Column 추출\n",
    "keyword = list(df_keyword[\"번역\"])\n",
    "keyword_embedding = []\n",
    "\n",
    "for ele in keyword:\n",
    "    keyword_embedding.append(model.encode(ele))\n",
    "\n",
    "print(len(keyword_embedding))"
   ]
  },
  {
   "cell_type": "code",
   "execution_count": 10,
   "id": "502049a4",
   "metadata": {},
   "outputs": [],
   "source": [
    "#doc_bigram_keywords -> doc_bigram_embedding\n",
    "#keyword -> keyword_embedding"
   ]
  },
  {
   "cell_type": "code",
   "execution_count": 11,
   "id": "1febfd9a",
   "metadata": {},
   "outputs": [],
   "source": [
    "#문서 키워드(doc_bigram_embedding)와 키워드 100(keyword_embedding) 유사도 비교 \n",
    "bigram_key_result = []\n",
    "keyword_key_result = []\n",
    "cosine_distances = []\n",
    "\n",
    "for index, bigram in enumerate(doc_bigram_embedding):\n",
    "    bigram_result = []\n",
    "    key_result=[]\n",
    "    cosine_distance = []\n",
    "    for i in range(len(bigram)):\n",
    "        for j in range(len(keyword_embedding)):\n",
    "            distances = cosine_similarity([bigram[i]],[keyword_embedding[j]])\n",
    "            if distances[0][0] > 0.7:\n",
    "                bigram_result.append(doc_bigram_keywords[index][i])\n",
    "                key_result.append(keyword[j])\n",
    "                cosine_distance.append(distances)\n",
    "\n",
    "    bigram_key_result.append(bigram_result)\n",
    "    keyword_key_result.append(key_result)\n",
    "    cosine_distances.append(cosine_distance)"
   ]
  },
  {
   "cell_type": "code",
   "execution_count": 12,
   "id": "d6383647",
   "metadata": {
    "scrolled": true
   },
   "outputs": [
    {
     "name": "stdout",
     "output_type": "stream",
     "text": [
      "[['threshold free', 'threshold free', 'hybrid vehicles', 'vehicles hydrogen', 'hydrogen fuelcell', 'car tax']]\n",
      "[['nonmetalic minerals', 'Solid wood', 'car', 'car', 'LNG (liquid natural gas)', 'car']]\n"
     ]
    },
    {
     "data": {
      "text/html": [
       "<div>\n",
       "<style scoped>\n",
       "    .dataframe tbody tr th:only-of-type {\n",
       "        vertical-align: middle;\n",
       "    }\n",
       "\n",
       "    .dataframe tbody tr th {\n",
       "        vertical-align: top;\n",
       "    }\n",
       "\n",
       "    .dataframe thead th {\n",
       "        text-align: right;\n",
       "    }\n",
       "</style>\n",
       "<table border=\"1\" class=\"dataframe\">\n",
       "  <thead>\n",
       "    <tr style=\"text-align: right;\">\n",
       "      <th></th>\n",
       "      <th>bigram</th>\n",
       "      <th>keyword</th>\n",
       "      <th>distance</th>\n",
       "    </tr>\n",
       "  </thead>\n",
       "  <tbody>\n",
       "    <tr>\n",
       "      <th>0</th>\n",
       "      <td>threshold free</td>\n",
       "      <td>nonmetalic minerals</td>\n",
       "      <td>[[0.71845794]]</td>\n",
       "    </tr>\n",
       "    <tr>\n",
       "      <th>1</th>\n",
       "      <td>threshold free</td>\n",
       "      <td>Solid wood</td>\n",
       "      <td>[[0.7394511]]</td>\n",
       "    </tr>\n",
       "    <tr>\n",
       "      <th>2</th>\n",
       "      <td>hybrid vehicles</td>\n",
       "      <td>car</td>\n",
       "      <td>[[0.7215625]]</td>\n",
       "    </tr>\n",
       "    <tr>\n",
       "      <th>3</th>\n",
       "      <td>vehicles hydrogen</td>\n",
       "      <td>car</td>\n",
       "      <td>[[0.70126903]]</td>\n",
       "    </tr>\n",
       "    <tr>\n",
       "      <th>4</th>\n",
       "      <td>hydrogen fuelcell</td>\n",
       "      <td>LNG (liquid natural gas)</td>\n",
       "      <td>[[0.7388512]]</td>\n",
       "    </tr>\n",
       "    <tr>\n",
       "      <th>5</th>\n",
       "      <td>car tax</td>\n",
       "      <td>car</td>\n",
       "      <td>[[0.75818545]]</td>\n",
       "    </tr>\n",
       "  </tbody>\n",
       "</table>\n",
       "</div>"
      ],
      "text/plain": [
       "              bigram                   keyword        distance\n",
       "0     threshold free       nonmetalic minerals  [[0.71845794]]\n",
       "1     threshold free                Solid wood   [[0.7394511]]\n",
       "2    hybrid vehicles                       car   [[0.7215625]]\n",
       "3  vehicles hydrogen                       car  [[0.70126903]]\n",
       "4  hydrogen fuelcell  LNG (liquid natural gas)   [[0.7388512]]\n",
       "5            car tax                       car  [[0.75818545]]"
      ]
     },
     "execution_count": 12,
     "metadata": {},
     "output_type": "execute_result"
    }
   ],
   "source": [
    "df_check = pd.DataFrame()\n",
    "\n",
    "print(bigram_key_result)\n",
    "print(keyword_key_result)\n",
    "\n",
    "for i in range(len(bigram_key_result)):\n",
    "    bigram = pd.Series(bigram_key_result[i])\n",
    "    keyword = pd.Series(keyword_key_result[i])\n",
    "    distance = pd.Series(cosine_distances[i])\n",
    "    \n",
    "    df_check['bigram'] = bigram\n",
    "    df_check['keyword'] = keyword\n",
    "    df_check['distance'] = distance\n",
    "\n",
    "df_check"
   ]
  },
  {
   "cell_type": "code",
   "execution_count": null,
   "id": "ac5bdfc1",
   "metadata": {},
   "outputs": [],
   "source": []
  },
  {
   "cell_type": "code",
   "execution_count": null,
   "id": "6e0fe01d",
   "metadata": {},
   "outputs": [],
   "source": []
  }
 ],
 "metadata": {
  "kernelspec": {
   "display_name": "Python 3 (ipykernel)",
   "language": "python",
   "name": "python3"
  },
  "language_info": {
   "codemirror_mode": {
    "name": "ipython",
    "version": 3
   },
   "file_extension": ".py",
   "mimetype": "text/x-python",
   "name": "python",
   "nbconvert_exporter": "python",
   "pygments_lexer": "ipython3",
   "version": "3.9.12"
  }
 },
 "nbformat": 4,
 "nbformat_minor": 5
}

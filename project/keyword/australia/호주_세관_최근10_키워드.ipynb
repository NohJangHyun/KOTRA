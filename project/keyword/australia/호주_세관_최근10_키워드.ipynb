{
 "cells": [
  {
   "cell_type": "code",
   "execution_count": 19,
   "id": "f127015c",
   "metadata": {},
   "outputs": [
    {
     "name": "stdout",
     "output_type": "stream",
     "text": [
      "10\n",
      "102\n"
     ]
    }
   ],
   "source": [
    "import pandas as pd\n",
    "import re\n",
    "\n",
    "#df : 스크래핑한 호주 문서\n",
    "df = pd.read_csv(\"호주_세관_최근10.csv\")\n",
    "\n",
    "df_title = list(df['title'])\n",
    "df_text = list(df['text'])\n",
    "df_add = []\n",
    "\n",
    "for i in range(len(df)):\n",
    "    df_add.append(df_title[i]+\"\"+df_text[i])\n",
    "\n",
    "print(len(df_add))\n",
    "\n",
    "#df_keyword : 선정한 호주 키워드 101개\n",
    "df_keyword = pd.read_csv(\"호주_번역_100.csv\", index_col = False)\n",
    "print(len(df_keyword))"
   ]
  },
  {
   "cell_type": "code",
   "execution_count": 20,
   "id": "e722b87c",
   "metadata": {},
   "outputs": [],
   "source": [
    "import numpy as np\n",
    "import itertools\n",
    "from sklearn.feature_extraction.text import CountVectorizer\n",
    "from sklearn.metrics.pairwise import cosine_similarity\n",
    "from sentence_transformers import SentenceTransformer\n",
    "\n",
    "# SentenceTransformer : 모델 훈련 위한 라이브러리\n",
    "# 'distiluse-base-multilingual-cased-v1' : 사용할 모델\n",
    "model = SentenceTransformer('distiluse-base-multilingual-cased-v1')"
   ]
  },
  {
   "cell_type": "code",
   "execution_count": 21,
   "id": "3a507c2e",
   "metadata": {},
   "outputs": [
    {
     "name": "stdout",
     "output_type": "stream",
     "text": [
      "102\n"
     ]
    }
   ],
   "source": [
    "#keyword : 불러온 호주 키워드 중 번역 Column 추출\n",
    "keyword = list(df_keyword[\"번역\"])\n",
    "print(len(keyword))"
   ]
  },
  {
   "cell_type": "code",
   "execution_count": 22,
   "id": "af3f5774",
   "metadata": {},
   "outputs": [
    {
     "name": "stdout",
     "output_type": "stream",
     "text": [
      "102\n"
     ]
    }
   ],
   "source": [
    "#키워드 벡터화\n",
    "keyword_embedding = []\n",
    "\n",
    "for ele in keyword:\n",
    "    keyword_embedding.append(model.encode(ele))\n",
    "\n",
    "print(len(keyword_embedding))"
   ]
  },
  {
   "cell_type": "code",
   "execution_count": 23,
   "id": "d97bbd26",
   "metadata": {},
   "outputs": [
    {
     "name": "stdout",
     "output_type": "stream",
     "text": [
      "1 번 문서 진행 중\n",
      "2 번 문서 진행 중\n",
      "3 번 문서 진행 중\n",
      "4 번 문서 진행 중\n",
      "5 번 문서 진행 중\n",
      "6 번 문서 진행 중\n",
      "7 번 문서 진행 중\n",
      "8 번 문서 진행 중\n",
      "9 번 문서 진행 중\n",
      "10 번 문서 진행 중\n"
     ]
    }
   ],
   "source": [
    "#호주 문서 10개 embedding\n",
    "import nltk\n",
    "import string\n",
    "from nltk.tag import pos_tag\n",
    "from nltk.tokenize import word_tokenize\n",
    "from nltk.corpus import stopwords \n",
    "\n",
    "doc_embedding = []\n",
    "doc_words = []\n",
    "cnt = 1\n",
    "\n",
    "for doc in df_add:\n",
    "    result = []\n",
    "    sentence = ''\n",
    "    \n",
    "#    #1. 전처리 전 문자 길이\n",
    "#      print(f\"{cnt}번 문서 전처리 전 문자 길이 : {len(doc)}\")\n",
    "    \n",
    "#    #2. 공백 제거 + strip()\n",
    "    doc = doc.replace(\"\\n\", \"\").strip()\n",
    "#     print(f\"{cnt}번 문서 공백 제거 후 문자 길이 : {len(doc)}\")\n",
    "    \n",
    "#     #3. 구두점 제거\n",
    "#     doc = \"\".join([i for i in doc if i not in string.punctuation]).strip()\n",
    "#     print(f\"{cnt}번 문서 구두점 제거 후 문자 길이 : {len(doc)}\")\n",
    "    \n",
    "#     print(f\"{cnt}번 문서 불용어 제거 후 문자 길이 : {len(doc)}\")\n",
    "    \n",
    "    #5. 문서 토큰화\n",
    "    word_tokens = pos_tag(word_tokenize(doc))\n",
    "\n",
    "    word_tokens = [t[0] for t in word_tokens if t[1] == \"NN\" and len(t[0]) > 2]\n",
    "    for w in word_tokens:  \n",
    "        if w not in stop_words:\n",
    "            result.append(w)\n",
    "    result = [word.lower() for word in result]\n",
    "    doc_words.append(result)\n",
    "    doc_embedding.append(model.encode(result))\n",
    "    \n",
    "    #카운트 추가\n",
    "    print(cnt, \"번 문서 진행 중\")\n",
    "    cnt += 1 "
   ]
  },
  {
   "cell_type": "code",
   "execution_count": 24,
   "id": "8d716467",
   "metadata": {},
   "outputs": [
    {
     "name": "stdout",
     "output_type": "stream",
     "text": [
      "set()\n",
      "{'car'}\n",
      "set()\n",
      "set()\n",
      "set()\n",
      "set()\n",
      "set()\n",
      "set()\n",
      "{'plastic'}\n",
      "set()\n"
     ]
    }
   ],
   "source": [
    "#키워드와 문서 유사도 비교 0.9\n",
    "doc_keywords_9 = []\n",
    "for index, doc in enumerate(doc_embedding):\n",
    "    final_result = []\n",
    "    for i in range(len(doc)):\n",
    "        for j in range(len(keyword_embedding)):\n",
    "            distances = cosine_similarity([doc[i]], [keyword_embedding[j]])\n",
    "            if distances[0][0]>0.9:\n",
    "                final_result.append(doc_words[index][i])\n",
    "# distances = cosine_similarity([doc_embedding[0]], candidate_embeddings)\n",
    "    print(set(final_result))\n",
    "    doc_keywords_9.append(set(final_result))"
   ]
  },
  {
   "cell_type": "code",
   "execution_count": 25,
   "id": "59f998bf",
   "metadata": {},
   "outputs": [
    {
     "name": "stdout",
     "output_type": "stream",
     "text": [
      "set()\n",
      "{'measure', 'car'}\n",
      "set()\n",
      "set()\n",
      "set()\n",
      "set()\n",
      "set()\n",
      "set()\n",
      "{'plastic', 'measure'}\n",
      "set()\n"
     ]
    }
   ],
   "source": [
    "#키워드와 문서 유사도 비교 0.8\n",
    "doc_keywords_8 = []\n",
    "for index, doc in enumerate(doc_embedding):\n",
    "    final_result = []\n",
    "    for i in range(len(doc)):\n",
    "        for j in range(len(keyword_embedding)):\n",
    "            distances = cosine_similarity([doc[i]], [keyword_embedding[j]])\n",
    "            if distances[0][0]>0.8:\n",
    "                final_result.append(doc_words[index][i])\n",
    "# distances = cosine_similarity([doc_embedding[0]], candidate_embeddings)\n",
    "    print(set(final_result))\n",
    "    doc_keywords_8.append(set(final_result))"
   ]
  },
  {
   "cell_type": "code",
   "execution_count": 18,
   "id": "d7988a90",
   "metadata": {},
   "outputs": [
    {
     "name": "stdout",
     "output_type": "stream",
     "text": [
      "{'fuel', 'beers', 'occurring'}\n",
      "{'belarus', 'fuel', 'vehicles', 'measure', 'directed', 'car'}\n",
      "{'make', 'molonglo'}\n",
      "{'urp', 'belarus'}\n",
      "{'nsw', 'hageman', 'make', 'brien', 'molonglo', 'wang', 'plummer', 'gatt', 'bradley'}\n",
      "set()\n",
      "{'fisheries', 'latha', 'agriculture'}\n",
      "{'medicaments', 'medical'}\n",
      "{'plastics', 'baled', 'stamatis', 'fuel', 'plastic', 'measure'}\n",
      "{'make', 'molonglo'}\n"
     ]
    }
   ],
   "source": [
    "#키워드와 문서 유사도 비교 0.75\n",
    "doc_keywords_75 = []\n",
    "for index, doc in enumerate(doc_embedding):\n",
    "    final_result = []\n",
    "    for i in range(len(doc)):\n",
    "        for j in range(len(keyword_embedding)):\n",
    "            distances = cosine_similarity([doc[i]], [keyword_embedding[j]])\n",
    "            if distances[0][0]>0.75:\n",
    "                final_result.append(doc_words[index][i])\n",
    "# distances = cosine_similarity([doc_embedding[0]], candidate_embeddings)\n",
    "    print(set(final_result))\n",
    "    doc_keywords_75.append(set(final_result))"
   ]
  },
  {
   "cell_type": "code",
   "execution_count": 28,
   "id": "350167b8",
   "metadata": {},
   "outputs": [
    {
     "data": {
      "text/html": [
       "<div>\n",
       "<style scoped>\n",
       "    .dataframe tbody tr th:only-of-type {\n",
       "        vertical-align: middle;\n",
       "    }\n",
       "\n",
       "    .dataframe tbody tr th {\n",
       "        vertical-align: top;\n",
       "    }\n",
       "\n",
       "    .dataframe thead th {\n",
       "        text-align: right;\n",
       "    }\n",
       "</style>\n",
       "<table border=\"1\" class=\"dataframe\">\n",
       "  <thead>\n",
       "    <tr style=\"text-align: right;\">\n",
       "      <th></th>\n",
       "      <th>date</th>\n",
       "      <th>link</th>\n",
       "      <th>title</th>\n",
       "      <th>text</th>\n",
       "      <th>cosine 0.9</th>\n",
       "      <th>cosine 0.8</th>\n",
       "      <th>cosine 0.75</th>\n",
       "    </tr>\n",
       "  </thead>\n",
       "  <tbody>\n",
       "    <tr>\n",
       "      <th>0</th>\n",
       "      <td>2022-07-28</td>\n",
       "      <td>https://www.abf.gov.au/help-and-support-subsit...</td>\n",
       "      <td>Indexation of customs duty rates on excise-equ...</td>\n",
       "      <td>Australian Customs Notice  \\nNo. 2022/35 \\nInd...</td>\n",
       "      <td>{}</td>\n",
       "      <td>{}</td>\n",
       "      <td>{fuel, beers, occurring}</td>\n",
       "    </tr>\n",
       "    <tr>\n",
       "      <th>1</th>\n",
       "      <td>2022-07-22</td>\n",
       "      <td>https://www.abf.gov.au/help-and-support-subsit...</td>\n",
       "      <td>Removal of customs duty on certain electric ve...</td>\n",
       "      <td>Australian Customs Notice  \\nNo. 2022/34 \\nRem...</td>\n",
       "      <td>{car}</td>\n",
       "      <td>{measure, car}</td>\n",
       "      <td>{belarus, fuel, vehicles, measure, directed, car}</td>\n",
       "    </tr>\n",
       "    <tr>\n",
       "      <th>2</th>\n",
       "      <td>2022-07-21</td>\n",
       "      <td>https://www.abf.gov.au/help-and-support-subsit...</td>\n",
       "      <td>Application for Customs Broker Licences</td>\n",
       "      <td>Australian Customs Notice No. 2022/33 \\n\\nAppl...</td>\n",
       "      <td>{}</td>\n",
       "      <td>{}</td>\n",
       "      <td>{make, molonglo}</td>\n",
       "    </tr>\n",
       "    <tr>\n",
       "      <th>3</th>\n",
       "      <td>2022-07-12</td>\n",
       "      <td>https://www.abf.gov.au/help-and-support-subsit...</td>\n",
       "      <td>Temporary duty reduction for goods from Ukraine</td>\n",
       "      <td>Australian Customs Notice  \\nNo. 2022/32 \\nTem...</td>\n",
       "      <td>{}</td>\n",
       "      <td>{}</td>\n",
       "      <td>{urp, belarus}</td>\n",
       "    </tr>\n",
       "    <tr>\n",
       "      <th>4</th>\n",
       "      <td>2022-07-11</td>\n",
       "      <td>https://www.abf.gov.au/help-and-support-subsit...</td>\n",
       "      <td>Application for Customs Broker Licences</td>\n",
       "      <td>Australian Customs Notice No. 2022/31 \\n\\nAppl...</td>\n",
       "      <td>{}</td>\n",
       "      <td>{}</td>\n",
       "      <td>{nsw, hageman, make, brien, molonglo, wang, pl...</td>\n",
       "    </tr>\n",
       "    <tr>\n",
       "      <th>5</th>\n",
       "      <td>2022-07-01</td>\n",
       "      <td>https://www.abf.gov.au/help-and-support-subsit...</td>\n",
       "      <td>Cargo reporting requirements for international...</td>\n",
       "      <td>Australian Customs Notice (ACN)  \\n2022/30 \\nC...</td>\n",
       "      <td>{}</td>\n",
       "      <td>{}</td>\n",
       "      <td>{}</td>\n",
       "    </tr>\n",
       "    <tr>\n",
       "      <th>6</th>\n",
       "      <td>2022-07-01</td>\n",
       "      <td>https://www.abf.gov.au/help-and-support-subsit...</td>\n",
       "      <td>New timeframes for the disposal of unentered a...</td>\n",
       "      <td>Australian Customs Notice (ACN) \\n2022/29 \\n\\n...</td>\n",
       "      <td>{}</td>\n",
       "      <td>{}</td>\n",
       "      <td>{fisheries, latha, agriculture}</td>\n",
       "    </tr>\n",
       "    <tr>\n",
       "      <th>7</th>\n",
       "      <td>2022-06-29</td>\n",
       "      <td>https://www.abf.gov.au/help-and-support-subsit...</td>\n",
       "      <td>Tariff Concession – Item 57 – Revised</td>\n",
       "      <td>Australian Customs Notice  \\nNo. 2022/28 \\nTar...</td>\n",
       "      <td>{}</td>\n",
       "      <td>{}</td>\n",
       "      <td>{medicaments, medical}</td>\n",
       "    </tr>\n",
       "    <tr>\n",
       "      <th>8</th>\n",
       "      <td>2022-06-28</td>\n",
       "      <td>https://www.abf.gov.au/help-and-support-subsit...</td>\n",
       "      <td>Commencement of phase 2 of the Recycling and W...</td>\n",
       "      <td>Australian Customs Notice  \\nNo. 2022/27 \\nCom...</td>\n",
       "      <td>{plastic}</td>\n",
       "      <td>{plastic, measure}</td>\n",
       "      <td>{plastics, baled, stamatis, fuel, plastic, mea...</td>\n",
       "    </tr>\n",
       "    <tr>\n",
       "      <th>9</th>\n",
       "      <td>2022-06-27</td>\n",
       "      <td>https://www.abf.gov.au/help-and-support-subsit...</td>\n",
       "      <td>Application for Customs Broker Licences</td>\n",
       "      <td>Australian Customs Notice No. 2022/26 \\n\\nAppl...</td>\n",
       "      <td>{}</td>\n",
       "      <td>{}</td>\n",
       "      <td>{make, molonglo}</td>\n",
       "    </tr>\n",
       "  </tbody>\n",
       "</table>\n",
       "</div>"
      ],
      "text/plain": [
       "         date                                               link  \\\n",
       "0  2022-07-28  https://www.abf.gov.au/help-and-support-subsit...   \n",
       "1  2022-07-22  https://www.abf.gov.au/help-and-support-subsit...   \n",
       "2  2022-07-21  https://www.abf.gov.au/help-and-support-subsit...   \n",
       "3  2022-07-12  https://www.abf.gov.au/help-and-support-subsit...   \n",
       "4  2022-07-11  https://www.abf.gov.au/help-and-support-subsit...   \n",
       "5  2022-07-01  https://www.abf.gov.au/help-and-support-subsit...   \n",
       "6  2022-07-01  https://www.abf.gov.au/help-and-support-subsit...   \n",
       "7  2022-06-29  https://www.abf.gov.au/help-and-support-subsit...   \n",
       "8  2022-06-28  https://www.abf.gov.au/help-and-support-subsit...   \n",
       "9  2022-06-27  https://www.abf.gov.au/help-and-support-subsit...   \n",
       "\n",
       "                                               title  \\\n",
       "0  Indexation of customs duty rates on excise-equ...   \n",
       "1  Removal of customs duty on certain electric ve...   \n",
       "2            Application for Customs Broker Licences   \n",
       "3    Temporary duty reduction for goods from Ukraine   \n",
       "4            Application for Customs Broker Licences   \n",
       "5  Cargo reporting requirements for international...   \n",
       "6  New timeframes for the disposal of unentered a...   \n",
       "7              Tariff Concession – Item 57 – Revised   \n",
       "8  Commencement of phase 2 of the Recycling and W...   \n",
       "9            Application for Customs Broker Licences   \n",
       "\n",
       "                                                text cosine 0.9  \\\n",
       "0  Australian Customs Notice  \\nNo. 2022/35 \\nInd...         {}   \n",
       "1  Australian Customs Notice  \\nNo. 2022/34 \\nRem...      {car}   \n",
       "2  Australian Customs Notice No. 2022/33 \\n\\nAppl...         {}   \n",
       "3  Australian Customs Notice  \\nNo. 2022/32 \\nTem...         {}   \n",
       "4  Australian Customs Notice No. 2022/31 \\n\\nAppl...         {}   \n",
       "5  Australian Customs Notice (ACN)  \\n2022/30 \\nC...         {}   \n",
       "6  Australian Customs Notice (ACN) \\n2022/29 \\n\\n...         {}   \n",
       "7  Australian Customs Notice  \\nNo. 2022/28 \\nTar...         {}   \n",
       "8  Australian Customs Notice  \\nNo. 2022/27 \\nCom...  {plastic}   \n",
       "9  Australian Customs Notice No. 2022/26 \\n\\nAppl...         {}   \n",
       "\n",
       "           cosine 0.8                                        cosine 0.75  \n",
       "0                  {}                           {fuel, beers, occurring}  \n",
       "1      {measure, car}  {belarus, fuel, vehicles, measure, directed, car}  \n",
       "2                  {}                                   {make, molonglo}  \n",
       "3                  {}                                     {urp, belarus}  \n",
       "4                  {}  {nsw, hageman, make, brien, molonglo, wang, pl...  \n",
       "5                  {}                                                 {}  \n",
       "6                  {}                    {fisheries, latha, agriculture}  \n",
       "7                  {}                             {medicaments, medical}  \n",
       "8  {plastic, measure}  {plastics, baled, stamatis, fuel, plastic, mea...  \n",
       "9                  {}                                   {make, molonglo}  "
      ]
     },
     "execution_count": 28,
     "metadata": {},
     "output_type": "execute_result"
    }
   ],
   "source": [
    "df['cosine 0.9'] = doc_keywords_9\n",
    "df['cosine 0.8'] = doc_keywords_8\n",
    "df['cosine 0.75'] = doc_keywords_75\n",
    "\n",
    "df"
   ]
  },
  {
   "cell_type": "code",
   "execution_count": 30,
   "id": "cc775a51",
   "metadata": {},
   "outputs": [],
   "source": [
    "df.to_csv(\"호주_세관_최근10_유사도, 번역 추가.csv\")"
   ]
  }
 ],
 "metadata": {
  "kernelspec": {
   "display_name": "Python 3 (ipykernel)",
   "language": "python",
   "name": "python3"
  },
  "language_info": {
   "codemirror_mode": {
    "name": "ipython",
    "version": 3
   },
   "file_extension": ".py",
   "mimetype": "text/x-python",
   "name": "python",
   "nbconvert_exporter": "python",
   "pygments_lexer": "ipython3",
   "version": "3.9.12"
  }
 },
 "nbformat": 4,
 "nbformat_minor": 5
}

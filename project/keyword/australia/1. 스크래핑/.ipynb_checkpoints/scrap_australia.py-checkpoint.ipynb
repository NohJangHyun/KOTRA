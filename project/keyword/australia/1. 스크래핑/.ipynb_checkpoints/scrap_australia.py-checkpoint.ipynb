{
 "cells": [
  {
   "cell_type": "code",
   "execution_count": null,
   "id": "154114b5",
   "metadata": {},
   "outputs": [],
   "source": [
    "import requests\n",
    "from bs4 import BeautifulSoup\n",
    "from selenium import webdriver\n",
    "import time\n",
    "from selenium.webdriver.common.by import By\n",
    "import re\n",
    "from pdfminer.pdfinterp import PDFResourceManager, PDFPageInterpreter\n",
    "from pdfminer.layout import LAParams\n",
    "from pdfminer.converter import TextConverter\n",
    "from pdfminer.pdfpage import PDFPage\n",
    "import io\n",
    "import urllib.request\n",
    "import requests\n"
   ]
  },
  {
   "cell_type": "code",
   "execution_count": null,
   "id": "39414ce1",
   "metadata": {},
   "outputs": [],
   "source": [
    "def australia_trans_text(texts):\n",
    "    "
   ]
  },
  {
   "cell_type": "code",
   "execution_count": null,
   "id": "d667631f",
   "metadata": {},
   "outputs": [],
   "source": [
    "def scrap_australia(cur_title):\n",
    "    options = webdriver.ChromeOptions()\n",
    "    options.add_argument('window-size=1920x1080')\n",
    "    options.add_experimental_option(\"excludeSwitches\", [\"enable-logging\"])\n",
    "    driver = webdriver.Chrome(options=options)\n",
    "    \n",
    "    driver.get('https://www.abf.gov.au/help-and-support/notices/australian-customs-notices')\n",
    "    time.sleep(2)\n",
    "    \n",
    "    dates = []\n",
    "    titles = []\n",
    "    links = []\n",
    "    last_page = len(temp)\n",
    "\n",
    "    for i in range(2,last_page):\n",
    "        soup = BeautifulSoup(driver.page_source, 'lxml')\n",
    "\n",
    "        date_rows = soup.select('div.col-sm-3 span')\n",
    "        title_rows = soup.find('tbody').find_all('tr', attrs = {'class' : re.compile('^accordion-header')})\n",
    "        link_rows = soup.find('tbody').find_all('tr', attrs = {'class' : re.compile('^accordion-content')})\n",
    "\n",
    "        for row in date_rows:\n",
    "            date = row.text\n",
    "            dates.append(date)\n",
    "\n",
    "        for row in title_rows:\n",
    "            tds = row.find_all('td')\n",
    "            title = tds[1].get_text().replace('Press Enter to show more details.', '')  \n",
    "            titles.append(title)\n",
    "\n",
    "        for row in link_rows:\n",
    "            link = 'https://www.abf.gov.au' + row.a['href']\n",
    "            links.append(link)\n",
    "\n",
    "        driver.execute_script('window.scrollTo(0, document.body.scrollHeight)')\n",
    "        time.sleep(2)\n",
    "\n",
    "        elem = driver.find_element(By.LINK_TEXT,str(i))\n",
    "        elem.click()\n",
    "        time.sleep(1)\n",
    "        \n",
    "    "
   ]
  }
 ],
 "metadata": {
  "kernelspec": {
   "display_name": "Python 3 (ipykernel)",
   "language": "python",
   "name": "python3"
  },
  "language_info": {
   "codemirror_mode": {
    "name": "ipython",
    "version": 3
   },
   "file_extension": ".py",
   "mimetype": "text/x-python",
   "name": "python",
   "nbconvert_exporter": "python",
   "pygments_lexer": "ipython3",
   "version": "3.9.12"
  }
 },
 "nbformat": 4,
 "nbformat_minor": 5
}

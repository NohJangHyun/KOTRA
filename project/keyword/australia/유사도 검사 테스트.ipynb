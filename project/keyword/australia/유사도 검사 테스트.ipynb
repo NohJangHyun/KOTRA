{
 "cells": [
  {
   "cell_type": "code",
   "execution_count": 20,
   "id": "42a991d9",
   "metadata": {},
   "outputs": [
    {
     "name": "stdout",
     "output_type": "stream",
     "text": [
      "10\n",
      "102\n"
     ]
    }
   ],
   "source": [
    "import pandas as pd\n",
    "import re\n",
    "\n",
    "#df : 스크래핑한 호주 문서\n",
    "df = pd.read_csv(\"호주_세관_최근10.csv\")\n",
    "\n",
    "df_title = list(df['title'])\n",
    "df_text = list(df['text'])\n",
    "df_add = []\n",
    "\n",
    "for i in range(len(df)):\n",
    "    df_add.append(df_title[i]+\"\"+df_text[i])\n",
    "\n",
    "print(len(df_add))\n",
    "\n",
    "#df_keyword : 선정한 호주 키워드 101개\n",
    "df_keyword = pd.read_csv(\"호주_번역_100.csv\", index_col = False)\n",
    "print(len(df_keyword))"
   ]
  },
  {
   "cell_type": "code",
   "execution_count": 21,
   "id": "947f3fb0",
   "metadata": {},
   "outputs": [],
   "source": [
    "import numpy as np\n",
    "import itertools\n",
    "from sklearn.feature_extraction.text import CountVectorizer\n",
    "from sklearn.metrics.pairwise import cosine_similarity\n",
    "from sentence_transformers import SentenceTransformer\n",
    "\n",
    "# SentenceTransformer : 모델 훈련 위한 라이브러리\n",
    "# 'distiluse-base-multilingual-cased-v1' : 사용할 모델\n",
    "model = SentenceTransformer('distiluse-base-multilingual-cased-v1')"
   ]
  },
  {
   "cell_type": "code",
   "execution_count": 22,
   "id": "8a99cbd7",
   "metadata": {},
   "outputs": [
    {
     "name": "stdout",
     "output_type": "stream",
     "text": [
      "102\n"
     ]
    }
   ],
   "source": [
    "#keyword : 불러온 호주 키워드 중 번역 Column 추출\n",
    "keyword = list(df_keyword[\"번역\"])\n",
    "print(len(keyword))"
   ]
  },
  {
   "cell_type": "code",
   "execution_count": 23,
   "id": "65e29017",
   "metadata": {},
   "outputs": [
    {
     "name": "stdout",
     "output_type": "stream",
     "text": [
      "102\n"
     ]
    }
   ],
   "source": [
    "#키워드 벡터화\n",
    "keyword_embedding = []\n",
    "\n",
    "for ele in keyword:\n",
    "    keyword_embedding.append(model.encode(ele))\n",
    "\n",
    "print(len(keyword_embedding))"
   ]
  },
  {
   "cell_type": "code",
   "execution_count": 24,
   "id": "8ec623c8",
   "metadata": {},
   "outputs": [
    {
     "name": "stdout",
     "output_type": "stream",
     "text": [
      "0 번 문서 진행 중\n",
      "1 번 문서 진행 중\n",
      "2 번 문서 진행 중\n",
      "3 번 문서 진행 중\n",
      "4 번 문서 진행 중\n",
      "5 번 문서 진행 중\n",
      "6 번 문서 진행 중\n",
      "7 번 문서 진행 중\n",
      "8 번 문서 진행 중\n",
      "9 번 문서 진행 중\n"
     ]
    }
   ],
   "source": [
    "#호주 문서 10개 embedding\n",
    "import nltk\n",
    "import string\n",
    "from nltk.tag import pos_tag\n",
    "from nltk.tokenize import word_tokenize\n",
    "from nltk.corpus import stopwords \n",
    "from nltk.stem import WordNetLemmatizer\n",
    "\n",
    "lemmatizer = WordNetLemmatizer()\n",
    "\n",
    "doc_embedding = []\n",
    "doc_words = []\n",
    "cnt = 0\n",
    "\n",
    "for doc in df_add:\n",
    "    result = []\n",
    "    sentence = ''\n",
    "    stop_words = set(stopwords.words('english'))\n",
    "\n",
    "    doc = doc.replace(\"\\n\", \"\").strip()\n",
    "\n",
    "\n",
    "    word_tokens = pos_tag(word_tokenize(doc))\n",
    "\n",
    "    word_tokens = [t[0] for t in word_tokens if t[1] == \"NN\" and len(t[0]) > 2]\n",
    "    for w in word_tokens:\n",
    "        if w not in stop_words:\n",
    "            w = lemmatizer.lemmatize(w)\n",
    "            result.append(w)\n",
    "    result = [word.lower() for word in result]\n",
    "    doc_words.append(result)\n",
    "    doc_embedding.append(model.encode(result))\n",
    "    \n",
    "    #카운트 추가\n",
    "    print(cnt, \"번 문서 진행 중\")\n",
    "    cnt += 1 "
   ]
  },
  {
   "cell_type": "code",
   "execution_count": 25,
   "id": "dce5fa5b",
   "metadata": {},
   "outputs": [
    {
     "name": "stdout",
     "output_type": "stream",
     "text": [
      "set()\n",
      "{'car'}\n",
      "set()\n",
      "set()\n",
      "set()\n",
      "set()\n",
      "set()\n",
      "set()\n",
      "{'plastic'}\n",
      "set()\n"
     ]
    }
   ],
   "source": [
    "#키워드와 문서 유사도 비교 0.9\n",
    "doc_keywords_9 = []\n",
    "for index, doc in enumerate(doc_embedding):\n",
    "    final_result = []\n",
    "    for i in range(len(doc)):\n",
    "        for j in range(len(keyword_embedding)):\n",
    "            distances = cosine_similarity([doc[i]], [keyword_embedding[j]])\n",
    "            if distances[0][0]>0.9:\n",
    "                final_result.append(doc_words[index][i])\n",
    "# distances = cosine_similarity([doc_embedding[0]], candidate_embeddings)\n",
    "    print(set(final_result))\n",
    "    doc_keywords_9.append(set(final_result))"
   ]
  },
  {
   "cell_type": "code",
   "execution_count": 26,
   "id": "66c40708",
   "metadata": {},
   "outputs": [
    {
     "name": "stdout",
     "output_type": "stream",
     "text": [
      "set()\n",
      "{'car', 'measure'}\n",
      "set()\n",
      "set()\n",
      "set()\n",
      "set()\n",
      "set()\n",
      "set()\n",
      "{'plastic', 'measure'}\n",
      "set()\n"
     ]
    }
   ],
   "source": [
    "#키워드와 문서 유사도 비교 0.8\n",
    "doc_keywords_8 = []\n",
    "for index, doc in enumerate(doc_embedding):\n",
    "    final_result = []\n",
    "    for i in range(len(doc)):\n",
    "        for j in range(len(keyword_embedding)):\n",
    "            distances = cosine_similarity([doc[i]], [keyword_embedding[j]])\n",
    "            if distances[0][0]>0.8:\n",
    "                final_result.append(doc_words[index][i])\n",
    "# distances = cosine_similarity([doc_embedding[0]], candidate_embeddings)\n",
    "    print(set(final_result))\n",
    "    doc_keywords_8.append(set(final_result))"
   ]
  },
  {
   "cell_type": "code",
   "execution_count": 59,
   "id": "93fa3832",
   "metadata": {},
   "outputs": [
    {
     "name": "stdout",
     "output_type": "stream",
     "text": [
      "{'fuel'}\n",
      "{'car', 'fuel', 'measure'}\n",
      "set()\n",
      "set()\n",
      "set()\n",
      "set()\n",
      "set()\n",
      "set()\n",
      "{'fuel', 'plastic', 'measure'}\n",
      "set()\n"
     ]
    }
   ],
   "source": [
    "#키워드와 문서 유사도 비교 0.75\n",
    "doc_keywords_75 = []\n",
    "for index, doc in enumerate(doc_embedding):\n",
    "    final_result = []\n",
    "    for i in range(len(doc)):\n",
    "        for j in range(len(keyword_embedding)):\n",
    "            distances = cosine_similarity([doc[i]], [keyword_embedding[j]])\n",
    "            if distances[0][0]>0.75:\n",
    "                final_result.append(doc_words[index][i])\n",
    "# distances = cosine_similarity([doc_embedding[0]], candidate_embeddings)\n",
    "    print(set(final_result))\n",
    "    doc_keywords_75.append(set(final_result))"
   ]
  },
  {
   "cell_type": "code",
   "execution_count": 56,
   "id": "fce8de75",
   "metadata": {},
   "outputs": [
    {
     "data": {
      "text/html": [
       "<div>\n",
       "<style scoped>\n",
       "    .dataframe tbody tr th:only-of-type {\n",
       "        vertical-align: middle;\n",
       "    }\n",
       "\n",
       "    .dataframe tbody tr th {\n",
       "        vertical-align: top;\n",
       "    }\n",
       "\n",
       "    .dataframe thead th {\n",
       "        text-align: right;\n",
       "    }\n",
       "</style>\n",
       "<table border=\"1\" class=\"dataframe\">\n",
       "  <thead>\n",
       "    <tr style=\"text-align: right;\">\n",
       "      <th></th>\n",
       "      <th>cosine 0.9</th>\n",
       "      <th>cosine 0.8</th>\n",
       "      <th>cosine 0.75</th>\n",
       "    </tr>\n",
       "  </thead>\n",
       "  <tbody>\n",
       "    <tr>\n",
       "      <th>0</th>\n",
       "      <td>{}</td>\n",
       "      <td>{}</td>\n",
       "      <td>{fuel, duty, refer}</td>\n",
       "    </tr>\n",
       "    <tr>\n",
       "      <th>1</th>\n",
       "      <td>{car}</td>\n",
       "      <td>{car, measure}</td>\n",
       "      <td>{fuel, consumption, measure, vehiclesaustralia...</td>\n",
       "    </tr>\n",
       "    <tr>\n",
       "      <th>2</th>\n",
       "      <td>{}</td>\n",
       "      <td>{}</td>\n",
       "      <td>{substance}</td>\n",
       "    </tr>\n",
       "    <tr>\n",
       "      <th>3</th>\n",
       "      <td>{}</td>\n",
       "      <td>{}</td>\n",
       "      <td>{consumption, drop, product, duty, accumulatio...</td>\n",
       "    </tr>\n",
       "    <tr>\n",
       "      <th>4</th>\n",
       "      <td>{}</td>\n",
       "      <td>{}</td>\n",
       "      <td>{substance}</td>\n",
       "    </tr>\n",
       "    <tr>\n",
       "      <th>5</th>\n",
       "      <td>{}</td>\n",
       "      <td>{}</td>\n",
       "      <td>{crew, slot, behalf, charterer, cargo, passenger}</td>\n",
       "    </tr>\n",
       "    <tr>\n",
       "      <th>6</th>\n",
       "      <td>{}</td>\n",
       "      <td>{}</td>\n",
       "      <td>{industry, destroy, consumption, depot}</td>\n",
       "    </tr>\n",
       "    <tr>\n",
       "      <th>7</th>\n",
       "      <td>{}</td>\n",
       "      <td>{}</td>\n",
       "      <td>{treatment, spread, droplet, apply}</td>\n",
       "    </tr>\n",
       "    <tr>\n",
       "      <th>8</th>\n",
       "      <td>{plastic}</td>\n",
       "      <td>{plastic, measure}</td>\n",
       "      <td>{intent, fuel, consignment, measure, resin, pl...</td>\n",
       "    </tr>\n",
       "    <tr>\n",
       "      <th>9</th>\n",
       "      <td>{}</td>\n",
       "      <td>{}</td>\n",
       "      <td>{substance}</td>\n",
       "    </tr>\n",
       "  </tbody>\n",
       "</table>\n",
       "</div>"
      ],
      "text/plain": [
       "  cosine 0.9          cosine 0.8  \\\n",
       "0         {}                  {}   \n",
       "1      {car}      {car, measure}   \n",
       "2         {}                  {}   \n",
       "3         {}                  {}   \n",
       "4         {}                  {}   \n",
       "5         {}                  {}   \n",
       "6         {}                  {}   \n",
       "7         {}                  {}   \n",
       "8  {plastic}  {plastic, measure}   \n",
       "9         {}                  {}   \n",
       "\n",
       "                                         cosine 0.75  \n",
       "0                                {fuel, duty, refer}  \n",
       "1  {fuel, consumption, measure, vehiclesaustralia...  \n",
       "2                                        {substance}  \n",
       "3  {consumption, drop, product, duty, accumulatio...  \n",
       "4                                        {substance}  \n",
       "5  {crew, slot, behalf, charterer, cargo, passenger}  \n",
       "6            {industry, destroy, consumption, depot}  \n",
       "7                {treatment, spread, droplet, apply}  \n",
       "8  {intent, fuel, consignment, measure, resin, pl...  \n",
       "9                                        {substance}  "
      ]
     },
     "execution_count": 56,
     "metadata": {},
     "output_type": "execute_result"
    }
   ],
   "source": [
    "df_check = pd.DataFrame()\n",
    "df_check['cosine 0.9'] = doc_keywords_9\n",
    "df_check['cosine 0.8'] = doc_keywords_8\n",
    "df_check['cosine 0.75'] = doc_keywords_75\n",
    "\n",
    "df_check"
   ]
  }
 ],
 "metadata": {
  "kernelspec": {
   "display_name": "Python 3 (ipykernel)",
   "language": "python",
   "name": "python3"
  },
  "language_info": {
   "codemirror_mode": {
    "name": "ipython",
    "version": 3
   },
   "file_extension": ".py",
   "mimetype": "text/x-python",
   "name": "python",
   "nbconvert_exporter": "python",
   "pygments_lexer": "ipython3",
   "version": "3.9.12"
  }
 },
 "nbformat": 4,
 "nbformat_minor": 5
}

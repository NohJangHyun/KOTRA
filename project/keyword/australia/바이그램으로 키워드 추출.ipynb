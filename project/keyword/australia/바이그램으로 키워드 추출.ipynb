{
 "cells": [
  {
   "cell_type": "code",
   "execution_count": 2,
   "id": "6c6e2257",
   "metadata": {},
   "outputs": [],
   "source": [
    "import numpy as np\n",
    "import itertools\n",
    "\n",
    "from sklearn.feature_extraction.text import CountVectorizer\n",
    "from sklearn.metrics.pairwise import cosine_similarity\n",
    "from sentence_transformers import SentenceTransformer"
   ]
  },
  {
   "cell_type": "code",
   "execution_count": 3,
   "id": "efa37853",
   "metadata": {},
   "outputs": [],
   "source": [
    "import pandas as pd\n",
    "import re\n",
    "\n",
    "#df : 스크래핑한 호주 문서\n",
    "df = pd.read_csv(\"호주_세관_최근10.csv\")\n",
    "\n",
    "df_title = list(df['title'])[0]\n",
    "df_text = list(df['text'])[0]\n",
    "df_add = []\n",
    "\n",
    "for i in range(len(df)):\n",
    "    df_add.append(df_title[i]+\"\"+df_text[i])\n",
    "\n",
    "\n",
    "#df_keyword : 선정한 호주 키워드 101개\n",
    "df_keyword = pd.read_csv(\"호주_번역_100.csv\", index_col = False)"
   ]
  },
  {
   "cell_type": "code",
   "execution_count": 16,
   "id": "57beb6dc",
   "metadata": {},
   "outputs": [
    {
     "name": "stdout",
     "output_type": "stream",
     "text": [
      "['Indexation', 'customs', 'duty', 'rates', 'exciseequivalent', 'goods', 'August', '2022Australian', 'Customs', 'Notice', '202235', 'Indexation', 'customs', 'duty', 'rates', 'exciseequivalent', 'goods', 'August', '2022', 'This', 'notice', 'sets', 'out', 'the', 'new', 'customs', 'duty', 'rates', 'for', 'certain', 'exciseequivalent', 'goods', 'including', 'spirits', 'beers', 'fuel', 'products', 'operative', 'from', 'August', '2022', 'Section', 'the', 'Customs', 'Tariff', 'Act', '1995', 'Customs', 'Tariff', 'Act', 'provides', 'for', 'customs', 'duty', 'rates', 'for', 'certain', 'exciseequivalent', 'goods', 'indexed', 'biannually', 'February', 'August', 'the', 'Consumer', 'Price', 'Index', 'CPI', 'The', 'new', 'rates', 'are', 'determined', 'the', 'application', 'indexation', 'factor', 'This', 'indexation', 'factor', 'calculated', 'dividing', 'the', 'most', 'recent', 'June', 'December', 'Quarter', 'CPI', 'number', 'the', 'previous', 'highest', 'June', 'December', 'Quarter', 'CPI', 'number', 'occurring', 'after', 'the', 'June', '1983', 'Quarter', 'The', 'December', '2021', 'Quarter', 'CPI', 'figure', '1213', 'will', 'used', 'determine', 'the', 'indexation', 'factor', 'for', 'the', 'duty', 'rate', 'increase', 'applied', 'August', '2022', 'higher', 'than', 'the', 'previously', 'used', 'June', '2021', 'Quarter', 'CPI', 'figure', 'refer', 'ACN', '202205', 'July', '2022', 'the', 'Australian', 'Bureau', 'Statistics', 'released', 'the', 'June', '2022', 'Quarter', 'CPI', 'figure', '1261', 'The', 'figures', 'used', 'calculate', 'the', 'indexation', 'factor', 'for', 'August', '2022', 'are', 'set', 'out', 'the', 'table', 'below', 'Most', 'recent', 'CPI', 'number', 'Highest', 'previous', 'June', 'December', 'Quarter', 'June', 'Quarter', '2022', 'December', 'Quarter', '2021', 'Indexation', 'Factor', '1261', '1213', '1040', 'the', 'indexation', 'factor', 'for', 'August', '2022', '1040', 'greater', 'than', 'one', 'customs', 'duty', 'rates', 'for', 'certain', 'exciseequivalent', 'goods', 'Schedule', 'the', 'Customs', 'Tariff', 'will', 'increase', 'the', 'application', 'this', 'factor', 'The', 'rates', 'customs', 'duty', 'for', 'exciseequivalent', 'goods', 'operative', 'from', 'August', '2022', 'are', 'set', 'out', 'Table', 'below', 'supersede', 'the', 'rates', 'outlined', 'Australian', 'Customs', 'Notice', '202205', 'The', 'rates', 'referenced', 'above', 'also', 'apply', 'goods', 'subject', 'indexation', 'Schedule', 'Singaporean', 'originating', 'goods', 'Schedule', 'originating', 'goods', 'Schedule', 'Thai', 'originating', 'goods', 'Schedule', 'Peruvian', 'originating', 'goods', 'Schedule', 'Chilean', 'originating', 'goods', 'Australia', 'customs', 'service']\n"
     ]
    }
   ],
   "source": [
    "import nltk\n",
    "import string\n",
    "from nltk.tag import pos_tag\n",
    "from nltk.tokenize import word_tokenize\n",
    "from nltk.corpus import stopwords \n",
    "\n",
    "for doc in df_add:\n",
    "    \n",
    "    #공백 제거 + strip()\n",
    "    doc = doc.replace(\"\\n\", \"\").strip()\n",
    "    \n",
    "    #구두점 제거\n",
    "    doc = \"\".join([i for i in doc if i not in string.punctuation]).strip()\n",
    "    \n",
    "    #접속사 제거\n",
    "    \n",
    "    word_tokens = pos_tag(word_tokenize(doc))\n",
    "    for t in word_tokens:\n",
    "        if t[1] != \"CC\" or t[1] != \"RBpp\"\n",
    "    \n",
    "    word_tokens = [t[0] for t in word_tokens if t[1] != \"CC\" and len(t[0]) > 2]\n",
    "    print(word_tokens)\n",
    "    break\n",
    "    result.append(word_tokens)\n"
   ]
  },
  {
   "cell_type": "code",
   "execution_count": 5,
   "id": "7c22011f",
   "metadata": {},
   "outputs": [
    {
     "name": "stdout",
     "output_type": "stream",
     "text": [
      "1179\n",
      "['040 greater' '040 indexation' '05 27']\n"
     ]
    }
   ],
   "source": [
    "n_gram_range = (2, 2)\n",
    "stop_words = \"english\"\n",
    "\n",
    "count = CountVectorizer(ngram_range=n_gram_range, stop_words=stop_words).fit(df_add)\n",
    "candidates = count.get_feature_names_out()\n"
   ]
  },
  {
   "cell_type": "code",
   "execution_count": 10,
   "id": "9811c94e",
   "metadata": {},
   "outputs": [],
   "source": [
    "model = SentenceTransformer('distilbert-base-nli-mean-tokens')\n",
    "doc_embedding = model.encode(df_add)\n",
    "candidate_embeddings = model.encode(candidates)"
   ]
  },
  {
   "cell_type": "code",
   "execution_count": 8,
   "id": "836d3382",
   "metadata": {},
   "outputs": [
    {
     "name": "stdout",
     "output_type": "stream",
     "text": [
      "['2022 broker', 'june 2022', '2022 customs', '2022australian customs', 'august 2022australian']\n"
     ]
    }
   ],
   "source": [
    "top_n = 5\n",
    "distances = cosine_similarity(doc_embedding, candidate_embeddings)\n",
    "keywords = [candidates[index] for index in distances.argsort()[0][-top_n:]]\n",
    "print(keywords)"
   ]
  },
  {
   "cell_type": "code",
   "execution_count": null,
   "id": "3bc27ef4",
   "metadata": {},
   "outputs": [],
   "source": [
    "final_keyword = []\n",
    "for index, doc in enumerate(doc_embedding):\n",
    "    final_result = []\n",
    "    for i in range(len(doc)):\n",
    "        for j in range(len(bigrams_embedding)):\n",
    "            distances = cosine_similarity([doc[i]], [bigrams_embedding[j]])\n",
    "            if distances[0][0]>0.8:\n",
    "                final_result.append(doc_words[index][i])\n",
    "# distances = cosine_similarity([doc_embedding[0]], candidate_embeddings)\n",
    "    print(set(final_result))\n",
    "    doc_keywords_9.append(set(final_result))"
   ]
  },
  {
   "cell_type": "code",
   "execution_count": null,
   "id": "7287e7db",
   "metadata": {},
   "outputs": [],
   "source": []
  },
  {
   "cell_type": "code",
   "execution_count": null,
   "id": "a05217f4",
   "metadata": {},
   "outputs": [],
   "source": [
    "import numpy as np\n",
    "import itertools\n",
    "from sklearn.feature_extraction.text import CountVectorizer\n",
    "from sklearn.metrics.pairwise import cosine_similarity\n",
    "from sentence_transformers import SentenceTransformer\n",
    "\n",
    "# SentenceTransformer : 모델 훈련 위한 라이브러리\n",
    "# 'distiluse-base-multilingual-cased-v1' : 사용할 모델\n",
    "model = SentenceTransformer('distiluse-base-multilingual-cased-v1')"
   ]
  },
  {
   "cell_type": "code",
   "execution_count": null,
   "id": "b11dc112",
   "metadata": {},
   "outputs": [],
   "source": [
    "#keyword : 불러온 호주 키워드 중 번역 Column 추출\n",
    "keyword = list(df_keyword[\"번역\"])\n",
    "print(len(keyword))"
   ]
  },
  {
   "cell_type": "code",
   "execution_count": null,
   "id": "e6dbb1b4",
   "metadata": {},
   "outputs": [],
   "source": [
    "#키워드 벡터화\n",
    "keyword_embedding = []\n",
    "\n",
    "for ele in keyword:\n",
    "    keyword_embedding.append(model.encode(ele))\n",
    "\n",
    "print(len(keyword_embedding))"
   ]
  },
  {
   "cell_type": "code",
   "execution_count": null,
   "id": "37a9b651",
   "metadata": {},
   "outputs": [],
   "source": [
    "#호주 문서 전체 임베딩\n",
    "import nltk\n",
    "import string\n",
    "from nltk.tag import pos_tag\n",
    "from nltk.tokenize import word_tokenize\n",
    "from nltk.corpus import stopwords \n",
    "\n",
    "doc_embedding = []\n",
    "doc_append = []\n",
    "cnt = 1\n",
    "\n",
    "\n",
    "for doc in df_add:\n",
    "    stop_words = set(stopwords.words('english'))\n",
    "    doc = doc.replace(\"\\n\", \"\").strip()\n",
    "    doc_append.append(doc)\n",
    "    doc_embedding.append(model.encode(doc))\n"
   ]
  },
  {
   "cell_type": "code",
   "execution_count": null,
   "id": "48164a5c",
   "metadata": {},
   "outputs": [],
   "source": [
    "from nltk import ngrams\n",
    "\n",
    "bigrams_embedding = []\n",
    "bigrams = []\n",
    "\n",
    "for d in doc_append:\n",
    "    bigrams.append(ngrams(d.split(), 2))\n",
    "\n",
    "  \n",
    "# for bigram in range(len(bigrams)):\n",
    "#     for gram in bigrams[bigram]:\n",
    "#         print(gram)\n",
    "#     break\n",
    "for bigram in range(len(bigrams)):\n",
    "    embedding = []\n",
    "    for gram in bigrams[bigram]:\n",
    "        embedding.append(model.encode(gram))\n",
    "    bigrams_embedding.append(embedding)\n",
    "    "
   ]
  },
  {
   "cell_type": "code",
   "execution_count": null,
   "id": "fd24a3e8",
   "metadata": {},
   "outputs": [],
   "source": [
    "doc_embedding = np.array(doc_embedding)\n",
    "print(doc_embedding.shape)\n",
    "bigrams_embedding = np.array(bigrams_embedding)\n",
    "print(bigrams_embedding.shape)"
   ]
  },
  {
   "cell_type": "code",
   "execution_count": null,
   "id": "898866cc",
   "metadata": {},
   "outputs": [],
   "source": [
    "doc_keywords_8 = []\n",
    "for index, doc in enumerate(doc_embedding):\n",
    "    final_result = []\n",
    "    for i in range(len(doc)):\n",
    "        for j in range(len(bigrams_embedding)):\n",
    "            distances = cosine_similarity([doc[i]], [bigrams_embedding[j]])\n",
    "            if distances[0][0]>0.8:\n",
    "                final_result.append(doc_words[index][i])\n",
    "# distances = cosine_similarity([doc_embedding[0]], candidate_embeddings)\n",
    "    print(set(final_result))\n",
    "    doc_keywords_9.append(set(final_result))"
   ]
  }
 ],
 "metadata": {
  "kernelspec": {
   "display_name": "Python 3 (ipykernel)",
   "language": "python",
   "name": "python3"
  },
  "language_info": {
   "codemirror_mode": {
    "name": "ipython",
    "version": 3
   },
   "file_extension": ".py",
   "mimetype": "text/x-python",
   "name": "python",
   "nbconvert_exporter": "python",
   "pygments_lexer": "ipython3",
   "version": "3.9.12"
  }
 },
 "nbformat": 4,
 "nbformat_minor": 5
}

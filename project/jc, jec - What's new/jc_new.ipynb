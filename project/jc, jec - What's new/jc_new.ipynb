{
 "cells": [
  {
   "cell_type": "code",
   "execution_count": null,
   "id": "04858052",
   "metadata": {},
   "outputs": [],
   "source": [
    "from selenium import webdriver\n",
    "from selenium.webdriver.chrome.options import Options\n",
    "from bs4 import BeautifulSoup\n",
    "from time import sleep\n",
    "\n",
    "\n",
    "options= Options()\n",
    "options.headless = True\n",
    "driver = webdriver.Chrome(options = options)\n",
    "url= \"https://www.customs.go.jp/news/index.htm\"\n",
    "\n",
    "driver.get(url)\n",
    "sleep(1)\n",
    "\n",
    "soup = BeautifulSoup(driver.page_source, 'lxml')\n",
    "soup = soup.find(\"div\", attrs={\"class\":\"pastList category\"}).find('h3')"
   ]
  },
  {
   "cell_type": "code",
   "execution_count": null,
   "id": "00520a4e",
   "metadata": {},
   "outputs": [],
   "source": [
    "dates = []\n",
    "titles = []\n",
    "dt = soup.get_text()\n",
    "idx = dt.find(\"日\")\n",
    "\n",
    "date = dt[:idx+1]\n",
    "dates.append(date)\n",
    "title = dt[idx + 2:]\n",
    "titles.append(title)"
   ]
  },
  {
   "cell_type": "code",
   "execution_count": null,
   "id": "a7b4288d",
   "metadata": {},
   "outputs": [],
   "source": []
  },
  {
   "cell_type": "code",
   "execution_count": null,
   "id": "6b9f6e2f",
   "metadata": {},
   "outputs": [],
   "source": [
    "#가장 최근 뉴스 태그들 가져오기\n",
    "tags=[]\n",
    "tag = soup.select(\"img\")\n",
    "for i in range(len(tag)):\n",
    "    if len(tag[i]['alt']) > 0:\n",
    "        tags.append(tag[i]['alt'])\n",
    "print(tags)"
   ]
  },
  {
   "cell_type": "code",
   "execution_count": null,
   "id": "a9e68fc6",
   "metadata": {},
   "outputs": [],
   "source": [
    "#가장 최근 뉴스의 제목과 링크 가져오기\n",
    "topics=[]\n",
    "links=[]\n",
    "data = soup.find(\"a\")\n",
    "\n",
    "topic = data.get_text()\n",
    "link = \"https://www.customs.go.jp\"+data[\"href\"]\n",
    "\n",
    "topics.append(topic)\n",
    "links.append(link)\n",
    "\n",
    "print(topics)\n",
    "print(links)"
   ]
  },
  {
   "cell_type": "code",
   "execution_count": null,
   "id": "32e548d1",
   "metadata": {},
   "outputs": [],
   "source": [
    "#가장 최근 뉴스 날짜, 태그, 제목, 링크 DF형태로 출력\n",
    "import pandas as pd\n",
    "\n",
    "df = pd.DataFrame()\n",
    "df['date'] = dates\n",
    "df['tag'] = tags[0]\n",
    "df['topic'] = topics\n",
    "df['link'] = links\n",
    "df"
   ]
  },
  {
   "cell_type": "code",
   "execution_count": 1,
   "id": "54f6f8f6",
   "metadata": {},
   "outputs": [],
   "source": [
    "from selenium import webdriver\n",
    "from selenium.webdriver.chrome.options import Options\n",
    "from bs4 import BeautifulSoup\n",
    "from time import sleep\n",
    "\n",
    "\n",
    "options= Options()\n",
    "options.headless = True\n",
    "driver = webdriver.Chrome(options = options)\n",
    "url= \"https://www.customs.go.jp/news/index.htm\"\n",
    "\n",
    "driver.get(url)\n",
    "sleep(1)\n",
    "\n",
    "soup = BeautifulSoup(driver.page_source, 'lxml')\n",
    "rows = soup.find(\"div\", attrs={\"class\":\"pastList category\"}).find_all('h3')\n",
    "soup = soup.find(\"div\", attrs={\"class\":\"pastList category\"})"
   ]
  },
  {
   "cell_type": "code",
   "execution_count": 2,
   "id": "a45827f0",
   "metadata": {},
   "outputs": [
    {
     "name": "stdout",
     "output_type": "stream",
     "text": [
      "209\n",
      "209\n"
     ]
    }
   ],
   "source": [
    "#모든 date list에 추가\n",
    "dates = []\n",
    "titles = []\n",
    "for row in rows: \n",
    "    A = row.find_all(\"a\")\n",
    "    for a in A:\n",
    "        dt = a.get_text()\n",
    "        idx = dt.find(\"日\")\n",
    "        date = dt[:idx+1]\n",
    "        dates.append(date)\n",
    "        title = dt[idx + 2:]\n",
    "        titles.append(title)\n",
    "print(len(dates))\n",
    "print(len(titles))"
   ]
  },
  {
   "cell_type": "code",
   "execution_count": 3,
   "id": "61b98689",
   "metadata": {},
   "outputs": [
    {
     "name": "stdout",
     "output_type": "stream",
     "text": [
      "209\n"
     ]
    }
   ],
   "source": [
    "#모든 tag list에 추가\n",
    "tags = []\n",
    "tag = soup.find_all(\"img\")\n",
    "t=['統計', '手続', '採用', '法令', 'その他', '報道資料']\n",
    "#   통계,  수속(절차), 채용,  법령, 기타,  보도자료\n",
    "\n",
    "for i in range(len(tag)):\n",
    "    if tag[i]['alt'] in t:\n",
    "        tags.append(tag[i]['alt'])\n",
    "print(len(tags))"
   ]
  },
  {
   "cell_type": "code",
   "execution_count": 32,
   "id": "0f705a69",
   "metadata": {},
   "outputs": [
    {
     "name": "stdout",
     "output_type": "stream",
     "text": [
      "209\n",
      "209\n"
     ]
    }
   ],
   "source": [
    "#모든 title, link list에 추가\n",
    "titles = []\n",
    "links = []\n",
    "\n",
    "datas = soup.find_all(\"a\")\n",
    "\n",
    "for data in range(len(datas)):\n",
    "    titles.append(datas[data].get_text())\n",
    "    b_link = datas[data]['href']\n",
    "    if b_link[:2] == \"..\":\n",
    "        b_link = b_link[2:]\n",
    "    elif b_link[0] == \".\":\n",
    "        b_link = b_link[1:]\n",
    "        if b_link[:5] == \"/news\":\n",
    "            b_link = \"/news\" + b_link\n",
    "    link = \"https://www.customs.go.jp\" + b_link\n",
    "    links.append(link)\n",
    "print(len(titles))\n",
    "print(len(links))"
   ]
  },
  {
   "cell_type": "code",
   "execution_count": 33,
   "id": "3959b323",
   "metadata": {},
   "outputs": [
    {
     "data": {
      "text/html": [
       "<div>\n",
       "<style scoped>\n",
       "    .dataframe tbody tr th:only-of-type {\n",
       "        vertical-align: middle;\n",
       "    }\n",
       "\n",
       "    .dataframe tbody tr th {\n",
       "        vertical-align: top;\n",
       "    }\n",
       "\n",
       "    .dataframe thead th {\n",
       "        text-align: right;\n",
       "    }\n",
       "</style>\n",
       "<table border=\"1\" class=\"dataframe\">\n",
       "  <thead>\n",
       "    <tr style=\"text-align: right;\">\n",
       "      <th></th>\n",
       "      <th>date</th>\n",
       "      <th>tag</th>\n",
       "      <th>title</th>\n",
       "      <th>link</th>\n",
       "    </tr>\n",
       "  </thead>\n",
       "  <tbody>\n",
       "    <tr>\n",
       "      <th>0</th>\n",
       "      <td></td>\n",
       "      <td>統計</td>\n",
       "      <td>貿易統計（令和4年7月上旬分速報）</td>\n",
       "      <td>https://www.customs.go.jp/toukei/latest/index.htm</td>\n",
       "    </tr>\n",
       "    <tr>\n",
       "      <th>1</th>\n",
       "      <td>税関における新型コロナウイルス感染症陽性者の判明について(令和4年7月27日</td>\n",
       "      <td>その他</td>\n",
       "      <td>税関における新型コロナウイルス感染症陽性者の判明について(令和4年7月27日更新)</td>\n",
       "      <td>https://www.customs.go.jp/news/news/2022covid-...</td>\n",
       "    </tr>\n",
       "    <tr>\n",
       "      <th>2</th>\n",
       "      <td>価格の換算に用いる外国為替相場（令和4年7月31日</td>\n",
       "      <td>手続</td>\n",
       "      <td>価格の換算に用いる外国為替相場（令和4年7月31日～令和4年8月6日）</td>\n",
       "      <td>https://www.customs.go.jp/tetsuzuki/kawase/ind...</td>\n",
       "    </tr>\n",
       "    <tr>\n",
       "      <th>3</th>\n",
       "      <td></td>\n",
       "      <td>その他</td>\n",
       "      <td>クレジットカードを利用した関税等の納付のページを更新しました。</td>\n",
       "      <td>https://www.customs.go.jp/kaigairyoko/creca.html</td>\n",
       "    </tr>\n",
       "    <tr>\n",
       "      <th>4</th>\n",
       "      <td></td>\n",
       "      <td>その他</td>\n",
       "      <td>スマートフォン決済アプリを利用した関税等の納付のページを更新しました。</td>\n",
       "      <td>https://www.customs.go.jp/kaigairyoko/smapay.htm</td>\n",
       "    </tr>\n",
       "    <tr>\n",
       "      <th>...</th>\n",
       "      <td>...</td>\n",
       "      <td>...</td>\n",
       "      <td>...</td>\n",
       "      <td>...</td>\n",
       "    </tr>\n",
       "    <tr>\n",
       "      <th>204</th>\n",
       "      <td></td>\n",
       "      <td>その他</td>\n",
       "      <td>沖縄地区税関における新型コロナウイルス感染症陽性者の判明について</td>\n",
       "      <td>https://www.customs.go.jp/news/news/covid-19_2...</td>\n",
       "    </tr>\n",
       "    <tr>\n",
       "      <th>205</th>\n",
       "      <td></td>\n",
       "      <td>その他</td>\n",
       "      <td>沖縄地区税関における新型コロナウイルス感染症陽性者の判明について</td>\n",
       "      <td>https://www.customs.go.jp/news/news/covid-19_2...</td>\n",
       "    </tr>\n",
       "    <tr>\n",
       "      <th>206</th>\n",
       "      <td></td>\n",
       "      <td>その他</td>\n",
       "      <td>沖縄地区税関における新型コロナウイルス感染症陽性者の判明について</td>\n",
       "      <td>https://www.customs.go.jp/news/news/covid-19_2...</td>\n",
       "    </tr>\n",
       "    <tr>\n",
       "      <th>207</th>\n",
       "      <td>実行関税率表（2022年1月1日</td>\n",
       "      <td>手続</td>\n",
       "      <td>実行関税率表（2022年1月1日版）</td>\n",
       "      <td>https://www.customs.go.jp/tariff/2022_01_01/in...</td>\n",
       "    </tr>\n",
       "    <tr>\n",
       "      <th>208</th>\n",
       "      <td></td>\n",
       "      <td>法令</td>\n",
       "      <td>地域的な包括的経済連携（RCEP）協定の発効について</td>\n",
       "      <td>https://www.customs.go.jp/kyotsu/kokusai/news/...</td>\n",
       "    </tr>\n",
       "  </tbody>\n",
       "</table>\n",
       "<p>209 rows × 4 columns</p>\n",
       "</div>"
      ],
      "text/plain": [
       "                                       date  tag  \\\n",
       "0                                             統計   \n",
       "1    税関における新型コロナウイルス感染症陽性者の判明について(令和4年7月27日  その他   \n",
       "2                 価格の換算に用いる外国為替相場（令和4年7月31日   手続   \n",
       "3                                            その他   \n",
       "4                                            その他   \n",
       "..                                      ...  ...   \n",
       "204                                          その他   \n",
       "205                                          その他   \n",
       "206                                          その他   \n",
       "207                        実行関税率表（2022年1月1日   手続   \n",
       "208                                           法令   \n",
       "\n",
       "                                         title  \\\n",
       "0                            貿易統計（令和4年7月上旬分速報）   \n",
       "1    税関における新型コロナウイルス感染症陽性者の判明について(令和4年7月27日更新)   \n",
       "2          価格の換算に用いる外国為替相場（令和4年7月31日～令和4年8月6日）   \n",
       "3              クレジットカードを利用した関税等の納付のページを更新しました。   \n",
       "4          スマートフォン決済アプリを利用した関税等の納付のページを更新しました。   \n",
       "..                                         ...   \n",
       "204           沖縄地区税関における新型コロナウイルス感染症陽性者の判明について   \n",
       "205           沖縄地区税関における新型コロナウイルス感染症陽性者の判明について   \n",
       "206           沖縄地区税関における新型コロナウイルス感染症陽性者の判明について   \n",
       "207                         実行関税率表（2022年1月1日版）   \n",
       "208                 地域的な包括的経済連携（RCEP）協定の発効について   \n",
       "\n",
       "                                                  link  \n",
       "0    https://www.customs.go.jp/toukei/latest/index.htm  \n",
       "1    https://www.customs.go.jp/news/news/2022covid-...  \n",
       "2    https://www.customs.go.jp/tetsuzuki/kawase/ind...  \n",
       "3     https://www.customs.go.jp/kaigairyoko/creca.html  \n",
       "4     https://www.customs.go.jp/kaigairyoko/smapay.htm  \n",
       "..                                                 ...  \n",
       "204  https://www.customs.go.jp/news/news/covid-19_2...  \n",
       "205  https://www.customs.go.jp/news/news/covid-19_2...  \n",
       "206  https://www.customs.go.jp/news/news/covid-19_2...  \n",
       "207  https://www.customs.go.jp/tariff/2022_01_01/in...  \n",
       "208  https://www.customs.go.jp/kyotsu/kokusai/news/...  \n",
       "\n",
       "[209 rows x 4 columns]"
      ]
     },
     "execution_count": 33,
     "metadata": {},
     "output_type": "execute_result"
    }
   ],
   "source": [
    "import pandas as pd\n",
    "\n",
    "df = pd.DataFrame()\n",
    "df['date'] = dates\n",
    "df['tag'] = tags\n",
    "df['title'] = titles\n",
    "df['link'] = links\n",
    "df"
   ]
  },
  {
   "cell_type": "code",
   "execution_count": 35,
   "id": "f163a454",
   "metadata": {},
   "outputs": [],
   "source": [
    "df.to_csv('jc_new.csv', mode='w', encoding='utf-8-sig')"
   ]
  }
 ],
 "metadata": {
  "kernelspec": {
   "display_name": "Python 3 (ipykernel)",
   "language": "python",
   "name": "python3"
  },
  "language_info": {
   "codemirror_mode": {
    "name": "ipython",
    "version": 3
   },
   "file_extension": ".py",
   "mimetype": "text/x-python",
   "name": "python",
   "nbconvert_exporter": "python",
   "pygments_lexer": "ipython3",
   "version": "3.9.12"
  }
 },
 "nbformat": 4,
 "nbformat_minor": 5
}

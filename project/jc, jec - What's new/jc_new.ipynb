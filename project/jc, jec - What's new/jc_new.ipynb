{
 "cells": [
  {
   "cell_type": "code",
   "execution_count": 69,
   "id": "04858052",
   "metadata": {},
   "outputs": [],
   "source": [
    "from selenium import webdriver\n",
    "from selenium.webdriver.chrome.options import Options\n",
    "from bs4 import BeautifulSoup\n",
    "from time import sleep\n",
    "\n",
    "options= Options()\n",
    "options.headless = True\n",
    "driver = webdriver.Chrome(options = options)\n",
    "url= \"https://www.customs.go.jp/news/index.htm\"\n",
    "\n",
    "driver.get(url)\n",
    "sleep(1)\n",
    "\n",
    "soup = BeautifulSoup(driver.page_source, 'lxml')\n",
    "soup = soup.find(\"div\", attrs={\"class\":\"pastList category\"}).find(\"ul\").find(\"li\").find(\"h3\")"
   ]
  },
  {
   "cell_type": "code",
   "execution_count": 70,
   "id": "758663a8",
   "metadata": {},
   "outputs": [
    {
     "name": "stdout",
     "output_type": "stream",
     "text": [
      "7月26日\n"
     ]
    }
   ],
   "source": [
    "#가장 최근 뉴스가 올라온 날짜 가져오기\n",
    "dates=[]\n",
    "date = soup.find(\"span\").get_text()\n",
    "dates.append(date)\n",
    "print(dates[0])"
   ]
  },
  {
   "cell_type": "code",
   "execution_count": 74,
   "id": "6b9f6e2f",
   "metadata": {},
   "outputs": [
    {
     "name": "stdout",
     "output_type": "stream",
     "text": [
      "['その他', '手続']\n"
     ]
    }
   ],
   "source": [
    "#가장 최근 뉴스 태그들 가져오기\n",
    "tags=[]\n",
    "tag = soup.select(\"img\")\n",
    "for i in range(len(tag)):\n",
    "    if len(tag[i]['alt']) > 0:\n",
    "        tags.append(tag[i]['alt'])\n",
    "print(tags[0])"
   ]
  },
  {
   "cell_type": "code",
   "execution_count": 73,
   "id": "a9e68fc6",
   "metadata": {},
   "outputs": [
    {
     "name": "stdout",
     "output_type": "stream",
     "text": [
      "['税関における新型コロナウイルス感染症陽性者の判明について(令和4年7月26日更新)']\n",
      "['https://www.customs.go.jp/englishnews/2022covid-19.html']\n"
     ]
    }
   ],
   "source": [
    "#가장 최근 뉴스의 제목과 링크 가져오기\n",
    "topics=[]\n",
    "links=[]\n",
    "data = soup.find(\"a\")\n",
    "\n",
    "topic = data.get_text()\n",
    "link = \"https://www.customs.go.jp/english\"+data[\"href\"][2:]\n",
    "\n",
    "topics.append(topic)\n",
    "links.append(link)\n",
    "\n",
    "print(topics)\n",
    "print(links)"
   ]
  },
  {
   "cell_type": "code",
   "execution_count": 75,
   "id": "32e548d1",
   "metadata": {},
   "outputs": [
    {
     "data": {
      "text/html": [
       "<div>\n",
       "<style scoped>\n",
       "    .dataframe tbody tr th:only-of-type {\n",
       "        vertical-align: middle;\n",
       "    }\n",
       "\n",
       "    .dataframe tbody tr th {\n",
       "        vertical-align: top;\n",
       "    }\n",
       "\n",
       "    .dataframe thead th {\n",
       "        text-align: right;\n",
       "    }\n",
       "</style>\n",
       "<table border=\"1\" class=\"dataframe\">\n",
       "  <thead>\n",
       "    <tr style=\"text-align: right;\">\n",
       "      <th></th>\n",
       "      <th>date</th>\n",
       "      <th>tag</th>\n",
       "      <th>topic</th>\n",
       "      <th>link</th>\n",
       "    </tr>\n",
       "  </thead>\n",
       "  <tbody>\n",
       "    <tr>\n",
       "      <th>0</th>\n",
       "      <td>7月26日</td>\n",
       "      <td>その他</td>\n",
       "      <td>税関における新型コロナウイルス感染症陽性者の判明について(令和4年7月26日更新)</td>\n",
       "      <td>https://www.customs.go.jp/englishnews/2022covi...</td>\n",
       "    </tr>\n",
       "  </tbody>\n",
       "</table>\n",
       "</div>"
      ],
      "text/plain": [
       "    date  tag                                      topic  \\\n",
       "0  7月26日  その他  税関における新型コロナウイルス感染症陽性者の判明について(令和4年7月26日更新)   \n",
       "\n",
       "                                                link  \n",
       "0  https://www.customs.go.jp/englishnews/2022covi...  "
      ]
     },
     "execution_count": 75,
     "metadata": {},
     "output_type": "execute_result"
    }
   ],
   "source": [
    "#가장 최근 뉴스 날짜, 태그, 제목, 링크 DF형태로 출력\n",
    "import pandas as pd\n",
    "\n",
    "df = pd.DataFrame()\n",
    "df['date'] = dates\n",
    "df['tag'] = tags[0]\n",
    "df['topic'] = topics\n",
    "df['link'] = links\n",
    "df"
   ]
  },
  {
   "cell_type": "code",
   "execution_count": 94,
   "id": "54f6f8f6",
   "metadata": {},
   "outputs": [],
   "source": [
    "from selenium import webdriver\n",
    "from selenium.webdriver.chrome.options import Options\n",
    "from bs4 import BeautifulSoup\n",
    "from time import sleep\n",
    "\n",
    "options= Options()\n",
    "options.headless = True\n",
    "driver = webdriver.Chrome(options = options)\n",
    "url= \"https://www.customs.go.jp/news/index.htm\"\n",
    "\n",
    "driver.get(url)\n",
    "sleep(1)\n",
    "\n",
    "soup = BeautifulSoup(driver.page_source, 'lxml')\n",
    "soup = soup.find(\"div\", attrs={\"class\":\"pastList category\"})"
   ]
  },
  {
   "cell_type": "code",
   "execution_count": 96,
   "id": "a45827f0",
   "metadata": {},
   "outputs": [
    {
     "name": "stdout",
     "output_type": "stream",
     "text": [
      "208\n"
     ]
    }
   ],
   "source": [
    "#모든 date list에 추가\n",
    "dates = []\n",
    "rows = soup.find_all(\"h3\")\n",
    "for row in rows: #h3 태그 하나씩 확인\n",
    "    A = row.find_all(\"a\") #h3 태그 하나에 여러 값이 있는 경우를 위해 a 태그 찾기\n",
    "    for a in A:\n",
    "        date = row.find(\"span\").get_text()\n",
    "        dates.append(date)\n",
    "print(len(dates))"
   ]
  },
  {
   "cell_type": "code",
   "execution_count": 97,
   "id": "61b98689",
   "metadata": {},
   "outputs": [
    {
     "name": "stdout",
     "output_type": "stream",
     "text": [
      "208\n"
     ]
    }
   ],
   "source": [
    "#모든 tag list에 추가\n",
    "tags = []\n",
    "tag = soup.find_all(\"img\")\n",
    "t=['統計', '手続', '採用', '法令', 'その他', '報道資料']\n",
    "#   통계,  수속(절차), 채용,  법령, 기타,  보도자료\n",
    "\n",
    "for i in range(len(tag)):\n",
    "    if tag[i]['alt'] in t:\n",
    "        tags.append(tag[i]['alt'])\n",
    "print(len(tags))"
   ]
  },
  {
   "cell_type": "code",
   "execution_count": 98,
   "id": "0f705a69",
   "metadata": {},
   "outputs": [
    {
     "name": "stdout",
     "output_type": "stream",
     "text": [
      "208\n",
      "208\n"
     ]
    }
   ],
   "source": [
    "#모든 topic, link list에 추가\n",
    "topics = []\n",
    "links = []\n",
    "\n",
    "datas = soup.find_all(\"a\")\n",
    "\n",
    "for data in datas:\n",
    "    topics.append(data.get_text())\n",
    "    links.append(\"https://www.customs.go.jp/english\"+data[\"href\"][2:])\n",
    "print(len(topics))\n",
    "print(len(links))"
   ]
  },
  {
   "cell_type": "code",
   "execution_count": 99,
   "id": "3959b323",
   "metadata": {},
   "outputs": [
    {
     "data": {
      "text/html": [
       "<div>\n",
       "<style scoped>\n",
       "    .dataframe tbody tr th:only-of-type {\n",
       "        vertical-align: middle;\n",
       "    }\n",
       "\n",
       "    .dataframe tbody tr th {\n",
       "        vertical-align: top;\n",
       "    }\n",
       "\n",
       "    .dataframe thead th {\n",
       "        text-align: right;\n",
       "    }\n",
       "</style>\n",
       "<table border=\"1\" class=\"dataframe\">\n",
       "  <thead>\n",
       "    <tr style=\"text-align: right;\">\n",
       "      <th></th>\n",
       "      <th>date</th>\n",
       "      <th>tag</th>\n",
       "      <th>topic</th>\n",
       "      <th>link</th>\n",
       "    </tr>\n",
       "  </thead>\n",
       "  <tbody>\n",
       "    <tr>\n",
       "      <th>0</th>\n",
       "      <td>7月26日</td>\n",
       "      <td>その他</td>\n",
       "      <td>税関における新型コロナウイルス感染症陽性者の判明について(令和4年7月26日更新)</td>\n",
       "      <td>https://www.customs.go.jp/englishnews/2022covi...</td>\n",
       "    </tr>\n",
       "    <tr>\n",
       "      <th>1</th>\n",
       "      <td>7月26日</td>\n",
       "      <td>手続</td>\n",
       "      <td>価格の換算に用いる外国為替相場（令和4年7月31日～令和4年8月6日）</td>\n",
       "      <td>https://www.customs.go.jp/english/tetsuzuki/ka...</td>\n",
       "    </tr>\n",
       "    <tr>\n",
       "      <th>2</th>\n",
       "      <td>7月21日</td>\n",
       "      <td>その他</td>\n",
       "      <td>クレジットカードを利用した関税等の納付のページを更新しました。</td>\n",
       "      <td>https://www.customs.go.jp/english/kaigairyoko/...</td>\n",
       "    </tr>\n",
       "    <tr>\n",
       "      <th>3</th>\n",
       "      <td>7月21日</td>\n",
       "      <td>その他</td>\n",
       "      <td>スマートフォン決済アプリを利用した関税等の納付のページを更新しました。</td>\n",
       "      <td>https://www.customs.go.jp/english/kaigairyoko/...</td>\n",
       "    </tr>\n",
       "    <tr>\n",
       "      <th>4</th>\n",
       "      <td>7月21日</td>\n",
       "      <td>統計</td>\n",
       "      <td>貿易統計（令和4年６月分速報）</td>\n",
       "      <td>https://www.customs.go.jp/englishoukei/latest/...</td>\n",
       "    </tr>\n",
       "    <tr>\n",
       "      <th>...</th>\n",
       "      <td>...</td>\n",
       "      <td>...</td>\n",
       "      <td>...</td>\n",
       "      <td>...</td>\n",
       "    </tr>\n",
       "    <tr>\n",
       "      <th>203</th>\n",
       "      <td>1月6日</td>\n",
       "      <td>その他</td>\n",
       "      <td>沖縄地区税関における新型コロナウイルス感染症陽性者の判明について</td>\n",
       "      <td>https://www.customs.go.jp/englishnews/covid-19...</td>\n",
       "    </tr>\n",
       "    <tr>\n",
       "      <th>204</th>\n",
       "      <td>1月6日</td>\n",
       "      <td>その他</td>\n",
       "      <td>沖縄地区税関における新型コロナウイルス感染症陽性者の判明について</td>\n",
       "      <td>https://www.customs.go.jp/englishnews/covid-19...</td>\n",
       "    </tr>\n",
       "    <tr>\n",
       "      <th>205</th>\n",
       "      <td>1月4日</td>\n",
       "      <td>その他</td>\n",
       "      <td>沖縄地区税関における新型コロナウイルス感染症陽性者の判明について</td>\n",
       "      <td>https://www.customs.go.jp/englishnews/covid-19...</td>\n",
       "    </tr>\n",
       "    <tr>\n",
       "      <th>206</th>\n",
       "      <td>1月1日</td>\n",
       "      <td>手続</td>\n",
       "      <td>実行関税率表（2022年1月1日版）</td>\n",
       "      <td>https://www.customs.go.jp/english/tariff/2022_...</td>\n",
       "    </tr>\n",
       "    <tr>\n",
       "      <th>207</th>\n",
       "      <td>1月1日</td>\n",
       "      <td>法令</td>\n",
       "      <td>地域的な包括的経済連携（RCEP）協定の発効について</td>\n",
       "      <td>https://www.customs.go.jp/english/kyotsu/kokus...</td>\n",
       "    </tr>\n",
       "  </tbody>\n",
       "</table>\n",
       "<p>208 rows × 4 columns</p>\n",
       "</div>"
      ],
      "text/plain": [
       "      date  tag                                      topic  \\\n",
       "0    7月26日  その他  税関における新型コロナウイルス感染症陽性者の判明について(令和4年7月26日更新)   \n",
       "1    7月26日   手続        価格の換算に用いる外国為替相場（令和4年7月31日～令和4年8月6日）   \n",
       "2    7月21日  その他            クレジットカードを利用した関税等の納付のページを更新しました。   \n",
       "3    7月21日  その他        スマートフォン決済アプリを利用した関税等の納付のページを更新しました。   \n",
       "4    7月21日   統計                            貿易統計（令和4年６月分速報）   \n",
       "..     ...  ...                                        ...   \n",
       "203   1月6日  その他           沖縄地区税関における新型コロナウイルス感染症陽性者の判明について   \n",
       "204   1月6日  その他           沖縄地区税関における新型コロナウイルス感染症陽性者の判明について   \n",
       "205   1月4日  その他           沖縄地区税関における新型コロナウイルス感染症陽性者の判明について   \n",
       "206   1月1日   手続                         実行関税率表（2022年1月1日版）   \n",
       "207   1月1日   法令                 地域的な包括的経済連携（RCEP）協定の発効について   \n",
       "\n",
       "                                                  link  \n",
       "0    https://www.customs.go.jp/englishnews/2022covi...  \n",
       "1    https://www.customs.go.jp/english/tetsuzuki/ka...  \n",
       "2    https://www.customs.go.jp/english/kaigairyoko/...  \n",
       "3    https://www.customs.go.jp/english/kaigairyoko/...  \n",
       "4    https://www.customs.go.jp/englishoukei/latest/...  \n",
       "..                                                 ...  \n",
       "203  https://www.customs.go.jp/englishnews/covid-19...  \n",
       "204  https://www.customs.go.jp/englishnews/covid-19...  \n",
       "205  https://www.customs.go.jp/englishnews/covid-19...  \n",
       "206  https://www.customs.go.jp/english/tariff/2022_...  \n",
       "207  https://www.customs.go.jp/english/kyotsu/kokus...  \n",
       "\n",
       "[208 rows x 4 columns]"
      ]
     },
     "execution_count": 99,
     "metadata": {},
     "output_type": "execute_result"
    }
   ],
   "source": [
    "import pandas as pd\n",
    "\n",
    "df = pd.DataFrame()\n",
    "df['date'] = dates\n",
    "df['tag'] = tags\n",
    "df['topic'] = topics\n",
    "df['link'] = links\n",
    "df"
   ]
  },
  {
   "cell_type": "code",
   "execution_count": 100,
   "id": "f163a454",
   "metadata": {},
   "outputs": [],
   "source": [
    "df.to_csv('jc_new.csv', mode='w', encoding='utf-8-sig')"
   ]
  }
 ],
 "metadata": {
  "kernelspec": {
   "display_name": "Python 3 (ipykernel)",
   "language": "python",
   "name": "python3"
  },
  "language_info": {
   "codemirror_mode": {
    "name": "ipython",
    "version": 3
   },
   "file_extension": ".py",
   "mimetype": "text/x-python",
   "name": "python",
   "nbconvert_exporter": "python",
   "pygments_lexer": "ipython3",
   "version": "3.9.12"
  }
 },
 "nbformat": 4,
 "nbformat_minor": 5
}

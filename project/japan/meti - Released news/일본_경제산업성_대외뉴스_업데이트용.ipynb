{
 "cells": [
  {
   "cell_type": "code",
   "execution_count": 110,
   "id": "1336bf70",
   "metadata": {},
   "outputs": [],
   "source": [
    "#METI(Ministry of Economoy, Trade and Industy) - 일본 경제산업성에서 올라오는 대외 경제 카테고리 뉴스 업데이트용\n",
    "\n",
    "from selenium import webdriver\n",
    "from selenium.webdriver.chrome.options import Options\n",
    "from bs4 import BeautifulSoup\n",
    "from time import sleep\n",
    "import pandas as pd\n",
    "\n",
    "options= Options()\n",
    "options.headless = True\n",
    "driver = webdriver.Chrome(options = options)\n",
    "url= \"https://www.meti.go.jp/press/category_02.html\"\n",
    "\n",
    "driver.get(url)\n",
    "sleep(1)\n",
    "\n",
    "soup = BeautifulSoup(driver.page_source, 'lxml')\n",
    "dl = soup.find(\"dl\", attrs={\"class\":\"date_sp b-solid\"})"
   ]
  },
  {
   "cell_type": "code",
   "execution_count": 111,
   "id": "109070a2",
   "metadata": {},
   "outputs": [],
   "source": [
    "#최신 뉴스가 있는지 확인하기 위해 기존 data 불러오기\n",
    "original = pd.read_csv(\"연습.csv\")"
   ]
  },
  {
   "cell_type": "code",
   "execution_count": 112,
   "id": "a83527e8",
   "metadata": {},
   "outputs": [
    {
     "name": "stdout",
     "output_type": "stream",
     "text": [
      "500\n"
     ]
    }
   ],
   "source": [
    "#date\n",
    "dates = []\n",
    "\n",
    "dt = dl.find_all(\"dt\")\n",
    "for d in range(len(dt)):\n",
    "    date = dt[d].get_text().replace(\"年\", \"/\").replace(\"月\",\"/\").replace(\"日\", \"/\")\n",
    "    dates.append(date[:-1])\n",
    "print(len(dates))"
   ]
  },
  {
   "cell_type": "code",
   "execution_count": 113,
   "id": "718dfa6b",
   "metadata": {},
   "outputs": [
    {
     "name": "stdout",
     "output_type": "stream",
     "text": [
      "500\n",
      "500\n"
     ]
    }
   ],
   "source": [
    "#title & link\n",
    "titles = []\n",
    "links = []\n",
    "\n",
    "A = dl.find_all(\"a\")\n",
    "for a in A:\n",
    "    title = a.get_text()\n",
    "    link = \"https://www.meti.go.jp/\"+a['href']\n",
    "    titles.append(title)\n",
    "    links.append(link)\n",
    "print(len(titles))\n",
    "print(len(links))"
   ]
  },
  {
   "cell_type": "code",
   "execution_count": 127,
   "id": "2d33ccb1",
   "metadata": {},
   "outputs": [
    {
     "data": {
      "text/plain": [
       "2"
      ]
     },
     "execution_count": 127,
     "metadata": {},
     "output_type": "execute_result"
    }
   ],
   "source": [
    "new_row = []\n",
    "if original['date'][0] != dates[0] and original['title'][0] != titles[0]:\n",
    "    find = original['title'][0]\n",
    "    idx = titles.index(find)"
   ]
  },
  {
   "cell_type": "code",
   "execution_count": 125,
   "id": "e7551299",
   "metadata": {},
   "outputs": [],
   "source": [
    "CC = []\n",
    "for i in range(idx):\n",
    "    options= Options()\n",
    "    options.headless = True\n",
    "    driver = webdriver.Chrome(options = options)\n",
    "    url= links[i]\n",
    "\n",
    "    driver.get(url)\n",
    "    sleep(1)\n",
    "\n",
    "    str_con = \"\"\n",
    "    cc = []\n",
    "    soup = BeautifulSoup(driver.page_source, 'lxml')\n",
    "    content = soup.find(\"div\", attrs={\"class\":\"main w1000\"})\n",
    "    for con in content:\n",
    "        c = con.get_text()\n",
    "        if len(c) > 1:\n",
    "            if c != \"担当\": \n",
    "                str_con = str_con + \" \" + c\n",
    "            else:\n",
    "                break\n",
    "    str_con = str_con.replace(\"\\n\", \"\")\n",
    "    CC.append(str_con)"
   ]
  },
  {
   "cell_type": "code",
   "execution_count": 129,
   "id": "31164799",
   "metadata": {},
   "outputs": [
    {
     "data": {
      "text/plain": [
       "'2022/7/30'"
      ]
     },
     "execution_count": 129,
     "metadata": {},
     "output_type": "execute_result"
    }
   ],
   "source": []
  },
  {
   "cell_type": "code",
   "execution_count": 131,
   "id": "24f6f372",
   "metadata": {},
   "outputs": [
    {
     "data": {
      "text/html": [
       "<div>\n",
       "<style scoped>\n",
       "    .dataframe tbody tr th:only-of-type {\n",
       "        vertical-align: middle;\n",
       "    }\n",
       "\n",
       "    .dataframe tbody tr th {\n",
       "        vertical-align: top;\n",
       "    }\n",
       "\n",
       "    .dataframe thead th {\n",
       "        text-align: right;\n",
       "    }\n",
       "</style>\n",
       "<table border=\"1\" class=\"dataframe\">\n",
       "  <thead>\n",
       "    <tr style=\"text-align: right;\">\n",
       "      <th></th>\n",
       "      <th>date</th>\n",
       "      <th>title</th>\n",
       "      <th>link</th>\n",
       "      <th>content</th>\n",
       "    </tr>\n",
       "  </thead>\n",
       "  <tbody>\n",
       "    <tr>\n",
       "      <th>0</th>\n",
       "      <td>2022/8/1</td>\n",
       "      <td>萩生田経済産業大臣が米国に出張しました</td>\n",
       "      <td>https://www.meti.go.jp//press/2022/07/20220730...</td>\n",
       "      <td>2022年8月1日  対外経済 萩生田経済産業大臣は、7月27日（水曜日）から7月31日（...</td>\n",
       "    </tr>\n",
       "    <tr>\n",
       "      <th>1</th>\n",
       "      <td>2022/7/30</td>\n",
       "      <td>萩生田経済産業大臣が日米経済政策協議委員会（経済版「2＋2」）に出席し、共同声明を発出しました</td>\n",
       "      <td>https://www.meti.go.jp//press/2022/07/20220730...</td>\n",
       "      <td>2022年7月30日  対外経済 7月29日（金曜日）、日米経済政策協議委員会（経済版「2...</td>\n",
       "    </tr>\n",
       "  </tbody>\n",
       "</table>\n",
       "</div>"
      ],
      "text/plain": [
       "        date                                            title  \\\n",
       "0   2022/8/1                              萩生田経済産業大臣が米国に出張しました   \n",
       "1  2022/7/30  萩生田経済産業大臣が日米経済政策協議委員会（経済版「2＋2」）に出席し、共同声明を発出しました   \n",
       "\n",
       "                                                link  \\\n",
       "0  https://www.meti.go.jp//press/2022/07/20220730...   \n",
       "1  https://www.meti.go.jp//press/2022/07/20220730...   \n",
       "\n",
       "                                             content  \n",
       "0   2022年8月1日  対外経済 萩生田経済産業大臣は、7月27日（水曜日）から7月31日（...  \n",
       "1   2022年7月30日  対外経済 7月29日（金曜日）、日米経済政策協議委員会（経済版「2...  "
      ]
     },
     "execution_count": 131,
     "metadata": {},
     "output_type": "execute_result"
    }
   ],
   "source": [
    "new = pd.DataFrame()\n",
    "\n",
    "new['date'] = dates[:idx]\n",
    "new['title'] = titles[:idx]\n",
    "new['link'] = links[:idx]\n",
    "new['content'] = CC[:idx]\n",
    "new"
   ]
  },
  {
   "cell_type": "code",
   "execution_count": 133,
   "id": "2837f503",
   "metadata": {},
   "outputs": [
    {
     "data": {
      "text/html": [
       "<div>\n",
       "<style scoped>\n",
       "    .dataframe tbody tr th:only-of-type {\n",
       "        vertical-align: middle;\n",
       "    }\n",
       "\n",
       "    .dataframe tbody tr th {\n",
       "        vertical-align: top;\n",
       "    }\n",
       "\n",
       "    .dataframe thead th {\n",
       "        text-align: right;\n",
       "    }\n",
       "</style>\n",
       "<table border=\"1\" class=\"dataframe\">\n",
       "  <thead>\n",
       "    <tr style=\"text-align: right;\">\n",
       "      <th></th>\n",
       "      <th>date</th>\n",
       "      <th>title</th>\n",
       "      <th>link</th>\n",
       "      <th>content</th>\n",
       "    </tr>\n",
       "  </thead>\n",
       "  <tbody>\n",
       "    <tr>\n",
       "      <th>0</th>\n",
       "      <td>2022/8/1</td>\n",
       "      <td>萩生田経済産業大臣が米国に出張しました</td>\n",
       "      <td>https://www.meti.go.jp//press/2022/07/20220730...</td>\n",
       "      <td>2022年8月1日  対外経済 萩生田経済産業大臣は、7月27日（水曜日）から7月31日（...</td>\n",
       "    </tr>\n",
       "    <tr>\n",
       "      <th>1</th>\n",
       "      <td>2022/7/30</td>\n",
       "      <td>萩生田経済産業大臣が日米経済政策協議委員会（経済版「2＋2」）に出席し、共同声明を発出しました</td>\n",
       "      <td>https://www.meti.go.jp//press/2022/07/20220730...</td>\n",
       "      <td>2022年7月30日  対外経済 7月29日（金曜日）、日米経済政策協議委員会（経済版「2...</td>\n",
       "    </tr>\n",
       "    <tr>\n",
       "      <th>0</th>\n",
       "      <td>2022-07-28</td>\n",
       "      <td>石井経済産業副大臣がウバイドゥラエフ・ウズベキスタン共和国経済発展・貧困削減副大臣の表敬を受...</td>\n",
       "      <td>https://www.meti.go.jp//press/2022/07/20220728...</td>\n",
       "      <td>[' 2022年7月28日  対外経済 7月28日、石井経済産業副大臣は、ウズベキスタン共和...</td>\n",
       "    </tr>\n",
       "    <tr>\n",
       "      <th>1</th>\n",
       "      <td>2022-07-28</td>\n",
       "      <td>J-Bridgeアフリカローンチイベントを開催します</td>\n",
       "      <td>https://www.meti.go.jp//press/2022/07/20220728...</td>\n",
       "      <td>[' 2022年7月28日  対外経済 経済産業省は、日本企業と海外スタートアップ等との協業...</td>\n",
       "    </tr>\n",
       "    <tr>\n",
       "      <th>2</th>\n",
       "      <td>2022-07-27</td>\n",
       "      <td>インド太平洋経済枠組み（IPEF）閣僚級会合が開催されました</td>\n",
       "      <td>https://www.meti.go.jp//press/2022/07/20220727...</td>\n",
       "      <td>[' 2022年7月27日  対外経済 7月26、27日の2日間で、インド太平洋経済枠組み（...</td>\n",
       "    </tr>\n",
       "    <tr>\n",
       "      <th>...</th>\n",
       "      <td>...</td>\n",
       "      <td>...</td>\n",
       "      <td>...</td>\n",
       "      <td>...</td>\n",
       "    </tr>\n",
       "    <tr>\n",
       "      <th>493</th>\n",
       "      <td>2019-06-07</td>\n",
       "      <td>世耕大臣がインフラ輸出への機関投資家資金の活用促進に向けた日本貿易保険（NEXI）と金融機関...</td>\n",
       "      <td>https://www.meti.go.jp//press/2019/06/20190607...</td>\n",
       "      <td>[' 2019年6月7日  対外経済 本日、世耕大臣の立会いの下、株式会社日本貿易保険（NE...</td>\n",
       "    </tr>\n",
       "    <tr>\n",
       "      <th>494</th>\n",
       "      <td>2019-06-07</td>\n",
       "      <td>アフリカビジネス協議会　第1回本会議を開催しました</td>\n",
       "      <td>https://www.meti.go.jp//press/2019/06/20190607...</td>\n",
       "      <td>[' 2019年6月7日同時発表：外務省  対外経済 6月6日、世耕経済産業大臣及び河野外務...</td>\n",
       "    </tr>\n",
       "    <tr>\n",
       "      <th>495</th>\n",
       "      <td>2019-05-31</td>\n",
       "      <td>世耕大臣がインドネシア共和国、シンガポール共和国へ出張しました</td>\n",
       "      <td>https://www.meti.go.jp//press/2019/05/20190531...</td>\n",
       "      <td>[' 2019年5月31日  対外経済 世耕経済産業大臣は、5月28日（火曜日）から31日（...</td>\n",
       "    </tr>\n",
       "    <tr>\n",
       "      <th>496</th>\n",
       "      <td>2019-05-31</td>\n",
       "      <td>令和元年度質の高いインフラの海外展開に向けた事業実施可能性調査事業等の採択事業者を決定しました</td>\n",
       "      <td>https://www.meti.go.jp//press/2019/05/20190531...</td>\n",
       "      <td>[' 2019年5月31日  対外経済 経済産業省は、令和元年度「質の高いインフラの海外展開...</td>\n",
       "    </tr>\n",
       "    <tr>\n",
       "      <th>497</th>\n",
       "      <td>2019-05-29</td>\n",
       "      <td>石川経済産業大臣政務官がチリ共和国、ブラジル連邦共和国、ペルー共和国及びアメリカ合衆国に出張...</td>\n",
       "      <td>https://www.meti.go.jp//press/2019/05/20190529...</td>\n",
       "      <td>[' 2019年5月29日  対外経済 石川経済産業大臣政務官は、APEC貿易担当大臣会合へ...</td>\n",
       "    </tr>\n",
       "  </tbody>\n",
       "</table>\n",
       "<p>500 rows × 4 columns</p>\n",
       "</div>"
      ],
      "text/plain": [
       "           date                                              title  \\\n",
       "0      2022/8/1                                萩生田経済産業大臣が米国に出張しました   \n",
       "1     2022/7/30    萩生田経済産業大臣が日米経済政策協議委員会（経済版「2＋2」）に出席し、共同声明を発出しました   \n",
       "0    2022-07-28  石井経済産業副大臣がウバイドゥラエフ・ウズベキスタン共和国経済発展・貧困削減副大臣の表敬を受...   \n",
       "1    2022-07-28                         J-Bridgeアフリカローンチイベントを開催します   \n",
       "2    2022-07-27                     インド太平洋経済枠組み（IPEF）閣僚級会合が開催されました   \n",
       "..          ...                                                ...   \n",
       "493  2019-06-07  世耕大臣がインフラ輸出への機関投資家資金の活用促進に向けた日本貿易保険（NEXI）と金融機関...   \n",
       "494  2019-06-07                          アフリカビジネス協議会　第1回本会議を開催しました   \n",
       "495  2019-05-31                    世耕大臣がインドネシア共和国、シンガポール共和国へ出張しました   \n",
       "496  2019-05-31    令和元年度質の高いインフラの海外展開に向けた事業実施可能性調査事業等の採択事業者を決定しました   \n",
       "497  2019-05-29  石川経済産業大臣政務官がチリ共和国、ブラジル連邦共和国、ペルー共和国及びアメリカ合衆国に出張...   \n",
       "\n",
       "                                                  link  \\\n",
       "0    https://www.meti.go.jp//press/2022/07/20220730...   \n",
       "1    https://www.meti.go.jp//press/2022/07/20220730...   \n",
       "0    https://www.meti.go.jp//press/2022/07/20220728...   \n",
       "1    https://www.meti.go.jp//press/2022/07/20220728...   \n",
       "2    https://www.meti.go.jp//press/2022/07/20220727...   \n",
       "..                                                 ...   \n",
       "493  https://www.meti.go.jp//press/2019/06/20190607...   \n",
       "494  https://www.meti.go.jp//press/2019/06/20190607...   \n",
       "495  https://www.meti.go.jp//press/2019/05/20190531...   \n",
       "496  https://www.meti.go.jp//press/2019/05/20190531...   \n",
       "497  https://www.meti.go.jp//press/2019/05/20190529...   \n",
       "\n",
       "                                               content  \n",
       "0     2022年8月1日  対外経済 萩生田経済産業大臣は、7月27日（水曜日）から7月31日（...  \n",
       "1     2022年7月30日  対外経済 7月29日（金曜日）、日米経済政策協議委員会（経済版「2...  \n",
       "0    [' 2022年7月28日  対外経済 7月28日、石井経済産業副大臣は、ウズベキスタン共和...  \n",
       "1    [' 2022年7月28日  対外経済 経済産業省は、日本企業と海外スタートアップ等との協業...  \n",
       "2    [' 2022年7月27日  対外経済 7月26、27日の2日間で、インド太平洋経済枠組み（...  \n",
       "..                                                 ...  \n",
       "493  [' 2019年6月7日  対外経済 本日、世耕大臣の立会いの下、株式会社日本貿易保険（NE...  \n",
       "494  [' 2019年6月7日同時発表：外務省  対外経済 6月6日、世耕経済産業大臣及び河野外務...  \n",
       "495  [' 2019年5月31日  対外経済 世耕経済産業大臣は、5月28日（火曜日）から31日（...  \n",
       "496  [' 2019年5月31日  対外経済 経済産業省は、令和元年度「質の高いインフラの海外展開...  \n",
       "497  [' 2019年5月29日  対外経済 石川経済産業大臣政務官は、APEC貿易担当大臣会合へ...  \n",
       "\n",
       "[500 rows x 4 columns]"
      ]
     },
     "execution_count": 133,
     "metadata": {},
     "output_type": "execute_result"
    }
   ],
   "source": [
    "df = pd.concat((new, original))\n",
    "df"
   ]
  },
  {
   "cell_type": "code",
   "execution_count": 134,
   "id": "60d639e8",
   "metadata": {},
   "outputs": [],
   "source": [
    "df.to_csv('연습-수정.csv', mode='w', encoding='utf-8-sig')"
   ]
  },
  {
   "cell_type": "code",
   "execution_count": null,
   "id": "6e7837c7",
   "metadata": {},
   "outputs": [],
   "source": []
  }
 ],
 "metadata": {
  "kernelspec": {
   "display_name": "Python 3 (ipykernel)",
   "language": "python",
   "name": "python3"
  },
  "language_info": {
   "codemirror_mode": {
    "name": "ipython",
    "version": 3
   },
   "file_extension": ".py",
   "mimetype": "text/x-python",
   "name": "python",
   "nbconvert_exporter": "python",
   "pygments_lexer": "ipython3",
   "version": "3.9.12"
  }
 },
 "nbformat": 4,
 "nbformat_minor": 5
}

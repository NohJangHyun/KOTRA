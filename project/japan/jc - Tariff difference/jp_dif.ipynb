{
 "cells": [
  {
   "cell_type": "code",
   "execution_count": 2,
   "id": "433b73a4",
   "metadata": {},
   "outputs": [],
   "source": [
    "import pandas as pd\n",
    "\n",
    "df1 = pd.read_csv(\"japan_tariff_table_all(2022.04.01).csv\")\n",
    "df2 = pd.read_csv(\"japan_tariff_table_all(2022.01.01).csv\")\n",
    "\n",
    "df = pd.concat([df1,df2])\n",
    "df = df.reset_index(drop=True) # 인덱스 초기화\n",
    " \n",
    "df_grp = df.groupby(df.columns.tolist()) # 전체 열 비교\n",
    "df_di = df_grp.groups # 딕셔너리로 만들기 \n",
    " \n",
    "idx = [x[0] for x in df_di.values() if len(x) == 1] # 인덱스 검토\n",
    "df_dif = df.loc[idx,:] # Same as df.reindex(idx)"
   ]
  },
  {
   "cell_type": "code",
   "execution_count": 3,
   "id": "059db438",
   "metadata": {},
   "outputs": [],
   "source": [
    "df_dif.to_csv('japan_tariff_table_dif.csv', mode='w', encoding='utf-8-sig')"
   ]
  }
 ],
 "metadata": {
  "kernelspec": {
   "display_name": "Python 3 (ipykernel)",
   "language": "python",
   "name": "python3"
  },
  "language_info": {
   "codemirror_mode": {
    "name": "ipython",
    "version": 3
   },
   "file_extension": ".py",
   "mimetype": "text/x-python",
   "name": "python",
   "nbconvert_exporter": "python",
   "pygments_lexer": "ipython3",
   "version": "3.9.12"
  }
 },
 "nbformat": 4,
 "nbformat_minor": 5
}

{
 "cells": [
  {
   "cell_type": "code",
   "execution_count": 1,
   "id": "ff2eb360",
   "metadata": {},
   "outputs": [],
   "source": [
    "#과거의 tariff link에서 링크를 받아 모든 과세율표를 합친 표 만들기\n",
    "from selenium import webdriver\n",
    "from selenium.webdriver.chrome.options import Options\n",
    "from bs4 import BeautifulSoup\n",
    "from time import sleep\n",
    "import pandas as pd\n",
    "\n",
    "options= Options()\n",
    "options.headless = True\n",
    "driver = webdriver.Chrome(options = options)"
   ]
  },
  {
   "cell_type": "code",
   "execution_count": 14,
   "id": "fbb63e22",
   "metadata": {},
   "outputs": [
    {
     "data": {
      "text/plain": [
       "35    https://www.customs.go.jp/tariff/2009_6/index.htm\n",
       "Name: links, dtype: object"
      ]
     },
     "execution_count": 14,
     "metadata": {},
     "output_type": "execute_result"
    }
   ],
   "source": [
    "#과거의 tariff link 담겨 있는 csv 파일 읽기\n",
    "#idx 35부터 url 구조 바뀜\n",
    "df = pd.read_csv(\"jc_past_tariff_link(2003~2021).csv\")\n",
    "file = df[\"links\"][35:36]\n",
    "file"
   ]
  },
  {
   "cell_type": "code",
   "execution_count": 15,
   "id": "231dcb69",
   "metadata": {},
   "outputs": [
    {
     "name": "stdout",
     "output_type": "stream",
     "text": [
      "https://www.customs.go.jp/tariff/2009_6\n"
     ]
    }
   ],
   "source": [
    "links = []\n",
    "for f in file:\n",
    "    link = f.replace(\"/index.htm\",\"\")\n",
    "    links.append(link)\n",
    "    print(link)"
   ]
  },
  {
   "cell_type": "code",
   "execution_count": 17,
   "id": "111a5e7a",
   "metadata": {},
   "outputs": [
    {
     "name": "stdout",
     "output_type": "stream",
     "text": [
      "jc_tariff_table(2009.6).csv file has been created\n"
     ]
    }
   ],
   "source": [
    "for i in range(1,98):\n",
    "    if i == 77:\n",
    "        continue\n",
    "    elif i < 10:\n",
    "        url = \"https://www.customs.go.jp/tariff/2009_6/data/print_200910j_0\"+str(i)+\".htm\"\n",
    "    else:\n",
    "        url = \"https://www.customs.go.jp/tariff/2009_6/data/print_200910j_\"+str(i)+\".htm\"\n",
    "        \n",
    "    driver.get(url)\n",
    "    sleep(1)\n",
    "\n",
    "    soup = BeautifulSoup(driver.page_source, 'lxml')\n",
    "    table = soup.find_all(\"table\")\n",
    "    if i == 1:\n",
    "        df_all = pd.read_html(driver.page_source)[2]\n",
    "    else:\n",
    "        df = pd.read_html(driver.page_source)[2]\n",
    "        df_all = pd.concat([df_all, df])\n",
    "    save1 = save.replace(\"_\", \".\")\n",
    "df_all.to_csv(\"jc_tariff_table(\" + save1 + \").csv\", mode='w', encoding='utf-8-sig')\n",
    "print(\"jc_tariff_table(\" + save1 + \").csv file has been created\")"
   ]
  }
 ],
 "metadata": {
  "kernelspec": {
   "display_name": "Python 3 (ipykernel)",
   "language": "python",
   "name": "python3"
  },
  "language_info": {
   "codemirror_mode": {
    "name": "ipython",
    "version": 3
   },
   "file_extension": ".py",
   "mimetype": "text/x-python",
   "name": "python",
   "nbconvert_exporter": "python",
   "pygments_lexer": "ipython3",
   "version": "3.9.12"
  }
 },
 "nbformat": 4,
 "nbformat_minor": 5
}

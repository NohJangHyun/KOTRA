{
 "cells": [
  {
   "cell_type": "code",
   "execution_count": 1,
   "id": "285a14c4",
   "metadata": {},
   "outputs": [],
   "source": [
    "#과거의 tariff link에서 링크를 받아 모든 과세율표를 합친 표 만들기\n",
    "from selenium import webdriver\n",
    "from selenium.webdriver.chrome.options import Options\n",
    "from bs4 import BeautifulSoup\n",
    "from time import sleep\n",
    "import pandas as pd\n",
    "\n",
    "options= Options()\n",
    "options.headless = True\n",
    "driver = webdriver.Chrome(options = options)"
   ]
  },
  {
   "cell_type": "code",
   "execution_count": 9,
   "id": "5eda0983",
   "metadata": {},
   "outputs": [],
   "source": [
    "#과거의 tariff link 담겨 있는 csv 파일 읽기\n",
    "df = pd.read_csv(\"jc_past_tariff_link(2003~2021).csv\")\n",
    "file = df[\"links\"]"
   ]
  },
  {
   "cell_type": "code",
   "execution_count": 10,
   "id": "722bd804",
   "metadata": {},
   "outputs": [
    {
     "data": {
      "text/plain": [
       "0     https://www.customs.go.jp/tariff/2021_10_22/in...\n",
       "1     https://www.customs.go.jp/tariff/2021_09_19/in...\n",
       "2     https://www.customs.go.jp/tariff/2021_4/index.htm\n",
       "3     https://www.customs.go.jp/tariff/2021_1/index.htm\n",
       "4     https://www.customs.go.jp/tariff/2020_10/index...\n",
       "5     https://www.customs.go.jp/tariff/2020_6/index.htm\n",
       "6     https://www.customs.go.jp/tariff/2020_4/index.htm\n",
       "7     https://www.customs.go.jp/tariff/2020_1/index.htm\n",
       "8     https://www.customs.go.jp/tariff/2019_4/index.htm\n",
       "9     https://www.customs.go.jp/tariff/2019_2/index.htm\n",
       "10    https://www.customs.go.jp/tariff/2019_1/index.htm\n",
       "11    https://www.customs.go.jp/tariff/2018_12/index...\n",
       "12    https://www.customs.go.jp/tariff/2018_4/index.htm\n",
       "13    https://www.customs.go.jp/tariff/2018_1/index.htm\n",
       "14    https://www.customs.go.jp/tariff/2017_5/index.htm\n",
       "15    https://www.customs.go.jp/tariff/2017_4/index.htm\n",
       "16    https://www.customs.go.jp/tariff/2017_1/index.htm\n",
       "17    https://www.customs.go.jp/tariff/2016_6/index.htm\n",
       "18    https://www.customs.go.jp/tariff/2016_4/index.htm\n",
       "19    https://www.customs.go.jp/tariff/2016_1/index.htm\n",
       "20    https://www.customs.go.jp/tariff/2015_4/index.htm\n",
       "21    https://www.customs.go.jp/tariff/2015_115/inde...\n",
       "22    https://www.customs.go.jp/tariff/2015_1/index.htm\n",
       "23    https://www.customs.go.jp/tariff/2014_4/index.htm\n",
       "24    https://www.customs.go.jp/tariff/2014_1/index.htm\n",
       "25    https://www.customs.go.jp/tariff/2013_4/index.htm\n",
       "26    https://www.customs.go.jp/tariff/2013_1/index.htm\n",
       "27    https://www.customs.go.jp/tariff/2012_4/index.htm\n",
       "28    https://www.customs.go.jp/tariff/2012_3/index.htm\n",
       "29    https://www.customs.go.jp/tariff/2012_1/index.htm\n",
       "30    https://www.customs.go.jp/tariff/2011_8/index.htm\n",
       "31    https://www.customs.go.jp/tariff/2011_4/index.htm\n",
       "32      https://www.customs.go.jp/tariff/2011/index.htm\n",
       "33    https://www.customs.go.jp/tariff/2010_4/index.htm\n",
       "34      https://www.customs.go.jp/tariff/2010/index.htm\n",
       "35    https://www.customs.go.jp/tariff/2009_6/index.htm\n",
       "36    https://www.customs.go.jp/tariff/2009_4/index.htm\n",
       "37      https://www.customs.go.jp/tariff/2009/index.htm\n",
       "38    https://www.customs.go.jp/tariff/2008_4/index.htm\n",
       "39      https://www.customs.go.jp/tariff/2008/index.htm\n",
       "40    https://www.customs.go.jp/tariff/2007_4/index.htm\n",
       "41      https://www.customs.go.jp/tariff/2007/index.htm\n",
       "42    https://www.customs.go.jp/tariff/2006_4/index.htm\n",
       "43      https://www.customs.go.jp/tariff/2006/index.htm\n",
       "44    https://www.customs.go.jp/tariff/2005_6/index.htm\n",
       "45    https://www.customs.go.jp/tariff/2005_4/index.htm\n",
       "46      https://www.customs.go.jp/tariff/2005/index.htm\n",
       "47      https://www.customs.go.jp/tariff/2004/index.htm\n",
       "48      https://www.customs.go.jp/tariff/2003/index.htm\n",
       "Name: links, dtype: object"
      ]
     },
     "execution_count": 10,
     "metadata": {},
     "output_type": "execute_result"
    }
   ],
   "source": [
    "file"
   ]
  },
  {
   "cell_type": "code",
   "execution_count": 11,
   "id": "d13e09ba",
   "metadata": {},
   "outputs": [],
   "source": [
    "links = []\n",
    "for f in file:\n",
    "    link = f.replace(\"/index.htm\",\"\")\n",
    "    links.append(link)"
   ]
  },
  {
   "cell_type": "code",
   "execution_count": 4,
   "id": "62e6f735",
   "metadata": {},
   "outputs": [
    {
     "name": "stdout",
     "output_type": "stream",
     "text": [
      "2021_10_22\n",
      "jc_tariff_table(2021.10.22).csv file has been created\n",
      "2021_09_19\n",
      "jc_tariff_table(2021.09.19).csv file has been created\n",
      "2021_4\n",
      "jc_tariff_table(2021.4).csv file has been created\n",
      "2021_1\n",
      "jc_tariff_table(2021.1).csv file has been created\n",
      "2020_10\n",
      "jc_tariff_table(2020.10).csv file has been created\n",
      "2020_6\n",
      "jc_tariff_table(2020.6).csv file has been created\n",
      "2020_4\n",
      "jc_tariff_table(2020.4).csv file has been created\n",
      "2020_1\n",
      "jc_tariff_table(2020.1).csv file has been created\n",
      "2019_4\n",
      "jc_tariff_table(2019.4).csv file has been created\n",
      "2019_2\n",
      "jc_tariff_table(2019.2).csv file has been created\n",
      "2019_1\n",
      "jc_tariff_table(2019.1).csv file has been created\n",
      "2018_12\n",
      "jc_tariff_table(2018.12).csv file has been created\n",
      "2018_4\n",
      "jc_tariff_table(2018.4).csv file has been created\n",
      "2018_1\n",
      "jc_tariff_table(2018.1).csv file has been created\n",
      "2017_5\n",
      "jc_tariff_table(2017.5).csv file has been created\n",
      "2017_4\n",
      "jc_tariff_table(2017.4).csv file has been created\n",
      "2017_1\n",
      "jc_tariff_table(2017.1).csv file has been created\n",
      "2016_6\n",
      "jc_tariff_table(2016.6).csv file has been created\n",
      "2016_4\n",
      "jc_tariff_table(2016.4).csv file has been created\n",
      "2016_1\n",
      "jc_tariff_table(2016.1).csv file has been created\n",
      "2015_4\n",
      "jc_tariff_table(2015.4).csv file has been created\n",
      "2015_115\n",
      "jc_tariff_table(2015.115).csv file has been created\n",
      "2015_1\n",
      "jc_tariff_table(2015.1).csv file has been created\n",
      "2014_4\n",
      "jc_tariff_table(2014.4).csv file has been created\n",
      "2014_1\n"
     ]
    },
    {
     "ename": "ValueError",
     "evalue": "No tables found",
     "output_type": "error",
     "traceback": [
      "\u001b[1;31m---------------------------------------------------------------------------\u001b[0m",
      "\u001b[1;31mValueError\u001b[0m                                Traceback (most recent call last)",
      "Input \u001b[1;32mIn [4]\u001b[0m, in \u001b[0;36m<cell line: 1>\u001b[1;34m()\u001b[0m\n\u001b[0;32m     16\u001b[0m table \u001b[38;5;241m=\u001b[39m soup\u001b[38;5;241m.\u001b[39mfind_all(\u001b[38;5;124m\"\u001b[39m\u001b[38;5;124mtable\u001b[39m\u001b[38;5;124m\"\u001b[39m)\n\u001b[0;32m     17\u001b[0m \u001b[38;5;28;01mif\u001b[39;00m i \u001b[38;5;241m==\u001b[39m \u001b[38;5;241m1\u001b[39m:\n\u001b[1;32m---> 18\u001b[0m     df_all \u001b[38;5;241m=\u001b[39m \u001b[43mpd\u001b[49m\u001b[38;5;241;43m.\u001b[39;49m\u001b[43mread_html\u001b[49m\u001b[43m(\u001b[49m\u001b[43mdriver\u001b[49m\u001b[38;5;241;43m.\u001b[39;49m\u001b[43mpage_source\u001b[49m\u001b[43m)\u001b[49m[\u001b[38;5;241m2\u001b[39m]\n\u001b[0;32m     19\u001b[0m \u001b[38;5;28;01melse\u001b[39;00m:\n\u001b[0;32m     20\u001b[0m     df \u001b[38;5;241m=\u001b[39m pd\u001b[38;5;241m.\u001b[39mread_html(driver\u001b[38;5;241m.\u001b[39mpage_source)[\u001b[38;5;241m2\u001b[39m]\n",
      "File \u001b[1;32m~\\anaconda3\\envs\\KOTRA\\lib\\site-packages\\pandas\\util\\_decorators.py:311\u001b[0m, in \u001b[0;36mdeprecate_nonkeyword_arguments.<locals>.decorate.<locals>.wrapper\u001b[1;34m(*args, **kwargs)\u001b[0m\n\u001b[0;32m    305\u001b[0m \u001b[38;5;28;01mif\u001b[39;00m \u001b[38;5;28mlen\u001b[39m(args) \u001b[38;5;241m>\u001b[39m num_allow_args:\n\u001b[0;32m    306\u001b[0m     warnings\u001b[38;5;241m.\u001b[39mwarn(\n\u001b[0;32m    307\u001b[0m         msg\u001b[38;5;241m.\u001b[39mformat(arguments\u001b[38;5;241m=\u001b[39marguments),\n\u001b[0;32m    308\u001b[0m         \u001b[38;5;167;01mFutureWarning\u001b[39;00m,\n\u001b[0;32m    309\u001b[0m         stacklevel\u001b[38;5;241m=\u001b[39mstacklevel,\n\u001b[0;32m    310\u001b[0m     )\n\u001b[1;32m--> 311\u001b[0m \u001b[38;5;28;01mreturn\u001b[39;00m func(\u001b[38;5;241m*\u001b[39margs, \u001b[38;5;241m*\u001b[39m\u001b[38;5;241m*\u001b[39mkwargs)\n",
      "File \u001b[1;32m~\\anaconda3\\envs\\KOTRA\\lib\\site-packages\\pandas\\io\\html.py:1113\u001b[0m, in \u001b[0;36mread_html\u001b[1;34m(io, match, flavor, header, index_col, skiprows, attrs, parse_dates, thousands, encoding, decimal, converters, na_values, keep_default_na, displayed_only)\u001b[0m\n\u001b[0;32m   1109\u001b[0m validate_header_arg(header)\n\u001b[0;32m   1111\u001b[0m io \u001b[38;5;241m=\u001b[39m stringify_path(io)\n\u001b[1;32m-> 1113\u001b[0m \u001b[38;5;28;01mreturn\u001b[39;00m \u001b[43m_parse\u001b[49m\u001b[43m(\u001b[49m\n\u001b[0;32m   1114\u001b[0m \u001b[43m    \u001b[49m\u001b[43mflavor\u001b[49m\u001b[38;5;241;43m=\u001b[39;49m\u001b[43mflavor\u001b[49m\u001b[43m,\u001b[49m\n\u001b[0;32m   1115\u001b[0m \u001b[43m    \u001b[49m\u001b[43mio\u001b[49m\u001b[38;5;241;43m=\u001b[39;49m\u001b[43mio\u001b[49m\u001b[43m,\u001b[49m\n\u001b[0;32m   1116\u001b[0m \u001b[43m    \u001b[49m\u001b[43mmatch\u001b[49m\u001b[38;5;241;43m=\u001b[39;49m\u001b[43mmatch\u001b[49m\u001b[43m,\u001b[49m\n\u001b[0;32m   1117\u001b[0m \u001b[43m    \u001b[49m\u001b[43mheader\u001b[49m\u001b[38;5;241;43m=\u001b[39;49m\u001b[43mheader\u001b[49m\u001b[43m,\u001b[49m\n\u001b[0;32m   1118\u001b[0m \u001b[43m    \u001b[49m\u001b[43mindex_col\u001b[49m\u001b[38;5;241;43m=\u001b[39;49m\u001b[43mindex_col\u001b[49m\u001b[43m,\u001b[49m\n\u001b[0;32m   1119\u001b[0m \u001b[43m    \u001b[49m\u001b[43mskiprows\u001b[49m\u001b[38;5;241;43m=\u001b[39;49m\u001b[43mskiprows\u001b[49m\u001b[43m,\u001b[49m\n\u001b[0;32m   1120\u001b[0m \u001b[43m    \u001b[49m\u001b[43mparse_dates\u001b[49m\u001b[38;5;241;43m=\u001b[39;49m\u001b[43mparse_dates\u001b[49m\u001b[43m,\u001b[49m\n\u001b[0;32m   1121\u001b[0m \u001b[43m    \u001b[49m\u001b[43mthousands\u001b[49m\u001b[38;5;241;43m=\u001b[39;49m\u001b[43mthousands\u001b[49m\u001b[43m,\u001b[49m\n\u001b[0;32m   1122\u001b[0m \u001b[43m    \u001b[49m\u001b[43mattrs\u001b[49m\u001b[38;5;241;43m=\u001b[39;49m\u001b[43mattrs\u001b[49m\u001b[43m,\u001b[49m\n\u001b[0;32m   1123\u001b[0m \u001b[43m    \u001b[49m\u001b[43mencoding\u001b[49m\u001b[38;5;241;43m=\u001b[39;49m\u001b[43mencoding\u001b[49m\u001b[43m,\u001b[49m\n\u001b[0;32m   1124\u001b[0m \u001b[43m    \u001b[49m\u001b[43mdecimal\u001b[49m\u001b[38;5;241;43m=\u001b[39;49m\u001b[43mdecimal\u001b[49m\u001b[43m,\u001b[49m\n\u001b[0;32m   1125\u001b[0m \u001b[43m    \u001b[49m\u001b[43mconverters\u001b[49m\u001b[38;5;241;43m=\u001b[39;49m\u001b[43mconverters\u001b[49m\u001b[43m,\u001b[49m\n\u001b[0;32m   1126\u001b[0m \u001b[43m    \u001b[49m\u001b[43mna_values\u001b[49m\u001b[38;5;241;43m=\u001b[39;49m\u001b[43mna_values\u001b[49m\u001b[43m,\u001b[49m\n\u001b[0;32m   1127\u001b[0m \u001b[43m    \u001b[49m\u001b[43mkeep_default_na\u001b[49m\u001b[38;5;241;43m=\u001b[39;49m\u001b[43mkeep_default_na\u001b[49m\u001b[43m,\u001b[49m\n\u001b[0;32m   1128\u001b[0m \u001b[43m    \u001b[49m\u001b[43mdisplayed_only\u001b[49m\u001b[38;5;241;43m=\u001b[39;49m\u001b[43mdisplayed_only\u001b[49m\u001b[43m,\u001b[49m\n\u001b[0;32m   1129\u001b[0m \u001b[43m\u001b[49m\u001b[43m)\u001b[49m\n",
      "File \u001b[1;32m~\\anaconda3\\envs\\KOTRA\\lib\\site-packages\\pandas\\io\\html.py:939\u001b[0m, in \u001b[0;36m_parse\u001b[1;34m(flavor, io, match, attrs, encoding, displayed_only, **kwargs)\u001b[0m\n\u001b[0;32m    937\u001b[0m \u001b[38;5;28;01melse\u001b[39;00m:\n\u001b[0;32m    938\u001b[0m     \u001b[38;5;28;01massert\u001b[39;00m retained \u001b[38;5;129;01mis\u001b[39;00m \u001b[38;5;129;01mnot\u001b[39;00m \u001b[38;5;28;01mNone\u001b[39;00m  \u001b[38;5;66;03m# for mypy\u001b[39;00m\n\u001b[1;32m--> 939\u001b[0m     \u001b[38;5;28;01mraise\u001b[39;00m retained\n\u001b[0;32m    941\u001b[0m ret \u001b[38;5;241m=\u001b[39m []\n\u001b[0;32m    942\u001b[0m \u001b[38;5;28;01mfor\u001b[39;00m table \u001b[38;5;129;01min\u001b[39;00m tables:\n",
      "File \u001b[1;32m~\\anaconda3\\envs\\KOTRA\\lib\\site-packages\\pandas\\io\\html.py:919\u001b[0m, in \u001b[0;36m_parse\u001b[1;34m(flavor, io, match, attrs, encoding, displayed_only, **kwargs)\u001b[0m\n\u001b[0;32m    916\u001b[0m p \u001b[38;5;241m=\u001b[39m parser(io, compiled_match, attrs, encoding, displayed_only)\n\u001b[0;32m    918\u001b[0m \u001b[38;5;28;01mtry\u001b[39;00m:\n\u001b[1;32m--> 919\u001b[0m     tables \u001b[38;5;241m=\u001b[39m \u001b[43mp\u001b[49m\u001b[38;5;241;43m.\u001b[39;49m\u001b[43mparse_tables\u001b[49m\u001b[43m(\u001b[49m\u001b[43m)\u001b[49m\n\u001b[0;32m    920\u001b[0m \u001b[38;5;28;01mexcept\u001b[39;00m \u001b[38;5;167;01mValueError\u001b[39;00m \u001b[38;5;28;01mas\u001b[39;00m caught:\n\u001b[0;32m    921\u001b[0m     \u001b[38;5;66;03m# if `io` is an io-like object, check if it's seekable\u001b[39;00m\n\u001b[0;32m    922\u001b[0m     \u001b[38;5;66;03m# and try to rewind it before trying the next parser\u001b[39;00m\n\u001b[0;32m    923\u001b[0m     \u001b[38;5;28;01mif\u001b[39;00m \u001b[38;5;28mhasattr\u001b[39m(io, \u001b[38;5;124m\"\u001b[39m\u001b[38;5;124mseekable\u001b[39m\u001b[38;5;124m\"\u001b[39m) \u001b[38;5;129;01mand\u001b[39;00m io\u001b[38;5;241m.\u001b[39mseekable():\n",
      "File \u001b[1;32m~\\anaconda3\\envs\\KOTRA\\lib\\site-packages\\pandas\\io\\html.py:239\u001b[0m, in \u001b[0;36m_HtmlFrameParser.parse_tables\u001b[1;34m(self)\u001b[0m\n\u001b[0;32m    231\u001b[0m \u001b[38;5;28;01mdef\u001b[39;00m \u001b[38;5;21mparse_tables\u001b[39m(\u001b[38;5;28mself\u001b[39m):\n\u001b[0;32m    232\u001b[0m     \u001b[38;5;124;03m\"\"\"\u001b[39;00m\n\u001b[0;32m    233\u001b[0m \u001b[38;5;124;03m    Parse and return all tables from the DOM.\u001b[39;00m\n\u001b[0;32m    234\u001b[0m \n\u001b[1;32m   (...)\u001b[0m\n\u001b[0;32m    237\u001b[0m \u001b[38;5;124;03m    list of parsed (header, body, footer) tuples from tables.\u001b[39;00m\n\u001b[0;32m    238\u001b[0m \u001b[38;5;124;03m    \"\"\"\u001b[39;00m\n\u001b[1;32m--> 239\u001b[0m     tables \u001b[38;5;241m=\u001b[39m \u001b[38;5;28;43mself\u001b[39;49m\u001b[38;5;241;43m.\u001b[39;49m\u001b[43m_parse_tables\u001b[49m\u001b[43m(\u001b[49m\u001b[38;5;28;43mself\u001b[39;49m\u001b[38;5;241;43m.\u001b[39;49m\u001b[43m_build_doc\u001b[49m\u001b[43m(\u001b[49m\u001b[43m)\u001b[49m\u001b[43m,\u001b[49m\u001b[43m \u001b[49m\u001b[38;5;28;43mself\u001b[39;49m\u001b[38;5;241;43m.\u001b[39;49m\u001b[43mmatch\u001b[49m\u001b[43m,\u001b[49m\u001b[43m \u001b[49m\u001b[38;5;28;43mself\u001b[39;49m\u001b[38;5;241;43m.\u001b[39;49m\u001b[43mattrs\u001b[49m\u001b[43m)\u001b[49m\n\u001b[0;32m    240\u001b[0m     \u001b[38;5;28;01mreturn\u001b[39;00m (\u001b[38;5;28mself\u001b[39m\u001b[38;5;241m.\u001b[39m_parse_thead_tbody_tfoot(table) \u001b[38;5;28;01mfor\u001b[39;00m table \u001b[38;5;129;01min\u001b[39;00m tables)\n",
      "File \u001b[1;32m~\\anaconda3\\envs\\KOTRA\\lib\\site-packages\\pandas\\io\\html.py:569\u001b[0m, in \u001b[0;36m_BeautifulSoupHtml5LibFrameParser._parse_tables\u001b[1;34m(self, doc, match, attrs)\u001b[0m\n\u001b[0;32m    566\u001b[0m tables \u001b[38;5;241m=\u001b[39m doc\u001b[38;5;241m.\u001b[39mfind_all(element_name, attrs\u001b[38;5;241m=\u001b[39mattrs)\n\u001b[0;32m    568\u001b[0m \u001b[38;5;28;01mif\u001b[39;00m \u001b[38;5;129;01mnot\u001b[39;00m tables:\n\u001b[1;32m--> 569\u001b[0m     \u001b[38;5;28;01mraise\u001b[39;00m \u001b[38;5;167;01mValueError\u001b[39;00m(\u001b[38;5;124m\"\u001b[39m\u001b[38;5;124mNo tables found\u001b[39m\u001b[38;5;124m\"\u001b[39m)\n\u001b[0;32m    571\u001b[0m result \u001b[38;5;241m=\u001b[39m []\n\u001b[0;32m    572\u001b[0m unique_tables \u001b[38;5;241m=\u001b[39m \u001b[38;5;28mset\u001b[39m()\n",
      "\u001b[1;31mValueError\u001b[0m: No tables found"
     ]
    }
   ],
   "source": [
    "for link in links:\n",
    "    save = link.replace(\"https://www.customs.go.jp/tariff/\", \"\")\n",
    "    print(save)\n",
    "    for i in range(1,98):\n",
    "        if i == 77:\n",
    "            continue\n",
    "        elif i < 10:\n",
    "            url = link + \"/data/print_j_0\"+str(i)+\".htm\"\n",
    "        else:\n",
    "            url = link + \"/data/print_j_\"+str(i)+\".htm\"\n",
    "        \n",
    "        driver.get(url)\n",
    "        sleep(1)\n",
    "\n",
    "        soup = BeautifulSoup(driver.page_source, 'lxml')\n",
    "        table = soup.find_all(\"table\")\n",
    "        if i == 1:\n",
    "            df_all = pd.read_html(driver.page_source)[2]\n",
    "        else:\n",
    "            df = pd.read_html(driver.page_source)[2]\n",
    "            df_all = pd.concat([df_all, df])\n",
    "        save1 = save.replace(\"_\", \".\")\n",
    "    df_all.to_csv(\"jc_tariff_table(\" + save1 + \").csv\", mode='w', encoding='utf-8-sig')\n",
    "    print(\"jc_tariff_table(\" + save1 + \").csv file has been created\")"
   ]
  }
 ],
 "metadata": {
  "kernelspec": {
   "display_name": "Python 3 (ipykernel)",
   "language": "python",
   "name": "python3"
  },
  "language_info": {
   "codemirror_mode": {
    "name": "ipython",
    "version": 3
   },
   "file_extension": ".py",
   "mimetype": "text/x-python",
   "name": "python",
   "nbconvert_exporter": "python",
   "pygments_lexer": "ipython3",
   "version": "3.9.12"
  }
 },
 "nbformat": 4,
 "nbformat_minor": 5
}

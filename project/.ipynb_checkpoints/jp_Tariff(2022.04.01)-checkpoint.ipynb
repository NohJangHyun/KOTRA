{
 "cells": [
  {
   "cell_type": "code",
   "execution_count": 108,
   "id": "d440a7c5",
   "metadata": {},
   "outputs": [],
   "source": [
    "#관세 정보 가져오기 - 2022년 4월 1일판\n",
    "from selenium import webdriver\n",
    "from selenium.webdriver.chrome.options import Options\n",
    "from bs4 import BeautifulSoup\n",
    "from time import sleep\n",
    "\n",
    "options= Options()\n",
    "options.headless = True\n",
    "driver = webdriver.Chrome(options = options)\n",
    "url= \"https://www.customs.go.jp/tariff/2022_04_01/index.htm\"\n",
    "\n",
    "driver.get(url)\n",
    "sleep(1)\n",
    "\n",
    "soup = BeautifulSoup(driver.page_source, 'lxml')\n",
    "soup = soup.find(\"div\", attrs={\"id\":\"contents\"})"
   ]
  },
  {
   "cell_type": "code",
   "execution_count": 109,
   "id": "5d0e0fef",
   "metadata": {},
   "outputs": [
    {
     "name": "stdout",
     "output_type": "stream",
     "text": [
      "97\n"
     ]
    }
   ],
   "source": [
    "#분류 정보 list에 담기\n",
    "cls=[]\n",
    "C = soup.find_all(\"th\")\n",
    "for c in C:\n",
    "    cl = c.get_text()\n",
    "    cls.append(cl)\n",
    "print(len(cls))"
   ]
  },
  {
   "cell_type": "code",
   "execution_count": 129,
   "id": "a358e502",
   "metadata": {},
   "outputs": [
    {
     "name": "stdout",
     "output_type": "stream",
     "text": [
      "97\n"
     ]
    }
   ],
   "source": [
    "#분류 제목 list에 담기\n",
    "titles=[]\n",
    "T = soup.find_all(\"td\")\n",
    "for t in range(len(T)):\n",
    "    if t%3 == 0:\n",
    "        top = T[t].get_text()\n",
    "        titles.append(top)\n",
    "print(len(titles))"
   ]
  },
  {
   "cell_type": "code",
   "execution_count": 161,
   "id": "d77303a3",
   "metadata": {},
   "outputs": [
    {
     "name": "stdout",
     "output_type": "stream",
     "text": [
      "97\n",
      "https://www.customs.go.jp/tariff/2022_04_01/data/print_j_01.htm\n"
     ]
    }
   ],
   "source": [
    "tariff=[]\n",
    "T = soup.find_all(\"a\")\n",
    "for t in range(len(T)):\n",
    "    if T[t].get_text() == \"税率\" :\n",
    "        tar = T[t][\"href\"]\n",
    "        tariff.append(\"https://www.customs.go.jp/tariff/2022_04_01/data/print_\"+tar[5:])\n",
    "tariff.insert(76, \"NULL\")\n",
    "print(len(tariff))\n",
    "print(tariff[0])"
   ]
  },
  {
   "cell_type": "code",
   "execution_count": 162,
   "id": "e5ca4d1d",
   "metadata": {
    "scrolled": false
   },
   "outputs": [
    {
     "data": {
      "text/html": [
       "<div>\n",
       "<style scoped>\n",
       "    .dataframe tbody tr th:only-of-type {\n",
       "        vertical-align: middle;\n",
       "    }\n",
       "\n",
       "    .dataframe tbody tr th {\n",
       "        vertical-align: top;\n",
       "    }\n",
       "\n",
       "    .dataframe thead th {\n",
       "        text-align: right;\n",
       "    }\n",
       "</style>\n",
       "<table border=\"1\" class=\"dataframe\">\n",
       "  <thead>\n",
       "    <tr style=\"text-align: right;\">\n",
       "      <th></th>\n",
       "      <th>classification</th>\n",
       "      <th>title</th>\n",
       "      <th>tariff</th>\n",
       "    </tr>\n",
       "  </thead>\n",
       "  <tbody>\n",
       "    <tr>\n",
       "      <th>0</th>\n",
       "      <td>第 1類</td>\n",
       "      <td>動物（生きているものに限る。）</td>\n",
       "      <td>https://www.customs.go.jp/tariff/2022_04_01/da...</td>\n",
       "    </tr>\n",
       "    <tr>\n",
       "      <th>1</th>\n",
       "      <td>第 2類</td>\n",
       "      <td>肉及び食用のくず肉</td>\n",
       "      <td>https://www.customs.go.jp/tariff/2022_04_01/da...</td>\n",
       "    </tr>\n",
       "    <tr>\n",
       "      <th>2</th>\n",
       "      <td>第 3類</td>\n",
       "      <td>魚並びに甲殻類、軟体動物及びその他の水棲無脊椎動物</td>\n",
       "      <td>https://www.customs.go.jp/tariff/2022_04_01/da...</td>\n",
       "    </tr>\n",
       "    <tr>\n",
       "      <th>3</th>\n",
       "      <td>第 4類</td>\n",
       "      <td>酪農品、鳥卵、天然はちみつ及び他の類に該当しない食用の動物性生産品</td>\n",
       "      <td>https://www.customs.go.jp/tariff/2022_04_01/da...</td>\n",
       "    </tr>\n",
       "    <tr>\n",
       "      <th>4</th>\n",
       "      <td>第 5類</td>\n",
       "      <td>動物性生産品（他の類に該当するものを除く。）</td>\n",
       "      <td>https://www.customs.go.jp/tariff/2022_04_01/da...</td>\n",
       "    </tr>\n",
       "    <tr>\n",
       "      <th>...</th>\n",
       "      <td>...</td>\n",
       "      <td>...</td>\n",
       "      <td>...</td>\n",
       "    </tr>\n",
       "    <tr>\n",
       "      <th>92</th>\n",
       "      <td>第93類</td>\n",
       "      <td>武器及び銃砲弾並びにこれらの部分品及び附属品</td>\n",
       "      <td>https://www.customs.go.jp/tariff/2022_04_01/da...</td>\n",
       "    </tr>\n",
       "    <tr>\n",
       "      <th>93</th>\n",
       "      <td>第94類</td>\n",
       "      <td>家具、寝具、マットレス、マットレスサポート、クッションその他これらに類する詰物をした物品並び...</td>\n",
       "      <td>https://www.customs.go.jp/tariff/2022_04_01/da...</td>\n",
       "    </tr>\n",
       "    <tr>\n",
       "      <th>94</th>\n",
       "      <td>第95類</td>\n",
       "      <td>玩具、遊戯用具及び運動用具並びにこれらの部分品及び附属品</td>\n",
       "      <td>https://www.customs.go.jp/tariff/2022_04_01/da...</td>\n",
       "    </tr>\n",
       "    <tr>\n",
       "      <th>95</th>\n",
       "      <td>第96類</td>\n",
       "      <td>雑品</td>\n",
       "      <td>https://www.customs.go.jp/tariff/2022_04_01/da...</td>\n",
       "    </tr>\n",
       "    <tr>\n",
       "      <th>96</th>\n",
       "      <td>第97類</td>\n",
       "      <td>美術品、収集品及びこつとう</td>\n",
       "      <td>https://www.customs.go.jp/tariff/2022_04_01/da...</td>\n",
       "    </tr>\n",
       "  </tbody>\n",
       "</table>\n",
       "<p>97 rows × 3 columns</p>\n",
       "</div>"
      ],
      "text/plain": [
       "   classification                                              title  \\\n",
       "0            第 1類                                    動物（生きているものに限る。）   \n",
       "1            第 2類                                          肉及び食用のくず肉   \n",
       "2            第 3類                          魚並びに甲殻類、軟体動物及びその他の水棲無脊椎動物   \n",
       "3            第 4類                  酪農品、鳥卵、天然はちみつ及び他の類に該当しない食用の動物性生産品   \n",
       "4            第 5類                             動物性生産品（他の類に該当するものを除く。）   \n",
       "..            ...                                                ...   \n",
       "92           第93類                             武器及び銃砲弾並びにこれらの部分品及び附属品   \n",
       "93           第94類  家具、寝具、マットレス、マットレスサポート、クッションその他これらに類する詰物をした物品並び...   \n",
       "94           第95類                       玩具、遊戯用具及び運動用具並びにこれらの部分品及び附属品   \n",
       "95           第96類                                                 雑品   \n",
       "96           第97類                                      美術品、収集品及びこつとう   \n",
       "\n",
       "                                               tariff  \n",
       "0   https://www.customs.go.jp/tariff/2022_04_01/da...  \n",
       "1   https://www.customs.go.jp/tariff/2022_04_01/da...  \n",
       "2   https://www.customs.go.jp/tariff/2022_04_01/da...  \n",
       "3   https://www.customs.go.jp/tariff/2022_04_01/da...  \n",
       "4   https://www.customs.go.jp/tariff/2022_04_01/da...  \n",
       "..                                                ...  \n",
       "92  https://www.customs.go.jp/tariff/2022_04_01/da...  \n",
       "93  https://www.customs.go.jp/tariff/2022_04_01/da...  \n",
       "94  https://www.customs.go.jp/tariff/2022_04_01/da...  \n",
       "95  https://www.customs.go.jp/tariff/2022_04_01/da...  \n",
       "96  https://www.customs.go.jp/tariff/2022_04_01/da...  \n",
       "\n",
       "[97 rows x 3 columns]"
      ]
     },
     "execution_count": 162,
     "metadata": {},
     "output_type": "execute_result"
    }
   ],
   "source": [
    "import pandas as pd\n",
    "\n",
    "df = pd.DataFrame()\n",
    "df['classification'] = cls\n",
    "df['title'] = titles\n",
    "df['tariff'] = tariff\n",
    "df"
   ]
  },
  {
   "cell_type": "code",
   "execution_count": 164,
   "id": "d809ab45",
   "metadata": {},
   "outputs": [],
   "source": [
    "df.to_csv('japan_tariff(2022.04.01).csv', mode='w', encoding='utf-8-sig')"
   ]
  }
 ],
 "metadata": {
  "kernelspec": {
   "display_name": "Python 3 (ipykernel)",
   "language": "python",
   "name": "python3"
  },
  "language_info": {
   "codemirror_mode": {
    "name": "ipython",
    "version": 3
   },
   "file_extension": ".py",
   "mimetype": "text/x-python",
   "name": "python",
   "nbconvert_exporter": "python",
   "pygments_lexer": "ipython3",
   "version": "3.9.12"
  }
 },
 "nbformat": 4,
 "nbformat_minor": 5
}

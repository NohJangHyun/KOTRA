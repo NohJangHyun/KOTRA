{
 "cells": [
  {
   "cell_type": "code",
   "execution_count": 10,
   "id": "9502be93",
   "metadata": {},
   "outputs": [],
   "source": [
    "import requests\n",
    "from bs4 import BeautifulSoup\n",
    "\n",
    "url = \"https://www.customs.go.jp/english/news/index_e2.htm\"\n",
    "res = requests.get(url)\n",
    "res.raise_for_status()\n",
    "\n",
    "soup = BeautifulSoup(res.text, \"lxml\")\n",
    "soup = soup.find(\"div\", attrs={\"class\":\"pastList category\"}).find(\"h3\")"
   ]
  },
  {
   "cell_type": "code",
   "execution_count": 11,
   "id": "758663a8",
   "metadata": {},
   "outputs": [
    {
     "name": "stdout",
     "output_type": "stream",
     "text": [
      "Jul 26.2022\n"
     ]
    }
   ],
   "source": [
    "#가장 최근 뉴스가 올라온 날짜 가져오기\n",
    "dates = []\n",
    "date = soup.find(\"span\").get_text()\n",
    "dates.append(date)\n",
    "print(dates[0])"
   ]
  },
  {
   "cell_type": "code",
   "execution_count": 12,
   "id": "6b9f6e2f",
   "metadata": {},
   "outputs": [
    {
     "name": "stdout",
     "output_type": "stream",
     "text": [
      "[<img alt=\"Procedure\" height=\"17\" src=\"/english/common/img/label-icon-procedure.gif\" width=\"60\"/>, <img alt=\"\" height=\"7\" src=\"/img/common/spacer.gif\" width=\"1\"/>]\n",
      "2\n",
      "['Procedure']\n"
     ]
    }
   ],
   "source": [
    "#가장 최근 뉴스 태그들 가져오기\n",
    "tags = []\n",
    "tag = soup.select(\"img\")\n",
    "print(tag)\n",
    "print(len(tag))\n",
    "for i in range(len(tag)):\n",
    "    if len(tag[i]['alt']) > 0:\n",
    "        tags.append(tag[i]['alt'])\n",
    "print(tags)"
   ]
  },
  {
   "cell_type": "code",
   "execution_count": 13,
   "id": "a9e68fc6",
   "metadata": {},
   "outputs": [
    {
     "name": "stdout",
     "output_type": "stream",
     "text": [
      "['Rate of Exchange(July 31 2022- August 6 2022)']\n",
      "https://www.customs.go.jp/english/kawase/index_e.htm\n"
     ]
    }
   ],
   "source": [
    "#가장 최근 뉴스의 제목과 링크 가져오기\n",
    "topics = []\n",
    "links = []\n",
    "\n",
    "data = soup.find(\"a\")\n",
    "\n",
    "topic = data.get_text()\n",
    "link = \"https://www.customs.go.jp/english\"+data[\"href\"][2:]\n",
    "\n",
    "topics.append(topic)\n",
    "links.append(link)\n",
    "\n",
    "print(topics)\n",
    "print(links[0])"
   ]
  },
  {
   "cell_type": "code",
   "execution_count": 14,
   "id": "32e548d1",
   "metadata": {},
   "outputs": [
    {
     "data": {
      "text/html": [
       "<div>\n",
       "<style scoped>\n",
       "    .dataframe tbody tr th:only-of-type {\n",
       "        vertical-align: middle;\n",
       "    }\n",
       "\n",
       "    .dataframe tbody tr th {\n",
       "        vertical-align: top;\n",
       "    }\n",
       "\n",
       "    .dataframe thead th {\n",
       "        text-align: right;\n",
       "    }\n",
       "</style>\n",
       "<table border=\"1\" class=\"dataframe\">\n",
       "  <thead>\n",
       "    <tr style=\"text-align: right;\">\n",
       "      <th></th>\n",
       "      <th>date</th>\n",
       "      <th>tag</th>\n",
       "      <th>topic</th>\n",
       "      <th>link</th>\n",
       "    </tr>\n",
       "  </thead>\n",
       "  <tbody>\n",
       "    <tr>\n",
       "      <th>0</th>\n",
       "      <td>Jul 26.2022</td>\n",
       "      <td>Procedure</td>\n",
       "      <td>Rate of Exchange(July 31 2022- August 6 2022)</td>\n",
       "      <td>https://www.customs.go.jp/english/kawase/index...</td>\n",
       "    </tr>\n",
       "  </tbody>\n",
       "</table>\n",
       "</div>"
      ],
      "text/plain": [
       "          date        tag                                          topic  \\\n",
       "0  Jul 26.2022  Procedure  Rate of Exchange(July 31 2022- August 6 2022)   \n",
       "\n",
       "                                                link  \n",
       "0  https://www.customs.go.jp/english/kawase/index...  "
      ]
     },
     "execution_count": 14,
     "metadata": {},
     "output_type": "execute_result"
    }
   ],
   "source": [
    "#가장 최근 뉴스 날짜, 태그, 제목, 링크 DF형태로 출력\n",
    "import pandas as pd\n",
    "\n",
    "df = pd.DataFrame()\n",
    "df['date'] = dates\n",
    "df['tag'] = tags\n",
    "df['topic'] = topics\n",
    "df['link'] = links\n",
    "df"
   ]
  },
  {
   "cell_type": "code",
   "execution_count": 341,
   "id": "fa062c18",
   "metadata": {},
   "outputs": [
    {
     "name": "stderr",
     "output_type": "stream",
     "text": [
      "C:\\Users\\water\\anaconda3\\envs\\KOTRA\\lib\\site-packages\\bs4\\builder\\__init__.py:545: XMLParsedAsHTMLWarning: It looks like you're parsing an XML document using an HTML parser. If this really is an HTML document (maybe it's XHTML?), you can ignore or filter this warning. If it's XML, you should know that using an XML parser will be more reliable. To parse this document as XML, make sure you have the lxml package installed, and pass the keyword argument `features=\"xml\"` into the BeautifulSoup constructor.\n",
      "  warnings.warn(\n"
     ]
    }
   ],
   "source": [
    "#페이지 내에 있는 모든 뉴스 날짜 list에 담기\n",
    "import requests\n",
    "from bs4 import BeautifulSoup\n",
    "\n",
    "url = \"https://www.customs.go.jp/english/news/index_e2.htm\"\n",
    "res = requests.get(url)\n",
    "res.raise_for_status()\n",
    "\n",
    "soup = BeautifulSoup(res.text, \"lxml\")\n",
    "soup = soup.find(\"div\", attrs={\"class\":\"pastList category\"})"
   ]
  },
  {
   "cell_type": "code",
   "execution_count": 342,
   "id": "a45827f0",
   "metadata": {},
   "outputs": [
    {
     "name": "stdout",
     "output_type": "stream",
     "text": [
      "100\n"
     ]
    }
   ],
   "source": [
    "#모든 date list에 추가\n",
    "dates = []\n",
    "rows = soup.find_all(\"h3\")\n",
    "for row in rows: #h3 태그 하나씩 확인\n",
    "    A = row.find_all(\"a\") #h3 태그 하나에 여러 값이 있는 경우를 위해 a 태그 찾기\n",
    "    for a in A:\n",
    "        date = row.find(\"span\").get_text()\n",
    "        dates.append(date)\n",
    "print(len(dates))"
   ]
  },
  {
   "cell_type": "code",
   "execution_count": 343,
   "id": "61b98689",
   "metadata": {},
   "outputs": [],
   "source": [
    "#모든 tag list에 추가\n",
    "tags = []\n",
    "tag = soup.find_all(\"img\")\n",
    "for i in range(len(tag)):\n",
    "    if len(tag[i]['alt']) > 0:\n",
    "        tags.append(tag[i]['alt'])"
   ]
  },
  {
   "cell_type": "code",
   "execution_count": 344,
   "id": "0f705a69",
   "metadata": {},
   "outputs": [],
   "source": [
    "#모든 topic, link list에 추가\n",
    "topics = []\n",
    "links = []\n",
    "\n",
    "datas = soup.find_all(\"a\")\n",
    "\n",
    "for data in datas:\n",
    "    topics.append(data.get_text())\n",
    "    links.append(\"https://www.customs.go.jp/english\"+data[\"href\"][2:])"
   ]
  },
  {
   "cell_type": "code",
   "execution_count": 346,
   "id": "3959b323",
   "metadata": {},
   "outputs": [
    {
     "data": {
      "text/html": [
       "<div>\n",
       "<style scoped>\n",
       "    .dataframe tbody tr th:only-of-type {\n",
       "        vertical-align: middle;\n",
       "    }\n",
       "\n",
       "    .dataframe tbody tr th {\n",
       "        vertical-align: top;\n",
       "    }\n",
       "\n",
       "    .dataframe thead th {\n",
       "        text-align: right;\n",
       "    }\n",
       "</style>\n",
       "<table border=\"1\" class=\"dataframe\">\n",
       "  <thead>\n",
       "    <tr style=\"text-align: right;\">\n",
       "      <th></th>\n",
       "      <th>date</th>\n",
       "      <th>tag</th>\n",
       "      <th>topic</th>\n",
       "      <th>link</th>\n",
       "    </tr>\n",
       "  </thead>\n",
       "  <tbody>\n",
       "    <tr>\n",
       "      <th>0</th>\n",
       "      <td>Jul 26.2022</td>\n",
       "      <td>Procedure</td>\n",
       "      <td>Rate of Exchange(July 31 2022- August 6 2022)</td>\n",
       "      <td>https://www.customs.go.jp/english/kawase/index...</td>\n",
       "    </tr>\n",
       "    <tr>\n",
       "      <th>1</th>\n",
       "      <td>Jul.21.2022</td>\n",
       "      <td>Other</td>\n",
       "      <td>Payments of customs duties and taxes by credit...</td>\n",
       "      <td>https://www.customs.go.jp/english/passenger/ca...</td>\n",
       "    </tr>\n",
       "    <tr>\n",
       "      <th>2</th>\n",
       "      <td>Jul.21.2022</td>\n",
       "      <td>Other</td>\n",
       "      <td>Payments of customs duties and taxes by mobile...</td>\n",
       "      <td>https://www.customs.go.jp/english/passenger/ca...</td>\n",
       "    </tr>\n",
       "    <tr>\n",
       "      <th>3</th>\n",
       "      <td>Jul.21.2022</td>\n",
       "      <td>Statistics</td>\n",
       "      <td>Trade Statistics(Jun 2022 (Provisional))</td>\n",
       "      <td>https://www.customs.go.jp/englishoukei/latest/...</td>\n",
       "    </tr>\n",
       "    <tr>\n",
       "      <th>4</th>\n",
       "      <td>Jul.14.2022</td>\n",
       "      <td>Other</td>\n",
       "      <td>Time Series Data by EPA</td>\n",
       "      <td>https://www.customs.go.jp/english/../kyotsu/ko...</td>\n",
       "    </tr>\n",
       "    <tr>\n",
       "      <th>...</th>\n",
       "      <td>...</td>\n",
       "      <td>...</td>\n",
       "      <td>...</td>\n",
       "      <td>...</td>\n",
       "    </tr>\n",
       "    <tr>\n",
       "      <th>95</th>\n",
       "      <td>Sep.29.2020</td>\n",
       "      <td>Statistics</td>\n",
       "      <td>Trade Statistics(First 10 Days of September 20...</td>\n",
       "      <td>https://www.customs.go.jp/englishoukei/latest/...</td>\n",
       "    </tr>\n",
       "    <tr>\n",
       "      <th>96</th>\n",
       "      <td>Sep.16.2020</td>\n",
       "      <td>Statistics</td>\n",
       "      <td>Trade Statistics(August 2020 (Provisional))</td>\n",
       "      <td>https://www.customs.go.jp/englishoukei/latest/...</td>\n",
       "    </tr>\n",
       "    <tr>\n",
       "      <th>97</th>\n",
       "      <td>Sep.7.2020</td>\n",
       "      <td>Statistics</td>\n",
       "      <td>Trade Statistics(First 20 Days of August 2020 ...</td>\n",
       "      <td>https://www.customs.go.jp/englishoukei/latest/...</td>\n",
       "    </tr>\n",
       "    <tr>\n",
       "      <th>98</th>\n",
       "      <td>Sep.1.2020</td>\n",
       "      <td>Other</td>\n",
       "      <td>SMART Customs Initiative 2020</td>\n",
       "      <td>https://www.customs.go.jp/english/smart_e/inde...</td>\n",
       "    </tr>\n",
       "    <tr>\n",
       "      <th>99</th>\n",
       "      <td>Aug.28.2020</td>\n",
       "      <td>Statistics</td>\n",
       "      <td>Trade Statistics(First 10 Days of August 2020 ...</td>\n",
       "      <td>https://www.customs.go.jp/englishoukei/latest/...</td>\n",
       "    </tr>\n",
       "  </tbody>\n",
       "</table>\n",
       "<p>100 rows × 4 columns</p>\n",
       "</div>"
      ],
      "text/plain": [
       "           date         tag  \\\n",
       "0   Jul 26.2022   Procedure   \n",
       "1   Jul.21.2022       Other   \n",
       "2   Jul.21.2022       Other   \n",
       "3   Jul.21.2022  Statistics   \n",
       "4   Jul.14.2022       Other   \n",
       "..          ...         ...   \n",
       "95  Sep.29.2020  Statistics   \n",
       "96  Sep.16.2020  Statistics   \n",
       "97   Sep.7.2020  Statistics   \n",
       "98   Sep.1.2020       Other   \n",
       "99  Aug.28.2020  Statistics   \n",
       "\n",
       "                                                topic  \\\n",
       "0       Rate of Exchange(July 31 2022- August 6 2022)   \n",
       "1   Payments of customs duties and taxes by credit...   \n",
       "2   Payments of customs duties and taxes by mobile...   \n",
       "3            Trade Statistics(Jun 2022 (Provisional))   \n",
       "4                             Time Series Data by EPA   \n",
       "..                                                ...   \n",
       "95  Trade Statistics(First 10 Days of September 20...   \n",
       "96        Trade Statistics(August 2020 (Provisional))   \n",
       "97  Trade Statistics(First 20 Days of August 2020 ...   \n",
       "98                      SMART Customs Initiative 2020   \n",
       "99  Trade Statistics(First 10 Days of August 2020 ...   \n",
       "\n",
       "                                                 link  \n",
       "0   https://www.customs.go.jp/english/kawase/index...  \n",
       "1   https://www.customs.go.jp/english/passenger/ca...  \n",
       "2   https://www.customs.go.jp/english/passenger/ca...  \n",
       "3   https://www.customs.go.jp/englishoukei/latest/...  \n",
       "4   https://www.customs.go.jp/english/../kyotsu/ko...  \n",
       "..                                                ...  \n",
       "95  https://www.customs.go.jp/englishoukei/latest/...  \n",
       "96  https://www.customs.go.jp/englishoukei/latest/...  \n",
       "97  https://www.customs.go.jp/englishoukei/latest/...  \n",
       "98  https://www.customs.go.jp/english/smart_e/inde...  \n",
       "99  https://www.customs.go.jp/englishoukei/latest/...  \n",
       "\n",
       "[100 rows x 4 columns]"
      ]
     },
     "execution_count": 346,
     "metadata": {},
     "output_type": "execute_result"
    }
   ],
   "source": [
    "import pandas as pd\n",
    "\n",
    "df = pd.DataFrame()\n",
    "df['date'] = dates\n",
    "df['tag'] = tags\n",
    "df['topic'] = topics\n",
    "df['link'] = links\n",
    "df"
   ]
  },
  {
   "cell_type": "code",
   "execution_count": 347,
   "id": "f163a454",
   "metadata": {},
   "outputs": [],
   "source": [
    "df.to_csv('japan_new.csv', mode='w', encoding='utf-8-sig')"
   ]
  }
 ],
 "metadata": {
  "kernelspec": {
   "display_name": "Python 3 (ipykernel)",
   "language": "python",
   "name": "python3"
  },
  "language_info": {
   "codemirror_mode": {
    "name": "ipython",
    "version": 3
   },
   "file_extension": ".py",
   "mimetype": "text/x-python",
   "name": "python",
   "nbconvert_exporter": "python",
   "pygments_lexer": "ipython3",
   "version": "3.9.12"
  }
 },
 "nbformat": 4,
 "nbformat_minor": 5
}

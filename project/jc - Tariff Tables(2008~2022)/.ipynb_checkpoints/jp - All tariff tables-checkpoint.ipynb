{
 "cells": [
  {
   "cell_type": "code",
   "execution_count": 31,
   "id": "285a14c4",
   "metadata": {},
   "outputs": [],
   "source": [
    "#과거의 tariff link에서 링크를 받아 모든 과세율표를 합친 표 만들기\n",
    "from selenium import webdriver\n",
    "from selenium.webdriver.chrome.options import Options\n",
    "from bs4 import BeautifulSoup\n",
    "from time import sleep\n",
    "import pandas as pd\n",
    "\n",
    "options= Options()\n",
    "options.headless = True\n",
    "driver = webdriver.Chrome(options = options)"
   ]
  },
  {
   "cell_type": "code",
   "execution_count": 34,
   "id": "5eda0983",
   "metadata": {},
   "outputs": [
    {
     "data": {
      "text/plain": [
       "0    https://www.customs.go.jp/tariff/2021_10_22/in...\n",
       "1    https://www.customs.go.jp/tariff/2021_09_19/in...\n",
       "Name: links, dtype: object"
      ]
     },
     "execution_count": 34,
     "metadata": {},
     "output_type": "execute_result"
    }
   ],
   "source": [
    "#과거의 tariff link 담겨 있는 csv 파일 읽기\n",
    "df = pd.read_csv(\"jc_past_tariff_link(2003~2021).csv\")\n",
    "file = df[\"links\"][:2]\n",
    "file"
   ]
  },
  {
   "cell_type": "code",
   "execution_count": 44,
   "id": "d13e09ba",
   "metadata": {},
   "outputs": [
    {
     "name": "stdout",
     "output_type": "stream",
     "text": [
      "https://www.customs.go.jp/tariff/2021_10_22\n",
      "https://www.customs.go.jp/tariff/2021_09_19\n",
      "2\n",
      "['https://www.customs.go.jp/tariff/2021_10_22', 'https://www.customs.go.jp/tariff/2021_09_19']\n"
     ]
    }
   ],
   "source": [
    "links = []\n",
    "for f in file:\n",
    "    link = f.replace(\"/index.htm\",\"\")\n",
    "    print(link)\n",
    "    links.append(link)\n",
    "    \n",
    "print(len(links))\n",
    "print(links)"
   ]
  },
  {
   "cell_type": "code",
   "execution_count": 49,
   "id": "62e6f735",
   "metadata": {},
   "outputs": [
    {
     "name": "stdout",
     "output_type": "stream",
     "text": [
      "2021_10_22\n",
      "japan_tariff_table(2021.10.22).csv file has been created\n",
      "2021_09_19\n",
      "japan_tariff_table(2021.09.19).csv file has been created\n"
     ]
    }
   ],
   "source": [
    "for link in links:\n",
    "    save = link.replace(\"https://www.customs.go.jp/tariff/\", \"\")\n",
    "    print(save)\n",
    "    for i in range(1,98):\n",
    "        if i == 77:\n",
    "            continue\n",
    "        elif i < 10:\n",
    "            url = link + \"/data/print_j_0\"+str(i)+\".htm\"\n",
    "        else:\n",
    "            url = link + \"/data/print_j_\"+str(i)+\".htm\"\n",
    "        \n",
    "        driver.get(url)\n",
    "        sleep(1)\n",
    "\n",
    "        soup = BeautifulSoup(driver.page_source, 'lxml')\n",
    "        table = soup.find_all(\"table\")\n",
    "        if i == 1:\n",
    "            df_all = pd.read_html(driver.page_source)[2]\n",
    "        else:\n",
    "            df = pd.read_html(driver.page_source)[2]\n",
    "            df_all = pd.concat([df_all, df])\n",
    "        save1 = save.replace(\"_\", \".\")\n",
    "    df_all.to_csv(\"japan_tariff_table(\" + save1 + \").csv\", mode='w', encoding='utf-8-sig')\n",
    "    print(\"japan_tariff_table(\" + save1 + \").csv file has been created\")"
   ]
  }
 ],
 "metadata": {
  "kernelspec": {
   "display_name": "Python 3 (ipykernel)",
   "language": "python",
   "name": "python3"
  },
  "language_info": {
   "codemirror_mode": {
    "name": "ipython",
    "version": 3
   },
   "file_extension": ".py",
   "mimetype": "text/x-python",
   "name": "python",
   "nbconvert_exporter": "python",
   "pygments_lexer": "ipython3",
   "version": "3.9.12"
  }
 },
 "nbformat": 4,
 "nbformat_minor": 5
}

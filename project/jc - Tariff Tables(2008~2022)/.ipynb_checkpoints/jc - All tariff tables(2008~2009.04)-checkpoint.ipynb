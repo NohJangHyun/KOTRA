{
 "cells": [
  {
   "cell_type": "code",
   "execution_count": 1,
   "id": "54da6ff5",
   "metadata": {},
   "outputs": [],
   "source": [
    "#과거의 tariff link에서 링크를 받아 모든 과세율표를 합친 표 만들기\n",
    "from selenium import webdriver\n",
    "from selenium.webdriver.chrome.options import Options\n",
    "from bs4 import BeautifulSoup\n",
    "from time import sleep\n",
    "import pandas as pd\n",
    "\n",
    "options= Options()\n",
    "options.headless = True\n",
    "driver = webdriver.Chrome(options = options)"
   ]
  },
  {
   "cell_type": "code",
   "execution_count": 6,
   "id": "adc30495",
   "metadata": {},
   "outputs": [],
   "source": [
    "#과거의 tariff link 담겨 있는 csv 파일 읽기\n",
    "df = pd.read_csv(\"jc_past_tariff_link(2003~2021).csv\")\n",
    "file = df[\"links\"][36:40]"
   ]
  },
  {
   "cell_type": "code",
   "execution_count": 7,
   "id": "9158289f",
   "metadata": {},
   "outputs": [
    {
     "data": {
      "text/plain": [
       "36    https://www.customs.go.jp/tariff/2009_4/index.htm\n",
       "37      https://www.customs.go.jp/tariff/2009/index.htm\n",
       "38    https://www.customs.go.jp/tariff/2008_4/index.htm\n",
       "39      https://www.customs.go.jp/tariff/2008/index.htm\n",
       "Name: links, dtype: object"
      ]
     },
     "execution_count": 7,
     "metadata": {},
     "output_type": "execute_result"
    }
   ],
   "source": [
    "file"
   ]
  },
  {
   "cell_type": "code",
   "execution_count": 8,
   "id": "881b04b6",
   "metadata": {},
   "outputs": [],
   "source": [
    "links = []\n",
    "for f in file:\n",
    "    link = f.replace(\"/index.htm\",\"\")\n",
    "    links.append(link)"
   ]
  },
  {
   "cell_type": "code",
   "execution_count": 5,
   "id": "1ae832dc",
   "metadata": {},
   "outputs": [
    {
     "name": "stdout",
     "output_type": "stream",
     "text": [
      "2009_4\n",
      "jc_tariff_table(2009.4).csv file has been created\n",
      "2009\n",
      "jc_tariff_table(2009).csv file has been created\n",
      "2008_4\n",
      "jc_tariff_table(2008.4).csv file has been created\n",
      "2008\n",
      "jc_tariff_table(2008).csv file has been created\n",
      "2007_4\n"
     ]
    },
    {
     "ename": "IndexError",
     "evalue": "list index out of range",
     "output_type": "error",
     "traceback": [
      "\u001b[1;31m---------------------------------------------------------------------------\u001b[0m",
      "\u001b[1;31mIndexError\u001b[0m                                Traceback (most recent call last)",
      "Input \u001b[1;32mIn [5]\u001b[0m, in \u001b[0;36m<cell line: 1>\u001b[1;34m()\u001b[0m\n\u001b[0;32m     16\u001b[0m table \u001b[38;5;241m=\u001b[39m soup\u001b[38;5;241m.\u001b[39mfind_all(\u001b[38;5;124m\"\u001b[39m\u001b[38;5;124mtable\u001b[39m\u001b[38;5;124m\"\u001b[39m)\n\u001b[0;32m     17\u001b[0m \u001b[38;5;28;01mif\u001b[39;00m i \u001b[38;5;241m==\u001b[39m \u001b[38;5;241m1\u001b[39m:\n\u001b[1;32m---> 18\u001b[0m     df_all \u001b[38;5;241m=\u001b[39m \u001b[43mpd\u001b[49m\u001b[38;5;241;43m.\u001b[39;49m\u001b[43mread_html\u001b[49m\u001b[43m(\u001b[49m\u001b[43mdriver\u001b[49m\u001b[38;5;241;43m.\u001b[39;49m\u001b[43mpage_source\u001b[49m\u001b[43m)\u001b[49m\u001b[43m[\u001b[49m\u001b[38;5;241;43m2\u001b[39;49m\u001b[43m]\u001b[49m\n\u001b[0;32m     19\u001b[0m \u001b[38;5;28;01melse\u001b[39;00m:\n\u001b[0;32m     20\u001b[0m     df \u001b[38;5;241m=\u001b[39m pd\u001b[38;5;241m.\u001b[39mread_html(driver\u001b[38;5;241m.\u001b[39mpage_source)[\u001b[38;5;241m2\u001b[39m]\n",
      "\u001b[1;31mIndexError\u001b[0m: list index out of range"
     ]
    }
   ],
   "source": [
    "for link in links:\n",
    "    save = link.replace(\"https://www.customs.go.jp/tariff/\", \"\")\n",
    "    print(save)\n",
    "    for i in range(1,98):\n",
    "        if i == 77:\n",
    "            continue\n",
    "        elif i < 10:\n",
    "            url = link + \"/data/print_0\"+str(i)+\".htm\"\n",
    "        else:\n",
    "            url = link + \"/data/print_\"+str(i)+\".htm\"\n",
    "            \n",
    "        driver.get(url)\n",
    "        sleep(1)\n",
    "\n",
    "        soup = BeautifulSoup(driver.page_source, 'lxml')\n",
    "        table = soup.find_all(\"table\")\n",
    "        if i == 1:\n",
    "            df_all = pd.read_html(driver.page_source)[2]\n",
    "        else:\n",
    "            df = pd.read_html(driver.page_source)[2]\n",
    "            df_all = pd.concat([df_all, df])\n",
    "        save1 = save.replace(\"_\", \".\")\n",
    "    df_all.to_csv(\"jc_tariff_table(\" + save1 + \").csv\", mode='w', encoding='utf-8-sig')\n",
    "    print(\"jc_tariff_table(\" + save1 + \").csv file has been created\")"
   ]
  }
 ],
 "metadata": {
  "kernelspec": {
   "display_name": "Python 3 (ipykernel)",
   "language": "python",
   "name": "python3"
  },
  "language_info": {
   "codemirror_mode": {
    "name": "ipython",
    "version": 3
   },
   "file_extension": ".py",
   "mimetype": "text/x-python",
   "name": "python",
   "nbconvert_exporter": "python",
   "pygments_lexer": "ipython3",
   "version": "3.9.12"
  }
 },
 "nbformat": 4,
 "nbformat_minor": 5
}

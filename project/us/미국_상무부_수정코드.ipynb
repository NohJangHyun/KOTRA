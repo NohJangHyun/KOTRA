{
 "cells": [
  {
   "cell_type": "code",
   "execution_count": 49,
   "id": "e185e1d5",
   "metadata": {},
   "outputs": [
    {
     "name": "stderr",
     "output_type": "stream",
     "text": [
      "C:\\Users\\water\\AppData\\Local\\Temp\\ipykernel_13824\\2960637930.py:5: SettingWithCopyWarning: \n",
      "A value is trying to be set on a copy of a slice from a DataFrame\n",
      "\n",
      "See the caveats in the documentation: https://pandas.pydata.org/pandas-docs/stable/user_guide/indexing.html#returning-a-view-versus-a-copy\n",
      "  df['date'][i] = df['date'][i][-4:] + \"/\" + df['date'][i][:5]\n"
     ]
    },
    {
     "data": {
      "text/html": [
       "<div>\n",
       "<style scoped>\n",
       "    .dataframe tbody tr th:only-of-type {\n",
       "        vertical-align: middle;\n",
       "    }\n",
       "\n",
       "    .dataframe tbody tr th {\n",
       "        vertical-align: top;\n",
       "    }\n",
       "\n",
       "    .dataframe thead th {\n",
       "        text-align: right;\n",
       "    }\n",
       "</style>\n",
       "<table border=\"1\" class=\"dataframe\">\n",
       "  <thead>\n",
       "    <tr style=\"text-align: right;\">\n",
       "      <th></th>\n",
       "      <th>date</th>\n",
       "      <th>title</th>\n",
       "      <th>link</th>\n",
       "      <th>content</th>\n",
       "    </tr>\n",
       "  </thead>\n",
       "  <tbody>\n",
       "    <tr>\n",
       "      <th>0</th>\n",
       "      <td>2022/06/30</td>\n",
       "      <td>Addition of Entities, Revision and Correction ...</td>\n",
       "      <td>NaN</td>\n",
       "      <td>In this rule, the Bureau of Industry and Secur...</td>\n",
       "    </tr>\n",
       "    <tr>\n",
       "      <th>1</th>\n",
       "      <td>2022/06/06</td>\n",
       "      <td>Additions of Entities to the Entity List</td>\n",
       "      <td>NaN</td>\n",
       "      <td>In response to the Russian Federation’s (Russi...</td>\n",
       "    </tr>\n",
       "    <tr>\n",
       "      <th>2</th>\n",
       "      <td>2022/06/06</td>\n",
       "      <td>Export Administration Regulations: Revisions t...</td>\n",
       "      <td>NaN</td>\n",
       "      <td>Between February and May 2022, the Bureau of I...</td>\n",
       "    </tr>\n",
       "    <tr>\n",
       "      <th>3</th>\n",
       "      <td>2022/06/01</td>\n",
       "      <td>Adoption of Congressional Notification Require...</td>\n",
       "      <td>NaN</td>\n",
       "      <td>In this final rule, the Bureau of Industry and...</td>\n",
       "    </tr>\n",
       "    <tr>\n",
       "      <th>4</th>\n",
       "      <td>2022/05/26</td>\n",
       "      <td>Information Security Controls: Cybersecurity I...</td>\n",
       "      <td>NaN</td>\n",
       "      <td>BIS is finalizing changes to License Exception...</td>\n",
       "    </tr>\n",
       "  </tbody>\n",
       "</table>\n",
       "</div>"
      ],
      "text/plain": [
       "         date                                              title  link  \\\n",
       "0  2022/06/30  Addition of Entities, Revision and Correction ...   NaN   \n",
       "1  2022/06/06           Additions of Entities to the Entity List   NaN   \n",
       "2  2022/06/06  Export Administration Regulations: Revisions t...   NaN   \n",
       "3  2022/06/01  Adoption of Congressional Notification Require...   NaN   \n",
       "4  2022/05/26  Information Security Controls: Cybersecurity I...   NaN   \n",
       "\n",
       "                                             content  \n",
       "0  In this rule, the Bureau of Industry and Secur...  \n",
       "1  In response to the Russian Federation’s (Russi...  \n",
       "2  Between February and May 2022, the Bureau of I...  \n",
       "3  In this final rule, the Bureau of Industry and...  \n",
       "4  BIS is finalizing changes to License Exception...  "
      ]
     },
     "execution_count": 49,
     "metadata": {},
     "output_type": "execute_result"
    }
   ],
   "source": [
    "import pandas as pd\n",
    "\n",
    "df = pd.read_csv(\"미국_상무부_공지_수정전(2011~2022).csv\")\n",
    "for i in range(len(df)):\n",
    "    df['date'][i] = df['date'][i][-4:] + \"/\" + df['date'][i][:5]\n",
    "    \n",
    "    df['date'][i][-4:]\n",
    "df.head()"
   ]
  },
  {
   "cell_type": "code",
   "execution_count": 50,
   "id": "05063705",
   "metadata": {},
   "outputs": [],
   "source": [
    "df.to_csv('미국_상무부_공지(2011~2022년).csv', mode='w', encoding='utf-8-sig')"
   ]
  }
 ],
 "metadata": {
  "kernelspec": {
   "display_name": "Python 3 (ipykernel)",
   "language": "python",
   "name": "python3"
  },
  "language_info": {
   "codemirror_mode": {
    "name": "ipython",
    "version": 3
   },
   "file_extension": ".py",
   "mimetype": "text/x-python",
   "name": "python",
   "nbconvert_exporter": "python",
   "pygments_lexer": "ipython3",
   "version": "3.9.12"
  }
 },
 "nbformat": 4,
 "nbformat_minor": 5
}

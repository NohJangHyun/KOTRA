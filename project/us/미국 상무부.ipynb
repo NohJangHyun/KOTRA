{
 "cells": [
  {
   "cell_type": "code",
   "execution_count": 1,
   "id": "3e6b4b99",
   "metadata": {},
   "outputs": [],
   "source": [
    "#U.S. Department of Commerce - 미국 상무부에서 발행하는 연방 관보 고지\n",
    "#2022년\n",
    "from selenium import webdriver\n",
    "from selenium.webdriver.chrome.options import Options\n",
    "from bs4 import BeautifulSoup\n",
    "from time import sleep\n",
    "\n",
    "options= Options()\n",
    "options.headless = True\n",
    "driver = webdriver.Chrome(options = options)\n",
    "url= \"https://bis.doc.gov/index.php/regulations/federal-register-notices/17-regulations/1372-federal-register-notices-2018\"\n",
    "\n",
    "driver.get(url)\n",
    "sleep(1)\n"
   ]
  },
  {
   "cell_type": "code",
   "execution_count": 2,
   "id": "ebef24e1",
   "metadata": {},
   "outputs": [],
   "source": [
    "soup = BeautifulSoup(driver.page_source, 'lxml')\n",
    "div = soup.find(\"div\", attrs={\"itemprop\":\"articleBody\"})"
   ]
  },
  {
   "cell_type": "code",
   "execution_count": 3,
   "id": "3f87599e",
   "metadata": {},
   "outputs": [
    {
     "name": "stdout",
     "output_type": "stream",
     "text": [
      "전체 유형 :  23\n",
      "1번 유형 :  0\n",
      "2번 유형 :  23\n"
     ]
    }
   ],
   "source": [
    "#html 유형 나누기 - 총 23개 중 1번 - 7개, 2번 - 16개\n",
    "table = div.find(\"table\", attrs={\"border\":\"1\"}).find_all(\"tr\", attrs={\"valign\":\"top\"})\n",
    "print(\"전체 유형 : \", len(table))\n",
    "type1 = div.find_all(\"div\", attrs={\"class\":\"OutlineElement Ltr SCXW30029558 BCX8\"})\n",
    "print(\"1번 유형 : \",len(type1))\n",
    "print(\"2번 유형 : \", len(table) - len(type1))"
   ]
  },
  {
   "cell_type": "code",
   "execution_count": 4,
   "id": "d2096f2a",
   "metadata": {},
   "outputs": [
    {
     "name": "stdout",
     "output_type": "stream",
     "text": [
      "23\n"
     ]
    }
   ],
   "source": [
    "#dates 리스트에 date 담기\n",
    "dates=[]\n",
    "\n",
    "#1번 유형\n",
    "for i in range(len(type1)):\n",
    "    dates.append(table[i].find(\"span\").get_text().strip())\n",
    "\n",
    "#2번 유형\n",
    "for i in range(len(type1),len(table)):\n",
    "    dates.append(table[i].get_text()[1:10].strip())\n",
    "    \n",
    "print(len(dates))"
   ]
  },
  {
   "cell_type": "code",
   "execution_count": 5,
   "id": "d6748454",
   "metadata": {},
   "outputs": [
    {
     "name": "stdout",
     "output_type": "stream",
     "text": [
      "23\n"
     ]
    }
   ],
   "source": [
    "#titles 리스트에 title 담기\n",
    "titles=[]\n",
    "\n",
    "#1번 유형\n",
    "for i in range(len(table)):\n",
    "    title = table[i].find(\"a\").get_text() \n",
    "    titles.append(title)\n",
    "\n",
    "print(len(titles))"
   ]
  },
  {
   "cell_type": "code",
   "execution_count": 6,
   "id": "6b759fc4",
   "metadata": {},
   "outputs": [
    {
     "name": "stdout",
     "output_type": "stream",
     "text": [
      "23\n"
     ]
    }
   ],
   "source": [
    "#links 리스트에 link 담기\n",
    "links = []\n",
    "for i in range(len(table)):\n",
    "    link = url + table[i].find(\"a\")['href']\n",
    "    links.append(link)\n",
    "print(len(links))"
   ]
  },
  {
   "cell_type": "code",
   "execution_count": 7,
   "id": "e94baf10",
   "metadata": {},
   "outputs": [
    {
     "name": "stdout",
     "output_type": "stream",
     "text": [
      " Revisions, Clarifications, and Technical Corrections to the Export Administration Regulations; Correction\n",
      "                             \n",
      "03/08/19\n",
      "84 FR 8485\n",
      "Normal 0 false false false EN-US X-NONE X-NONE Request for Public Comments Regarding Review of Commerce Control List for Items Transferred from United States Munitions List Categories IV and XV \n",
      "Normal 0 false false false EN-US X-NONE X-NONE As part of its work with the National Space Council, the Bureau of Industry and Security, Department of Commerce requests public comment to inform its review of the controls implemented in recent revisions to Categories IV and XV of the United States Munitions List (USML) and the related transfer of items to the Department of Commerce’s Commerce Control List (CCL).  These items include launch vehicles, guided missiles, ballistic missiles, rockets, torpedoes, bombs, and mines; and spacecraft and related articles.  BIS’s review seeks to ensure that the CCL describes these items clearly, captures those items in normal commercial use, accounts for technological developments, and implements the national security and foreign policy objectives of the United States properly.  Comments must be received by BIS no later than April 22, 2019.\n",
      "BIS ANPRM\n",
      "State ANPRM\n",
      "                             \n",
      "12/20/18\n",
      "83 FR 65292\n",
      "Control of Military Electronic Equipment and Other Items the President Determines No Longer Warrant Control Under the United States Munitions List (USML); Correction\n",
      "The Bureau of Industry and Security (BIS) is amending the Export Administration Regulations (EAR) by correcting two entries (ECCNs 7A005 and 7A105) on the Commerce Control List (CCL) that control Global Navigation Satellite Systems (GNSS) receiving equipment.  It was brought to BIS’ attention that it did not implement controls over items that no longer warrant control under the United States Munitions List (USML) in a previous published rule.  This rule corrects that error.\n",
      "BIS Rule\n",
      "                             \n",
      "11/19/18\n",
      "83 FR 58201\n",
      "Review of Controls for Certain Emerging Technologies \n",
      "The Bureau of Industry and Security (BIS) controls the export of dual-use and less sensitive military items through the Export Administration Regulations (EAR), including the Commerce Control List (CCL). As controls on exports of technology are a key component of the effort to protect sensitive U.S. technology, many sensitive technologies are listed on the CCL, often consistent with the lists maintained by the multilateral export control regimes of which the United States is a member. Certain technologies, however, may not yet be listed on the CCL or controlled multilaterally because they are emerging technologies. As such, they have not yet been evaluated for their national security impacts. This advance notice of proposed rulemaking (ANPRM) seeks public comment on criteria for identifying emerging technologies that are essential to U.S. national security, for example because they have potential conventional weapons, intelligence collection, weapons of mass destruction, or terrorist applications or could provide the United States with a qualitative military or intelligence advantage. Comment on this ANPRM will help inform the interagency process to identify and describe such emerging technologies. This interagency process is anticipated to result in proposed rules for new Export Control Classification Numbers (ECCNs) on the CCL.\n",
      "   \n",
      "BIS ANPRM\n",
      "Comment Period Extension Notice published 12/14/18 (83 FR 64299)\n",
      "Comments on this ANPRM must be received by BIS no later than January 10, 2019.\n",
      "                                                                                                                   \n",
      "10/30/18 \n",
      "83 FR 54519\n",
      "Addition of an Entity to the Entity List.\n",
      "In this rule, the Bureau of Industry and Security (BIS) amends the Export Administration Regulations (EAR) by adding one entity to the Entity List.  The entity that is added to the Entity List has been determined by the U.S. Government to pose a significant risk of becoming involved in activities contrary to the national security or foreign policy interests of the United States.  This entity will be listed under the destination of China.\n",
      "BIS Rule\n",
      "                                                                                                                                                   \n",
      "10/24/18 \n",
      "83 FR 53742\n",
      "Wassenaar Arrangement 2017 Plenary Agreements Implementation (Final Rule).\n",
      "This final rule revises the Commerce Control List (CCL), as well as corresponding parts of the EAR, to implement changes made to the Wassenaar Arrangement List of Dual-Use Goods and Technologies (WA List) maintained and agreed to by governments participating in the Wassenaar Arrangement on Export Controls for Conventional Arms and Dual-Use Goods and Technologies (Wassenaar Arrangement, or WA) at the December 2017 WA Plenary meeting.  This rule revises fifty (54) Export Control Classification Numbers (ECCNs), as well as License Exceptions APR (740.16) and STA (740.20), Regional Stability Controls (742.6), Definitions (Part 772), the WA Sensitive List (Supp. No. 6 to part 774), and the WA Very Sensitive List (Supp. No. 7 to part 774).\n",
      "BIS RuleOFR Correction\n",
      "                                                                                                                                                   \n",
      "10/23/18 \n",
      "83 FR 53411\n",
      "Request for Public Comments Regarding Foreign Disposition of Certain Commodities (Notice of Inquiry) 10/23/18 (83 FR 53411).\n",
      "The Bureau of Industry and Security (BIS) is seeking public comments on the effects and costs that would result if BIS were to amend its regulations to reflect new export authorization requirements regarding electronic waste, including new recordkeeping requirements, reporting requirements, and data elements in the Automated Export System, maintained by the U.S. Census Bureau, to track electronic waste that is exported. Comments from all interested persons are welcome and will help BIS determine the feasibility and cost of implementing a mechanism for tracking and controlling electronic waste exports.\n",
      "BIS Rule\n",
      "                                                                                                                                                   \n",
      "9/26/18 \n",
      "83 FR 48532\n",
      "Addition of Certain Entities to the Entity List, Revision of an Entry on the Entity List and Removal of an Entity From the Entity List.\n",
      "This final rule amends the Export Administration Regulations (EAR) by adding fourteen entities to the Entity List. These fourteen entities have been determined by the U.S. Government to be acting contrary to the national security or foreign policy interests of the United States and will be listed on the Entity List under the destinations of Belarus, Iran, Russia, and Singapore. This rule also modifies one entry on the Entity List under the destination of the United Arab Emirates. Lastly, this rule removes one entity under the destination of Hong Kong from the Entity List. The removal is made in connection with a request for removal BIS received pursuant to the EAR and a review of information provided in that request.\n",
      "BIS Rule\n",
      "                                                                                                                                                   \n",
      "9/4/18 \n",
      "83 FR 44821\n",
      "Addition of Certain Persons to the Entity List, Revision of Entries on the Entity List and Removal of Certain Entities From the Entity List.\n",
      "This final rule amends the Export Administration Regulations (EAR) by adding fifteen entities under seventeen entries to the Entity List. These fifteen entities have been determined by the U.S. Government to be acting contrary to the national security or foreign policy interests of the United States and will be listed on the Entity List under the destinations of the People’s Republic of China, Hong Kong, Pakistan, Russia, Saudi Arabia, Turkey, the United Arab Emirates and the United Kingdom. This final rule also modifies two entries on the entity list: one entry under the destination of Hong Kong and one entry under the destination of Russia. Lastly, this final rule removes one entity under the destination of Greece from the Entity List. The removal is the result of a request for removal BIS received pursuant to the EAR and a review of information provided in the removal request.\n",
      "BIS Rule\n",
      "                                                                                                                                                   \n",
      "8/30/18 \n",
      "83 FR 44216\n",
      "Revisions to the Export Administration Regulations Based on the 2017 Missile Technology Control Regime Plenary Agreements.\n",
      "This final rule amends the Export Administration Regulations (EAR) to reflect changes to the Missile Technology Control Regime (MTCR) Annex that were agreed to by MTCR member countries at the October 2017 Plenary in Dublin, Ireland, and the May 2017 Technical Experts Meeting (TEM) in Stockholm, Sweden.  This final rule revises seventeen Export Control Classification Numbers (ECCNs) to implement the changes that were agreed to at the meetings and to better align the missile technology (MT) controls on the Commerce Control List (CCL) with the MTCR Annex.\n",
      "BIS Rule\n",
      "                                                                                                                                            \n",
      "8/13/18 \n",
      "83 FR 39921\n",
      "Commerce Control List:  Request for Comments Regarding Controls on Certain Spraying or Fogging Systems and “Parts” and “Components” Therefore.\n",
      "In this rule, Through this notice of inquiry, BIS is seeking public comments as part of a review of the effectiveness of its controls on certain spraying and fogging systems, and “parts” and “components” therefor, to ensure that the descriptions of these items on the Commerce Control List (CCL) are clear, do not inadvertently control items in normal commercial use, accurately reflect chemical/biological (CB) related technological capabilities and developments, and are consistent with the principal objective of the Australia Group (AG), which is to ensure that exports of certain chemicals, biological agents, and dual-use chemical and biological manufacturing facilities and equipment, do not contribute to the spread of chemical and biological weapons (CBW).  This notice also requests public comments on potential alternatives to the current controls described in Export Control Classification Number (ECCN) 2B352.i.  Public comments on this notice of inquiry must be received by BIS no later than October 12, 2018.\n",
      "BIS Rule\n",
      "                                                                                                                                 \n",
      "8/3/18 \n",
      "83 FR 38021\n",
      "Revision of Export and Reexport License Requirements for Republic of South Sudan Under the Export Administration Regulations\n",
      "In this rule, the Bureau of Industry and Security (BIS) is amending the Export Administration Regulations (EAR) to conform to the Department of State’s (State) amendment of February 14, 2018 to the International Traffic in Arms Regulations (ITAR) that placed restrictions on exports of defense articles (and defense services) to the Republic of South Sudan (South Sudan).  The State action reflected a policy determination by the Secretary of State that it was in the best interests of U.S. foreign policy to impose such restrictions.  Consistent with the State action, in this amendment, BIS is updating the EAR to restrict the export and reexport of certain items on the Commerce Control List to South Sudan.  Pursuant to established procedure, BIS adds South Sudan to the list of U.S. embargoed countries under the EAR, a list drawn from the list of arms embargoes in the ITAR and State Federal Register notices, and adopts a restrictive license application review policy consistent with State’s review policy set forth in the ITAR.\n",
      "BIS Rule\n",
      "                                                       8/3/18 \n",
      "83 FR 38018\n",
      "U.S.-India Major Defense Partners: Implementation Under the Export Administration Regulations of India’s Membership in the Wassenaar Arrangement and Addition of India to Country Group A:5\n",
      "In this rule, the Bureau of Industry and Security (BIS) amends the Export Administration Regulations (EAR) to formally recognize and implement India’s membership in the Wassenaar Arrangement (Wassenaar or WA). Further, BIS removes India from Country Group A:6 and places it in Country Group A:5.  This action befits India’s status as a Major Defense Partner and recognizes the country’s membership in three of the four export control regimes: Missile Technology Control Regime (MTCR), WA and Australia Group (AG). This rule is another in the series of rules that implement reforms to which the United States and India mutually agreed to promote global nonproliferation, expand high technology cooperation and trade, and ultimately facilitate India’s full membership in the four multilateral export control regimes (Nuclear Suppliers Group, MTCR, WA, and AG). This rule also makes conforming amendments.\n",
      "BIS Rule\n",
      "                                                                                                                                                  \n",
      "8/1/18 \n",
      "83 FR 37423\n",
      "Addition of Certain Entities; and Modification of Entry on the Entity List.  \n",
      "This rule amends the Export Administration Regulations (EAR) by adding forty-four entities (eight entities and thirty-six subordinate institutions) to the Entity List.  The entities that are being added to the Entity List have been determined by the U.S. Government to be acting contrary to the national security or foreign policy interests of the United States.  These entities will be listed on the Entity List under the destination of China.  This rule also modifies one entry under China to provide additional addresses and names for the entity at issue.\n",
      "BIS Rule\n",
      "                                                                                                                                                   \n",
      "6/6/18 \n",
      "83 FR 26204\n",
      "Revisions to the Unverified List (UVL).  \n",
      "The Bureau of Industry and Security (BIS) is amending the Export Administration Regulations (EAR) by correcting one (1) address for one (1) person listed on the Unverified List (UVL) and removing an extraneous name from one (1) other entry listed on the UVL.\n",
      "BIS Rule\n",
      "                                                                                                                                                   \n",
      "6/4/18 \n",
      "83 FR 25559\n",
      "Implementation of the February 2017 Australia Group (AG) Intersessional Decisions and the June 2017 AG Plenary Understandings; Addition of India to the AG; Correction.  \n",
      "This final rule amends the EAR to make technical corrections to Supplement No. 7 to part 748 (Authorization Validated End-User (VEU)).  Specifically, this final rule updates Supplement No. 7 to correctly identify eligible ECCN 1C350 items for three PRC validated end-users, consistent with the alphabetical renumbering of items listed under ECCN 1C350.b, .c, or .d in the April 2, 2018 (83 FR 13849), final rule titled “Implementation of the February 2017 Australia Group (AG) Intersessional Decisions and the June 2017 AG Plenary Understandings; Addition of India to the AG.”\n",
      "BIS Rule\n",
      "                                                                                                                                                   \n",
      "5/24/18 \n",
      "83 FR 24166\n",
      "Commerce proposed rule, Control of Firearms, Guns, Ammunition and Related Articles the President Determines No Longer Warrant Control under the United States Munitions List (USML) published in the Federal Register on May 24, 2018.\n",
      "This proposed rule describes how articles the President determines no longer warrant control under United States Munitions List (USML) Category I – Firearms, Close Assault Weapons and Combat Shotguns; Category II – Guns and Armament; and Category III – Ammunition/Ordnance would be controlled under the Commerce Control List (CCL). Thisproposed rule is being published simultaneously with a proposed rule by the Department of State that would revise Categories I, II, and III of the USML to describe more precisely the articles warranting continued control on that list.  Comments on this proposed rule must be received by BIS no later than July 9, 2018.\n",
      "BIS Rule\n",
      "State Rule\n",
      "Categories I-III Rules Myths Versus Facts\n",
      "                                                                                                                                                   \n",
      "5/17/18 \n",
      "83 FR 22842\n",
      "Revisions to the Unverified List (UVL)\n",
      "The Bureau of Industry and Security (BIS) is amending the Export Administration Regulations (EAR) by adding thirty-three (33) persons to the Unverified List (“UVL”) and adding an additional address for one (1) person currently listed on the UVL. The thirty-three persons are being added to the UVL on the basis that BIS could not verify their bona fides because an end-use check could not be completed satisfactorily for reasons outside the U.S. Government’s control. A new address is added for one person as BIS has determined that this person is receiving exports from the United States at an additional address.\n",
      "BIS Rule\n",
      "                                                                                                                                                   \n",
      "4/5/18 \n",
      "83 FR 14580\n",
      "Reclassification of Targets for the Production of Tritium and Related Development and Production Technology Initially Classified Under the 0Y521 Series\n",
      "In this rule, the Bureau of Industry and Security (BIS) amends the Export Administration Regulations (EAR) to impose a license requirement on exports and reexports of specified target assemblies and components for the production of tritium under new Export Control Classification Number (ECCN) 1A231, and for the related “production” technology for 1A231 commodities covered under ECCNs 1E001 and 1E201. The items identified in this rule are controlled for nuclear nonproliferation (NP) Column 1 and anti-terrorism (AT) Column 1 reasons. These new classifications are the result of a U.S. Government proposal submitted and agreed to by members of the relevant multilateral regime, the Nuclear Suppliers Group (NSG), in June 2017.  This final rule, as required under the 0Y521 procedure and in fulfillment of multilateral commitments, implements the multilateral control for the items adopted by the NSG.\n",
      "BIS Rule\n",
      "Final Rule\n",
      "                                                                                                                                                   \n",
      "4/2/18\n",
      "83 FR 13849   \n",
      "Implementation of the February 2017 Australia Group (AG) Intersessional Decisions and the June 2017 AG Plenary Understandings; Addition of India to the AG   \n",
      "This final rule amends the EAR to implement the recommendations presented at the February 2017 Australia Group (AG) Intersessional Implementation Meeting and the June 2017 AG Plenary Implementation Meeting that were adopted by the AG. The following ECCNs are amended to reflect changes to the AG common control lists based on the 2017 AG Intersessional Implementation Meeting: ECCN 2B350 (by adding certain prefabricated repair assemblies, and specially designed components therefor, that are designed for attachment to glass-lined reaction vessels, reactors, storage tanks, containers or receivers controlled by this entry); ECCN 2B351 (by clarifying that toxic gas monitoring equipment includes toxic gas monitors and monitoring systems, as well as their dedicated detecting components); and ECCN 2B352 (by adding certain nucleic acid assemblers and synthesizers to this entry and clarifying how the capacity of certain fermenters should be measured for purposes of determining whether they are controlled under this entry). The following ECCNs are amended to reflect changes to the AG common control lists based on the 2017 AG Plenary Implementation Meeting: ECCN 1C353 (to clarify that genetically modified organisms include organisms in which the nucleic acid sequences have been created or altered by deliberate molecular manipulation and that inactivated organisms containing recoverable nucleic acids are considered to be genetic elements) and ECCN 1C350 (by adding N,N-Diisopropylaminoethanethiol hydrochloride). In addition, this rule corrects several typographical errors in a note to ECCN 1C351 and updates the advance notification requirements in the EAR that apply to certain exports of saxitoxin. Finally, this rule amends the EAR to reflect the addition of India as a participating country in the AG.\n",
      "BIS Rule\n",
      "                                                                                                                                                   \n",
      "3/22/18\n",
      "83 FR 12475 \n",
      "Addition of Certain Persons to the Entity List and Removal of Certain Persons from the Entity List; Correction of License Requirements \n",
      "This final rule amends the Export Administration Regulations (EAR) by adding twenty-three persons to the Entity List.  These twenty-three persons have been determined by the U.S. Government to be acting contrary to the national security or foreign policy interests of the United States and will be listed on the Entity List under the destinations of Pakistan, Singapore and South Sudan. This rule also removes one person under the destination of Ecuador and one person under the destination of the United Arab Emirates (U.A.E.) from the Entity List.  Both removals are the result of requests for removal received by BIS pursuant to the section of the EAR used for requesting removal or modification of an Entity List entry and a review of information provided in the removal requests.  Lastly, this rule corrects the license requirement for twelve entities that were added under the destination of Russia as part of a recent BIS rule. \n",
      "BIS Rule\n",
      "                                                                                                                                                   \n",
      "2/16/18\n",
      "83 FR 6949\n",
      "Russian Sanctions: Addition of Certain Entities to the Entity List (0694-AH48)    \n",
      "The Bureau of Industry and Security (BIS) amends the Export Administration Regulations (EAR) by adding twenty-one entities to the Entity List. The twenty-one entities that are added to the Entity List have been determined by the U.S. Government to be acting contrary to the national security or foreign policy interests of the United States. BIS is taking this action to ensure the efficacy of existing sanctions on the Russian Federation (Russia) for violating international law and fueling the conflict in eastern Ukraine. These entities will be listed on the Entity List under the destinations of the Crimea region of Ukraine and Russia..\n",
      "BIS Rule \n",
      "                                                                                                                                                   \n",
      "2/12/18\n",
      "83 FR 5968Request for Public Comments Regarding Controls on Energetic Materials, Armored and Protective “Equipment” and Military Electronics  \n",
      "Through this notice of inquiry, BIS is seeking public comments to perform a complementary review of items on the Commerce Control List concurrent with the Department of State’s review of the controls implemented in its recent revisions to Categories V, X and XI of the United States Munitions List (which control explosives and energetic materials, propellants, incendiary agents and their constituents; personal protective equipment; and military electronics), to ensure that the descriptions of these items on the CCL are clear, items for normal commercial use are not inadvertently controlled as military items on the USML, technological developments are accounted for on the control lists, and controls properly implement the national security and foreign policy objectives of the United States. Comments must be received by BIS no later than April 13, 2018.\n",
      "BIS RuleState Rule\n",
      "  \n",
      "                                                                                                                                                 \n",
      "01/26/18 \n",
      "83 FR 3577 \n",
      "Addition of Certain Entities; Removal of Certain Entities; and Revisions of Entries on the Entity List \n",
      "This rule amends the Export Administration Regulations (EAR) by adding twenty-one persons under twenty-three entries to the Entity List. The twenty-one persons who are added to the Entity List have been determined by the U.S. Government to be acting contrary to the national security or foreign policy interests of the United States. These twenty-one persons will be listed on the Entity List under the destinations of Bulgaria, China, Kazakhstan, Russia, Syria, and the United Arab Emirates (U.A.E.). In addition, this rule amends the EAR by removing three entities from the Entity List. This rule removes one entity listed under the destination of Taiwan and two entities listed under the destination of the U.A.E. from the Entity List. All three of the removals are the results of requests for removal received by BIS pursuant to the section of the EAR used for requesting removal or modification of an Entity List entry and a review of information provided in the removal requests. Finally, this final rule modifies two existing entries on the Entity List. This rule modifies one entry under China and one entry under Pakistan to provide additional or modified addresses and/or names for these persons.\n",
      "BIS Rule\n",
      "                                                                                                                                                 \n",
      "01/08/18 \n",
      "83 FR 709 \n",
      "Revisions, Clarifications, and Technical Corrections to the Export Administration Regulations; Correction \n",
      "In this final rule, the Bureau of Industry and Security corrects an error in the text of Export Control Classification Numbers (ECCNs) 0D606, 0E606, and 8A609.\n",
      "BIS Rule\n",
      "   \n",
      "Revisions to the Unverified List (UVL)   \n"
     ]
    }
   ],
   "source": [
    "#contents 리스트에 content 담기\n",
    "contents=[]\n",
    "p_tag = div.find_all(\"p\")\n",
    "for i in range(4, len(p_tag)):\n",
    "    if p_tag[i].get_text() and len(p_tag[i].get_text())>1:\n",
    "        print(p_tag[i].get_text())"
   ]
  },
  {
   "cell_type": "code",
   "execution_count": 15,
   "id": "0deba94b",
   "metadata": {},
   "outputs": [
    {
     "name": "stdout",
     "output_type": "stream",
     "text": [
      "25\n",
      "24\n"
     ]
    }
   ],
   "source": [
    "max = len(div.find_all(\"hr\"))\n",
    "cnt = len(div.find_all(\"hr\"))\n",
    "start = div.find(\"hr\")\n",
    "contents = []\n",
    "while cnt > 0:\n",
    "    if cnt == max:\n",
    "        cnt -= 1\n",
    "        next = start.next_sibling\n",
    "        string = next.get_text().strip()\n",
    "    else:\n",
    "        if str(next)[:3] == \"<hr\":\n",
    "            next = next.next_sibling\n",
    "            contents.append(string)\n",
    "            string = \"\"\n",
    "            cnt -= 1\n",
    "        else:\n",
    "            next = next.next_sibling\n",
    "            string = string +  next.get_text().strip() + \"\"\n",
    "\n",
    "\n",
    "print(len(contents))\n"
   ]
  },
  {
   "cell_type": "code",
   "execution_count": 11,
   "id": "52c6aca7",
   "metadata": {},
   "outputs": [
    {
     "name": "stdout",
     "output_type": "stream",
     "text": [
      "Revisions to the Unverified List (UVL)   \n",
      "Normal 0 false false false EN-US X-NONE X-NONE\n",
      "Revisions to the Unverified List (UVL)   \n",
      "Normal 0 false false false EN-US X-NONE X-NONE\n",
      "01/08/1883 FR 709Revisions, Clarifications, and Technical Corrections to the Export Administration Regulations; CorrectionIn this final rule, the Bureau of Industry and Security corrects an error in the text of Export Control Classification Numbers (ECCNs) 0D606, 0E606, and 8A609.BIS Rule\n",
      "26\n"
     ]
    }
   ],
   "source": [
    "last = div.find_all('hr')[-1]\n",
    "\n",
    "l = 1\n",
    "while not None:\n",
    "    if l == 1:\n",
    "        l -= 1\n",
    "        la = last.next_sibling\n",
    "        string = la.get_text().strip()\n",
    "    else:\n",
    "        la = la.next_sibling\n",
    "        if la == None:\n",
    "            contents.append(string)\n",
    "            break\n",
    "        else:\n",
    "            string += la.get_text().strip() +\"\"\n",
    "print(len(contents))"
   ]
  },
  {
   "cell_type": "code",
   "execution_count": 14,
   "id": "6198b79a",
   "metadata": {
    "scrolled": true
   },
   "outputs": [
    {
     "ename": "ValueError",
     "evalue": "Length of values (24) does not match length of index (23)",
     "output_type": "error",
     "traceback": [
      "\u001b[1;31m---------------------------------------------------------------------------\u001b[0m",
      "\u001b[1;31mValueError\u001b[0m                                Traceback (most recent call last)",
      "Input \u001b[1;32mIn [14]\u001b[0m, in \u001b[0;36m<cell line: 8>\u001b[1;34m()\u001b[0m\n\u001b[0;32m      6\u001b[0m df[\u001b[38;5;124m'\u001b[39m\u001b[38;5;124mtitle\u001b[39m\u001b[38;5;124m'\u001b[39m] \u001b[38;5;241m=\u001b[39m titles\n\u001b[0;32m      7\u001b[0m df[\u001b[38;5;124m'\u001b[39m\u001b[38;5;124mlink\u001b[39m\u001b[38;5;124m'\u001b[39m] \u001b[38;5;241m=\u001b[39m links\n\u001b[1;32m----> 8\u001b[0m \u001b[43mdf\u001b[49m\u001b[43m[\u001b[49m\u001b[38;5;124;43m'\u001b[39;49m\u001b[38;5;124;43mcontent\u001b[39;49m\u001b[38;5;124;43m'\u001b[39;49m\u001b[43m]\u001b[49m \u001b[38;5;241m=\u001b[39m contents\n\u001b[0;32m      9\u001b[0m df\n",
      "File \u001b[1;32m~\\anaconda3\\envs\\KOTRA\\lib\\site-packages\\pandas\\core\\frame.py:3655\u001b[0m, in \u001b[0;36mDataFrame.__setitem__\u001b[1;34m(self, key, value)\u001b[0m\n\u001b[0;32m   3652\u001b[0m     \u001b[38;5;28mself\u001b[39m\u001b[38;5;241m.\u001b[39m_setitem_array([key], value)\n\u001b[0;32m   3653\u001b[0m \u001b[38;5;28;01melse\u001b[39;00m:\n\u001b[0;32m   3654\u001b[0m     \u001b[38;5;66;03m# set column\u001b[39;00m\n\u001b[1;32m-> 3655\u001b[0m     \u001b[38;5;28;43mself\u001b[39;49m\u001b[38;5;241;43m.\u001b[39;49m\u001b[43m_set_item\u001b[49m\u001b[43m(\u001b[49m\u001b[43mkey\u001b[49m\u001b[43m,\u001b[49m\u001b[43m \u001b[49m\u001b[43mvalue\u001b[49m\u001b[43m)\u001b[49m\n",
      "File \u001b[1;32m~\\anaconda3\\envs\\KOTRA\\lib\\site-packages\\pandas\\core\\frame.py:3832\u001b[0m, in \u001b[0;36mDataFrame._set_item\u001b[1;34m(self, key, value)\u001b[0m\n\u001b[0;32m   3822\u001b[0m \u001b[38;5;28;01mdef\u001b[39;00m \u001b[38;5;21m_set_item\u001b[39m(\u001b[38;5;28mself\u001b[39m, key, value) \u001b[38;5;241m-\u001b[39m\u001b[38;5;241m>\u001b[39m \u001b[38;5;28;01mNone\u001b[39;00m:\n\u001b[0;32m   3823\u001b[0m     \u001b[38;5;124;03m\"\"\"\u001b[39;00m\n\u001b[0;32m   3824\u001b[0m \u001b[38;5;124;03m    Add series to DataFrame in specified column.\u001b[39;00m\n\u001b[0;32m   3825\u001b[0m \n\u001b[1;32m   (...)\u001b[0m\n\u001b[0;32m   3830\u001b[0m \u001b[38;5;124;03m    ensure homogeneity.\u001b[39;00m\n\u001b[0;32m   3831\u001b[0m \u001b[38;5;124;03m    \"\"\"\u001b[39;00m\n\u001b[1;32m-> 3832\u001b[0m     value \u001b[38;5;241m=\u001b[39m \u001b[38;5;28;43mself\u001b[39;49m\u001b[38;5;241;43m.\u001b[39;49m\u001b[43m_sanitize_column\u001b[49m\u001b[43m(\u001b[49m\u001b[43mvalue\u001b[49m\u001b[43m)\u001b[49m\n\u001b[0;32m   3834\u001b[0m     \u001b[38;5;28;01mif\u001b[39;00m (\n\u001b[0;32m   3835\u001b[0m         key \u001b[38;5;129;01min\u001b[39;00m \u001b[38;5;28mself\u001b[39m\u001b[38;5;241m.\u001b[39mcolumns\n\u001b[0;32m   3836\u001b[0m         \u001b[38;5;129;01mand\u001b[39;00m value\u001b[38;5;241m.\u001b[39mndim \u001b[38;5;241m==\u001b[39m \u001b[38;5;241m1\u001b[39m\n\u001b[0;32m   3837\u001b[0m         \u001b[38;5;129;01mand\u001b[39;00m \u001b[38;5;129;01mnot\u001b[39;00m is_extension_array_dtype(value)\n\u001b[0;32m   3838\u001b[0m     ):\n\u001b[0;32m   3839\u001b[0m         \u001b[38;5;66;03m# broadcast across multiple columns if necessary\u001b[39;00m\n\u001b[0;32m   3840\u001b[0m         \u001b[38;5;28;01mif\u001b[39;00m \u001b[38;5;129;01mnot\u001b[39;00m \u001b[38;5;28mself\u001b[39m\u001b[38;5;241m.\u001b[39mcolumns\u001b[38;5;241m.\u001b[39mis_unique \u001b[38;5;129;01mor\u001b[39;00m \u001b[38;5;28misinstance\u001b[39m(\u001b[38;5;28mself\u001b[39m\u001b[38;5;241m.\u001b[39mcolumns, MultiIndex):\n",
      "File \u001b[1;32m~\\anaconda3\\envs\\KOTRA\\lib\\site-packages\\pandas\\core\\frame.py:4535\u001b[0m, in \u001b[0;36mDataFrame._sanitize_column\u001b[1;34m(self, value)\u001b[0m\n\u001b[0;32m   4532\u001b[0m     \u001b[38;5;28;01mreturn\u001b[39;00m _reindex_for_setitem(value, \u001b[38;5;28mself\u001b[39m\u001b[38;5;241m.\u001b[39mindex)\n\u001b[0;32m   4534\u001b[0m \u001b[38;5;28;01mif\u001b[39;00m is_list_like(value):\n\u001b[1;32m-> 4535\u001b[0m     \u001b[43mcom\u001b[49m\u001b[38;5;241;43m.\u001b[39;49m\u001b[43mrequire_length_match\u001b[49m\u001b[43m(\u001b[49m\u001b[43mvalue\u001b[49m\u001b[43m,\u001b[49m\u001b[43m \u001b[49m\u001b[38;5;28;43mself\u001b[39;49m\u001b[38;5;241;43m.\u001b[39;49m\u001b[43mindex\u001b[49m\u001b[43m)\u001b[49m\n\u001b[0;32m   4536\u001b[0m \u001b[38;5;28;01mreturn\u001b[39;00m sanitize_array(value, \u001b[38;5;28mself\u001b[39m\u001b[38;5;241m.\u001b[39mindex, copy\u001b[38;5;241m=\u001b[39m\u001b[38;5;28;01mTrue\u001b[39;00m, allow_2d\u001b[38;5;241m=\u001b[39m\u001b[38;5;28;01mTrue\u001b[39;00m)\n",
      "File \u001b[1;32m~\\anaconda3\\envs\\KOTRA\\lib\\site-packages\\pandas\\core\\common.py:557\u001b[0m, in \u001b[0;36mrequire_length_match\u001b[1;34m(data, index)\u001b[0m\n\u001b[0;32m    553\u001b[0m \u001b[38;5;124;03m\"\"\"\u001b[39;00m\n\u001b[0;32m    554\u001b[0m \u001b[38;5;124;03mCheck the length of data matches the length of the index.\u001b[39;00m\n\u001b[0;32m    555\u001b[0m \u001b[38;5;124;03m\"\"\"\u001b[39;00m\n\u001b[0;32m    556\u001b[0m \u001b[38;5;28;01mif\u001b[39;00m \u001b[38;5;28mlen\u001b[39m(data) \u001b[38;5;241m!=\u001b[39m \u001b[38;5;28mlen\u001b[39m(index):\n\u001b[1;32m--> 557\u001b[0m     \u001b[38;5;28;01mraise\u001b[39;00m \u001b[38;5;167;01mValueError\u001b[39;00m(\n\u001b[0;32m    558\u001b[0m         \u001b[38;5;124m\"\u001b[39m\u001b[38;5;124mLength of values \u001b[39m\u001b[38;5;124m\"\u001b[39m\n\u001b[0;32m    559\u001b[0m         \u001b[38;5;124mf\u001b[39m\u001b[38;5;124m\"\u001b[39m\u001b[38;5;124m(\u001b[39m\u001b[38;5;132;01m{\u001b[39;00m\u001b[38;5;28mlen\u001b[39m(data)\u001b[38;5;132;01m}\u001b[39;00m\u001b[38;5;124m) \u001b[39m\u001b[38;5;124m\"\u001b[39m\n\u001b[0;32m    560\u001b[0m         \u001b[38;5;124m\"\u001b[39m\u001b[38;5;124mdoes not match length of index \u001b[39m\u001b[38;5;124m\"\u001b[39m\n\u001b[0;32m    561\u001b[0m         \u001b[38;5;124mf\u001b[39m\u001b[38;5;124m\"\u001b[39m\u001b[38;5;124m(\u001b[39m\u001b[38;5;132;01m{\u001b[39;00m\u001b[38;5;28mlen\u001b[39m(index)\u001b[38;5;132;01m}\u001b[39;00m\u001b[38;5;124m)\u001b[39m\u001b[38;5;124m\"\u001b[39m\n\u001b[0;32m    562\u001b[0m     )\n",
      "\u001b[1;31mValueError\u001b[0m: Length of values (24) does not match length of index (23)"
     ]
    }
   ],
   "source": [
    "#csv file\n",
    "import pandas as pd\n",
    "\n",
    "df = pd.DataFrame()\n",
    "df['date'] = dates\n",
    "df['title'] = titles\n",
    "df['link'] = links\n",
    "df['content'] = contents\n",
    "df"
   ]
  },
  {
   "cell_type": "code",
   "execution_count": null,
   "id": "4f103801",
   "metadata": {},
   "outputs": [],
   "source": [
    "df.to_csv('미국_상무부_2018년.csv', mode='w', encoding='utf-8-sig')"
   ]
  }
 ],
 "metadata": {
  "kernelspec": {
   "display_name": "Python 3 (ipykernel)",
   "language": "python",
   "name": "python3"
  },
  "language_info": {
   "codemirror_mode": {
    "name": "ipython",
    "version": 3
   },
   "file_extension": ".py",
   "mimetype": "text/x-python",
   "name": "python",
   "nbconvert_exporter": "python",
   "pygments_lexer": "ipython3",
   "version": "3.9.12"
  }
 },
 "nbformat": 4,
 "nbformat_minor": 5
}
